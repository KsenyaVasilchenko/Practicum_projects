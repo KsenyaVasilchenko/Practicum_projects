{
  "cells": [
    {
      "cell_type": "markdown",
      "id": "a20e07be",
      "metadata": {
        "deletable": false,
        "editable": false,
        "id": "a20e07be"
      },
      "source": [
        "# Исследование надежности заемщиков\n"
      ]
    },
    {
      "cell_type": "markdown",
      "id": "d7dbe314",
      "metadata": {
        "deletable": false,
        "editable": false,
        "id": "d7dbe314"
      },
      "source": [
        "## Откройте таблицу и изучите общую информацию о данных"
      ]
    },
    {
      "cell_type": "markdown",
      "id": "13d7abe8",
      "metadata": {
        "deletable": false,
        "editable": false,
        "id": "13d7abe8"
      },
      "source": [
        "**Задание 1. Импортируйте библиотеку pandas. Считайте данные из csv-файла в датафрейм и сохраните в переменную `data`. Путь к файлу:**\n",
        "\n",
        "`/datasets/data.csv`"
      ]
    },
    {
      "cell_type": "code",
      "execution_count": null,
      "id": "1f0df626",
      "metadata": {
        "deletable": false,
        "id": "1f0df626"
      },
      "outputs": [],
      "source": [
        "import pandas as pd\n",
        "\n",
        "try:\n",
        "    data = pd.read_csv('/datasets/data.csv')\n",
        "except:\n",
        "    data = pd.read_csv('https://code.s3.yandex.net/datasets/data.csv')"
      ]
    },
    {
      "cell_type": "markdown",
      "id": "f346f7f4",
      "metadata": {
        "deletable": false,
        "editable": false,
        "id": "f346f7f4"
      },
      "source": [
        "**Задание 2. Выведите первые 20 строчек датафрейма `data` на экран.**"
      ]
    },
    {
      "cell_type": "code",
      "execution_count": null,
      "id": "3f0ed469",
      "metadata": {
        "deletable": false,
        "id": "3f0ed469",
        "outputId": "1a8f3ef2-d323-4ec2-ddf7-89670b5944c4"
      },
      "outputs": [
        {
          "data": {
            "text/html": [
              "<div>\n",
              "<style scoped>\n",
              "    .dataframe tbody tr th:only-of-type {\n",
              "        vertical-align: middle;\n",
              "    }\n",
              "\n",
              "    .dataframe tbody tr th {\n",
              "        vertical-align: top;\n",
              "    }\n",
              "\n",
              "    .dataframe thead th {\n",
              "        text-align: right;\n",
              "    }\n",
              "</style>\n",
              "<table border=\"1\" class=\"dataframe\">\n",
              "  <thead>\n",
              "    <tr style=\"text-align: right;\">\n",
              "      <th></th>\n",
              "      <th>children</th>\n",
              "      <th>days_employed</th>\n",
              "      <th>dob_years</th>\n",
              "      <th>education</th>\n",
              "      <th>education_id</th>\n",
              "      <th>family_status</th>\n",
              "      <th>family_status_id</th>\n",
              "      <th>gender</th>\n",
              "      <th>income_type</th>\n",
              "      <th>debt</th>\n",
              "      <th>total_income</th>\n",
              "      <th>purpose</th>\n",
              "    </tr>\n",
              "  </thead>\n",
              "  <tbody>\n",
              "    <tr>\n",
              "      <th>0</th>\n",
              "      <td>1</td>\n",
              "      <td>-8437.673028</td>\n",
              "      <td>42</td>\n",
              "      <td>высшее</td>\n",
              "      <td>0</td>\n",
              "      <td>женат / замужем</td>\n",
              "      <td>0</td>\n",
              "      <td>F</td>\n",
              "      <td>сотрудник</td>\n",
              "      <td>0</td>\n",
              "      <td>253875.639453</td>\n",
              "      <td>покупка жилья</td>\n",
              "    </tr>\n",
              "    <tr>\n",
              "      <th>1</th>\n",
              "      <td>1</td>\n",
              "      <td>-4024.803754</td>\n",
              "      <td>36</td>\n",
              "      <td>среднее</td>\n",
              "      <td>1</td>\n",
              "      <td>женат / замужем</td>\n",
              "      <td>0</td>\n",
              "      <td>F</td>\n",
              "      <td>сотрудник</td>\n",
              "      <td>0</td>\n",
              "      <td>112080.014102</td>\n",
              "      <td>приобретение автомобиля</td>\n",
              "    </tr>\n",
              "    <tr>\n",
              "      <th>2</th>\n",
              "      <td>0</td>\n",
              "      <td>-5623.422610</td>\n",
              "      <td>33</td>\n",
              "      <td>Среднее</td>\n",
              "      <td>1</td>\n",
              "      <td>женат / замужем</td>\n",
              "      <td>0</td>\n",
              "      <td>M</td>\n",
              "      <td>сотрудник</td>\n",
              "      <td>0</td>\n",
              "      <td>145885.952297</td>\n",
              "      <td>покупка жилья</td>\n",
              "    </tr>\n",
              "    <tr>\n",
              "      <th>3</th>\n",
              "      <td>3</td>\n",
              "      <td>-4124.747207</td>\n",
              "      <td>32</td>\n",
              "      <td>среднее</td>\n",
              "      <td>1</td>\n",
              "      <td>женат / замужем</td>\n",
              "      <td>0</td>\n",
              "      <td>M</td>\n",
              "      <td>сотрудник</td>\n",
              "      <td>0</td>\n",
              "      <td>267628.550329</td>\n",
              "      <td>дополнительное образование</td>\n",
              "    </tr>\n",
              "    <tr>\n",
              "      <th>4</th>\n",
              "      <td>0</td>\n",
              "      <td>340266.072047</td>\n",
              "      <td>53</td>\n",
              "      <td>среднее</td>\n",
              "      <td>1</td>\n",
              "      <td>гражданский брак</td>\n",
              "      <td>1</td>\n",
              "      <td>F</td>\n",
              "      <td>пенсионер</td>\n",
              "      <td>0</td>\n",
              "      <td>158616.077870</td>\n",
              "      <td>сыграть свадьбу</td>\n",
              "    </tr>\n",
              "    <tr>\n",
              "      <th>5</th>\n",
              "      <td>0</td>\n",
              "      <td>-926.185831</td>\n",
              "      <td>27</td>\n",
              "      <td>высшее</td>\n",
              "      <td>0</td>\n",
              "      <td>гражданский брак</td>\n",
              "      <td>1</td>\n",
              "      <td>M</td>\n",
              "      <td>компаньон</td>\n",
              "      <td>0</td>\n",
              "      <td>255763.565419</td>\n",
              "      <td>покупка жилья</td>\n",
              "    </tr>\n",
              "    <tr>\n",
              "      <th>6</th>\n",
              "      <td>0</td>\n",
              "      <td>-2879.202052</td>\n",
              "      <td>43</td>\n",
              "      <td>высшее</td>\n",
              "      <td>0</td>\n",
              "      <td>женат / замужем</td>\n",
              "      <td>0</td>\n",
              "      <td>F</td>\n",
              "      <td>компаньон</td>\n",
              "      <td>0</td>\n",
              "      <td>240525.971920</td>\n",
              "      <td>операции с жильем</td>\n",
              "    </tr>\n",
              "    <tr>\n",
              "      <th>7</th>\n",
              "      <td>0</td>\n",
              "      <td>-152.779569</td>\n",
              "      <td>50</td>\n",
              "      <td>СРЕДНЕЕ</td>\n",
              "      <td>1</td>\n",
              "      <td>женат / замужем</td>\n",
              "      <td>0</td>\n",
              "      <td>M</td>\n",
              "      <td>сотрудник</td>\n",
              "      <td>0</td>\n",
              "      <td>135823.934197</td>\n",
              "      <td>образование</td>\n",
              "    </tr>\n",
              "    <tr>\n",
              "      <th>8</th>\n",
              "      <td>2</td>\n",
              "      <td>-6929.865299</td>\n",
              "      <td>35</td>\n",
              "      <td>ВЫСШЕЕ</td>\n",
              "      <td>0</td>\n",
              "      <td>гражданский брак</td>\n",
              "      <td>1</td>\n",
              "      <td>F</td>\n",
              "      <td>сотрудник</td>\n",
              "      <td>0</td>\n",
              "      <td>95856.832424</td>\n",
              "      <td>на проведение свадьбы</td>\n",
              "    </tr>\n",
              "    <tr>\n",
              "      <th>9</th>\n",
              "      <td>0</td>\n",
              "      <td>-2188.756445</td>\n",
              "      <td>41</td>\n",
              "      <td>среднее</td>\n",
              "      <td>1</td>\n",
              "      <td>женат / замужем</td>\n",
              "      <td>0</td>\n",
              "      <td>M</td>\n",
              "      <td>сотрудник</td>\n",
              "      <td>0</td>\n",
              "      <td>144425.938277</td>\n",
              "      <td>покупка жилья для семьи</td>\n",
              "    </tr>\n",
              "    <tr>\n",
              "      <th>10</th>\n",
              "      <td>2</td>\n",
              "      <td>-4171.483647</td>\n",
              "      <td>36</td>\n",
              "      <td>высшее</td>\n",
              "      <td>0</td>\n",
              "      <td>женат / замужем</td>\n",
              "      <td>0</td>\n",
              "      <td>M</td>\n",
              "      <td>компаньон</td>\n",
              "      <td>0</td>\n",
              "      <td>113943.491460</td>\n",
              "      <td>покупка недвижимости</td>\n",
              "    </tr>\n",
              "    <tr>\n",
              "      <th>11</th>\n",
              "      <td>0</td>\n",
              "      <td>-792.701887</td>\n",
              "      <td>40</td>\n",
              "      <td>среднее</td>\n",
              "      <td>1</td>\n",
              "      <td>женат / замужем</td>\n",
              "      <td>0</td>\n",
              "      <td>F</td>\n",
              "      <td>сотрудник</td>\n",
              "      <td>0</td>\n",
              "      <td>77069.234271</td>\n",
              "      <td>покупка коммерческой недвижимости</td>\n",
              "    </tr>\n",
              "    <tr>\n",
              "      <th>12</th>\n",
              "      <td>0</td>\n",
              "      <td>NaN</td>\n",
              "      <td>65</td>\n",
              "      <td>среднее</td>\n",
              "      <td>1</td>\n",
              "      <td>гражданский брак</td>\n",
              "      <td>1</td>\n",
              "      <td>M</td>\n",
              "      <td>пенсионер</td>\n",
              "      <td>0</td>\n",
              "      <td>NaN</td>\n",
              "      <td>сыграть свадьбу</td>\n",
              "    </tr>\n",
              "    <tr>\n",
              "      <th>13</th>\n",
              "      <td>0</td>\n",
              "      <td>-1846.641941</td>\n",
              "      <td>54</td>\n",
              "      <td>неоконченное высшее</td>\n",
              "      <td>2</td>\n",
              "      <td>женат / замужем</td>\n",
              "      <td>0</td>\n",
              "      <td>F</td>\n",
              "      <td>сотрудник</td>\n",
              "      <td>0</td>\n",
              "      <td>130458.228857</td>\n",
              "      <td>приобретение автомобиля</td>\n",
              "    </tr>\n",
              "    <tr>\n",
              "      <th>14</th>\n",
              "      <td>0</td>\n",
              "      <td>-1844.956182</td>\n",
              "      <td>56</td>\n",
              "      <td>высшее</td>\n",
              "      <td>0</td>\n",
              "      <td>гражданский брак</td>\n",
              "      <td>1</td>\n",
              "      <td>F</td>\n",
              "      <td>компаньон</td>\n",
              "      <td>1</td>\n",
              "      <td>165127.911772</td>\n",
              "      <td>покупка жилой недвижимости</td>\n",
              "    </tr>\n",
              "    <tr>\n",
              "      <th>15</th>\n",
              "      <td>1</td>\n",
              "      <td>-972.364419</td>\n",
              "      <td>26</td>\n",
              "      <td>среднее</td>\n",
              "      <td>1</td>\n",
              "      <td>женат / замужем</td>\n",
              "      <td>0</td>\n",
              "      <td>F</td>\n",
              "      <td>сотрудник</td>\n",
              "      <td>0</td>\n",
              "      <td>116820.904450</td>\n",
              "      <td>строительство собственной недвижимости</td>\n",
              "    </tr>\n",
              "    <tr>\n",
              "      <th>16</th>\n",
              "      <td>0</td>\n",
              "      <td>-1719.934226</td>\n",
              "      <td>35</td>\n",
              "      <td>среднее</td>\n",
              "      <td>1</td>\n",
              "      <td>женат / замужем</td>\n",
              "      <td>0</td>\n",
              "      <td>F</td>\n",
              "      <td>сотрудник</td>\n",
              "      <td>0</td>\n",
              "      <td>289202.704229</td>\n",
              "      <td>недвижимость</td>\n",
              "    </tr>\n",
              "    <tr>\n",
              "      <th>17</th>\n",
              "      <td>0</td>\n",
              "      <td>-2369.999720</td>\n",
              "      <td>33</td>\n",
              "      <td>высшее</td>\n",
              "      <td>0</td>\n",
              "      <td>гражданский брак</td>\n",
              "      <td>1</td>\n",
              "      <td>M</td>\n",
              "      <td>сотрудник</td>\n",
              "      <td>0</td>\n",
              "      <td>90410.586745</td>\n",
              "      <td>строительство недвижимости</td>\n",
              "    </tr>\n",
              "    <tr>\n",
              "      <th>18</th>\n",
              "      <td>0</td>\n",
              "      <td>400281.136913</td>\n",
              "      <td>53</td>\n",
              "      <td>среднее</td>\n",
              "      <td>1</td>\n",
              "      <td>вдовец / вдова</td>\n",
              "      <td>2</td>\n",
              "      <td>F</td>\n",
              "      <td>пенсионер</td>\n",
              "      <td>0</td>\n",
              "      <td>56823.777243</td>\n",
              "      <td>на покупку подержанного автомобиля</td>\n",
              "    </tr>\n",
              "    <tr>\n",
              "      <th>19</th>\n",
              "      <td>0</td>\n",
              "      <td>-10038.818549</td>\n",
              "      <td>48</td>\n",
              "      <td>СРЕДНЕЕ</td>\n",
              "      <td>1</td>\n",
              "      <td>в разводе</td>\n",
              "      <td>3</td>\n",
              "      <td>F</td>\n",
              "      <td>сотрудник</td>\n",
              "      <td>0</td>\n",
              "      <td>242831.107982</td>\n",
              "      <td>на покупку своего автомобиля</td>\n",
              "    </tr>\n",
              "  </tbody>\n",
              "</table>\n",
              "</div>"
            ],
            "text/plain": [
              "    children  days_employed  dob_years            education  education_id  \\\n",
              "0          1   -8437.673028         42               высшее             0   \n",
              "1          1   -4024.803754         36              среднее             1   \n",
              "2          0   -5623.422610         33              Среднее             1   \n",
              "3          3   -4124.747207         32              среднее             1   \n",
              "4          0  340266.072047         53              среднее             1   \n",
              "5          0    -926.185831         27               высшее             0   \n",
              "6          0   -2879.202052         43               высшее             0   \n",
              "7          0    -152.779569         50              СРЕДНЕЕ             1   \n",
              "8          2   -6929.865299         35               ВЫСШЕЕ             0   \n",
              "9          0   -2188.756445         41              среднее             1   \n",
              "10         2   -4171.483647         36               высшее             0   \n",
              "11         0    -792.701887         40              среднее             1   \n",
              "12         0            NaN         65              среднее             1   \n",
              "13         0   -1846.641941         54  неоконченное высшее             2   \n",
              "14         0   -1844.956182         56               высшее             0   \n",
              "15         1    -972.364419         26              среднее             1   \n",
              "16         0   -1719.934226         35              среднее             1   \n",
              "17         0   -2369.999720         33               высшее             0   \n",
              "18         0  400281.136913         53              среднее             1   \n",
              "19         0  -10038.818549         48              СРЕДНЕЕ             1   \n",
              "\n",
              "       family_status  family_status_id gender income_type  debt  \\\n",
              "0    женат / замужем                 0      F   сотрудник     0   \n",
              "1    женат / замужем                 0      F   сотрудник     0   \n",
              "2    женат / замужем                 0      M   сотрудник     0   \n",
              "3    женат / замужем                 0      M   сотрудник     0   \n",
              "4   гражданский брак                 1      F   пенсионер     0   \n",
              "5   гражданский брак                 1      M   компаньон     0   \n",
              "6    женат / замужем                 0      F   компаньон     0   \n",
              "7    женат / замужем                 0      M   сотрудник     0   \n",
              "8   гражданский брак                 1      F   сотрудник     0   \n",
              "9    женат / замужем                 0      M   сотрудник     0   \n",
              "10   женат / замужем                 0      M   компаньон     0   \n",
              "11   женат / замужем                 0      F   сотрудник     0   \n",
              "12  гражданский брак                 1      M   пенсионер     0   \n",
              "13   женат / замужем                 0      F   сотрудник     0   \n",
              "14  гражданский брак                 1      F   компаньон     1   \n",
              "15   женат / замужем                 0      F   сотрудник     0   \n",
              "16   женат / замужем                 0      F   сотрудник     0   \n",
              "17  гражданский брак                 1      M   сотрудник     0   \n",
              "18    вдовец / вдова                 2      F   пенсионер     0   \n",
              "19         в разводе                 3      F   сотрудник     0   \n",
              "\n",
              "     total_income                                 purpose  \n",
              "0   253875.639453                           покупка жилья  \n",
              "1   112080.014102                 приобретение автомобиля  \n",
              "2   145885.952297                           покупка жилья  \n",
              "3   267628.550329              дополнительное образование  \n",
              "4   158616.077870                         сыграть свадьбу  \n",
              "5   255763.565419                           покупка жилья  \n",
              "6   240525.971920                       операции с жильем  \n",
              "7   135823.934197                             образование  \n",
              "8    95856.832424                   на проведение свадьбы  \n",
              "9   144425.938277                 покупка жилья для семьи  \n",
              "10  113943.491460                    покупка недвижимости  \n",
              "11   77069.234271       покупка коммерческой недвижимости  \n",
              "12            NaN                         сыграть свадьбу  \n",
              "13  130458.228857                 приобретение автомобиля  \n",
              "14  165127.911772              покупка жилой недвижимости  \n",
              "15  116820.904450  строительство собственной недвижимости  \n",
              "16  289202.704229                            недвижимость  \n",
              "17   90410.586745              строительство недвижимости  \n",
              "18   56823.777243      на покупку подержанного автомобиля  \n",
              "19  242831.107982            на покупку своего автомобиля  "
            ]
          },
          "execution_count": 2,
          "metadata": {},
          "output_type": "execute_result"
        }
      ],
      "source": [
        "data.head(20)"
      ]
    },
    {
      "cell_type": "markdown",
      "id": "743c86ef",
      "metadata": {
        "deletable": false,
        "editable": false,
        "id": "743c86ef"
      },
      "source": [
        "**Задание 3. Выведите основную информацию о датафрейме с помощью метода `info()`.**"
      ]
    },
    {
      "cell_type": "code",
      "execution_count": null,
      "id": "65a98224",
      "metadata": {
        "deletable": false,
        "id": "65a98224",
        "outputId": "15376089-8dad-46c9-b520-c05248d43158"
      },
      "outputs": [
        {
          "name": "stdout",
          "output_type": "stream",
          "text": [
            "<class 'pandas.core.frame.DataFrame'>\n",
            "RangeIndex: 21525 entries, 0 to 21524\n",
            "Data columns (total 12 columns):\n",
            " #   Column            Non-Null Count  Dtype  \n",
            "---  ------            --------------  -----  \n",
            " 0   children          21525 non-null  int64  \n",
            " 1   days_employed     19351 non-null  float64\n",
            " 2   dob_years         21525 non-null  int64  \n",
            " 3   education         21525 non-null  object \n",
            " 4   education_id      21525 non-null  int64  \n",
            " 5   family_status     21525 non-null  object \n",
            " 6   family_status_id  21525 non-null  int64  \n",
            " 7   gender            21525 non-null  object \n",
            " 8   income_type       21525 non-null  object \n",
            " 9   debt              21525 non-null  int64  \n",
            " 10  total_income      19351 non-null  float64\n",
            " 11  purpose           21525 non-null  object \n",
            "dtypes: float64(2), int64(5), object(5)\n",
            "memory usage: 2.0+ MB\n"
          ]
        }
      ],
      "source": [
        "data.info()"
      ]
    },
    {
      "cell_type": "markdown",
      "id": "8a65b46e",
      "metadata": {
        "deletable": false,
        "editable": false,
        "id": "8a65b46e"
      },
      "source": [
        "## Предобработка данных"
      ]
    },
    {
      "cell_type": "markdown",
      "id": "bb70eba5",
      "metadata": {
        "deletable": false,
        "editable": false,
        "id": "bb70eba5"
      },
      "source": [
        "### Удаление пропусков"
      ]
    },
    {
      "cell_type": "markdown",
      "id": "49b24e01",
      "metadata": {
        "deletable": false,
        "editable": false,
        "id": "49b24e01"
      },
      "source": [
        "**Задание 4. Выведите количество пропущенных значений для каждого столбца. Используйте комбинацию двух методов.**"
      ]
    },
    {
      "cell_type": "code",
      "execution_count": null,
      "id": "ab3a9eb9",
      "metadata": {
        "deletable": false,
        "id": "ab3a9eb9",
        "outputId": "81f4d817-781c-465c-ed15-91ce4446810d"
      },
      "outputs": [
        {
          "data": {
            "text/plain": [
              "children               0\n",
              "days_employed       2174\n",
              "dob_years              0\n",
              "education              0\n",
              "education_id           0\n",
              "family_status          0\n",
              "family_status_id       0\n",
              "gender                 0\n",
              "income_type            0\n",
              "debt                   0\n",
              "total_income        2174\n",
              "purpose                0\n",
              "dtype: int64"
            ]
          },
          "execution_count": 4,
          "metadata": {},
          "output_type": "execute_result"
        }
      ],
      "source": [
        "data.isna().sum()"
      ]
    },
    {
      "cell_type": "markdown",
      "id": "b339a935",
      "metadata": {
        "deletable": false,
        "editable": false,
        "id": "b339a935"
      },
      "source": [
        "**Задание 5. В двух столбцах есть пропущенные значения. Один из них — `days_employed`. Пропуски в этом столбце вы обработаете на следующем этапе. Другой столбец с пропущенными значениями — `total_income` — хранит данные о доходах. На сумму дохода сильнее всего влияет тип занятости, поэтому заполнить пропуски в этом столбце нужно медианным значением по каждому типу из столбца `income_type`. Например, у человека с типом занятости `сотрудник` пропуск в столбце `total_income` должен быть заполнен медианным доходом среди всех записей с тем же типом.**"
      ]
    },
    {
      "cell_type": "code",
      "execution_count": null,
      "id": "a6f9b442",
      "metadata": {
        "deletable": false,
        "id": "a6f9b442"
      },
      "outputs": [],
      "source": [
        "for t in data['income_type'].unique():\n",
        "    data.loc[(data['income_type'] == t) & (data['total_income'].isna()), 'total_income'] = \\\n",
        "    data.loc[(data['income_type'] == t), 'total_income'].median()"
      ]
    },
    {
      "cell_type": "markdown",
      "id": "6234056e",
      "metadata": {
        "deletable": false,
        "editable": false,
        "id": "6234056e"
      },
      "source": [
        "### Обработка аномальных значений"
      ]
    },
    {
      "cell_type": "markdown",
      "id": "0ecc81a4",
      "metadata": {
        "deletable": false,
        "editable": false,
        "id": "0ecc81a4"
      },
      "source": [
        "**Задание 6. В данных могут встречаться артефакты (аномалии) — значения, которые не отражают действительность и появились по какой-то ошибке. таким артефактом будет отрицательное количество дней трудового стажа в столбце `days_employed`. Для реальных данных это нормально. Обработайте значения в этом столбце: замените все отрицательные значения положительными с помощью метода `abs()`.**"
      ]
    },
    {
      "cell_type": "code",
      "execution_count": null,
      "id": "d252128b",
      "metadata": {
        "deletable": false,
        "id": "d252128b"
      },
      "outputs": [],
      "source": [
        "data['days_employed'] = data['days_employed'].abs()"
      ]
    },
    {
      "cell_type": "markdown",
      "id": "d09f634d",
      "metadata": {
        "deletable": false,
        "editable": false,
        "id": "d09f634d"
      },
      "source": [
        "**Задание 7. Для каждого типа занятости выведите медианное значение трудового стажа `days_employed` в днях.**"
      ]
    },
    {
      "cell_type": "code",
      "execution_count": null,
      "id": "151ac487",
      "metadata": {
        "deletable": false,
        "id": "151ac487",
        "outputId": "801ef80e-522b-4668-f34e-565af7432bcf"
      },
      "outputs": [
        {
          "data": {
            "text/plain": [
              "income_type\n",
              "безработный        366413.652744\n",
              "в декрете            3296.759962\n",
              "госслужащий          2689.368353\n",
              "компаньон            1547.382223\n",
              "пенсионер          365213.306266\n",
              "предприниматель       520.848083\n",
              "сотрудник            1574.202821\n",
              "студент               578.751554\n",
              "Name: days_employed, dtype: float64"
            ]
          },
          "execution_count": 7,
          "metadata": {},
          "output_type": "execute_result"
        }
      ],
      "source": [
        "data.groupby('income_type')['days_employed'].agg('median')"
      ]
    },
    {
      "cell_type": "markdown",
      "id": "4ba63da3",
      "metadata": {
        "deletable": false,
        "editable": false,
        "id": "4ba63da3"
      },
      "source": [
        "У двух типов (безработные и пенсионеры) получатся аномально большие значения. Исправить такие значения сложно, поэтому оставьте их как есть. Тем более этот столбец не понадобится вам для исследования."
      ]
    },
    {
      "cell_type": "markdown",
      "id": "4dcaa330",
      "metadata": {
        "deletable": false,
        "editable": false,
        "id": "4dcaa330"
      },
      "source": [
        "**Задание 8. Выведите перечень уникальных значений столбца `children`.**"
      ]
    },
    {
      "cell_type": "code",
      "execution_count": null,
      "id": "e82d07b9",
      "metadata": {
        "deletable": false,
        "id": "e82d07b9",
        "outputId": "6975b15c-7f95-4697-d16d-a0c79b657b03"
      },
      "outputs": [
        {
          "data": {
            "text/plain": [
              "array([ 1,  0,  3,  2, -1,  4, 20,  5])"
            ]
          },
          "execution_count": 8,
          "metadata": {},
          "output_type": "execute_result"
        }
      ],
      "source": [
        "data['children'].unique()"
      ]
    },
    {
      "cell_type": "markdown",
      "id": "596c1678",
      "metadata": {
        "deletable": false,
        "editable": false,
        "id": "596c1678"
      },
      "source": [
        "**Задание 9. В столбце `children` есть два аномальных значения. Удалите строки, в которых встречаются такие аномальные значения из датафрейма `data`.**"
      ]
    },
    {
      "cell_type": "code",
      "execution_count": null,
      "id": "41197268",
      "metadata": {
        "deletable": false,
        "id": "41197268"
      },
      "outputs": [],
      "source": [
        "data = data[(data['children'] != -1) & (data['children'] != 20)]"
      ]
    },
    {
      "cell_type": "markdown",
      "id": "623a257e",
      "metadata": {
        "deletable": false,
        "editable": false,
        "id": "623a257e"
      },
      "source": [
        "**Задание 10. Ещё раз выведите перечень уникальных значений столбца `children`, чтобы убедиться, что артефакты удалены.**"
      ]
    },
    {
      "cell_type": "code",
      "execution_count": null,
      "id": "423baff0",
      "metadata": {
        "deletable": false,
        "id": "423baff0",
        "outputId": "b2097101-d49d-44d9-901b-32a65c9463d1"
      },
      "outputs": [
        {
          "data": {
            "text/plain": [
              "array([1, 0, 3, 2, 4, 5])"
            ]
          },
          "execution_count": 10,
          "metadata": {},
          "output_type": "execute_result"
        }
      ],
      "source": [
        "data['children'].unique()"
      ]
    },
    {
      "cell_type": "markdown",
      "id": "7050f08e",
      "metadata": {
        "deletable": false,
        "editable": false,
        "id": "7050f08e"
      },
      "source": [
        "### Удаление пропусков (продолжение)"
      ]
    },
    {
      "cell_type": "markdown",
      "id": "5df2d648",
      "metadata": {
        "deletable": false,
        "editable": false,
        "id": "5df2d648"
      },
      "source": [
        "**Задание 11. Заполните пропуски в столбце `days_employed` медианными значениями по каждого типа занятости `income_type`.**"
      ]
    },
    {
      "cell_type": "code",
      "execution_count": null,
      "id": "c45c4eda",
      "metadata": {
        "deletable": false,
        "id": "c45c4eda"
      },
      "outputs": [],
      "source": [
        "for t in data['income_type'].unique():\n",
        "    data.loc[(data['income_type'] == t) & (data['days_employed'].isna()), 'days_employed'] = \\\n",
        "    data.loc[(data['income_type'] == t), 'days_employed'].median()"
      ]
    },
    {
      "cell_type": "markdown",
      "id": "1a02de23",
      "metadata": {
        "deletable": false,
        "editable": false,
        "id": "1a02de23"
      },
      "source": [
        "**Задание 12. Убедитесь, что все пропуски заполнены. Проверьте себя и ещё раз выведите количество пропущенных значений для каждого столбца с помощью двух методов.**"
      ]
    },
    {
      "cell_type": "code",
      "execution_count": null,
      "id": "cad1d78b",
      "metadata": {
        "deletable": false,
        "id": "cad1d78b",
        "outputId": "8da1e4e1-358e-4e87-98c9-f261bce0a7b2"
      },
      "outputs": [
        {
          "data": {
            "text/plain": [
              "children            0\n",
              "days_employed       0\n",
              "dob_years           0\n",
              "education           0\n",
              "education_id        0\n",
              "family_status       0\n",
              "family_status_id    0\n",
              "gender              0\n",
              "income_type         0\n",
              "debt                0\n",
              "total_income        0\n",
              "purpose             0\n",
              "dtype: int64"
            ]
          },
          "execution_count": 12,
          "metadata": {},
          "output_type": "execute_result"
        }
      ],
      "source": [
        "data.isna().sum()"
      ]
    },
    {
      "cell_type": "markdown",
      "id": "7c5d5423",
      "metadata": {
        "deletable": false,
        "editable": false,
        "id": "7c5d5423"
      },
      "source": [
        "### Изменение типов данных"
      ]
    },
    {
      "cell_type": "markdown",
      "id": "ca120a23",
      "metadata": {
        "deletable": false,
        "editable": false,
        "id": "ca120a23"
      },
      "source": [
        "**Задание 13. Замените вещественный тип данных в столбце `total_income` на целочисленный с помощью метода `astype()`.**"
      ]
    },
    {
      "cell_type": "code",
      "execution_count": null,
      "id": "20fcfe7f",
      "metadata": {
        "deletable": false,
        "id": "20fcfe7f"
      },
      "outputs": [],
      "source": [
        "data['total_income'] = data['total_income'].astype(int)"
      ]
    },
    {
      "cell_type": "markdown",
      "id": "555e35f1",
      "metadata": {
        "deletable": false,
        "editable": false,
        "id": "555e35f1"
      },
      "source": [
        "### Обработка дубликатов"
      ]
    },
    {
      "cell_type": "markdown",
      "id": "fb6dc978",
      "metadata": {
        "deletable": false,
        "editable": false,
        "id": "fb6dc978"
      },
      "source": [
        "**Задание 14. Обработайте неявные дубликаты в столбце `education`. В этом столбце есть одни и те же значения, но записанные по-разному: с использованием заглавных и строчных букв. Приведите их к нижнему регистру. Проверьте остальные столбцы.**"
      ]
    },
    {
      "cell_type": "code",
      "execution_count": null,
      "id": "104bdbba",
      "metadata": {
        "deletable": false,
        "id": "104bdbba"
      },
      "outputs": [],
      "source": [
        "data['education'] = data['education'].str.lower()"
      ]
    },
    {
      "cell_type": "markdown",
      "id": "784c5a31",
      "metadata": {
        "deletable": false,
        "editable": false,
        "id": "784c5a31"
      },
      "source": [
        "**Задание 15. Выведите на экран количество строк-дубликатов в данных. Если такие строки присутствуют, удалите их.**"
      ]
    },
    {
      "cell_type": "code",
      "execution_count": null,
      "id": "6e0043aa",
      "metadata": {
        "deletable": false,
        "id": "6e0043aa",
        "outputId": "9684deba-1934-42d1-99e1-cda61740f822"
      },
      "outputs": [
        {
          "data": {
            "text/plain": [
              "71"
            ]
          },
          "execution_count": 15,
          "metadata": {},
          "output_type": "execute_result"
        }
      ],
      "source": [
        "data.duplicated().sum()"
      ]
    },
    {
      "cell_type": "code",
      "execution_count": null,
      "id": "672fdac3",
      "metadata": {
        "deletable": false,
        "id": "672fdac3"
      },
      "outputs": [],
      "source": [
        "data = data.drop_duplicates()"
      ]
    },
    {
      "cell_type": "markdown",
      "id": "4fb9e2f6",
      "metadata": {
        "deletable": false,
        "editable": false,
        "id": "4fb9e2f6"
      },
      "source": [
        "### Категоризация данных"
      ]
    },
    {
      "cell_type": "markdown",
      "id": "cf316a3b",
      "metadata": {
        "deletable": false,
        "editable": false,
        "id": "cf316a3b"
      },
      "source": [
        "**Задание 16. На основании диапазонов, указанных ниже, создайте в датафрейме `data` столбец `total_income_category` с категориями:**\n",
        "\n",
        "- 0–30000 — `'E'`;\n",
        "- 30001–50000 — `'D'`;\n",
        "- 50001–200000 — `'C'`;\n",
        "- 200001–1000000 — `'B'`;\n",
        "- 1000001 и выше — `'A'`.\n",
        "\n",
        "\n",
        "**Например, кредитополучателю с доходом 25000 нужно назначить категорию `'E'`, а клиенту, получающему 235000, — `'B'`. Используйте собственную функцию с именем `categorize_income()` и метод `apply()`.**"
      ]
    },
    {
      "cell_type": "code",
      "execution_count": null,
      "id": "018257ba",
      "metadata": {
        "deletable": false,
        "id": "018257ba"
      },
      "outputs": [],
      "source": [
        "def categorize_income(income):\n",
        "    try:\n",
        "        if 0 <= income <= 30000:\n",
        "            return 'E'\n",
        "        elif 30001 <= income <= 50000:\n",
        "            return 'D'\n",
        "        elif 50001 <= income <= 200000:\n",
        "            return 'C'\n",
        "        elif 200001 <= income <= 1000000:\n",
        "            return 'B'\n",
        "        elif income >= 1000001:\n",
        "            return 'A'\n",
        "    except:\n",
        "        pass"
      ]
    },
    {
      "cell_type": "code",
      "execution_count": null,
      "id": "0ec873d3",
      "metadata": {
        "deletable": false,
        "id": "0ec873d3"
      },
      "outputs": [],
      "source": [
        "data['total_income_category'] = data['total_income'].apply(categorize_income)"
      ]
    },
    {
      "cell_type": "markdown",
      "id": "ec638a19",
      "metadata": {
        "deletable": false,
        "editable": false,
        "id": "ec638a19"
      },
      "source": [
        "**Задание 17. Выведите на экран перечень уникальных целей взятия кредита из столбца `purpose`.**"
      ]
    },
    {
      "cell_type": "code",
      "execution_count": null,
      "id": "251aada9",
      "metadata": {
        "deletable": false,
        "id": "251aada9",
        "outputId": "673c12d9-7d7e-4ae0-9812-c622c89dd244"
      },
      "outputs": [
        {
          "data": {
            "text/plain": [
              "array(['покупка жилья', 'приобретение автомобиля',\n",
              "       'дополнительное образование', 'сыграть свадьбу',\n",
              "       'операции с жильем', 'образование', 'на проведение свадьбы',\n",
              "       'покупка жилья для семьи', 'покупка недвижимости',\n",
              "       'покупка коммерческой недвижимости', 'покупка жилой недвижимости',\n",
              "       'строительство собственной недвижимости', 'недвижимость',\n",
              "       'строительство недвижимости', 'на покупку подержанного автомобиля',\n",
              "       'на покупку своего автомобиля',\n",
              "       'операции с коммерческой недвижимостью',\n",
              "       'строительство жилой недвижимости', 'жилье',\n",
              "       'операции со своей недвижимостью', 'автомобили',\n",
              "       'заняться образованием', 'сделка с подержанным автомобилем',\n",
              "       'получение образования', 'автомобиль', 'свадьба',\n",
              "       'получение дополнительного образования', 'покупка своего жилья',\n",
              "       'операции с недвижимостью', 'получение высшего образования',\n",
              "       'свой автомобиль', 'сделка с автомобилем',\n",
              "       'профильное образование', 'высшее образование',\n",
              "       'покупка жилья для сдачи', 'на покупку автомобиля', 'ремонт жилью',\n",
              "       'заняться высшим образованием'], dtype=object)"
            ]
          },
          "execution_count": 19,
          "metadata": {},
          "output_type": "execute_result"
        }
      ],
      "source": [
        "data['purpose'].unique()"
      ]
    },
    {
      "cell_type": "markdown",
      "id": "adb92cb1",
      "metadata": {
        "deletable": false,
        "editable": false,
        "id": "adb92cb1"
      },
      "source": [
        "**Задание 18. Создайте функцию, которая на основании данных из столбца `purpose` сформирует новый столбец `purpose_category`, в который войдут следующие категории:**\n",
        "\n",
        "- `'операции с автомобилем'`,\n",
        "- `'операции с недвижимостью'`,\n",
        "- `'проведение свадьбы'`,\n",
        "- `'получение образования'`.\n",
        "\n",
        "**Например, если в столбце `purpose` находится подстрока `'на покупку автомобиля'`, то в столбце `purpose_category` должна появиться строка `'операции с автомобилем'`.**\n",
        "\n",
        "**Используйте собственную функцию с именем `categorize_purpose()` и метод `apply()`. Изучите данные в столбце `purpose` и определите, какие подстроки помогут вам правильно определить категорию.**"
      ]
    },
    {
      "cell_type": "code",
      "execution_count": null,
      "id": "c6bb2199",
      "metadata": {
        "deletable": false,
        "id": "c6bb2199"
      },
      "outputs": [],
      "source": [
        "def categorize_purpose(row):\n",
        "    try:\n",
        "        if 'автом' in row:\n",
        "            return 'операции с автомобилем'\n",
        "        elif 'жил' in row or 'недвиж' in row:\n",
        "            return 'операции с недвижимостью'\n",
        "        elif 'свад' in row:\n",
        "            return 'проведение свадьбы'\n",
        "        elif 'образов' in row:\n",
        "            return 'получение образования'\n",
        "    except:\n",
        "        return 'нет категории'"
      ]
    },
    {
      "cell_type": "code",
      "execution_count": null,
      "id": "469c215d",
      "metadata": {
        "deletable": false,
        "id": "469c215d"
      },
      "outputs": [],
      "source": [
        "data['purpose_category'] = data['purpose'].apply(categorize_purpose)"
      ]
    },
    {
      "cell_type": "markdown",
      "id": "3635c6d7",
      "metadata": {
        "deletable": false,
        "editable": false,
        "id": "3635c6d7"
      },
      "source": [
        "### Шаг 3. Исследуйте данные и ответьте на вопросы"
      ]
    },
    {
      "cell_type": "markdown",
      "id": "e4e7d18c",
      "metadata": {
        "deletable": false,
        "editable": false,
        "id": "e4e7d18c"
      },
      "source": [
        "#### 3.1 Есть ли зависимость между количеством детей и возвратом кредита в срок?"
      ]
    },
    {
      "cell_type": "code",
      "execution_count": null,
      "id": "2e9ab11d",
      "metadata": {
        "id": "2e9ab11d",
        "outputId": "27aaf115-5970-4ddd-c24f-116e44119f12"
      },
      "outputs": [
        {
          "data": {
            "text/html": [
              "<div>\n",
              "<style scoped>\n",
              "    .dataframe tbody tr th:only-of-type {\n",
              "        vertical-align: middle;\n",
              "    }\n",
              "\n",
              "    .dataframe tbody tr th {\n",
              "        vertical-align: top;\n",
              "    }\n",
              "\n",
              "    .dataframe thead th {\n",
              "        text-align: right;\n",
              "    }\n",
              "</style>\n",
              "<table border=\"1\" class=\"dataframe\">\n",
              "  <thead>\n",
              "    <tr style=\"text-align: right;\">\n",
              "      <th></th>\n",
              "      <th>children</th>\n",
              "      <th>days_employed</th>\n",
              "      <th>dob_years</th>\n",
              "      <th>education</th>\n",
              "      <th>education_id</th>\n",
              "      <th>family_status</th>\n",
              "      <th>family_status_id</th>\n",
              "      <th>gender</th>\n",
              "      <th>income_type</th>\n",
              "      <th>debt</th>\n",
              "      <th>total_income</th>\n",
              "      <th>purpose</th>\n",
              "      <th>total_income_category</th>\n",
              "      <th>purpose_category</th>\n",
              "    </tr>\n",
              "  </thead>\n",
              "  <tbody>\n",
              "    <tr>\n",
              "      <th>0</th>\n",
              "      <td>1</td>\n",
              "      <td>8437.673028</td>\n",
              "      <td>42</td>\n",
              "      <td>высшее</td>\n",
              "      <td>0</td>\n",
              "      <td>женат / замужем</td>\n",
              "      <td>0</td>\n",
              "      <td>F</td>\n",
              "      <td>сотрудник</td>\n",
              "      <td>0</td>\n",
              "      <td>253875</td>\n",
              "      <td>покупка жилья</td>\n",
              "      <td>B</td>\n",
              "      <td>операции с недвижимостью</td>\n",
              "    </tr>\n",
              "    <tr>\n",
              "      <th>1</th>\n",
              "      <td>1</td>\n",
              "      <td>4024.803754</td>\n",
              "      <td>36</td>\n",
              "      <td>среднее</td>\n",
              "      <td>1</td>\n",
              "      <td>женат / замужем</td>\n",
              "      <td>0</td>\n",
              "      <td>F</td>\n",
              "      <td>сотрудник</td>\n",
              "      <td>0</td>\n",
              "      <td>112080</td>\n",
              "      <td>приобретение автомобиля</td>\n",
              "      <td>C</td>\n",
              "      <td>операции с автомобилем</td>\n",
              "    </tr>\n",
              "    <tr>\n",
              "      <th>2</th>\n",
              "      <td>0</td>\n",
              "      <td>5623.422610</td>\n",
              "      <td>33</td>\n",
              "      <td>среднее</td>\n",
              "      <td>1</td>\n",
              "      <td>женат / замужем</td>\n",
              "      <td>0</td>\n",
              "      <td>M</td>\n",
              "      <td>сотрудник</td>\n",
              "      <td>0</td>\n",
              "      <td>145885</td>\n",
              "      <td>покупка жилья</td>\n",
              "      <td>C</td>\n",
              "      <td>операции с недвижимостью</td>\n",
              "    </tr>\n",
              "    <tr>\n",
              "      <th>3</th>\n",
              "      <td>3</td>\n",
              "      <td>4124.747207</td>\n",
              "      <td>32</td>\n",
              "      <td>среднее</td>\n",
              "      <td>1</td>\n",
              "      <td>женат / замужем</td>\n",
              "      <td>0</td>\n",
              "      <td>M</td>\n",
              "      <td>сотрудник</td>\n",
              "      <td>0</td>\n",
              "      <td>267628</td>\n",
              "      <td>дополнительное образование</td>\n",
              "      <td>B</td>\n",
              "      <td>получение образования</td>\n",
              "    </tr>\n",
              "    <tr>\n",
              "      <th>4</th>\n",
              "      <td>0</td>\n",
              "      <td>340266.072047</td>\n",
              "      <td>53</td>\n",
              "      <td>среднее</td>\n",
              "      <td>1</td>\n",
              "      <td>гражданский брак</td>\n",
              "      <td>1</td>\n",
              "      <td>F</td>\n",
              "      <td>пенсионер</td>\n",
              "      <td>0</td>\n",
              "      <td>158616</td>\n",
              "      <td>сыграть свадьбу</td>\n",
              "      <td>C</td>\n",
              "      <td>проведение свадьбы</td>\n",
              "    </tr>\n",
              "  </tbody>\n",
              "</table>\n",
              "</div>"
            ],
            "text/plain": [
              "   children  days_employed  dob_years education  education_id  \\\n",
              "0         1    8437.673028         42    высшее             0   \n",
              "1         1    4024.803754         36   среднее             1   \n",
              "2         0    5623.422610         33   среднее             1   \n",
              "3         3    4124.747207         32   среднее             1   \n",
              "4         0  340266.072047         53   среднее             1   \n",
              "\n",
              "      family_status  family_status_id gender income_type  debt  total_income  \\\n",
              "0   женат / замужем                 0      F   сотрудник     0        253875   \n",
              "1   женат / замужем                 0      F   сотрудник     0        112080   \n",
              "2   женат / замужем                 0      M   сотрудник     0        145885   \n",
              "3   женат / замужем                 0      M   сотрудник     0        267628   \n",
              "4  гражданский брак                 1      F   пенсионер     0        158616   \n",
              "\n",
              "                      purpose total_income_category          purpose_category  \n",
              "0               покупка жилья                     B  операции с недвижимостью  \n",
              "1     приобретение автомобиля                     C    операции с автомобилем  \n",
              "2               покупка жилья                     C  операции с недвижимостью  \n",
              "3  дополнительное образование                     B     получение образования  \n",
              "4             сыграть свадьбу                     C        проведение свадьбы  "
            ]
          },
          "execution_count": 22,
          "metadata": {},
          "output_type": "execute_result"
        }
      ],
      "source": [
        "data.head(5)#вызов таблицы для поиска нужных данных"
      ]
    },
    {
      "cell_type": "code",
      "execution_count": null,
      "id": "0d7a96f3",
      "metadata": {
        "deletable": false,
        "id": "0d7a96f3",
        "scrolled": true
      },
      "outputs": [],
      "source": []
    },
    {
      "cell_type": "markdown",
      "id": "edcaf53c",
      "metadata": {
        "id": "edcaf53c"
      },
      "source": [
        "Создание функции для поиска зависимостей в данных:"
      ]
    },
    {
      "cell_type": "code",
      "execution_count": null,
      "id": "d6991c53",
      "metadata": {
        "id": "d6991c53"
      },
      "outputs": [],
      "source": [
        "def calculate_debt_percent(data, column_x, column_y):\n",
        "    total = data.groupby(column_y).size().reset_index(name='total')\n",
        "    group_debt = data[data[column_x] == 1]\n",
        "    debt_count = group_debt.groupby(column_y).size().reset_index(name='debt_count')\n",
        "    result_data = debt_count.merge(total, on=column_y, how='left')\n",
        "    result_data['debt_percent'] = (result_data['debt_count'] / result_data['total']) * 100\n",
        "    result_data['debt_percent'] = (result_data['debt_percent']).round(2)\n",
        "    return result_data"
      ]
    },
    {
      "cell_type": "markdown",
      "id": "1659094d",
      "metadata": {
        "id": "1659094d"
      },
      "source": [
        "Использование функции, вывод результатов"
      ]
    },
    {
      "cell_type": "code",
      "execution_count": null,
      "id": "e1c50416",
      "metadata": {
        "id": "e1c50416",
        "outputId": "7cd447db-3402-4298-a7c4-5b002d8519c7"
      },
      "outputs": [
        {
          "data": {
            "text/html": [
              "<div>\n",
              "<style scoped>\n",
              "    .dataframe tbody tr th:only-of-type {\n",
              "        vertical-align: middle;\n",
              "    }\n",
              "\n",
              "    .dataframe tbody tr th {\n",
              "        vertical-align: top;\n",
              "    }\n",
              "\n",
              "    .dataframe thead th {\n",
              "        text-align: right;\n",
              "    }\n",
              "</style>\n",
              "<table border=\"1\" class=\"dataframe\">\n",
              "  <thead>\n",
              "    <tr style=\"text-align: right;\">\n",
              "      <th></th>\n",
              "      <th>children</th>\n",
              "      <th>debt_count</th>\n",
              "      <th>total</th>\n",
              "      <th>debt_percent</th>\n",
              "    </tr>\n",
              "  </thead>\n",
              "  <tbody>\n",
              "    <tr>\n",
              "      <th>4</th>\n",
              "      <td>4</td>\n",
              "      <td>4</td>\n",
              "      <td>41</td>\n",
              "      <td>9.76</td>\n",
              "    </tr>\n",
              "    <tr>\n",
              "      <th>2</th>\n",
              "      <td>2</td>\n",
              "      <td>194</td>\n",
              "      <td>2052</td>\n",
              "      <td>9.45</td>\n",
              "    </tr>\n",
              "    <tr>\n",
              "      <th>1</th>\n",
              "      <td>1</td>\n",
              "      <td>444</td>\n",
              "      <td>4808</td>\n",
              "      <td>9.23</td>\n",
              "    </tr>\n",
              "    <tr>\n",
              "      <th>3</th>\n",
              "      <td>3</td>\n",
              "      <td>27</td>\n",
              "      <td>330</td>\n",
              "      <td>8.18</td>\n",
              "    </tr>\n",
              "    <tr>\n",
              "      <th>0</th>\n",
              "      <td>0</td>\n",
              "      <td>1063</td>\n",
              "      <td>14091</td>\n",
              "      <td>7.54</td>\n",
              "    </tr>\n",
              "  </tbody>\n",
              "</table>\n",
              "</div>"
            ],
            "text/plain": [
              "   children  debt_count  total  debt_percent\n",
              "4         4           4     41          9.76\n",
              "2         2         194   2052          9.45\n",
              "1         1         444   4808          9.23\n",
              "3         3          27    330          8.18\n",
              "0         0        1063  14091          7.54"
            ]
          },
          "execution_count": 32,
          "metadata": {},
          "output_type": "execute_result"
        }
      ],
      "source": [
        "result_df = calculate_debt_percent(data, column_x='debt', column_y='children')\n",
        "result_df = result_df.sort_values(by='debt_percent',ascending=False)\n",
        "result_df"
      ]
    },
    {
      "cell_type": "markdown",
      "id": "45a1812e",
      "metadata": {
        "id": "45a1812e"
      },
      "source": [
        "Поскольку в представленных данных таблицы 'result_df' выборка несбалансированная, будем проводить оценку результатов только для групп с 0, 1 и 2 детьми. Следовательно, можно сделать вывод, что самая надежная группа - это те, у кого нет детей (процент возврата кредита с задержкой = 7.54 %), а самая ненадежная группа - это те, у кого двое детей (9.45 %). Проведем дополнительный анализ для 2х категорий \"с детьми\" и \"без детей\"."
      ]
    },
    {
      "cell_type": "markdown",
      "id": "4fbeac6b",
      "metadata": {
        "id": "4fbeac6b"
      },
      "source": [
        "Создадим новый столбец 'group' и разделим заемщиков на 2 группы с детьми и без детей, что бы оценить влияние наличие детей на надежность заемщиков, поскольку данных по группам 2,3,4 не достаточно что бы выявить надежность корректно"
      ]
    },
    {
      "cell_type": "code",
      "execution_count": null,
      "id": "845e330b",
      "metadata": {
        "id": "845e330b",
        "outputId": "619dc0a5-0209-47a8-fb70-40d8c908d9a5"
      },
      "outputs": [
        {
          "data": {
            "text/html": [
              "<div>\n",
              "<style scoped>\n",
              "    .dataframe tbody tr th:only-of-type {\n",
              "        vertical-align: middle;\n",
              "    }\n",
              "\n",
              "    .dataframe tbody tr th {\n",
              "        vertical-align: top;\n",
              "    }\n",
              "\n",
              "    .dataframe thead th {\n",
              "        text-align: right;\n",
              "    }\n",
              "</style>\n",
              "<table border=\"1\" class=\"dataframe\">\n",
              "  <thead>\n",
              "    <tr style=\"text-align: right;\">\n",
              "      <th></th>\n",
              "      <th>group</th>\n",
              "      <th>debt_count</th>\n",
              "      <th>total</th>\n",
              "      <th>debt_percent</th>\n",
              "    </tr>\n",
              "  </thead>\n",
              "  <tbody>\n",
              "    <tr>\n",
              "      <th>0</th>\n",
              "      <td>без детей</td>\n",
              "      <td>1063</td>\n",
              "      <td>14091</td>\n",
              "      <td>7.54</td>\n",
              "    </tr>\n",
              "    <tr>\n",
              "      <th>1</th>\n",
              "      <td>с детьми</td>\n",
              "      <td>669</td>\n",
              "      <td>7231</td>\n",
              "      <td>9.25</td>\n",
              "    </tr>\n",
              "  </tbody>\n",
              "</table>\n",
              "</div>"
            ],
            "text/plain": [
              "       group  debt_count  total  debt_percent\n",
              "0  без детей        1063  14091          7.54\n",
              "1   с детьми         669   7231          9.25"
            ]
          },
          "execution_count": 35,
          "metadata": {},
          "output_type": "execute_result"
        }
      ],
      "source": [
        "group_values = []\n",
        "for children in result_df['children']:\n",
        "    if children > 0:\n",
        "        group_values.append('с детьми')\n",
        "    else:\n",
        "        group_values.append('без детей')\n",
        "result_df['group'] = group_values\n",
        "\n",
        "grouped_data = result_df.groupby('group').agg({\n",
        "    'debt_count': 'sum',\n",
        "    'total': 'sum'\n",
        "}).reset_index()\n",
        "\n",
        "grouped_data['debt_percent'] = (grouped_data['debt_count'] / grouped_data['total']) * 100\n",
        "grouped_data['debt_percent'] = (grouped_data['debt_percent']).round(2)\n",
        "\n",
        "grouped_data"
      ]
    },
    {
      "cell_type": "markdown",
      "id": "ee788b5c",
      "metadata": {
        "deletable": false,
        "id": "ee788b5c"
      },
      "source": [
        "**Вывод:**\n",
        "На основе представленных данных в таблице 'result_df' и 'grouped_data', можно сделать вывод, что зависимость количества детей у заемщиков с выплатой по кредиту вовремя существанна для категории c 0,1 и 2 зависимость равна соотвественно 7.54%, 9.23%, 9.45 %. Следовательно есть значимое влияние наличие детей на вероятность задолжности, так в группе \"без детей\" процент задолжности по кредиту = 7.54%, что показывает надежность заемщиков без детей в отличии от группы \"с детьми\" = 9.25%. Чем больше у заемщика детей, тем выше риск допустить просрочку.</div>"
      ]
    },
    {
      "cell_type": "markdown",
      "id": "13c30f67",
      "metadata": {
        "deletable": false,
        "editable": false,
        "id": "13c30f67"
      },
      "source": [
        "#### 3.2 Есть ли зависимость между семейным положением и возвратом кредита в срок?"
      ]
    },
    {
      "cell_type": "code",
      "execution_count": null,
      "id": "47949edd",
      "metadata": {
        "deletable": false,
        "id": "47949edd",
        "outputId": "6ad68a52-c628-4033-c8c6-9adb2ce5b2ba"
      },
      "outputs": [
        {
          "data": {
            "text/html": [
              "<div>\n",
              "<style scoped>\n",
              "    .dataframe tbody tr th:only-of-type {\n",
              "        vertical-align: middle;\n",
              "    }\n",
              "\n",
              "    .dataframe tbody tr th {\n",
              "        vertical-align: top;\n",
              "    }\n",
              "\n",
              "    .dataframe thead th {\n",
              "        text-align: right;\n",
              "    }\n",
              "</style>\n",
              "<table border=\"1\" class=\"dataframe\">\n",
              "  <thead>\n",
              "    <tr style=\"text-align: right;\">\n",
              "      <th></th>\n",
              "      <th>family_status</th>\n",
              "      <th>debt_count</th>\n",
              "      <th>total</th>\n",
              "      <th>debt_percent</th>\n",
              "    </tr>\n",
              "  </thead>\n",
              "  <tbody>\n",
              "    <tr>\n",
              "      <th>0</th>\n",
              "      <td>Не женат / не замужем</td>\n",
              "      <td>273</td>\n",
              "      <td>2796</td>\n",
              "      <td>9.76</td>\n",
              "    </tr>\n",
              "    <tr>\n",
              "      <th>3</th>\n",
              "      <td>гражданский брак</td>\n",
              "      <td>385</td>\n",
              "      <td>4134</td>\n",
              "      <td>9.31</td>\n",
              "    </tr>\n",
              "    <tr>\n",
              "      <th>4</th>\n",
              "      <td>женат / замужем</td>\n",
              "      <td>927</td>\n",
              "      <td>12261</td>\n",
              "      <td>7.56</td>\n",
              "    </tr>\n",
              "    <tr>\n",
              "      <th>1</th>\n",
              "      <td>в разводе</td>\n",
              "      <td>84</td>\n",
              "      <td>1189</td>\n",
              "      <td>7.06</td>\n",
              "    </tr>\n",
              "    <tr>\n",
              "      <th>2</th>\n",
              "      <td>вдовец / вдова</td>\n",
              "      <td>63</td>\n",
              "      <td>951</td>\n",
              "      <td>6.62</td>\n",
              "    </tr>\n",
              "  </tbody>\n",
              "</table>\n",
              "</div>"
            ],
            "text/plain": [
              "           family_status  debt_count  total  debt_percent\n",
              "0  Не женат / не замужем         273   2796          9.76\n",
              "3       гражданский брак         385   4134          9.31\n",
              "4        женат / замужем         927  12261          7.56\n",
              "1              в разводе          84   1189          7.06\n",
              "2         вдовец / вдова          63    951          6.62"
            ]
          },
          "execution_count": 51,
          "metadata": {},
          "output_type": "execute_result"
        }
      ],
      "source": [
        "result_df_2 = calculate_debt_percent(data, column_x='debt', column_y='family_status')\n",
        "# Отсортируем таблицу по убыванию процента задолжности\n",
        "result_df_2 = result_df_2.sort_values(by='debt_percent',ascending=False)\n",
        "result_df_2"
      ]
    },
    {
      "cell_type": "markdown",
      "id": "dce08ce4",
      "metadata": {
        "deletable": false,
        "id": "dce08ce4"
      },
      "source": [
        "**Вывод:**\n",
        "Показатель задолженности среди заемщиков с разными семейными статусами, особенно высокий у тех, кто не женат или не замужем. Также схожий уровень задолженности наблюдается у людей в гражданском браке. Можно предположить, что заемщики с семейным статусом 'Не женат / не замужем' и в 'гражданском браке' имеют более высокую вероятность задержки выплаты."
      ]
    },
    {
      "cell_type": "markdown",
      "id": "1f4f71b4",
      "metadata": {
        "deletable": false,
        "editable": false,
        "id": "1f4f71b4"
      },
      "source": [
        "#### 3.3 Есть ли зависимость между уровнем дохода и возвратом кредита в срок?"
      ]
    },
    {
      "cell_type": "code",
      "execution_count": null,
      "id": "de191676",
      "metadata": {
        "deletable": false,
        "id": "de191676",
        "outputId": "5f3ca22f-f009-4939-980a-897dd350298f"
      },
      "outputs": [
        {
          "data": {
            "text/html": [
              "<div>\n",
              "<style scoped>\n",
              "    .dataframe tbody tr th:only-of-type {\n",
              "        vertical-align: middle;\n",
              "    }\n",
              "\n",
              "    .dataframe tbody tr th {\n",
              "        vertical-align: top;\n",
              "    }\n",
              "\n",
              "    .dataframe thead th {\n",
              "        text-align: right;\n",
              "    }\n",
              "</style>\n",
              "<table border=\"1\" class=\"dataframe\">\n",
              "  <thead>\n",
              "    <tr style=\"text-align: right;\">\n",
              "      <th></th>\n",
              "      <th>total_income_category</th>\n",
              "      <th>debt_count</th>\n",
              "      <th>total</th>\n",
              "      <th>debt_percent</th>\n",
              "    </tr>\n",
              "  </thead>\n",
              "  <tbody>\n",
              "    <tr>\n",
              "      <th>4</th>\n",
              "      <td>E</td>\n",
              "      <td>2</td>\n",
              "      <td>22</td>\n",
              "      <td>9.09</td>\n",
              "    </tr>\n",
              "    <tr>\n",
              "      <th>2</th>\n",
              "      <td>C</td>\n",
              "      <td>1353</td>\n",
              "      <td>15921</td>\n",
              "      <td>8.50</td>\n",
              "    </tr>\n",
              "    <tr>\n",
              "      <th>0</th>\n",
              "      <td>A</td>\n",
              "      <td>2</td>\n",
              "      <td>25</td>\n",
              "      <td>8.00</td>\n",
              "    </tr>\n",
              "    <tr>\n",
              "      <th>1</th>\n",
              "      <td>B</td>\n",
              "      <td>354</td>\n",
              "      <td>5014</td>\n",
              "      <td>7.06</td>\n",
              "    </tr>\n",
              "    <tr>\n",
              "      <th>3</th>\n",
              "      <td>D</td>\n",
              "      <td>21</td>\n",
              "      <td>349</td>\n",
              "      <td>6.02</td>\n",
              "    </tr>\n",
              "  </tbody>\n",
              "</table>\n",
              "</div>"
            ],
            "text/plain": [
              "  total_income_category  debt_count  total  debt_percent\n",
              "4                     E           2     22          9.09\n",
              "2                     C        1353  15921          8.50\n",
              "0                     A           2     25          8.00\n",
              "1                     B         354   5014          7.06\n",
              "3                     D          21    349          6.02"
            ]
          },
          "execution_count": 52,
          "metadata": {},
          "output_type": "execute_result"
        }
      ],
      "source": [
        "result_df_3 = calculate_debt_percent(data, column_x='debt', column_y='total_income_category')\n",
        "result_df_3 = result_df_3.sort_values(by='debt_percent',ascending=False)\n",
        "result_df_3"
      ]
    },
    {
      "cell_type": "markdown",
      "id": "e5402b0c",
      "metadata": {
        "id": "e5402b0c"
      },
      "source": [
        "1. 0–30000 — 'E';\n",
        "2. 30001–50000 — 'D';\n",
        "3. 50001–200000 — 'C';\n",
        "4. 200001–1000000 — 'B';\n",
        "5. 1000001 и выше — 'A'."
      ]
    },
    {
      "cell_type": "code",
      "execution_count": null,
      "id": "32a8d75f",
      "metadata": {
        "id": "32a8d75f",
        "outputId": "8bb46626-28a3-453e-edff-04c37c2ca665"
      },
      "outputs": [
        {
          "data": {
            "text/html": [
              "<div>\n",
              "<style scoped>\n",
              "    .dataframe tbody tr th:only-of-type {\n",
              "        vertical-align: middle;\n",
              "    }\n",
              "\n",
              "    .dataframe tbody tr th {\n",
              "        vertical-align: top;\n",
              "    }\n",
              "\n",
              "    .dataframe thead th {\n",
              "        text-align: right;\n",
              "    }\n",
              "</style>\n",
              "<table border=\"1\" class=\"dataframe\">\n",
              "  <thead>\n",
              "    <tr style=\"text-align: right;\">\n",
              "      <th></th>\n",
              "      <th>total_income_category</th>\n",
              "      <th>debt_count</th>\n",
              "      <th>total</th>\n",
              "      <th>debt_percent</th>\n",
              "    </tr>\n",
              "  </thead>\n",
              "  <tbody>\n",
              "    <tr>\n",
              "      <th>2</th>\n",
              "      <td>C</td>\n",
              "      <td>1353</td>\n",
              "      <td>15921</td>\n",
              "      <td>8.50</td>\n",
              "    </tr>\n",
              "    <tr>\n",
              "      <th>1</th>\n",
              "      <td>B</td>\n",
              "      <td>354</td>\n",
              "      <td>5014</td>\n",
              "      <td>7.06</td>\n",
              "    </tr>\n",
              "    <tr>\n",
              "      <th>3</th>\n",
              "      <td>D</td>\n",
              "      <td>21</td>\n",
              "      <td>349</td>\n",
              "      <td>6.02</td>\n",
              "    </tr>\n",
              "    <tr>\n",
              "      <th>0</th>\n",
              "      <td>A</td>\n",
              "      <td>2</td>\n",
              "      <td>25</td>\n",
              "      <td>8.00</td>\n",
              "    </tr>\n",
              "    <tr>\n",
              "      <th>4</th>\n",
              "      <td>E</td>\n",
              "      <td>2</td>\n",
              "      <td>22</td>\n",
              "      <td>9.09</td>\n",
              "    </tr>\n",
              "  </tbody>\n",
              "</table>\n",
              "</div>"
            ],
            "text/plain": [
              "  total_income_category  debt_count  total  debt_percent\n",
              "2                     C        1353  15921          8.50\n",
              "1                     B         354   5014          7.06\n",
              "3                     D          21    349          6.02\n",
              "0                     A           2     25          8.00\n",
              "4                     E           2     22          9.09"
            ]
          },
          "execution_count": 53,
          "metadata": {},
          "output_type": "execute_result"
        }
      ],
      "source": [
        "result_df_3 = calculate_debt_percent(data, column_x='debt', column_y='total_income_category')\n",
        "result_df_3 = result_df_3.sort_values(by='total',ascending=False)\n",
        "result_df_3"
      ]
    },
    {
      "cell_type": "markdown",
      "id": "8cc02b96",
      "metadata": {
        "deletable": false,
        "id": "8cc02b96"
      },
      "source": [
        "**Вывод:**\n",
        "На основе данных таблицы result_df_3, можно сказать, что категории 'D' и 'B' имеют наименьший процент задолженности, следовательно более надежны. Но обращая внимание на то, что выборки несбалансированы, проанализируем самые многочисленные B и C. Заемщики с заработком от 50001 до 200000 (категория С) менее надежны чем заемщики с большем заработком от 200001 до 1000000 (категория В)"
      ]
    },
    {
      "cell_type": "markdown",
      "id": "f970a2f0",
      "metadata": {
        "deletable": false,
        "editable": false,
        "id": "f970a2f0"
      },
      "source": [
        "#### 3.4 Как разные цели кредита влияют на его возврат в срок?"
      ]
    },
    {
      "cell_type": "code",
      "execution_count": null,
      "id": "b214bfa5",
      "metadata": {
        "deletable": false,
        "id": "b214bfa5",
        "outputId": "d228e3c8-cf71-4f4a-be48-0d7144a589e6"
      },
      "outputs": [
        {
          "data": {
            "text/html": [
              "<div>\n",
              "<style scoped>\n",
              "    .dataframe tbody tr th:only-of-type {\n",
              "        vertical-align: middle;\n",
              "    }\n",
              "\n",
              "    .dataframe tbody tr th {\n",
              "        vertical-align: top;\n",
              "    }\n",
              "\n",
              "    .dataframe thead th {\n",
              "        text-align: right;\n",
              "    }\n",
              "</style>\n",
              "<table border=\"1\" class=\"dataframe\">\n",
              "  <thead>\n",
              "    <tr style=\"text-align: right;\">\n",
              "      <th></th>\n",
              "      <th>purpose_category</th>\n",
              "      <th>debt_count</th>\n",
              "      <th>total</th>\n",
              "      <th>debt_percent</th>\n",
              "    </tr>\n",
              "  </thead>\n",
              "  <tbody>\n",
              "    <tr>\n",
              "      <th>1</th>\n",
              "      <td>операции с недвижимостью</td>\n",
              "      <td>780</td>\n",
              "      <td>10751</td>\n",
              "      <td>7.26</td>\n",
              "    </tr>\n",
              "    <tr>\n",
              "      <th>0</th>\n",
              "      <td>операции с автомобилем</td>\n",
              "      <td>400</td>\n",
              "      <td>4279</td>\n",
              "      <td>9.35</td>\n",
              "    </tr>\n",
              "    <tr>\n",
              "      <th>2</th>\n",
              "      <td>получение образования</td>\n",
              "      <td>369</td>\n",
              "      <td>3988</td>\n",
              "      <td>9.25</td>\n",
              "    </tr>\n",
              "    <tr>\n",
              "      <th>3</th>\n",
              "      <td>проведение свадьбы</td>\n",
              "      <td>183</td>\n",
              "      <td>2313</td>\n",
              "      <td>7.91</td>\n",
              "    </tr>\n",
              "  </tbody>\n",
              "</table>\n",
              "</div>"
            ],
            "text/plain": [
              "           purpose_category  debt_count  total  debt_percent\n",
              "1  операции с недвижимостью         780  10751          7.26\n",
              "0    операции с автомобилем         400   4279          9.35\n",
              "2     получение образования         369   3988          9.25\n",
              "3        проведение свадьбы         183   2313          7.91"
            ]
          },
          "execution_count": 29,
          "metadata": {},
          "output_type": "execute_result"
        }
      ],
      "source": [
        "result_df_4 = calculate_debt_percent(data, column_x='debt', column_y='purpose_category')\n",
        "result_df_4 = result_df_4.sort_values(by='total',ascending=False)\n",
        "result_df_4"
      ]
    },
    {
      "cell_type": "markdown",
      "id": "042840f7",
      "metadata": {
        "deletable": false,
        "id": "042840f7"
      },
      "source": [
        "**Вывод:**\n",
        "На основе данных таблицы result_df_4, можно сказать, что категории \"операции с автомобилем\"\tи 'получение образования' имеют наибольший процент задолженности по кредиту.Если брать во внимание что количество людей в каждой категории не отличаются на порядок, в отличии от других таблиц(result_df),можно предположить что данная зависимость наиболее вероятная."
      ]
    },
    {
      "cell_type": "markdown",
      "id": "91a10a7c",
      "metadata": {
        "deletable": false,
        "editable": false,
        "id": "91a10a7c"
      },
      "source": [
        "#### 3.5 Приведите возможные причины появления пропусков в исходных данных."
      ]
    },
    {
      "cell_type": "markdown",
      "id": "874ce32a",
      "metadata": {
        "deletable": false,
        "id": "874ce32a"
      },
      "source": [
        "*Ответ:*\n",
        "1. Появление пропусков вследствие человеческого фактора.\n",
        "2. Ошибки при конвертировании\n",
        "3. Ошибки при записи данных программой"
      ]
    },
    {
      "cell_type": "markdown",
      "id": "6cebe597",
      "metadata": {
        "deletable": false,
        "editable": false,
        "id": "6cebe597"
      },
      "source": [
        "#### 3.6 Объясните, почему заполнить пропуски медианным значением — лучшее решение для количественных переменных."
      ]
    },
    {
      "cell_type": "markdown",
      "id": "b9e143ac",
      "metadata": {
        "deletable": false,
        "id": "b9e143ac"
      },
      "source": [
        "*Ответ:*\n",
        "При расчете медианного значения используется значение из середины сгруппированного списка. Такие значения лучше передают общую картину, так как среднее арифметическое будет искаженным при аномальных выбросах данных или слишком сильном разбросе. Таким образом медиана предоставляет более типичное значение в наборе данных. Пример: (1+2+3+4+100)/5 = 22, при этом медиана = 3"
      ]
    },
    {
      "cell_type": "markdown",
      "id": "3ff1434f",
      "metadata": {
        "deletable": false,
        "editable": false,
        "id": "3ff1434f"
      },
      "source": [
        "### Шаг 4: общий вывод."
      ]
    },
    {
      "cell_type": "markdown",
      "id": "bd9a3679",
      "metadata": {
        "deletable": false,
        "id": "bd9a3679"
      },
      "source": [
        "Для проведение анализа были получены исходные данные о статистике о платёжеспособности клиентов от кредитного отдела банка заказчика. Нужно было разобраться влияет ли семейное положение, цель кредита, уровень дохода и количество детей клиента на факт погашения кредита в срок.\n",
        "На стадии предобработки были сделаны следующие пункты:\n",
        "1. Удаление пропусков\n",
        "2. Обработка аномальных значений\n",
        "3. Изменение типов данных\n",
        "4. Обработка дубликатов\n",
        "5. Категоризация данных\n",
        "\n",
        "В Проектной работе \"Предобработка данных\" были получены следующие результаты:\n",
        "\n",
        "1. 3.1 Есть ли зависимость между количеством детей и возвратом кредита в срок?\n",
        "Зависимость присутствует. Поскольку в представленных данных таблицы 'result_df' выборка несбалансирована, я провела оценку результатов только для групп с 0, 1 и 2 детьми. Следовательно, можно сделать вывод, что самая надежная группа - это те, у кого нет детей (процент возврата кредита с задержкой = 7.54 %), а самая ненадежная группа - это те, у кого двое детей (9.45 %).\n",
        "\n",
        "2. 3.2 Есть ли зависимость между семейным положением и возвратом кредита в срок?\n",
        "Зависимость присутствует. Можно предположить, что заемщики с семейным статусом 'Не женат / не замужем' или \"в гражданском браке\" имеют более высокую вероятность задержки выплаты. Так же, можно сказать, что состоящие или состоявшие в браке заемщики реже допускают просрочки.\n",
        "\n",
        "3. 3.3 Есть ли зависимость между уровнем дохода и возвратом кредита в срок?\n",
        "Зависимость присутствует, категории 'D' и 'B' имеют наименьший процент задолженности, следовательно более надежны. Но обращая внимание на то, что выборки несбалансированы, проанализировала самые многочисленные B и C. Заемщики с заработком от 50001 до 200000 (категория С) менее надежны чем заемщики с большем заработком от 200001 до 1000000 (категория В)\n",
        "\n",
        "4. 3.4 Как разные цели кредита влияют на его возврат в срок?\n",
        "Зависимость присутствует. Можно отметить, что категории \"операции с автомобилем\" и 'получение образования' имеют наибольший процент задолженности по кредиту. Эти две группы являются наименее \"надежными\".\n",
        "\n",
        "Проведенный анализ зависимостей различных показателей с возвратом кредита в срок, позволяет сделать предварительные выводы. Для более подробного исследования в будущем следует расщирить выборку и минимизировать возможные пропуски, например можно на первых этапах сбора данных обратиться к источнику данных и заполнить пропуски вручную, если это не возможно, как вариант, можно разделить на 2 выборки."
      ]
    },
    {
      "cell_type": "markdown",
      "id": "c7ee691d",
      "metadata": {
        "id": "c7ee691d"
      },
      "source": [
        "<div style=\"border:solid steelblue 3px; padding: 20px; border-radius: 10px\">\n",
        "\n",
        "<h5><b>🏁 Общий комментарий ревьюера:</b></h5>\n",
        "\n",
        "Ты хорошо поработала над проектом.\n",
        "\n",
        "Критических замечаний нет, постарайся только отработать желтые комментарии.\n",
        "\n",
        "Что можно улучшить дополнительно:\n",
        "\n",
        "- отформатировать столбец с просрочкой в процентный формат\n",
        "- отсортировать в таблице категории по проценту просрочки (например, по убыванию)\n",
        "\n",
        "Буду ждать окончательную версию твоего проекта для принятия. ⌛️</div>"
      ]
    },
    {
      "cell_type": "markdown",
      "id": "06162682",
      "metadata": {
        "id": "06162682"
      },
      "source": [
        "<div style=\"border:solid steelblue 3px; padding: 20px; border-radius: 10px\">\n",
        "\n",
        "<h5><b>🏁 Общий комментарий ревьюера V2</b></h5>\n",
        "\n",
        "Спасибо, что учла мои замечания и доработала проект, получилась очень хорошая работа!\n",
        "\n",
        "Успехов в дальнейшем обучении! 🏆\n",
        "\n",
        "</div>"
      ]
    }
  ],
  "metadata": {
    "ExecuteTimeLog": [
      {
        "duration": 50,
        "start_time": "2024-01-26T10:15:19.910Z"
      },
      {
        "duration": 579,
        "start_time": "2024-01-26T10:15:35.447Z"
      },
      {
        "duration": 26,
        "start_time": "2024-01-26T10:15:36.029Z"
      },
      {
        "duration": 17,
        "start_time": "2024-01-26T10:15:36.057Z"
      },
      {
        "duration": 12,
        "start_time": "2024-01-26T10:15:36.076Z"
      },
      {
        "duration": 39,
        "start_time": "2024-01-26T10:15:36.089Z"
      },
      {
        "duration": 3,
        "start_time": "2024-01-26T10:15:36.130Z"
      },
      {
        "duration": 9,
        "start_time": "2024-01-26T10:15:36.135Z"
      },
      {
        "duration": 4,
        "start_time": "2024-01-26T10:15:36.159Z"
      },
      {
        "duration": 8,
        "start_time": "2024-01-26T10:15:36.165Z"
      },
      {
        "duration": 6,
        "start_time": "2024-01-26T10:15:36.176Z"
      },
      {
        "duration": 42,
        "start_time": "2024-01-26T10:15:36.184Z"
      },
      {
        "duration": 12,
        "start_time": "2024-01-26T10:15:36.227Z"
      },
      {
        "duration": 5,
        "start_time": "2024-01-26T10:15:36.241Z"
      },
      {
        "duration": 16,
        "start_time": "2024-01-26T10:15:36.247Z"
      },
      {
        "duration": 21,
        "start_time": "2024-01-26T10:15:36.265Z"
      },
      {
        "duration": 17,
        "start_time": "2024-01-26T10:15:36.288Z"
      },
      {
        "duration": 12,
        "start_time": "2024-01-26T10:15:36.307Z"
      },
      {
        "duration": 24,
        "start_time": "2024-01-26T10:15:36.321Z"
      },
      {
        "duration": 37,
        "start_time": "2024-01-26T10:15:36.347Z"
      },
      {
        "duration": 13,
        "start_time": "2024-01-26T10:15:36.386Z"
      },
      {
        "duration": 11,
        "start_time": "2024-01-26T10:15:36.401Z"
      },
      {
        "duration": 22,
        "start_time": "2024-01-26T10:15:36.414Z"
      },
      {
        "duration": 24,
        "start_time": "2024-01-26T10:15:36.438Z"
      },
      {
        "duration": 8,
        "start_time": "2024-01-26T10:15:36.463Z"
      },
      {
        "duration": 12,
        "start_time": "2024-01-26T10:15:36.473Z"
      },
      {
        "duration": 86,
        "start_time": "2024-01-26T10:18:49.629Z"
      },
      {
        "duration": 12,
        "start_time": "2024-01-26T10:18:54.850Z"
      },
      {
        "duration": 18,
        "start_time": "2024-01-26T10:20:05.560Z"
      },
      {
        "duration": 15,
        "start_time": "2024-01-26T10:20:11.634Z"
      },
      {
        "duration": 5,
        "start_time": "2024-01-26T10:23:35.101Z"
      },
      {
        "duration": 70,
        "start_time": "2024-01-26T10:25:13.785Z"
      },
      {
        "duration": 8,
        "start_time": "2024-01-26T10:25:31.664Z"
      },
      {
        "duration": 5,
        "start_time": "2024-01-26T10:28:11.392Z"
      },
      {
        "duration": 8,
        "start_time": "2024-01-26T10:28:16.566Z"
      },
      {
        "duration": 588,
        "start_time": "2024-01-26T10:28:31.507Z"
      },
      {
        "duration": 33,
        "start_time": "2024-01-26T10:32:22.498Z"
      },
      {
        "duration": 8,
        "start_time": "2024-01-26T10:37:42.454Z"
      },
      {
        "duration": 130,
        "start_time": "2024-01-26T10:38:55.900Z"
      },
      {
        "duration": 3,
        "start_time": "2024-01-26T10:53:22.176Z"
      },
      {
        "duration": 5,
        "start_time": "2024-01-26T10:53:30.163Z"
      },
      {
        "duration": 6,
        "start_time": "2024-01-26T10:53:44.781Z"
      },
      {
        "duration": 6,
        "start_time": "2024-01-26T10:54:03.839Z"
      },
      {
        "duration": 24,
        "start_time": "2024-01-26T10:54:18.025Z"
      },
      {
        "duration": 6,
        "start_time": "2024-01-26T10:54:45.312Z"
      },
      {
        "duration": 7,
        "start_time": "2024-01-26T10:55:19.021Z"
      },
      {
        "duration": 8,
        "start_time": "2024-01-26T10:55:26.600Z"
      },
      {
        "duration": 21,
        "start_time": "2024-01-26T12:53:28.264Z"
      },
      {
        "duration": 6,
        "start_time": "2024-01-26T12:59:02.677Z"
      },
      {
        "duration": 4,
        "start_time": "2024-01-26T12:59:09.224Z"
      },
      {
        "duration": 29,
        "start_time": "2024-01-26T13:09:30.064Z"
      },
      {
        "duration": 4,
        "start_time": "2024-01-26T13:09:51.466Z"
      },
      {
        "duration": 16,
        "start_time": "2024-01-26T13:09:54.843Z"
      },
      {
        "duration": 15,
        "start_time": "2024-01-26T13:10:05.393Z"
      },
      {
        "duration": 8,
        "start_time": "2024-01-26T13:13:34.084Z"
      },
      {
        "duration": 15,
        "start_time": "2024-01-26T13:13:41.107Z"
      },
      {
        "duration": 9,
        "start_time": "2024-01-26T13:14:20.604Z"
      },
      {
        "duration": 6,
        "start_time": "2024-01-26T13:17:31.103Z"
      },
      {
        "duration": 6,
        "start_time": "2024-01-26T13:17:55.041Z"
      },
      {
        "duration": 7,
        "start_time": "2024-01-26T13:18:25.977Z"
      },
      {
        "duration": 3,
        "start_time": "2024-01-26T13:22:46.668Z"
      },
      {
        "duration": 20,
        "start_time": "2024-01-26T13:24:31.245Z"
      },
      {
        "duration": 12,
        "start_time": "2024-01-26T13:26:49.634Z"
      },
      {
        "duration": 11,
        "start_time": "2024-01-26T13:26:54.417Z"
      },
      {
        "duration": 11,
        "start_time": "2024-01-26T13:27:42.870Z"
      },
      {
        "duration": 8,
        "start_time": "2024-01-26T13:28:36.989Z"
      },
      {
        "duration": 4,
        "start_time": "2024-01-26T13:28:50.180Z"
      },
      {
        "duration": 21,
        "start_time": "2024-01-26T13:32:10.576Z"
      },
      {
        "duration": 76,
        "start_time": "2024-01-26T13:34:14.070Z"
      },
      {
        "duration": 15,
        "start_time": "2024-01-26T13:34:23.704Z"
      },
      {
        "duration": 27,
        "start_time": "2024-01-26T13:42:50.076Z"
      },
      {
        "duration": 26,
        "start_time": "2024-01-26T13:43:20.353Z"
      },
      {
        "duration": 35,
        "start_time": "2024-01-26T13:43:30.524Z"
      },
      {
        "duration": 23,
        "start_time": "2024-01-26T13:44:35.876Z"
      },
      {
        "duration": 23,
        "start_time": "2024-01-26T13:50:50.229Z"
      },
      {
        "duration": 26,
        "start_time": "2024-01-26T13:51:06.757Z"
      },
      {
        "duration": 23,
        "start_time": "2024-01-26T13:51:12.851Z"
      },
      {
        "duration": 88,
        "start_time": "2024-01-26T13:55:43.573Z"
      },
      {
        "duration": 82,
        "start_time": "2024-01-26T13:55:48.109Z"
      },
      {
        "duration": 77,
        "start_time": "2024-01-26T13:56:01.009Z"
      },
      {
        "duration": 66,
        "start_time": "2024-01-26T13:56:07.567Z"
      },
      {
        "duration": 3,
        "start_time": "2024-01-26T13:56:51.361Z"
      },
      {
        "duration": 2,
        "start_time": "2024-01-26T13:58:04.561Z"
      },
      {
        "duration": 1149,
        "start_time": "2024-01-26T13:59:53.316Z"
      },
      {
        "duration": 18,
        "start_time": "2024-01-26T14:03:54.894Z"
      },
      {
        "duration": 8,
        "start_time": "2024-01-26T14:08:29.704Z"
      },
      {
        "duration": 7,
        "start_time": "2024-01-26T14:08:37.685Z"
      },
      {
        "duration": 22,
        "start_time": "2024-01-26T14:08:58.120Z"
      },
      {
        "duration": 19,
        "start_time": "2024-01-26T14:09:08.652Z"
      },
      {
        "duration": 22,
        "start_time": "2024-01-26T14:09:21.571Z"
      },
      {
        "duration": 23,
        "start_time": "2024-01-26T14:10:31.396Z"
      },
      {
        "duration": 18,
        "start_time": "2024-01-26T14:10:38.448Z"
      },
      {
        "duration": 11,
        "start_time": "2024-01-26T14:13:54.901Z"
      },
      {
        "duration": 23,
        "start_time": "2024-01-26T14:14:10.610Z"
      },
      {
        "duration": 17,
        "start_time": "2024-01-26T14:14:18.953Z"
      },
      {
        "duration": 24,
        "start_time": "2024-01-26T14:14:46.059Z"
      },
      {
        "duration": 12,
        "start_time": "2024-01-26T14:14:54.819Z"
      },
      {
        "duration": 18,
        "start_time": "2024-01-26T14:15:06.781Z"
      },
      {
        "duration": 12,
        "start_time": "2024-01-26T14:15:30.600Z"
      },
      {
        "duration": 11,
        "start_time": "2024-01-26T14:15:48.421Z"
      },
      {
        "duration": 11,
        "start_time": "2024-01-26T14:17:26.828Z"
      },
      {
        "duration": 20,
        "start_time": "2024-01-26T14:18:32.469Z"
      },
      {
        "duration": 14,
        "start_time": "2024-01-26T14:18:44.870Z"
      },
      {
        "duration": 18,
        "start_time": "2024-01-26T14:25:08.334Z"
      },
      {
        "duration": 4,
        "start_time": "2024-01-26T14:28:46.500Z"
      },
      {
        "duration": 13,
        "start_time": "2024-01-26T14:29:52.454Z"
      },
      {
        "duration": 11,
        "start_time": "2024-01-26T14:29:57.091Z"
      },
      {
        "duration": 15,
        "start_time": "2024-01-26T14:30:47.010Z"
      },
      {
        "duration": 4,
        "start_time": "2024-01-26T14:32:08.391Z"
      },
      {
        "duration": 4,
        "start_time": "2024-01-26T14:32:46.149Z"
      },
      {
        "duration": 5,
        "start_time": "2024-01-26T14:33:05.639Z"
      },
      {
        "duration": 5,
        "start_time": "2024-01-26T14:33:16.313Z"
      },
      {
        "duration": 5,
        "start_time": "2024-01-26T14:34:30.475Z"
      },
      {
        "duration": 4,
        "start_time": "2024-01-26T14:34:33.812Z"
      },
      {
        "duration": 5,
        "start_time": "2024-01-26T14:34:54.161Z"
      },
      {
        "duration": 4,
        "start_time": "2024-01-26T14:35:14.136Z"
      },
      {
        "duration": 15,
        "start_time": "2024-01-26T14:38:08.906Z"
      },
      {
        "duration": 5,
        "start_time": "2024-01-26T14:38:21.568Z"
      },
      {
        "duration": 12,
        "start_time": "2024-01-26T14:38:24.692Z"
      },
      {
        "duration": 10,
        "start_time": "2024-01-26T14:38:36.532Z"
      },
      {
        "duration": 11,
        "start_time": "2024-01-26T14:38:43.618Z"
      },
      {
        "duration": 10,
        "start_time": "2024-01-26T14:38:48.710Z"
      },
      {
        "duration": 475,
        "start_time": "2024-01-26T14:41:11.698Z"
      },
      {
        "duration": 26,
        "start_time": "2024-01-26T14:41:12.175Z"
      },
      {
        "duration": 24,
        "start_time": "2024-01-26T14:41:12.204Z"
      },
      {
        "duration": 29,
        "start_time": "2024-01-26T14:41:12.231Z"
      },
      {
        "duration": 40,
        "start_time": "2024-01-26T14:41:12.262Z"
      },
      {
        "duration": 3,
        "start_time": "2024-01-26T14:41:12.304Z"
      },
      {
        "duration": 8,
        "start_time": "2024-01-26T14:41:12.309Z"
      },
      {
        "duration": 4,
        "start_time": "2024-01-26T14:41:12.319Z"
      },
      {
        "duration": 36,
        "start_time": "2024-01-26T14:41:12.325Z"
      },
      {
        "duration": 4,
        "start_time": "2024-01-26T14:41:12.365Z"
      },
      {
        "duration": 38,
        "start_time": "2024-01-26T14:41:12.371Z"
      },
      {
        "duration": 11,
        "start_time": "2024-01-26T14:41:12.411Z"
      },
      {
        "duration": 34,
        "start_time": "2024-01-26T14:41:12.424Z"
      },
      {
        "duration": 31,
        "start_time": "2024-01-26T14:41:12.460Z"
      },
      {
        "duration": 36,
        "start_time": "2024-01-26T14:41:12.492Z"
      },
      {
        "duration": 18,
        "start_time": "2024-01-26T14:41:12.530Z"
      },
      {
        "duration": 3,
        "start_time": "2024-01-26T14:41:12.550Z"
      },
      {
        "duration": 26,
        "start_time": "2024-01-26T14:41:12.555Z"
      },
      {
        "duration": 8,
        "start_time": "2024-01-26T14:41:12.583Z"
      },
      {
        "duration": 4,
        "start_time": "2024-01-26T14:41:12.592Z"
      },
      {
        "duration": 13,
        "start_time": "2024-01-26T14:41:12.598Z"
      },
      {
        "duration": 14,
        "start_time": "2024-01-26T14:41:12.612Z"
      },
      {
        "duration": 32,
        "start_time": "2024-01-26T14:41:12.628Z"
      },
      {
        "duration": 12,
        "start_time": "2024-01-26T14:41:12.662Z"
      },
      {
        "duration": 4,
        "start_time": "2024-01-26T14:41:12.676Z"
      },
      {
        "duration": 88,
        "start_time": "2024-01-26T14:41:12.683Z"
      },
      {
        "duration": 1,
        "start_time": "2024-01-26T14:41:12.773Z"
      },
      {
        "duration": 0,
        "start_time": "2024-01-26T14:41:12.775Z"
      },
      {
        "duration": 0,
        "start_time": "2024-01-26T14:41:12.777Z"
      },
      {
        "duration": 21,
        "start_time": "2024-01-26T14:50:38.451Z"
      },
      {
        "duration": 13,
        "start_time": "2024-01-26T14:51:43.603Z"
      },
      {
        "duration": 14,
        "start_time": "2024-01-26T14:51:46.867Z"
      },
      {
        "duration": 16,
        "start_time": "2024-01-26T14:51:55.355Z"
      },
      {
        "duration": 16,
        "start_time": "2024-01-26T14:55:49.428Z"
      },
      {
        "duration": 8,
        "start_time": "2024-01-26T14:56:43.962Z"
      },
      {
        "duration": 9,
        "start_time": "2024-01-26T14:56:51.828Z"
      },
      {
        "duration": 3,
        "start_time": "2024-01-26T14:59:40.868Z"
      },
      {
        "duration": 7,
        "start_time": "2024-01-26T14:59:46.764Z"
      },
      {
        "duration": 12,
        "start_time": "2024-01-26T14:59:55.451Z"
      },
      {
        "duration": 8,
        "start_time": "2024-01-26T15:06:10.354Z"
      },
      {
        "duration": 9,
        "start_time": "2024-01-26T15:07:15.433Z"
      },
      {
        "duration": 11,
        "start_time": "2024-01-26T15:07:23.516Z"
      },
      {
        "duration": 533,
        "start_time": "2024-01-26T15:08:02.152Z"
      },
      {
        "duration": 25,
        "start_time": "2024-01-26T15:08:02.687Z"
      },
      {
        "duration": 19,
        "start_time": "2024-01-26T15:08:02.713Z"
      },
      {
        "duration": 31,
        "start_time": "2024-01-26T15:08:02.734Z"
      },
      {
        "duration": 73,
        "start_time": "2024-01-26T15:08:02.767Z"
      },
      {
        "duration": 3,
        "start_time": "2024-01-26T15:08:02.841Z"
      },
      {
        "duration": 53,
        "start_time": "2024-01-26T15:08:02.846Z"
      },
      {
        "duration": 50,
        "start_time": "2024-01-26T15:08:02.901Z"
      },
      {
        "duration": 45,
        "start_time": "2024-01-26T15:08:02.953Z"
      },
      {
        "duration": 34,
        "start_time": "2024-01-26T15:08:03.001Z"
      },
      {
        "duration": 64,
        "start_time": "2024-01-26T15:08:03.037Z"
      },
      {
        "duration": 16,
        "start_time": "2024-01-26T15:08:03.103Z"
      },
      {
        "duration": 18,
        "start_time": "2024-01-26T15:08:03.121Z"
      },
      {
        "duration": 24,
        "start_time": "2024-01-26T15:08:03.141Z"
      },
      {
        "duration": 48,
        "start_time": "2024-01-26T15:08:03.167Z"
      },
      {
        "duration": 29,
        "start_time": "2024-01-26T15:08:03.217Z"
      },
      {
        "duration": 7,
        "start_time": "2024-01-26T15:08:03.248Z"
      },
      {
        "duration": 48,
        "start_time": "2024-01-26T15:08:03.257Z"
      },
      {
        "duration": 42,
        "start_time": "2024-01-26T15:08:03.307Z"
      },
      {
        "duration": 33,
        "start_time": "2024-01-26T15:08:03.351Z"
      },
      {
        "duration": 17,
        "start_time": "2024-01-26T15:08:03.386Z"
      },
      {
        "duration": 45,
        "start_time": "2024-01-26T15:08:03.405Z"
      },
      {
        "duration": 33,
        "start_time": "2024-01-26T15:08:03.452Z"
      },
      {
        "duration": 30,
        "start_time": "2024-01-26T15:08:03.486Z"
      },
      {
        "duration": 12,
        "start_time": "2024-01-26T15:08:03.517Z"
      },
      {
        "duration": 23,
        "start_time": "2024-01-26T15:08:03.531Z"
      },
      {
        "duration": 112,
        "start_time": "2024-01-26T15:08:03.556Z"
      },
      {
        "duration": 0,
        "start_time": "2024-01-26T15:08:03.669Z"
      },
      {
        "duration": 0,
        "start_time": "2024-01-26T15:08:03.670Z"
      },
      {
        "duration": 0,
        "start_time": "2024-01-26T15:08:03.672Z"
      },
      {
        "duration": 6,
        "start_time": "2024-01-26T15:08:57.737Z"
      },
      {
        "duration": 9,
        "start_time": "2024-01-26T15:09:09.718Z"
      },
      {
        "duration": 4,
        "start_time": "2024-01-26T15:09:20.622Z"
      },
      {
        "duration": 7,
        "start_time": "2024-01-26T15:09:24.139Z"
      },
      {
        "duration": 8,
        "start_time": "2024-01-26T15:09:29.054Z"
      },
      {
        "duration": 7,
        "start_time": "2024-01-26T15:09:45.968Z"
      },
      {
        "duration": 7,
        "start_time": "2024-01-26T15:09:50.584Z"
      },
      {
        "duration": 9,
        "start_time": "2024-01-26T15:10:39.847Z"
      },
      {
        "duration": 10,
        "start_time": "2024-01-26T15:10:58.438Z"
      },
      {
        "duration": 11,
        "start_time": "2024-01-26T15:11:01.864Z"
      },
      {
        "duration": 9,
        "start_time": "2024-01-26T15:11:42.497Z"
      },
      {
        "duration": 103,
        "start_time": "2024-01-26T15:11:49.668Z"
      },
      {
        "duration": 11,
        "start_time": "2024-01-26T15:12:02.165Z"
      },
      {
        "duration": 15,
        "start_time": "2024-01-26T15:12:41.896Z"
      },
      {
        "duration": 11,
        "start_time": "2024-01-26T15:13:28.798Z"
      },
      {
        "duration": 11,
        "start_time": "2024-01-26T15:13:32.541Z"
      },
      {
        "duration": 11,
        "start_time": "2024-01-26T15:13:35.845Z"
      },
      {
        "duration": 5,
        "start_time": "2024-01-26T15:17:06.328Z"
      },
      {
        "duration": 24,
        "start_time": "2024-01-26T15:17:18.063Z"
      },
      {
        "duration": 22,
        "start_time": "2024-01-26T15:17:27.784Z"
      },
      {
        "duration": 12,
        "start_time": "2024-01-26T15:17:32.424Z"
      },
      {
        "duration": 11,
        "start_time": "2024-01-26T15:17:37.317Z"
      },
      {
        "duration": 11,
        "start_time": "2024-01-26T15:17:42.786Z"
      },
      {
        "duration": 11,
        "start_time": "2024-01-26T15:18:08.548Z"
      },
      {
        "duration": 11,
        "start_time": "2024-01-26T15:18:25.839Z"
      },
      {
        "duration": 11,
        "start_time": "2024-01-26T15:18:29.630Z"
      },
      {
        "duration": 9,
        "start_time": "2024-01-26T15:18:37.954Z"
      },
      {
        "duration": 12,
        "start_time": "2024-01-26T15:18:55.447Z"
      },
      {
        "duration": 10,
        "start_time": "2024-01-26T15:19:11.985Z"
      },
      {
        "duration": 15,
        "start_time": "2024-01-26T15:21:27.134Z"
      },
      {
        "duration": 14,
        "start_time": "2024-01-26T15:21:46.448Z"
      },
      {
        "duration": 9,
        "start_time": "2024-01-26T15:21:54.881Z"
      },
      {
        "duration": 11,
        "start_time": "2024-01-26T15:22:46.315Z"
      },
      {
        "duration": 12,
        "start_time": "2024-01-26T15:22:57.490Z"
      },
      {
        "duration": 15,
        "start_time": "2024-01-26T15:23:08.189Z"
      },
      {
        "duration": 9,
        "start_time": "2024-01-26T15:30:25.888Z"
      },
      {
        "duration": 12,
        "start_time": "2024-01-26T15:30:41.655Z"
      },
      {
        "duration": 14,
        "start_time": "2024-01-26T15:31:53.597Z"
      },
      {
        "duration": 24,
        "start_time": "2024-01-26T15:31:59.659Z"
      },
      {
        "duration": 16,
        "start_time": "2024-01-26T15:33:48.157Z"
      },
      {
        "duration": 11,
        "start_time": "2024-01-26T15:34:04.297Z"
      },
      {
        "duration": 1261,
        "start_time": "2024-01-26T15:34:10.364Z"
      },
      {
        "duration": 10,
        "start_time": "2024-01-26T15:34:56.669Z"
      },
      {
        "duration": 1585,
        "start_time": "2024-01-26T15:35:08.995Z"
      },
      {
        "duration": 12,
        "start_time": "2024-01-26T15:35:23.751Z"
      },
      {
        "duration": 11,
        "start_time": "2024-01-26T15:35:40.375Z"
      },
      {
        "duration": 10,
        "start_time": "2024-01-26T15:35:59.087Z"
      },
      {
        "duration": 11,
        "start_time": "2024-01-26T15:36:34.038Z"
      },
      {
        "duration": 16,
        "start_time": "2024-01-26T15:36:44.349Z"
      },
      {
        "duration": 9,
        "start_time": "2024-01-26T15:36:57.337Z"
      },
      {
        "duration": 10,
        "start_time": "2024-01-26T15:36:59.634Z"
      },
      {
        "duration": 15,
        "start_time": "2024-01-26T15:37:02.100Z"
      },
      {
        "duration": 4,
        "start_time": "2024-01-26T15:44:39.733Z"
      },
      {
        "duration": 9,
        "start_time": "2024-01-26T15:44:51.554Z"
      },
      {
        "duration": 10,
        "start_time": "2024-01-26T15:46:29.771Z"
      },
      {
        "duration": 101,
        "start_time": "2024-01-26T15:46:38.949Z"
      },
      {
        "duration": 9,
        "start_time": "2024-01-26T15:46:43.155Z"
      },
      {
        "duration": 74,
        "start_time": "2024-01-26T15:48:36.260Z"
      },
      {
        "duration": 11,
        "start_time": "2024-01-26T15:48:42.822Z"
      },
      {
        "duration": 8,
        "start_time": "2024-01-26T15:51:17.705Z"
      },
      {
        "duration": 9,
        "start_time": "2024-01-26T15:52:01.523Z"
      },
      {
        "duration": 8,
        "start_time": "2024-01-28T08:27:55.203Z"
      },
      {
        "duration": 41,
        "start_time": "2024-01-28T08:30:22.230Z"
      },
      {
        "duration": 6,
        "start_time": "2024-01-28T08:31:14.127Z"
      },
      {
        "duration": 5,
        "start_time": "2024-01-28T08:31:31.787Z"
      },
      {
        "duration": 537,
        "start_time": "2024-01-28T08:31:52.966Z"
      },
      {
        "duration": 21,
        "start_time": "2024-01-28T08:31:53.505Z"
      },
      {
        "duration": 14,
        "start_time": "2024-01-28T08:31:53.527Z"
      },
      {
        "duration": 11,
        "start_time": "2024-01-28T08:31:53.543Z"
      },
      {
        "duration": 55,
        "start_time": "2024-01-28T08:31:53.556Z"
      },
      {
        "duration": 3,
        "start_time": "2024-01-28T08:31:53.612Z"
      },
      {
        "duration": 39,
        "start_time": "2024-01-28T08:31:53.616Z"
      },
      {
        "duration": 33,
        "start_time": "2024-01-28T08:31:53.656Z"
      },
      {
        "duration": 18,
        "start_time": "2024-01-28T08:31:53.690Z"
      },
      {
        "duration": 5,
        "start_time": "2024-01-28T08:31:53.711Z"
      },
      {
        "duration": 36,
        "start_time": "2024-01-28T08:31:53.718Z"
      },
      {
        "duration": 10,
        "start_time": "2024-01-28T08:31:53.755Z"
      },
      {
        "duration": 22,
        "start_time": "2024-01-28T08:31:53.766Z"
      },
      {
        "duration": 41,
        "start_time": "2024-01-28T08:31:53.790Z"
      },
      {
        "duration": 29,
        "start_time": "2024-01-28T08:31:53.833Z"
      },
      {
        "duration": 21,
        "start_time": "2024-01-28T08:31:53.863Z"
      },
      {
        "duration": 7,
        "start_time": "2024-01-28T08:31:53.886Z"
      },
      {
        "duration": 17,
        "start_time": "2024-01-28T08:31:53.895Z"
      },
      {
        "duration": 6,
        "start_time": "2024-01-28T08:31:53.913Z"
      },
      {
        "duration": 26,
        "start_time": "2024-01-28T08:31:53.920Z"
      },
      {
        "duration": 13,
        "start_time": "2024-01-28T08:31:53.947Z"
      },
      {
        "duration": 21,
        "start_time": "2024-01-28T08:31:53.961Z"
      },
      {
        "duration": 26,
        "start_time": "2024-01-28T08:31:53.984Z"
      },
      {
        "duration": 60,
        "start_time": "2024-01-28T08:31:54.011Z"
      },
      {
        "duration": 0,
        "start_time": "2024-01-28T08:31:54.073Z"
      },
      {
        "duration": 0,
        "start_time": "2024-01-28T08:31:54.074Z"
      },
      {
        "duration": 0,
        "start_time": "2024-01-28T08:31:54.075Z"
      },
      {
        "duration": 0,
        "start_time": "2024-01-28T08:31:54.076Z"
      },
      {
        "duration": 0,
        "start_time": "2024-01-28T08:31:54.094Z"
      },
      {
        "duration": 0,
        "start_time": "2024-01-28T08:31:54.095Z"
      },
      {
        "duration": 0,
        "start_time": "2024-01-28T08:31:54.096Z"
      },
      {
        "duration": 0,
        "start_time": "2024-01-28T08:31:54.097Z"
      },
      {
        "duration": 12,
        "start_time": "2024-01-28T08:32:28.599Z"
      },
      {
        "duration": 9,
        "start_time": "2024-01-28T08:32:36.628Z"
      },
      {
        "duration": 4,
        "start_time": "2024-01-28T08:32:39.610Z"
      },
      {
        "duration": 8,
        "start_time": "2024-01-28T08:32:41.973Z"
      },
      {
        "duration": 11,
        "start_time": "2024-01-28T08:32:51.428Z"
      },
      {
        "duration": 5,
        "start_time": "2024-01-28T08:33:11.240Z"
      },
      {
        "duration": 14,
        "start_time": "2024-01-28T08:33:12.302Z"
      },
      {
        "duration": 5,
        "start_time": "2024-01-28T08:33:26.718Z"
      },
      {
        "duration": 12,
        "start_time": "2024-01-28T08:33:27.739Z"
      },
      {
        "duration": 10,
        "start_time": "2024-01-28T08:33:45.012Z"
      },
      {
        "duration": 4,
        "start_time": "2024-01-28T08:33:55.655Z"
      },
      {
        "duration": 9,
        "start_time": "2024-01-28T08:33:57.220Z"
      },
      {
        "duration": 4,
        "start_time": "2024-01-28T08:37:38.308Z"
      },
      {
        "duration": 32,
        "start_time": "2024-01-28T08:37:42.645Z"
      },
      {
        "duration": 10,
        "start_time": "2024-01-28T08:38:23.428Z"
      },
      {
        "duration": 4,
        "start_time": "2024-01-28T08:42:27.709Z"
      },
      {
        "duration": 21,
        "start_time": "2024-01-28T08:42:31.552Z"
      },
      {
        "duration": 3,
        "start_time": "2024-01-28T08:44:09.267Z"
      },
      {
        "duration": 23,
        "start_time": "2024-01-28T08:44:12.570Z"
      },
      {
        "duration": 5,
        "start_time": "2024-01-28T08:44:26.616Z"
      },
      {
        "duration": 23,
        "start_time": "2024-01-28T08:50:05.854Z"
      },
      {
        "duration": 3,
        "start_time": "2024-01-28T08:50:12.305Z"
      },
      {
        "duration": 15,
        "start_time": "2024-01-28T08:50:14.455Z"
      },
      {
        "duration": 4,
        "start_time": "2024-01-28T08:55:43.928Z"
      },
      {
        "duration": 15,
        "start_time": "2024-01-28T08:55:45.534Z"
      },
      {
        "duration": 14,
        "start_time": "2024-01-28T08:58:10.796Z"
      },
      {
        "duration": 14,
        "start_time": "2024-01-28T08:58:27.494Z"
      },
      {
        "duration": 4,
        "start_time": "2024-01-28T09:03:50.268Z"
      },
      {
        "duration": 13,
        "start_time": "2024-01-28T09:03:55.021Z"
      },
      {
        "duration": 4,
        "start_time": "2024-01-28T09:04:07.435Z"
      },
      {
        "duration": 15,
        "start_time": "2024-01-28T09:04:08.625Z"
      },
      {
        "duration": 4,
        "start_time": "2024-01-28T09:05:04.150Z"
      },
      {
        "duration": 15,
        "start_time": "2024-01-28T09:05:05.819Z"
      },
      {
        "duration": 432,
        "start_time": "2024-01-28T09:09:28.553Z"
      },
      {
        "duration": 33,
        "start_time": "2024-01-28T09:09:28.987Z"
      },
      {
        "duration": 22,
        "start_time": "2024-01-28T09:09:29.021Z"
      },
      {
        "duration": 45,
        "start_time": "2024-01-28T09:09:29.044Z"
      },
      {
        "duration": 63,
        "start_time": "2024-01-28T09:09:29.091Z"
      },
      {
        "duration": 3,
        "start_time": "2024-01-28T09:09:29.155Z"
      },
      {
        "duration": 35,
        "start_time": "2024-01-28T09:09:29.159Z"
      },
      {
        "duration": 19,
        "start_time": "2024-01-28T09:09:29.196Z"
      },
      {
        "duration": 41,
        "start_time": "2024-01-28T09:09:29.216Z"
      },
      {
        "duration": 4,
        "start_time": "2024-01-28T09:09:29.259Z"
      },
      {
        "duration": 36,
        "start_time": "2024-01-28T09:09:29.265Z"
      },
      {
        "duration": 10,
        "start_time": "2024-01-28T09:09:29.302Z"
      },
      {
        "duration": 8,
        "start_time": "2024-01-28T09:09:29.314Z"
      },
      {
        "duration": 29,
        "start_time": "2024-01-28T09:09:29.323Z"
      },
      {
        "duration": 30,
        "start_time": "2024-01-28T09:09:29.354Z"
      },
      {
        "duration": 16,
        "start_time": "2024-01-28T09:09:29.386Z"
      },
      {
        "duration": 5,
        "start_time": "2024-01-28T09:09:29.403Z"
      },
      {
        "duration": 15,
        "start_time": "2024-01-28T09:09:29.410Z"
      },
      {
        "duration": 10,
        "start_time": "2024-01-28T09:09:29.427Z"
      },
      {
        "duration": 6,
        "start_time": "2024-01-28T09:09:29.439Z"
      },
      {
        "duration": 29,
        "start_time": "2024-01-28T09:09:29.446Z"
      },
      {
        "duration": 41,
        "start_time": "2024-01-28T09:09:29.476Z"
      },
      {
        "duration": 12,
        "start_time": "2024-01-28T09:09:29.519Z"
      },
      {
        "duration": 45,
        "start_time": "2024-01-28T09:09:29.532Z"
      },
      {
        "duration": 2,
        "start_time": "2024-01-28T09:09:29.578Z"
      },
      {
        "duration": 13,
        "start_time": "2024-01-28T09:09:29.582Z"
      },
      {
        "duration": 12,
        "start_time": "2024-01-28T09:09:29.596Z"
      },
      {
        "duration": 12,
        "start_time": "2024-01-28T09:20:02.562Z"
      },
      {
        "duration": 16,
        "start_time": "2024-01-28T09:20:10.658Z"
      },
      {
        "duration": 26,
        "start_time": "2024-01-28T09:23:05.957Z"
      },
      {
        "duration": 7,
        "start_time": "2024-01-28T09:32:32.700Z"
      },
      {
        "duration": 96,
        "start_time": "2024-01-28T09:34:33.060Z"
      },
      {
        "duration": 5,
        "start_time": "2024-01-28T09:34:44.786Z"
      },
      {
        "duration": 15,
        "start_time": "2024-01-28T09:34:47.856Z"
      },
      {
        "duration": 14,
        "start_time": "2024-01-28T09:34:55.500Z"
      },
      {
        "duration": 4,
        "start_time": "2024-01-28T09:35:01.837Z"
      },
      {
        "duration": 20,
        "start_time": "2024-01-28T09:35:04.400Z"
      },
      {
        "duration": 5,
        "start_time": "2024-01-28T09:36:00.748Z"
      },
      {
        "duration": 19,
        "start_time": "2024-01-28T09:36:03.090Z"
      },
      {
        "duration": 72,
        "start_time": "2024-01-28T09:36:46.227Z"
      },
      {
        "duration": 4,
        "start_time": "2024-01-28T09:40:11.286Z"
      },
      {
        "duration": 15,
        "start_time": "2024-01-28T09:40:14.305Z"
      },
      {
        "duration": 18,
        "start_time": "2024-01-28T09:40:35.657Z"
      },
      {
        "duration": 10,
        "start_time": "2024-01-28T09:41:04.209Z"
      },
      {
        "duration": 3,
        "start_time": "2024-01-28T09:41:13.836Z"
      },
      {
        "duration": 6,
        "start_time": "2024-01-28T09:41:26.568Z"
      },
      {
        "duration": 6,
        "start_time": "2024-01-28T09:41:47.001Z"
      },
      {
        "duration": 26,
        "start_time": "2024-01-28T09:52:20.528Z"
      },
      {
        "duration": 13,
        "start_time": "2024-01-28T10:08:50.498Z"
      },
      {
        "duration": 17,
        "start_time": "2024-01-28T10:09:07.076Z"
      },
      {
        "duration": 16,
        "start_time": "2024-01-28T10:09:33.748Z"
      },
      {
        "duration": 16,
        "start_time": "2024-01-28T10:09:45.227Z"
      },
      {
        "duration": 22,
        "start_time": "2024-01-28T10:09:51.849Z"
      },
      {
        "duration": 16,
        "start_time": "2024-01-28T10:15:46.395Z"
      },
      {
        "duration": 17,
        "start_time": "2024-01-28T10:23:13.709Z"
      },
      {
        "duration": 21,
        "start_time": "2024-01-28T10:23:33.375Z"
      },
      {
        "duration": 17,
        "start_time": "2024-01-28T10:34:50.261Z"
      },
      {
        "duration": 55,
        "start_time": "2024-01-29T09:49:51.984Z"
      },
      {
        "duration": 5,
        "start_time": "2024-01-29T09:50:03.193Z"
      },
      {
        "duration": 679,
        "start_time": "2024-01-29T09:50:14.330Z"
      },
      {
        "duration": 22,
        "start_time": "2024-01-29T09:50:15.011Z"
      },
      {
        "duration": 19,
        "start_time": "2024-01-29T09:50:15.035Z"
      },
      {
        "duration": 11,
        "start_time": "2024-01-29T09:50:15.056Z"
      },
      {
        "duration": 41,
        "start_time": "2024-01-29T09:50:15.069Z"
      },
      {
        "duration": 3,
        "start_time": "2024-01-29T09:50:15.112Z"
      },
      {
        "duration": 20,
        "start_time": "2024-01-29T09:50:15.116Z"
      },
      {
        "duration": 3,
        "start_time": "2024-01-29T09:50:15.137Z"
      },
      {
        "duration": 16,
        "start_time": "2024-01-29T09:50:15.141Z"
      },
      {
        "duration": 4,
        "start_time": "2024-01-29T09:50:15.159Z"
      },
      {
        "duration": 61,
        "start_time": "2024-01-29T09:50:15.164Z"
      },
      {
        "duration": 14,
        "start_time": "2024-01-29T09:50:15.226Z"
      },
      {
        "duration": 4,
        "start_time": "2024-01-29T09:50:15.242Z"
      },
      {
        "duration": 21,
        "start_time": "2024-01-29T09:50:15.248Z"
      },
      {
        "duration": 22,
        "start_time": "2024-01-29T09:50:15.270Z"
      },
      {
        "duration": 16,
        "start_time": "2024-01-29T09:50:15.293Z"
      },
      {
        "duration": 15,
        "start_time": "2024-01-29T09:50:15.310Z"
      },
      {
        "duration": 24,
        "start_time": "2024-01-29T09:50:15.327Z"
      },
      {
        "duration": 23,
        "start_time": "2024-01-29T09:50:15.353Z"
      },
      {
        "duration": 22,
        "start_time": "2024-01-29T09:50:15.377Z"
      },
      {
        "duration": 19,
        "start_time": "2024-01-29T09:50:15.400Z"
      },
      {
        "duration": 53,
        "start_time": "2024-01-29T09:50:15.420Z"
      },
      {
        "duration": 25,
        "start_time": "2024-01-29T09:50:15.475Z"
      },
      {
        "duration": 25,
        "start_time": "2024-01-29T09:50:15.502Z"
      },
      {
        "duration": 14,
        "start_time": "2024-01-29T09:50:15.529Z"
      },
      {
        "duration": 38,
        "start_time": "2024-01-29T09:50:15.545Z"
      },
      {
        "duration": 14,
        "start_time": "2024-01-29T09:50:15.585Z"
      },
      {
        "duration": 14,
        "start_time": "2024-01-29T09:50:15.602Z"
      },
      {
        "duration": 15,
        "start_time": "2024-01-29T09:50:15.618Z"
      },
      {
        "duration": 14,
        "start_time": "2024-01-29T10:00:07.183Z"
      },
      {
        "duration": 4,
        "start_time": "2024-01-29T10:33:31.202Z"
      },
      {
        "duration": 14,
        "start_time": "2024-01-29T10:33:33.472Z"
      },
      {
        "duration": 4,
        "start_time": "2024-01-29T10:33:45.702Z"
      },
      {
        "duration": 13,
        "start_time": "2024-01-29T10:33:48.295Z"
      },
      {
        "duration": 4,
        "start_time": "2024-01-29T10:34:03.114Z"
      },
      {
        "duration": 15,
        "start_time": "2024-01-29T10:34:08.732Z"
      },
      {
        "duration": 17,
        "start_time": "2024-01-29T10:34:13.954Z"
      },
      {
        "duration": 15,
        "start_time": "2024-01-29T10:34:19.360Z"
      },
      {
        "duration": 19,
        "start_time": "2024-01-29T10:34:24.489Z"
      },
      {
        "duration": 17,
        "start_time": "2024-01-29T10:34:28.722Z"
      },
      {
        "duration": 17,
        "start_time": "2024-01-29T10:34:32.473Z"
      },
      {
        "duration": 4,
        "start_time": "2024-01-29T10:34:54.424Z"
      },
      {
        "duration": 480,
        "start_time": "2024-01-29T10:35:00.135Z"
      },
      {
        "duration": 22,
        "start_time": "2024-01-29T10:35:00.617Z"
      },
      {
        "duration": 73,
        "start_time": "2024-01-29T10:35:00.641Z"
      },
      {
        "duration": 79,
        "start_time": "2024-01-29T10:35:00.716Z"
      },
      {
        "duration": 91,
        "start_time": "2024-01-29T10:35:00.797Z"
      },
      {
        "duration": 37,
        "start_time": "2024-01-29T10:35:00.889Z"
      },
      {
        "duration": 73,
        "start_time": "2024-01-29T10:35:00.927Z"
      },
      {
        "duration": 35,
        "start_time": "2024-01-29T10:35:01.002Z"
      },
      {
        "duration": 54,
        "start_time": "2024-01-29T10:35:01.039Z"
      },
      {
        "duration": 65,
        "start_time": "2024-01-29T10:35:01.096Z"
      },
      {
        "duration": 111,
        "start_time": "2024-01-29T10:35:01.163Z"
      },
      {
        "duration": 51,
        "start_time": "2024-01-29T10:35:01.276Z"
      },
      {
        "duration": 61,
        "start_time": "2024-01-29T10:35:01.329Z"
      },
      {
        "duration": 82,
        "start_time": "2024-01-29T10:35:01.394Z"
      },
      {
        "duration": 56,
        "start_time": "2024-01-29T10:35:01.477Z"
      },
      {
        "duration": 106,
        "start_time": "2024-01-29T10:35:01.535Z"
      },
      {
        "duration": 49,
        "start_time": "2024-01-29T10:35:01.642Z"
      },
      {
        "duration": 55,
        "start_time": "2024-01-29T10:35:01.693Z"
      },
      {
        "duration": 135,
        "start_time": "2024-01-29T10:35:01.750Z"
      },
      {
        "duration": 111,
        "start_time": "2024-01-29T10:35:01.887Z"
      },
      {
        "duration": 80,
        "start_time": "2024-01-29T10:35:01.999Z"
      },
      {
        "duration": 62,
        "start_time": "2024-01-29T10:35:02.081Z"
      },
      {
        "duration": 48,
        "start_time": "2024-01-29T10:35:02.145Z"
      },
      {
        "duration": 36,
        "start_time": "2024-01-29T10:35:02.195Z"
      },
      {
        "duration": 32,
        "start_time": "2024-01-29T10:35:02.232Z"
      },
      {
        "duration": 227,
        "start_time": "2024-01-29T10:35:02.266Z"
      },
      {
        "duration": 30,
        "start_time": "2024-01-29T10:35:02.495Z"
      },
      {
        "duration": 56,
        "start_time": "2024-01-29T10:35:02.527Z"
      },
      {
        "duration": 71,
        "start_time": "2024-01-29T10:35:02.585Z"
      },
      {
        "duration": 479,
        "start_time": "2024-01-29T18:44:16.784Z"
      },
      {
        "duration": 21,
        "start_time": "2024-01-29T18:44:17.265Z"
      },
      {
        "duration": 15,
        "start_time": "2024-01-29T18:44:17.287Z"
      },
      {
        "duration": 10,
        "start_time": "2024-01-29T18:44:17.304Z"
      },
      {
        "duration": 34,
        "start_time": "2024-01-29T18:44:17.315Z"
      },
      {
        "duration": 3,
        "start_time": "2024-01-29T18:44:17.350Z"
      },
      {
        "duration": 33,
        "start_time": "2024-01-29T18:44:17.354Z"
      },
      {
        "duration": 7,
        "start_time": "2024-01-29T18:44:17.388Z"
      },
      {
        "duration": 7,
        "start_time": "2024-01-29T18:44:17.397Z"
      },
      {
        "duration": 7,
        "start_time": "2024-01-29T18:44:17.407Z"
      },
      {
        "duration": 40,
        "start_time": "2024-01-29T18:44:17.415Z"
      },
      {
        "duration": 11,
        "start_time": "2024-01-29T18:44:17.456Z"
      },
      {
        "duration": 22,
        "start_time": "2024-01-29T18:44:17.468Z"
      },
      {
        "duration": 21,
        "start_time": "2024-01-29T18:44:17.492Z"
      },
      {
        "duration": 31,
        "start_time": "2024-01-29T18:44:17.514Z"
      },
      {
        "duration": 15,
        "start_time": "2024-01-29T18:44:17.547Z"
      },
      {
        "duration": 7,
        "start_time": "2024-01-29T18:44:17.563Z"
      },
      {
        "duration": 23,
        "start_time": "2024-01-29T18:44:17.571Z"
      },
      {
        "duration": 5,
        "start_time": "2024-01-29T18:44:17.596Z"
      },
      {
        "duration": 11,
        "start_time": "2024-01-29T18:44:17.603Z"
      },
      {
        "duration": 23,
        "start_time": "2024-01-29T18:44:17.615Z"
      },
      {
        "duration": 23,
        "start_time": "2024-01-29T18:44:17.639Z"
      },
      {
        "duration": 23,
        "start_time": "2024-01-29T18:44:17.663Z"
      },
      {
        "duration": 47,
        "start_time": "2024-01-29T18:44:17.687Z"
      },
      {
        "duration": 14,
        "start_time": "2024-01-29T18:44:17.735Z"
      },
      {
        "duration": 20,
        "start_time": "2024-01-29T18:44:17.750Z"
      },
      {
        "duration": 15,
        "start_time": "2024-01-29T18:44:17.771Z"
      },
      {
        "duration": 15,
        "start_time": "2024-01-29T18:44:17.788Z"
      },
      {
        "duration": 16,
        "start_time": "2024-01-29T18:44:17.804Z"
      },
      {
        "duration": 10,
        "start_time": "2024-01-30T13:59:53.991Z"
      },
      {
        "duration": 40,
        "start_time": "2024-01-30T13:59:56.668Z"
      },
      {
        "duration": 691,
        "start_time": "2024-01-30T14:00:18.475Z"
      },
      {
        "duration": 20,
        "start_time": "2024-01-30T14:00:19.168Z"
      },
      {
        "duration": 48,
        "start_time": "2024-01-30T14:00:19.190Z"
      },
      {
        "duration": 41,
        "start_time": "2024-01-30T14:00:19.240Z"
      },
      {
        "duration": 59,
        "start_time": "2024-01-30T14:00:19.282Z"
      },
      {
        "duration": 8,
        "start_time": "2024-01-30T14:00:19.342Z"
      },
      {
        "duration": 31,
        "start_time": "2024-01-30T14:00:19.351Z"
      },
      {
        "duration": 31,
        "start_time": "2024-01-30T14:00:19.384Z"
      },
      {
        "duration": 38,
        "start_time": "2024-01-30T14:00:19.417Z"
      },
      {
        "duration": 51,
        "start_time": "2024-01-30T14:00:19.458Z"
      },
      {
        "duration": 57,
        "start_time": "2024-01-30T14:00:19.510Z"
      },
      {
        "duration": 22,
        "start_time": "2024-01-30T14:00:19.568Z"
      },
      {
        "duration": 27,
        "start_time": "2024-01-30T14:00:19.592Z"
      },
      {
        "duration": 54,
        "start_time": "2024-01-30T14:00:19.620Z"
      },
      {
        "duration": 40,
        "start_time": "2024-01-30T14:00:19.676Z"
      },
      {
        "duration": 42,
        "start_time": "2024-01-30T14:00:19.717Z"
      },
      {
        "duration": 23,
        "start_time": "2024-01-30T14:00:19.760Z"
      },
      {
        "duration": 29,
        "start_time": "2024-01-30T14:00:19.785Z"
      },
      {
        "duration": 21,
        "start_time": "2024-01-30T14:00:19.816Z"
      },
      {
        "duration": 21,
        "start_time": "2024-01-30T14:00:19.838Z"
      },
      {
        "duration": 34,
        "start_time": "2024-01-30T14:00:19.860Z"
      },
      {
        "duration": 22,
        "start_time": "2024-01-30T14:00:19.895Z"
      },
      {
        "duration": 32,
        "start_time": "2024-01-30T14:00:19.918Z"
      },
      {
        "duration": 43,
        "start_time": "2024-01-30T14:00:19.952Z"
      },
      {
        "duration": 48,
        "start_time": "2024-01-30T14:00:19.996Z"
      },
      {
        "duration": 39,
        "start_time": "2024-01-30T14:00:20.045Z"
      },
      {
        "duration": 39,
        "start_time": "2024-01-30T14:00:20.085Z"
      },
      {
        "duration": 51,
        "start_time": "2024-01-30T14:00:20.126Z"
      },
      {
        "duration": 38,
        "start_time": "2024-01-30T14:00:20.179Z"
      },
      {
        "duration": 5,
        "start_time": "2024-01-30T14:02:11.290Z"
      },
      {
        "duration": 15,
        "start_time": "2024-01-30T14:02:13.541Z"
      },
      {
        "duration": 16,
        "start_time": "2024-01-30T14:25:36.887Z"
      },
      {
        "duration": 13,
        "start_time": "2024-01-30T14:36:23.049Z"
      },
      {
        "duration": 13,
        "start_time": "2024-01-30T14:37:24.762Z"
      },
      {
        "duration": 16,
        "start_time": "2024-01-30T14:37:41.460Z"
      },
      {
        "duration": 92,
        "start_time": "2024-01-30T15:12:13.132Z"
      },
      {
        "duration": 80,
        "start_time": "2024-01-30T15:12:38.794Z"
      },
      {
        "duration": 71,
        "start_time": "2024-01-30T15:12:47.704Z"
      },
      {
        "duration": 124,
        "start_time": "2024-01-30T15:13:35.098Z"
      },
      {
        "duration": 74,
        "start_time": "2024-01-30T15:17:20.423Z"
      },
      {
        "duration": 75,
        "start_time": "2024-01-30T15:17:28.370Z"
      },
      {
        "duration": 76,
        "start_time": "2024-01-30T15:17:37.995Z"
      },
      {
        "duration": 95,
        "start_time": "2024-01-30T15:17:43.255Z"
      },
      {
        "duration": 124,
        "start_time": "2024-01-30T15:18:33.467Z"
      },
      {
        "duration": 67,
        "start_time": "2024-01-30T15:19:08.504Z"
      },
      {
        "duration": 86,
        "start_time": "2024-01-30T15:19:14.266Z"
      },
      {
        "duration": 111,
        "start_time": "2024-01-30T15:19:41.258Z"
      },
      {
        "duration": 84,
        "start_time": "2024-01-30T15:19:44.935Z"
      },
      {
        "duration": 80,
        "start_time": "2024-01-30T15:19:51.270Z"
      },
      {
        "duration": 79,
        "start_time": "2024-01-30T15:20:41.856Z"
      },
      {
        "duration": 21,
        "start_time": "2024-01-30T15:25:54.940Z"
      },
      {
        "duration": 24,
        "start_time": "2024-01-30T15:27:23.186Z"
      },
      {
        "duration": 22,
        "start_time": "2024-01-30T15:27:35.838Z"
      },
      {
        "duration": 7,
        "start_time": "2024-01-30T15:46:46.200Z"
      },
      {
        "duration": 8,
        "start_time": "2024-01-30T15:46:52.774Z"
      },
      {
        "duration": 8,
        "start_time": "2024-01-30T15:49:48.763Z"
      },
      {
        "duration": 8,
        "start_time": "2024-01-30T16:13:24.516Z"
      },
      {
        "duration": 7,
        "start_time": "2024-01-30T16:18:54.776Z"
      },
      {
        "duration": 99,
        "start_time": "2024-01-30T16:19:51.805Z"
      }
    ],
    "colab": {
      "provenance": []
    },
    "kernelspec": {
      "display_name": "Python 3 (ipykernel)",
      "language": "python",
      "name": "python3"
    },
    "language_info": {
      "codemirror_mode": {
        "name": "ipython",
        "version": 3
      },
      "file_extension": ".py",
      "mimetype": "text/x-python",
      "name": "python",
      "nbconvert_exporter": "python",
      "pygments_lexer": "ipython3",
      "version": "3.9.5"
    },
    "toc": {
      "base_numbering": 1,
      "nav_menu": {},
      "number_sections": true,
      "sideBar": true,
      "skip_h1_title": true,
      "title_cell": "Table of Contents",
      "title_sidebar": "Contents",
      "toc_cell": false,
      "toc_position": {
        "height": "718px",
        "left": "122px",
        "top": "221.125px",
        "width": "371px"
      },
      "toc_section_display": true,
      "toc_window_display": true
    }
  },
  "nbformat": 4,
  "nbformat_minor": 5
}