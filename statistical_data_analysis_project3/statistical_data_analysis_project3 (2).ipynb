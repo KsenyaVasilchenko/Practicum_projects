{
  "cells": [
    {
      "cell_type": "markdown",
      "id": "c6251b1f",
      "metadata": {
        "id": "c6251b1f"
      },
      "source": [
        "# Проект: Статистический анализ данных"
      ]
    },
    {
      "cell_type": "markdown",
      "id": "f00366cf",
      "metadata": {
        "id": "f00366cf"
      },
      "source": [
        "В основе исследования данные о некоторых пользователях сервиса аренды самаккатов GoFast. Выборка содержит информацию о пользовотелях из нескольких городов, а так же об их поездках .\n"
      ]
    },
    {
      "cell_type": "markdown",
      "id": "bd54b4ba",
      "metadata": {
        "id": "bd54b4ba"
      },
      "source": [
        "Чтобы совершать поездки по городу, пользователи сервиса GoFast пользуются мобильным приложением. Сервисом можно пользоваться:\n",
        "* без подписки\n",
        "> * абонентская плата отсутствует;\n",
        "> * стоимость одной минуты поездки — 8 рублей;\n",
        "> * стоимость старта (начала поездки) — 50 рублей;\n",
        "* с подпиской Ultra\n",
        "> * абонентская плата — 199 рублей в месяц;\n",
        "> * стоимость одной минуты поездки — 6 рублей;\n",
        "> * стоимость старта — бесплатно."
      ]
    },
    {
      "cell_type": "markdown",
      "id": "7460dd98",
      "metadata": {
        "id": "7460dd98"
      },
      "source": [
        "**Цель** - проанализиривать данные и проверить гипотезы, которые могут помочь бизнесу вырасти.\n",
        "\n",
        "**План работы**\n",
        "1. [Загрузка данных](#scrollTo=c42cbe00)\n",
        "1. [Провести предобработку данных](#scrollTo=e95ebca7&line=1&uniqifier=1)\n",
        "2. [Исследовательский анализ данных](#scrollTo=212593c7)\n",
        "3. [Объединить данные и создать новые датафреймы](#scrollTo=4ef51331)\n",
        "4. [Провести подсчет выручки](#scrollTo=402d620f)\n",
        "5. [Проверить гипотизы](Q#scrollTo=41545ac0)\n"
      ]
    },
    {
      "cell_type": "code",
      "execution_count": null,
      "id": "7cacc1c5",
      "metadata": {
        "id": "7cacc1c5"
      },
      "outputs": [],
      "source": [
        "import pandas as pd\n",
        "import matplotlib.pyplot as plt\n",
        "import numpy as np\n",
        "from scipy import stats\n",
        "import seaborn as sns"
      ]
    },
    {
      "cell_type": "markdown",
      "id": "c42cbe00",
      "metadata": {
        "id": "c42cbe00"
      },
      "source": [
        "#### Шаг 1. Загрузка данных"
      ]
    },
    {
      "cell_type": "code",
      "execution_count": null,
      "id": "eff9f206",
      "metadata": {
        "id": "eff9f206",
        "outputId": "16327f33-d219-4b2e-cc31-df56aa0faa16",
        "colab": {
          "base_uri": "https://localhost:8080/",
          "height": 206
        }
      },
      "outputs": [
        {
          "output_type": "execute_result",
          "data": {
            "text/plain": [
              "   user_id        name  age            city subscription_type\n",
              "0        1        Кира   22          Тюмень             ultra\n",
              "1        2   Станислав   31            Омск             ultra\n",
              "2        3     Алексей   20          Москва             ultra\n",
              "3        4  Константин   26  Ростов-на-Дону             ultra\n",
              "4        5       Адель   28            Омск             ultra"
            ],
            "text/html": [
              "\n",
              "  <div id=\"df-b22f69f9-ea5b-4167-8bc2-88ae595c904d\" class=\"colab-df-container\">\n",
              "    <div>\n",
              "<style scoped>\n",
              "    .dataframe tbody tr th:only-of-type {\n",
              "        vertical-align: middle;\n",
              "    }\n",
              "\n",
              "    .dataframe tbody tr th {\n",
              "        vertical-align: top;\n",
              "    }\n",
              "\n",
              "    .dataframe thead th {\n",
              "        text-align: right;\n",
              "    }\n",
              "</style>\n",
              "<table border=\"1\" class=\"dataframe\">\n",
              "  <thead>\n",
              "    <tr style=\"text-align: right;\">\n",
              "      <th></th>\n",
              "      <th>user_id</th>\n",
              "      <th>name</th>\n",
              "      <th>age</th>\n",
              "      <th>city</th>\n",
              "      <th>subscription_type</th>\n",
              "    </tr>\n",
              "  </thead>\n",
              "  <tbody>\n",
              "    <tr>\n",
              "      <th>0</th>\n",
              "      <td>1</td>\n",
              "      <td>Кира</td>\n",
              "      <td>22</td>\n",
              "      <td>Тюмень</td>\n",
              "      <td>ultra</td>\n",
              "    </tr>\n",
              "    <tr>\n",
              "      <th>1</th>\n",
              "      <td>2</td>\n",
              "      <td>Станислав</td>\n",
              "      <td>31</td>\n",
              "      <td>Омск</td>\n",
              "      <td>ultra</td>\n",
              "    </tr>\n",
              "    <tr>\n",
              "      <th>2</th>\n",
              "      <td>3</td>\n",
              "      <td>Алексей</td>\n",
              "      <td>20</td>\n",
              "      <td>Москва</td>\n",
              "      <td>ultra</td>\n",
              "    </tr>\n",
              "    <tr>\n",
              "      <th>3</th>\n",
              "      <td>4</td>\n",
              "      <td>Константин</td>\n",
              "      <td>26</td>\n",
              "      <td>Ростов-на-Дону</td>\n",
              "      <td>ultra</td>\n",
              "    </tr>\n",
              "    <tr>\n",
              "      <th>4</th>\n",
              "      <td>5</td>\n",
              "      <td>Адель</td>\n",
              "      <td>28</td>\n",
              "      <td>Омск</td>\n",
              "      <td>ultra</td>\n",
              "    </tr>\n",
              "  </tbody>\n",
              "</table>\n",
              "</div>\n",
              "    <div class=\"colab-df-buttons\">\n",
              "\n",
              "  <div class=\"colab-df-container\">\n",
              "    <button class=\"colab-df-convert\" onclick=\"convertToInteractive('df-b22f69f9-ea5b-4167-8bc2-88ae595c904d')\"\n",
              "            title=\"Convert this dataframe to an interactive table.\"\n",
              "            style=\"display:none;\">\n",
              "\n",
              "  <svg xmlns=\"http://www.w3.org/2000/svg\" height=\"24px\" viewBox=\"0 -960 960 960\">\n",
              "    <path d=\"M120-120v-720h720v720H120Zm60-500h600v-160H180v160Zm220 220h160v-160H400v160Zm0 220h160v-160H400v160ZM180-400h160v-160H180v160Zm440 0h160v-160H620v160ZM180-180h160v-160H180v160Zm440 0h160v-160H620v160Z\"/>\n",
              "  </svg>\n",
              "    </button>\n",
              "\n",
              "  <style>\n",
              "    .colab-df-container {\n",
              "      display:flex;\n",
              "      gap: 12px;\n",
              "    }\n",
              "\n",
              "    .colab-df-convert {\n",
              "      background-color: #E8F0FE;\n",
              "      border: none;\n",
              "      border-radius: 50%;\n",
              "      cursor: pointer;\n",
              "      display: none;\n",
              "      fill: #1967D2;\n",
              "      height: 32px;\n",
              "      padding: 0 0 0 0;\n",
              "      width: 32px;\n",
              "    }\n",
              "\n",
              "    .colab-df-convert:hover {\n",
              "      background-color: #E2EBFA;\n",
              "      box-shadow: 0px 1px 2px rgba(60, 64, 67, 0.3), 0px 1px 3px 1px rgba(60, 64, 67, 0.15);\n",
              "      fill: #174EA6;\n",
              "    }\n",
              "\n",
              "    .colab-df-buttons div {\n",
              "      margin-bottom: 4px;\n",
              "    }\n",
              "\n",
              "    [theme=dark] .colab-df-convert {\n",
              "      background-color: #3B4455;\n",
              "      fill: #D2E3FC;\n",
              "    }\n",
              "\n",
              "    [theme=dark] .colab-df-convert:hover {\n",
              "      background-color: #434B5C;\n",
              "      box-shadow: 0px 1px 3px 1px rgba(0, 0, 0, 0.15);\n",
              "      filter: drop-shadow(0px 1px 2px rgba(0, 0, 0, 0.3));\n",
              "      fill: #FFFFFF;\n",
              "    }\n",
              "  </style>\n",
              "\n",
              "    <script>\n",
              "      const buttonEl =\n",
              "        document.querySelector('#df-b22f69f9-ea5b-4167-8bc2-88ae595c904d button.colab-df-convert');\n",
              "      buttonEl.style.display =\n",
              "        google.colab.kernel.accessAllowed ? 'block' : 'none';\n",
              "\n",
              "      async function convertToInteractive(key) {\n",
              "        const element = document.querySelector('#df-b22f69f9-ea5b-4167-8bc2-88ae595c904d');\n",
              "        const dataTable =\n",
              "          await google.colab.kernel.invokeFunction('convertToInteractive',\n",
              "                                                    [key], {});\n",
              "        if (!dataTable) return;\n",
              "\n",
              "        const docLinkHtml = 'Like what you see? Visit the ' +\n",
              "          '<a target=\"_blank\" href=https://colab.research.google.com/notebooks/data_table.ipynb>data table notebook</a>'\n",
              "          + ' to learn more about interactive tables.';\n",
              "        element.innerHTML = '';\n",
              "        dataTable['output_type'] = 'display_data';\n",
              "        await google.colab.output.renderOutput(dataTable, element);\n",
              "        const docLink = document.createElement('div');\n",
              "        docLink.innerHTML = docLinkHtml;\n",
              "        element.appendChild(docLink);\n",
              "      }\n",
              "    </script>\n",
              "  </div>\n",
              "\n",
              "\n",
              "<div id=\"df-4f10aafa-7e02-4a5d-a173-8ced7f55027e\">\n",
              "  <button class=\"colab-df-quickchart\" onclick=\"quickchart('df-4f10aafa-7e02-4a5d-a173-8ced7f55027e')\"\n",
              "            title=\"Suggest charts\"\n",
              "            style=\"display:none;\">\n",
              "\n",
              "<svg xmlns=\"http://www.w3.org/2000/svg\" height=\"24px\"viewBox=\"0 0 24 24\"\n",
              "     width=\"24px\">\n",
              "    <g>\n",
              "        <path d=\"M19 3H5c-1.1 0-2 .9-2 2v14c0 1.1.9 2 2 2h14c1.1 0 2-.9 2-2V5c0-1.1-.9-2-2-2zM9 17H7v-7h2v7zm4 0h-2V7h2v10zm4 0h-2v-4h2v4z\"/>\n",
              "    </g>\n",
              "</svg>\n",
              "  </button>\n",
              "\n",
              "<style>\n",
              "  .colab-df-quickchart {\n",
              "      --bg-color: #E8F0FE;\n",
              "      --fill-color: #1967D2;\n",
              "      --hover-bg-color: #E2EBFA;\n",
              "      --hover-fill-color: #174EA6;\n",
              "      --disabled-fill-color: #AAA;\n",
              "      --disabled-bg-color: #DDD;\n",
              "  }\n",
              "\n",
              "  [theme=dark] .colab-df-quickchart {\n",
              "      --bg-color: #3B4455;\n",
              "      --fill-color: #D2E3FC;\n",
              "      --hover-bg-color: #434B5C;\n",
              "      --hover-fill-color: #FFFFFF;\n",
              "      --disabled-bg-color: #3B4455;\n",
              "      --disabled-fill-color: #666;\n",
              "  }\n",
              "\n",
              "  .colab-df-quickchart {\n",
              "    background-color: var(--bg-color);\n",
              "    border: none;\n",
              "    border-radius: 50%;\n",
              "    cursor: pointer;\n",
              "    display: none;\n",
              "    fill: var(--fill-color);\n",
              "    height: 32px;\n",
              "    padding: 0;\n",
              "    width: 32px;\n",
              "  }\n",
              "\n",
              "  .colab-df-quickchart:hover {\n",
              "    background-color: var(--hover-bg-color);\n",
              "    box-shadow: 0 1px 2px rgba(60, 64, 67, 0.3), 0 1px 3px 1px rgba(60, 64, 67, 0.15);\n",
              "    fill: var(--button-hover-fill-color);\n",
              "  }\n",
              "\n",
              "  .colab-df-quickchart-complete:disabled,\n",
              "  .colab-df-quickchart-complete:disabled:hover {\n",
              "    background-color: var(--disabled-bg-color);\n",
              "    fill: var(--disabled-fill-color);\n",
              "    box-shadow: none;\n",
              "  }\n",
              "\n",
              "  .colab-df-spinner {\n",
              "    border: 2px solid var(--fill-color);\n",
              "    border-color: transparent;\n",
              "    border-bottom-color: var(--fill-color);\n",
              "    animation:\n",
              "      spin 1s steps(1) infinite;\n",
              "  }\n",
              "\n",
              "  @keyframes spin {\n",
              "    0% {\n",
              "      border-color: transparent;\n",
              "      border-bottom-color: var(--fill-color);\n",
              "      border-left-color: var(--fill-color);\n",
              "    }\n",
              "    20% {\n",
              "      border-color: transparent;\n",
              "      border-left-color: var(--fill-color);\n",
              "      border-top-color: var(--fill-color);\n",
              "    }\n",
              "    30% {\n",
              "      border-color: transparent;\n",
              "      border-left-color: var(--fill-color);\n",
              "      border-top-color: var(--fill-color);\n",
              "      border-right-color: var(--fill-color);\n",
              "    }\n",
              "    40% {\n",
              "      border-color: transparent;\n",
              "      border-right-color: var(--fill-color);\n",
              "      border-top-color: var(--fill-color);\n",
              "    }\n",
              "    60% {\n",
              "      border-color: transparent;\n",
              "      border-right-color: var(--fill-color);\n",
              "    }\n",
              "    80% {\n",
              "      border-color: transparent;\n",
              "      border-right-color: var(--fill-color);\n",
              "      border-bottom-color: var(--fill-color);\n",
              "    }\n",
              "    90% {\n",
              "      border-color: transparent;\n",
              "      border-bottom-color: var(--fill-color);\n",
              "    }\n",
              "  }\n",
              "</style>\n",
              "\n",
              "  <script>\n",
              "    async function quickchart(key) {\n",
              "      const quickchartButtonEl =\n",
              "        document.querySelector('#' + key + ' button');\n",
              "      quickchartButtonEl.disabled = true;  // To prevent multiple clicks.\n",
              "      quickchartButtonEl.classList.add('colab-df-spinner');\n",
              "      try {\n",
              "        const charts = await google.colab.kernel.invokeFunction(\n",
              "            'suggestCharts', [key], {});\n",
              "      } catch (error) {\n",
              "        console.error('Error during call to suggestCharts:', error);\n",
              "      }\n",
              "      quickchartButtonEl.classList.remove('colab-df-spinner');\n",
              "      quickchartButtonEl.classList.add('colab-df-quickchart-complete');\n",
              "    }\n",
              "    (() => {\n",
              "      let quickchartButtonEl =\n",
              "        document.querySelector('#df-4f10aafa-7e02-4a5d-a173-8ced7f55027e button');\n",
              "      quickchartButtonEl.style.display =\n",
              "        google.colab.kernel.accessAllowed ? 'block' : 'none';\n",
              "    })();\n",
              "  </script>\n",
              "</div>\n",
              "    </div>\n",
              "  </div>\n"
            ],
            "application/vnd.google.colaboratory.intrinsic+json": {
              "type": "dataframe",
              "variable_name": "df_users",
              "summary": "{\n  \"name\": \"df_users\",\n  \"rows\": 1565,\n  \"fields\": [\n    {\n      \"column\": \"user_id\",\n      \"properties\": {\n        \"dtype\": \"number\",\n        \"std\": 443,\n        \"min\": 1,\n        \"max\": 1534,\n        \"num_unique_values\": 1534,\n        \"samples\": [\n          1365,\n          77,\n          317\n        ],\n        \"semantic_type\": \"\",\n        \"description\": \"\"\n      }\n    },\n    {\n      \"column\": \"name\",\n      \"properties\": {\n        \"dtype\": \"category\",\n        \"num_unique_values\": 194,\n        \"samples\": [\n          \"\\u042d\\u043c\\u0438\\u043b\\u0438\\u044f\",\n          \"\\u0414\\u0430\\u043d\\u0438\\u0438\\u043b\",\n          \"\\u042e\\u043b\\u0438\\u044f\"\n        ],\n        \"semantic_type\": \"\",\n        \"description\": \"\"\n      }\n    },\n    {\n      \"column\": \"age\",\n      \"properties\": {\n        \"dtype\": \"number\",\n        \"std\": 4,\n        \"min\": 12,\n        \"max\": 43,\n        \"num_unique_values\": 29,\n        \"samples\": [\n          39,\n          17,\n          32\n        ],\n        \"semantic_type\": \"\",\n        \"description\": \"\"\n      }\n    },\n    {\n      \"column\": \"city\",\n      \"properties\": {\n        \"dtype\": \"category\",\n        \"num_unique_values\": 8,\n        \"samples\": [\n          \"\\u041e\\u043c\\u0441\\u043a\",\n          \"\\u041f\\u044f\\u0442\\u0438\\u0433\\u043e\\u0440\\u0441\\u043a\",\n          \"\\u0422\\u044e\\u043c\\u0435\\u043d\\u044c\"\n        ],\n        \"semantic_type\": \"\",\n        \"description\": \"\"\n      }\n    },\n    {\n      \"column\": \"subscription_type\",\n      \"properties\": {\n        \"dtype\": \"category\",\n        \"num_unique_values\": 2,\n        \"samples\": [\n          \"free\",\n          \"ultra\"\n        ],\n        \"semantic_type\": \"\",\n        \"description\": \"\"\n      }\n    }\n  ]\n}"
            }
          },
          "metadata": {},
          "execution_count": 2
        }
      ],
      "source": [
        "df_users = pd.read_csv('/content/users_go (1).csv')\n",
        "df_users.head()"
      ]
    },
    {
      "cell_type": "markdown",
      "id": "9b583010",
      "metadata": {
        "id": "9b583010"
      },
      "source": [
        "Описание данных для df_users\n",
        "* user_id - уникальный идентификатор пользователя\n",
        "* name - имя пользователя\n",
        "* age - возраст\n",
        "* city - город\n",
        "* subscription_type - тип подписки (free, ultra)"
      ]
    },
    {
      "cell_type": "code",
      "execution_count": null,
      "id": "0ff383cc",
      "metadata": {
        "id": "0ff383cc",
        "outputId": "ee7c48df-3d5e-4bbd-c03a-f588b4efb8f6",
        "colab": {
          "base_uri": "https://localhost:8080/",
          "height": 206
        }
      },
      "outputs": [
        {
          "output_type": "execute_result",
          "data": {
            "text/plain": [
              "   user_id     distance   duration       date\n",
              "0        1  4409.919140  25.599769 2021-01-01\n",
              "1        1  2617.592153  15.816871 2021-01-18\n",
              "2        1   754.159807   6.232113 2021-04-20\n",
              "3        1  2694.783254  18.511000 2021-08-11\n",
              "4        1  4028.687306  26.265803 2021-08-28"
            ],
            "text/html": [
              "\n",
              "  <div id=\"df-d5b9bd33-dfaf-4400-bf1f-a2bdaa336b57\" class=\"colab-df-container\">\n",
              "    <div>\n",
              "<style scoped>\n",
              "    .dataframe tbody tr th:only-of-type {\n",
              "        vertical-align: middle;\n",
              "    }\n",
              "\n",
              "    .dataframe tbody tr th {\n",
              "        vertical-align: top;\n",
              "    }\n",
              "\n",
              "    .dataframe thead th {\n",
              "        text-align: right;\n",
              "    }\n",
              "</style>\n",
              "<table border=\"1\" class=\"dataframe\">\n",
              "  <thead>\n",
              "    <tr style=\"text-align: right;\">\n",
              "      <th></th>\n",
              "      <th>user_id</th>\n",
              "      <th>distance</th>\n",
              "      <th>duration</th>\n",
              "      <th>date</th>\n",
              "    </tr>\n",
              "  </thead>\n",
              "  <tbody>\n",
              "    <tr>\n",
              "      <th>0</th>\n",
              "      <td>1</td>\n",
              "      <td>4409.919140</td>\n",
              "      <td>25.599769</td>\n",
              "      <td>2021-01-01</td>\n",
              "    </tr>\n",
              "    <tr>\n",
              "      <th>1</th>\n",
              "      <td>1</td>\n",
              "      <td>2617.592153</td>\n",
              "      <td>15.816871</td>\n",
              "      <td>2021-01-18</td>\n",
              "    </tr>\n",
              "    <tr>\n",
              "      <th>2</th>\n",
              "      <td>1</td>\n",
              "      <td>754.159807</td>\n",
              "      <td>6.232113</td>\n",
              "      <td>2021-04-20</td>\n",
              "    </tr>\n",
              "    <tr>\n",
              "      <th>3</th>\n",
              "      <td>1</td>\n",
              "      <td>2694.783254</td>\n",
              "      <td>18.511000</td>\n",
              "      <td>2021-08-11</td>\n",
              "    </tr>\n",
              "    <tr>\n",
              "      <th>4</th>\n",
              "      <td>1</td>\n",
              "      <td>4028.687306</td>\n",
              "      <td>26.265803</td>\n",
              "      <td>2021-08-28</td>\n",
              "    </tr>\n",
              "  </tbody>\n",
              "</table>\n",
              "</div>\n",
              "    <div class=\"colab-df-buttons\">\n",
              "\n",
              "  <div class=\"colab-df-container\">\n",
              "    <button class=\"colab-df-convert\" onclick=\"convertToInteractive('df-d5b9bd33-dfaf-4400-bf1f-a2bdaa336b57')\"\n",
              "            title=\"Convert this dataframe to an interactive table.\"\n",
              "            style=\"display:none;\">\n",
              "\n",
              "  <svg xmlns=\"http://www.w3.org/2000/svg\" height=\"24px\" viewBox=\"0 -960 960 960\">\n",
              "    <path d=\"M120-120v-720h720v720H120Zm60-500h600v-160H180v160Zm220 220h160v-160H400v160Zm0 220h160v-160H400v160ZM180-400h160v-160H180v160Zm440 0h160v-160H620v160ZM180-180h160v-160H180v160Zm440 0h160v-160H620v160Z\"/>\n",
              "  </svg>\n",
              "    </button>\n",
              "\n",
              "  <style>\n",
              "    .colab-df-container {\n",
              "      display:flex;\n",
              "      gap: 12px;\n",
              "    }\n",
              "\n",
              "    .colab-df-convert {\n",
              "      background-color: #E8F0FE;\n",
              "      border: none;\n",
              "      border-radius: 50%;\n",
              "      cursor: pointer;\n",
              "      display: none;\n",
              "      fill: #1967D2;\n",
              "      height: 32px;\n",
              "      padding: 0 0 0 0;\n",
              "      width: 32px;\n",
              "    }\n",
              "\n",
              "    .colab-df-convert:hover {\n",
              "      background-color: #E2EBFA;\n",
              "      box-shadow: 0px 1px 2px rgba(60, 64, 67, 0.3), 0px 1px 3px 1px rgba(60, 64, 67, 0.15);\n",
              "      fill: #174EA6;\n",
              "    }\n",
              "\n",
              "    .colab-df-buttons div {\n",
              "      margin-bottom: 4px;\n",
              "    }\n",
              "\n",
              "    [theme=dark] .colab-df-convert {\n",
              "      background-color: #3B4455;\n",
              "      fill: #D2E3FC;\n",
              "    }\n",
              "\n",
              "    [theme=dark] .colab-df-convert:hover {\n",
              "      background-color: #434B5C;\n",
              "      box-shadow: 0px 1px 3px 1px rgba(0, 0, 0, 0.15);\n",
              "      filter: drop-shadow(0px 1px 2px rgba(0, 0, 0, 0.3));\n",
              "      fill: #FFFFFF;\n",
              "    }\n",
              "  </style>\n",
              "\n",
              "    <script>\n",
              "      const buttonEl =\n",
              "        document.querySelector('#df-d5b9bd33-dfaf-4400-bf1f-a2bdaa336b57 button.colab-df-convert');\n",
              "      buttonEl.style.display =\n",
              "        google.colab.kernel.accessAllowed ? 'block' : 'none';\n",
              "\n",
              "      async function convertToInteractive(key) {\n",
              "        const element = document.querySelector('#df-d5b9bd33-dfaf-4400-bf1f-a2bdaa336b57');\n",
              "        const dataTable =\n",
              "          await google.colab.kernel.invokeFunction('convertToInteractive',\n",
              "                                                    [key], {});\n",
              "        if (!dataTable) return;\n",
              "\n",
              "        const docLinkHtml = 'Like what you see? Visit the ' +\n",
              "          '<a target=\"_blank\" href=https://colab.research.google.com/notebooks/data_table.ipynb>data table notebook</a>'\n",
              "          + ' to learn more about interactive tables.';\n",
              "        element.innerHTML = '';\n",
              "        dataTable['output_type'] = 'display_data';\n",
              "        await google.colab.output.renderOutput(dataTable, element);\n",
              "        const docLink = document.createElement('div');\n",
              "        docLink.innerHTML = docLinkHtml;\n",
              "        element.appendChild(docLink);\n",
              "      }\n",
              "    </script>\n",
              "  </div>\n",
              "\n",
              "\n",
              "<div id=\"df-ecfd64a1-b7a0-4de5-b043-c5c567bd6179\">\n",
              "  <button class=\"colab-df-quickchart\" onclick=\"quickchart('df-ecfd64a1-b7a0-4de5-b043-c5c567bd6179')\"\n",
              "            title=\"Suggest charts\"\n",
              "            style=\"display:none;\">\n",
              "\n",
              "<svg xmlns=\"http://www.w3.org/2000/svg\" height=\"24px\"viewBox=\"0 0 24 24\"\n",
              "     width=\"24px\">\n",
              "    <g>\n",
              "        <path d=\"M19 3H5c-1.1 0-2 .9-2 2v14c0 1.1.9 2 2 2h14c1.1 0 2-.9 2-2V5c0-1.1-.9-2-2-2zM9 17H7v-7h2v7zm4 0h-2V7h2v10zm4 0h-2v-4h2v4z\"/>\n",
              "    </g>\n",
              "</svg>\n",
              "  </button>\n",
              "\n",
              "<style>\n",
              "  .colab-df-quickchart {\n",
              "      --bg-color: #E8F0FE;\n",
              "      --fill-color: #1967D2;\n",
              "      --hover-bg-color: #E2EBFA;\n",
              "      --hover-fill-color: #174EA6;\n",
              "      --disabled-fill-color: #AAA;\n",
              "      --disabled-bg-color: #DDD;\n",
              "  }\n",
              "\n",
              "  [theme=dark] .colab-df-quickchart {\n",
              "      --bg-color: #3B4455;\n",
              "      --fill-color: #D2E3FC;\n",
              "      --hover-bg-color: #434B5C;\n",
              "      --hover-fill-color: #FFFFFF;\n",
              "      --disabled-bg-color: #3B4455;\n",
              "      --disabled-fill-color: #666;\n",
              "  }\n",
              "\n",
              "  .colab-df-quickchart {\n",
              "    background-color: var(--bg-color);\n",
              "    border: none;\n",
              "    border-radius: 50%;\n",
              "    cursor: pointer;\n",
              "    display: none;\n",
              "    fill: var(--fill-color);\n",
              "    height: 32px;\n",
              "    padding: 0;\n",
              "    width: 32px;\n",
              "  }\n",
              "\n",
              "  .colab-df-quickchart:hover {\n",
              "    background-color: var(--hover-bg-color);\n",
              "    box-shadow: 0 1px 2px rgba(60, 64, 67, 0.3), 0 1px 3px 1px rgba(60, 64, 67, 0.15);\n",
              "    fill: var(--button-hover-fill-color);\n",
              "  }\n",
              "\n",
              "  .colab-df-quickchart-complete:disabled,\n",
              "  .colab-df-quickchart-complete:disabled:hover {\n",
              "    background-color: var(--disabled-bg-color);\n",
              "    fill: var(--disabled-fill-color);\n",
              "    box-shadow: none;\n",
              "  }\n",
              "\n",
              "  .colab-df-spinner {\n",
              "    border: 2px solid var(--fill-color);\n",
              "    border-color: transparent;\n",
              "    border-bottom-color: var(--fill-color);\n",
              "    animation:\n",
              "      spin 1s steps(1) infinite;\n",
              "  }\n",
              "\n",
              "  @keyframes spin {\n",
              "    0% {\n",
              "      border-color: transparent;\n",
              "      border-bottom-color: var(--fill-color);\n",
              "      border-left-color: var(--fill-color);\n",
              "    }\n",
              "    20% {\n",
              "      border-color: transparent;\n",
              "      border-left-color: var(--fill-color);\n",
              "      border-top-color: var(--fill-color);\n",
              "    }\n",
              "    30% {\n",
              "      border-color: transparent;\n",
              "      border-left-color: var(--fill-color);\n",
              "      border-top-color: var(--fill-color);\n",
              "      border-right-color: var(--fill-color);\n",
              "    }\n",
              "    40% {\n",
              "      border-color: transparent;\n",
              "      border-right-color: var(--fill-color);\n",
              "      border-top-color: var(--fill-color);\n",
              "    }\n",
              "    60% {\n",
              "      border-color: transparent;\n",
              "      border-right-color: var(--fill-color);\n",
              "    }\n",
              "    80% {\n",
              "      border-color: transparent;\n",
              "      border-right-color: var(--fill-color);\n",
              "      border-bottom-color: var(--fill-color);\n",
              "    }\n",
              "    90% {\n",
              "      border-color: transparent;\n",
              "      border-bottom-color: var(--fill-color);\n",
              "    }\n",
              "  }\n",
              "</style>\n",
              "\n",
              "  <script>\n",
              "    async function quickchart(key) {\n",
              "      const quickchartButtonEl =\n",
              "        document.querySelector('#' + key + ' button');\n",
              "      quickchartButtonEl.disabled = true;  // To prevent multiple clicks.\n",
              "      quickchartButtonEl.classList.add('colab-df-spinner');\n",
              "      try {\n",
              "        const charts = await google.colab.kernel.invokeFunction(\n",
              "            'suggestCharts', [key], {});\n",
              "      } catch (error) {\n",
              "        console.error('Error during call to suggestCharts:', error);\n",
              "      }\n",
              "      quickchartButtonEl.classList.remove('colab-df-spinner');\n",
              "      quickchartButtonEl.classList.add('colab-df-quickchart-complete');\n",
              "    }\n",
              "    (() => {\n",
              "      let quickchartButtonEl =\n",
              "        document.querySelector('#df-ecfd64a1-b7a0-4de5-b043-c5c567bd6179 button');\n",
              "      quickchartButtonEl.style.display =\n",
              "        google.colab.kernel.accessAllowed ? 'block' : 'none';\n",
              "    })();\n",
              "  </script>\n",
              "</div>\n",
              "    </div>\n",
              "  </div>\n"
            ],
            "application/vnd.google.colaboratory.intrinsic+json": {
              "type": "dataframe",
              "variable_name": "df_rides",
              "summary": "{\n  \"name\": \"df_rides\",\n  \"rows\": 18068,\n  \"fields\": [\n    {\n      \"column\": \"user_id\",\n      \"properties\": {\n        \"dtype\": \"number\",\n        \"std\": 434,\n        \"min\": 1,\n        \"max\": 1534,\n        \"num_unique_values\": 1534,\n        \"samples\": [\n          1365,\n          77,\n          317\n        ],\n        \"semantic_type\": \"\",\n        \"description\": \"\"\n      }\n    },\n    {\n      \"column\": \"distance\",\n      \"properties\": {\n        \"dtype\": \"number\",\n        \"std\": 1116.8312086098736,\n        \"min\": 0.855682925681208,\n        \"max\": 7211.007744598519,\n        \"num_unique_values\": 18068,\n        \"samples\": [\n          634.9375002523072,\n          3245.352628435748,\n          2838.9435824451866\n        ],\n        \"semantic_type\": \"\",\n        \"description\": \"\"\n      }\n    },\n    {\n      \"column\": \"duration\",\n      \"properties\": {\n        \"dtype\": \"number\",\n        \"std\": 6.091051375341701,\n        \"min\": 0.5,\n        \"max\": 40.82396261922424,\n        \"num_unique_values\": 17974,\n        \"samples\": [\n          21.697919865043986,\n          13.465792601074444,\n          27.458957553479525\n        ],\n        \"semantic_type\": \"\",\n        \"description\": \"\"\n      }\n    },\n    {\n      \"column\": \"date\",\n      \"properties\": {\n        \"dtype\": \"date\",\n        \"min\": \"2021-01-01 00:00:00\",\n        \"max\": \"2021-12-30 00:00:00\",\n        \"num_unique_values\": 364,\n        \"samples\": [\n          \"2021-12-24 00:00:00\",\n          \"2021-09-04 00:00:00\",\n          \"2021-04-08 00:00:00\"\n        ],\n        \"semantic_type\": \"\",\n        \"description\": \"\"\n      }\n    }\n  ]\n}"
            }
          },
          "metadata": {},
          "execution_count": 3
        }
      ],
      "source": [
        "df_rides = pd.read_csv('/content/rides_go (1).csv', parse_dates=['date'])\n",
        "df_rides.head()"
      ]
    },
    {
      "cell_type": "markdown",
      "id": "aefdb6cf",
      "metadata": {
        "id": "aefdb6cf"
      },
      "source": [
        "Описание данных для df_rides\n",
        "* user_id - уникальный идентификатор пользователя\n",
        "* distance - расстояние, которое пользователь проехал в текущей сессии (в метрах)\n",
        "* duration - продолжительность сессии (в минутах) — время с того момента, как пользователь нажал кнопку «Начать поездку» до момента, как он нажал кнопку «Завершить поездку»\n",
        "* date - дата совершения поездки"
      ]
    },
    {
      "cell_type": "code",
      "execution_count": null,
      "id": "e15502a1",
      "metadata": {
        "id": "e15502a1",
        "outputId": "632b0ac0-7c6f-4370-d227-525dd142e07a",
        "colab": {
          "base_uri": "https://localhost:8080/",
          "height": 112
        }
      },
      "outputs": [
        {
          "output_type": "execute_result",
          "data": {
            "text/plain": [
              "  subscription_type  minute_price  start_ride_price  subscription_fee\n",
              "0              free             8                50                 0\n",
              "1             ultra             6                 0               199"
            ],
            "text/html": [
              "\n",
              "  <div id=\"df-76492666-6932-4893-9484-0c0bc84a0da9\" class=\"colab-df-container\">\n",
              "    <div>\n",
              "<style scoped>\n",
              "    .dataframe tbody tr th:only-of-type {\n",
              "        vertical-align: middle;\n",
              "    }\n",
              "\n",
              "    .dataframe tbody tr th {\n",
              "        vertical-align: top;\n",
              "    }\n",
              "\n",
              "    .dataframe thead th {\n",
              "        text-align: right;\n",
              "    }\n",
              "</style>\n",
              "<table border=\"1\" class=\"dataframe\">\n",
              "  <thead>\n",
              "    <tr style=\"text-align: right;\">\n",
              "      <th></th>\n",
              "      <th>subscription_type</th>\n",
              "      <th>minute_price</th>\n",
              "      <th>start_ride_price</th>\n",
              "      <th>subscription_fee</th>\n",
              "    </tr>\n",
              "  </thead>\n",
              "  <tbody>\n",
              "    <tr>\n",
              "      <th>0</th>\n",
              "      <td>free</td>\n",
              "      <td>8</td>\n",
              "      <td>50</td>\n",
              "      <td>0</td>\n",
              "    </tr>\n",
              "    <tr>\n",
              "      <th>1</th>\n",
              "      <td>ultra</td>\n",
              "      <td>6</td>\n",
              "      <td>0</td>\n",
              "      <td>199</td>\n",
              "    </tr>\n",
              "  </tbody>\n",
              "</table>\n",
              "</div>\n",
              "    <div class=\"colab-df-buttons\">\n",
              "\n",
              "  <div class=\"colab-df-container\">\n",
              "    <button class=\"colab-df-convert\" onclick=\"convertToInteractive('df-76492666-6932-4893-9484-0c0bc84a0da9')\"\n",
              "            title=\"Convert this dataframe to an interactive table.\"\n",
              "            style=\"display:none;\">\n",
              "\n",
              "  <svg xmlns=\"http://www.w3.org/2000/svg\" height=\"24px\" viewBox=\"0 -960 960 960\">\n",
              "    <path d=\"M120-120v-720h720v720H120Zm60-500h600v-160H180v160Zm220 220h160v-160H400v160Zm0 220h160v-160H400v160ZM180-400h160v-160H180v160Zm440 0h160v-160H620v160ZM180-180h160v-160H180v160Zm440 0h160v-160H620v160Z\"/>\n",
              "  </svg>\n",
              "    </button>\n",
              "\n",
              "  <style>\n",
              "    .colab-df-container {\n",
              "      display:flex;\n",
              "      gap: 12px;\n",
              "    }\n",
              "\n",
              "    .colab-df-convert {\n",
              "      background-color: #E8F0FE;\n",
              "      border: none;\n",
              "      border-radius: 50%;\n",
              "      cursor: pointer;\n",
              "      display: none;\n",
              "      fill: #1967D2;\n",
              "      height: 32px;\n",
              "      padding: 0 0 0 0;\n",
              "      width: 32px;\n",
              "    }\n",
              "\n",
              "    .colab-df-convert:hover {\n",
              "      background-color: #E2EBFA;\n",
              "      box-shadow: 0px 1px 2px rgba(60, 64, 67, 0.3), 0px 1px 3px 1px rgba(60, 64, 67, 0.15);\n",
              "      fill: #174EA6;\n",
              "    }\n",
              "\n",
              "    .colab-df-buttons div {\n",
              "      margin-bottom: 4px;\n",
              "    }\n",
              "\n",
              "    [theme=dark] .colab-df-convert {\n",
              "      background-color: #3B4455;\n",
              "      fill: #D2E3FC;\n",
              "    }\n",
              "\n",
              "    [theme=dark] .colab-df-convert:hover {\n",
              "      background-color: #434B5C;\n",
              "      box-shadow: 0px 1px 3px 1px rgba(0, 0, 0, 0.15);\n",
              "      filter: drop-shadow(0px 1px 2px rgba(0, 0, 0, 0.3));\n",
              "      fill: #FFFFFF;\n",
              "    }\n",
              "  </style>\n",
              "\n",
              "    <script>\n",
              "      const buttonEl =\n",
              "        document.querySelector('#df-76492666-6932-4893-9484-0c0bc84a0da9 button.colab-df-convert');\n",
              "      buttonEl.style.display =\n",
              "        google.colab.kernel.accessAllowed ? 'block' : 'none';\n",
              "\n",
              "      async function convertToInteractive(key) {\n",
              "        const element = document.querySelector('#df-76492666-6932-4893-9484-0c0bc84a0da9');\n",
              "        const dataTable =\n",
              "          await google.colab.kernel.invokeFunction('convertToInteractive',\n",
              "                                                    [key], {});\n",
              "        if (!dataTable) return;\n",
              "\n",
              "        const docLinkHtml = 'Like what you see? Visit the ' +\n",
              "          '<a target=\"_blank\" href=https://colab.research.google.com/notebooks/data_table.ipynb>data table notebook</a>'\n",
              "          + ' to learn more about interactive tables.';\n",
              "        element.innerHTML = '';\n",
              "        dataTable['output_type'] = 'display_data';\n",
              "        await google.colab.output.renderOutput(dataTable, element);\n",
              "        const docLink = document.createElement('div');\n",
              "        docLink.innerHTML = docLinkHtml;\n",
              "        element.appendChild(docLink);\n",
              "      }\n",
              "    </script>\n",
              "  </div>\n",
              "\n",
              "\n",
              "<div id=\"df-061cfe70-b914-466d-a89c-98285985ebde\">\n",
              "  <button class=\"colab-df-quickchart\" onclick=\"quickchart('df-061cfe70-b914-466d-a89c-98285985ebde')\"\n",
              "            title=\"Suggest charts\"\n",
              "            style=\"display:none;\">\n",
              "\n",
              "<svg xmlns=\"http://www.w3.org/2000/svg\" height=\"24px\"viewBox=\"0 0 24 24\"\n",
              "     width=\"24px\">\n",
              "    <g>\n",
              "        <path d=\"M19 3H5c-1.1 0-2 .9-2 2v14c0 1.1.9 2 2 2h14c1.1 0 2-.9 2-2V5c0-1.1-.9-2-2-2zM9 17H7v-7h2v7zm4 0h-2V7h2v10zm4 0h-2v-4h2v4z\"/>\n",
              "    </g>\n",
              "</svg>\n",
              "  </button>\n",
              "\n",
              "<style>\n",
              "  .colab-df-quickchart {\n",
              "      --bg-color: #E8F0FE;\n",
              "      --fill-color: #1967D2;\n",
              "      --hover-bg-color: #E2EBFA;\n",
              "      --hover-fill-color: #174EA6;\n",
              "      --disabled-fill-color: #AAA;\n",
              "      --disabled-bg-color: #DDD;\n",
              "  }\n",
              "\n",
              "  [theme=dark] .colab-df-quickchart {\n",
              "      --bg-color: #3B4455;\n",
              "      --fill-color: #D2E3FC;\n",
              "      --hover-bg-color: #434B5C;\n",
              "      --hover-fill-color: #FFFFFF;\n",
              "      --disabled-bg-color: #3B4455;\n",
              "      --disabled-fill-color: #666;\n",
              "  }\n",
              "\n",
              "  .colab-df-quickchart {\n",
              "    background-color: var(--bg-color);\n",
              "    border: none;\n",
              "    border-radius: 50%;\n",
              "    cursor: pointer;\n",
              "    display: none;\n",
              "    fill: var(--fill-color);\n",
              "    height: 32px;\n",
              "    padding: 0;\n",
              "    width: 32px;\n",
              "  }\n",
              "\n",
              "  .colab-df-quickchart:hover {\n",
              "    background-color: var(--hover-bg-color);\n",
              "    box-shadow: 0 1px 2px rgba(60, 64, 67, 0.3), 0 1px 3px 1px rgba(60, 64, 67, 0.15);\n",
              "    fill: var(--button-hover-fill-color);\n",
              "  }\n",
              "\n",
              "  .colab-df-quickchart-complete:disabled,\n",
              "  .colab-df-quickchart-complete:disabled:hover {\n",
              "    background-color: var(--disabled-bg-color);\n",
              "    fill: var(--disabled-fill-color);\n",
              "    box-shadow: none;\n",
              "  }\n",
              "\n",
              "  .colab-df-spinner {\n",
              "    border: 2px solid var(--fill-color);\n",
              "    border-color: transparent;\n",
              "    border-bottom-color: var(--fill-color);\n",
              "    animation:\n",
              "      spin 1s steps(1) infinite;\n",
              "  }\n",
              "\n",
              "  @keyframes spin {\n",
              "    0% {\n",
              "      border-color: transparent;\n",
              "      border-bottom-color: var(--fill-color);\n",
              "      border-left-color: var(--fill-color);\n",
              "    }\n",
              "    20% {\n",
              "      border-color: transparent;\n",
              "      border-left-color: var(--fill-color);\n",
              "      border-top-color: var(--fill-color);\n",
              "    }\n",
              "    30% {\n",
              "      border-color: transparent;\n",
              "      border-left-color: var(--fill-color);\n",
              "      border-top-color: var(--fill-color);\n",
              "      border-right-color: var(--fill-color);\n",
              "    }\n",
              "    40% {\n",
              "      border-color: transparent;\n",
              "      border-right-color: var(--fill-color);\n",
              "      border-top-color: var(--fill-color);\n",
              "    }\n",
              "    60% {\n",
              "      border-color: transparent;\n",
              "      border-right-color: var(--fill-color);\n",
              "    }\n",
              "    80% {\n",
              "      border-color: transparent;\n",
              "      border-right-color: var(--fill-color);\n",
              "      border-bottom-color: var(--fill-color);\n",
              "    }\n",
              "    90% {\n",
              "      border-color: transparent;\n",
              "      border-bottom-color: var(--fill-color);\n",
              "    }\n",
              "  }\n",
              "</style>\n",
              "\n",
              "  <script>\n",
              "    async function quickchart(key) {\n",
              "      const quickchartButtonEl =\n",
              "        document.querySelector('#' + key + ' button');\n",
              "      quickchartButtonEl.disabled = true;  // To prevent multiple clicks.\n",
              "      quickchartButtonEl.classList.add('colab-df-spinner');\n",
              "      try {\n",
              "        const charts = await google.colab.kernel.invokeFunction(\n",
              "            'suggestCharts', [key], {});\n",
              "      } catch (error) {\n",
              "        console.error('Error during call to suggestCharts:', error);\n",
              "      }\n",
              "      quickchartButtonEl.classList.remove('colab-df-spinner');\n",
              "      quickchartButtonEl.classList.add('colab-df-quickchart-complete');\n",
              "    }\n",
              "    (() => {\n",
              "      let quickchartButtonEl =\n",
              "        document.querySelector('#df-061cfe70-b914-466d-a89c-98285985ebde button');\n",
              "      quickchartButtonEl.style.display =\n",
              "        google.colab.kernel.accessAllowed ? 'block' : 'none';\n",
              "    })();\n",
              "  </script>\n",
              "</div>\n",
              "    </div>\n",
              "  </div>\n"
            ],
            "application/vnd.google.colaboratory.intrinsic+json": {
              "type": "dataframe",
              "variable_name": "df_sub",
              "summary": "{\n  \"name\": \"df_sub\",\n  \"rows\": 2,\n  \"fields\": [\n    {\n      \"column\": \"subscription_type\",\n      \"properties\": {\n        \"dtype\": \"string\",\n        \"num_unique_values\": 2,\n        \"samples\": [\n          \"ultra\",\n          \"free\"\n        ],\n        \"semantic_type\": \"\",\n        \"description\": \"\"\n      }\n    },\n    {\n      \"column\": \"minute_price\",\n      \"properties\": {\n        \"dtype\": \"number\",\n        \"std\": 1,\n        \"min\": 6,\n        \"max\": 8,\n        \"num_unique_values\": 2,\n        \"samples\": [\n          6,\n          8\n        ],\n        \"semantic_type\": \"\",\n        \"description\": \"\"\n      }\n    },\n    {\n      \"column\": \"start_ride_price\",\n      \"properties\": {\n        \"dtype\": \"number\",\n        \"std\": 35,\n        \"min\": 0,\n        \"max\": 50,\n        \"num_unique_values\": 2,\n        \"samples\": [\n          0,\n          50\n        ],\n        \"semantic_type\": \"\",\n        \"description\": \"\"\n      }\n    },\n    {\n      \"column\": \"subscription_fee\",\n      \"properties\": {\n        \"dtype\": \"number\",\n        \"std\": 140,\n        \"min\": 0,\n        \"max\": 199,\n        \"num_unique_values\": 2,\n        \"samples\": [\n          199,\n          0\n        ],\n        \"semantic_type\": \"\",\n        \"description\": \"\"\n      }\n    }\n  ]\n}"
            }
          },
          "metadata": {},
          "execution_count": 4
        }
      ],
      "source": [
        "df_sub = pd.read_csv('/content/subscriptions_go.csv')\n",
        "df_sub.head()"
      ]
    },
    {
      "cell_type": "markdown",
      "id": "9c68aa59",
      "metadata": {
        "id": "9c68aa59"
      },
      "source": [
        "Описание данных для df_sub\n",
        "* subscription_type - тип подписки\n",
        "* minute_price - стоимость одной минуты поездки по данной подписке\n",
        "* start_ride_price - стоимость начала поездки\n",
        "* subscription_fee - стоимость ежемесячного платежа"
      ]
    },
    {
      "cell_type": "markdown",
      "id": "fa9d800f",
      "metadata": {
        "id": "fa9d800f"
      },
      "source": [
        "##### Общая информация о каждом датафрейме."
      ]
    },
    {
      "cell_type": "code",
      "execution_count": null,
      "id": "c2e3f97b",
      "metadata": {
        "id": "c2e3f97b",
        "outputId": "e8a18e13-196a-4712-f5d5-475ade39fd40",
        "colab": {
          "base_uri": "https://localhost:8080/"
        }
      },
      "outputs": [
        {
          "output_type": "stream",
          "name": "stdout",
          "text": [
            "DataFrame df_users: \n",
            "<class 'pandas.core.frame.DataFrame'>\n",
            "RangeIndex: 1565 entries, 0 to 1564\n",
            "Data columns (total 5 columns):\n",
            " #   Column             Non-Null Count  Dtype \n",
            "---  ------             --------------  ----- \n",
            " 0   user_id            1565 non-null   int64 \n",
            " 1   name               1565 non-null   object\n",
            " 2   age                1565 non-null   int64 \n",
            " 3   city               1565 non-null   object\n",
            " 4   subscription_type  1565 non-null   object\n",
            "dtypes: int64(2), object(3)\n",
            "memory usage: 61.3+ KB\n",
            "\n",
            "DataFrame df_rides: \n",
            "<class 'pandas.core.frame.DataFrame'>\n",
            "RangeIndex: 18068 entries, 0 to 18067\n",
            "Data columns (total 4 columns):\n",
            " #   Column    Non-Null Count  Dtype         \n",
            "---  ------    --------------  -----         \n",
            " 0   user_id   18068 non-null  int64         \n",
            " 1   distance  18068 non-null  float64       \n",
            " 2   duration  18068 non-null  float64       \n",
            " 3   date      18068 non-null  datetime64[ns]\n",
            "dtypes: datetime64[ns](1), float64(2), int64(1)\n",
            "memory usage: 564.8 KB\n",
            "\n",
            "DataFrame df_sub: \n",
            "<class 'pandas.core.frame.DataFrame'>\n",
            "RangeIndex: 2 entries, 0 to 1\n",
            "Data columns (total 4 columns):\n",
            " #   Column             Non-Null Count  Dtype \n",
            "---  ------             --------------  ----- \n",
            " 0   subscription_type  2 non-null      object\n",
            " 1   minute_price       2 non-null      int64 \n",
            " 2   start_ride_price   2 non-null      int64 \n",
            " 3   subscription_fee   2 non-null      int64 \n",
            "dtypes: int64(3), object(1)\n",
            "memory usage: 192.0+ bytes\n"
          ]
        }
      ],
      "source": [
        "print(\"DataFrame df_users: \")\n",
        "df_users.info()\n",
        "\n",
        "print(\"\\nDataFrame df_rides: \")\n",
        "df_rides.info()\n",
        "\n",
        "print(\"\\nDataFrame df_sub: \")\n",
        "df_sub.info()"
      ]
    },
    {
      "cell_type": "markdown",
      "id": "b5cc97dd",
      "metadata": {
        "id": "b5cc97dd"
      },
      "source": [
        "**Вывод:**\n",
        "1. Пропусков не обнаружено.\n",
        "2. Возможно имеются дубликаты строк, что следует проверить."
      ]
    },
    {
      "cell_type": "markdown",
      "id": "e95ebca7",
      "metadata": {
        "id": "e95ebca7"
      },
      "source": [
        "#### Шаг 2. Предобработка данных"
      ]
    },
    {
      "cell_type": "markdown",
      "id": "304a0833",
      "metadata": {
        "id": "304a0833"
      },
      "source": [
        "**Создам новый столбец с номером месяца на основе столбца date.**"
      ]
    },
    {
      "cell_type": "code",
      "execution_count": null,
      "id": "17fa5798",
      "metadata": {
        "id": "17fa5798",
        "outputId": "c26fb4e9-6fee-4602-b708-3e444fb91276",
        "colab": {
          "base_uri": "https://localhost:8080/"
        }
      },
      "outputs": [
        {
          "output_type": "stream",
          "name": "stdout",
          "text": [
            "<class 'pandas.core.frame.DataFrame'>\n",
            "RangeIndex: 18068 entries, 0 to 18067\n",
            "Data columns (total 5 columns):\n",
            " #   Column        Non-Null Count  Dtype         \n",
            "---  ------        --------------  -----         \n",
            " 0   user_id       18068 non-null  int64         \n",
            " 1   distance      18068 non-null  float64       \n",
            " 2   duration      18068 non-null  float64       \n",
            " 3   date          18068 non-null  datetime64[ns]\n",
            " 4   month_number  18068 non-null  int32         \n",
            "dtypes: datetime64[ns](1), float64(2), int32(1), int64(1)\n",
            "memory usage: 635.3 KB\n"
          ]
        }
      ],
      "source": [
        "df_rides['month_number'] = df_rides['date'].dt.month\n",
        "df_rides.info()"
      ]
    },
    {
      "cell_type": "code",
      "execution_count": null,
      "id": "c1681fcd",
      "metadata": {
        "id": "c1681fcd",
        "outputId": "359eedfb-8ffd-4613-c6ca-944fdf343c42",
        "colab": {
          "base_uri": "https://localhost:8080/",
          "height": 206
        }
      },
      "outputs": [
        {
          "output_type": "execute_result",
          "data": {
            "text/plain": [
              "   user_id     distance   duration       date  month_number\n",
              "0        1  4409.919140  25.599769 2021-01-01             1\n",
              "1        1  2617.592153  15.816871 2021-01-18             1\n",
              "2        1   754.159807   6.232113 2021-04-20             4\n",
              "3        1  2694.783254  18.511000 2021-08-11             8\n",
              "4        1  4028.687306  26.265803 2021-08-28             8"
            ],
            "text/html": [
              "\n",
              "  <div id=\"df-71f29bc7-7d44-469b-a531-488fc3a0f104\" class=\"colab-df-container\">\n",
              "    <div>\n",
              "<style scoped>\n",
              "    .dataframe tbody tr th:only-of-type {\n",
              "        vertical-align: middle;\n",
              "    }\n",
              "\n",
              "    .dataframe tbody tr th {\n",
              "        vertical-align: top;\n",
              "    }\n",
              "\n",
              "    .dataframe thead th {\n",
              "        text-align: right;\n",
              "    }\n",
              "</style>\n",
              "<table border=\"1\" class=\"dataframe\">\n",
              "  <thead>\n",
              "    <tr style=\"text-align: right;\">\n",
              "      <th></th>\n",
              "      <th>user_id</th>\n",
              "      <th>distance</th>\n",
              "      <th>duration</th>\n",
              "      <th>date</th>\n",
              "      <th>month_number</th>\n",
              "    </tr>\n",
              "  </thead>\n",
              "  <tbody>\n",
              "    <tr>\n",
              "      <th>0</th>\n",
              "      <td>1</td>\n",
              "      <td>4409.919140</td>\n",
              "      <td>25.599769</td>\n",
              "      <td>2021-01-01</td>\n",
              "      <td>1</td>\n",
              "    </tr>\n",
              "    <tr>\n",
              "      <th>1</th>\n",
              "      <td>1</td>\n",
              "      <td>2617.592153</td>\n",
              "      <td>15.816871</td>\n",
              "      <td>2021-01-18</td>\n",
              "      <td>1</td>\n",
              "    </tr>\n",
              "    <tr>\n",
              "      <th>2</th>\n",
              "      <td>1</td>\n",
              "      <td>754.159807</td>\n",
              "      <td>6.232113</td>\n",
              "      <td>2021-04-20</td>\n",
              "      <td>4</td>\n",
              "    </tr>\n",
              "    <tr>\n",
              "      <th>3</th>\n",
              "      <td>1</td>\n",
              "      <td>2694.783254</td>\n",
              "      <td>18.511000</td>\n",
              "      <td>2021-08-11</td>\n",
              "      <td>8</td>\n",
              "    </tr>\n",
              "    <tr>\n",
              "      <th>4</th>\n",
              "      <td>1</td>\n",
              "      <td>4028.687306</td>\n",
              "      <td>26.265803</td>\n",
              "      <td>2021-08-28</td>\n",
              "      <td>8</td>\n",
              "    </tr>\n",
              "  </tbody>\n",
              "</table>\n",
              "</div>\n",
              "    <div class=\"colab-df-buttons\">\n",
              "\n",
              "  <div class=\"colab-df-container\">\n",
              "    <button class=\"colab-df-convert\" onclick=\"convertToInteractive('df-71f29bc7-7d44-469b-a531-488fc3a0f104')\"\n",
              "            title=\"Convert this dataframe to an interactive table.\"\n",
              "            style=\"display:none;\">\n",
              "\n",
              "  <svg xmlns=\"http://www.w3.org/2000/svg\" height=\"24px\" viewBox=\"0 -960 960 960\">\n",
              "    <path d=\"M120-120v-720h720v720H120Zm60-500h600v-160H180v160Zm220 220h160v-160H400v160Zm0 220h160v-160H400v160ZM180-400h160v-160H180v160Zm440 0h160v-160H620v160ZM180-180h160v-160H180v160Zm440 0h160v-160H620v160Z\"/>\n",
              "  </svg>\n",
              "    </button>\n",
              "\n",
              "  <style>\n",
              "    .colab-df-container {\n",
              "      display:flex;\n",
              "      gap: 12px;\n",
              "    }\n",
              "\n",
              "    .colab-df-convert {\n",
              "      background-color: #E8F0FE;\n",
              "      border: none;\n",
              "      border-radius: 50%;\n",
              "      cursor: pointer;\n",
              "      display: none;\n",
              "      fill: #1967D2;\n",
              "      height: 32px;\n",
              "      padding: 0 0 0 0;\n",
              "      width: 32px;\n",
              "    }\n",
              "\n",
              "    .colab-df-convert:hover {\n",
              "      background-color: #E2EBFA;\n",
              "      box-shadow: 0px 1px 2px rgba(60, 64, 67, 0.3), 0px 1px 3px 1px rgba(60, 64, 67, 0.15);\n",
              "      fill: #174EA6;\n",
              "    }\n",
              "\n",
              "    .colab-df-buttons div {\n",
              "      margin-bottom: 4px;\n",
              "    }\n",
              "\n",
              "    [theme=dark] .colab-df-convert {\n",
              "      background-color: #3B4455;\n",
              "      fill: #D2E3FC;\n",
              "    }\n",
              "\n",
              "    [theme=dark] .colab-df-convert:hover {\n",
              "      background-color: #434B5C;\n",
              "      box-shadow: 0px 1px 3px 1px rgba(0, 0, 0, 0.15);\n",
              "      filter: drop-shadow(0px 1px 2px rgba(0, 0, 0, 0.3));\n",
              "      fill: #FFFFFF;\n",
              "    }\n",
              "  </style>\n",
              "\n",
              "    <script>\n",
              "      const buttonEl =\n",
              "        document.querySelector('#df-71f29bc7-7d44-469b-a531-488fc3a0f104 button.colab-df-convert');\n",
              "      buttonEl.style.display =\n",
              "        google.colab.kernel.accessAllowed ? 'block' : 'none';\n",
              "\n",
              "      async function convertToInteractive(key) {\n",
              "        const element = document.querySelector('#df-71f29bc7-7d44-469b-a531-488fc3a0f104');\n",
              "        const dataTable =\n",
              "          await google.colab.kernel.invokeFunction('convertToInteractive',\n",
              "                                                    [key], {});\n",
              "        if (!dataTable) return;\n",
              "\n",
              "        const docLinkHtml = 'Like what you see? Visit the ' +\n",
              "          '<a target=\"_blank\" href=https://colab.research.google.com/notebooks/data_table.ipynb>data table notebook</a>'\n",
              "          + ' to learn more about interactive tables.';\n",
              "        element.innerHTML = '';\n",
              "        dataTable['output_type'] = 'display_data';\n",
              "        await google.colab.output.renderOutput(dataTable, element);\n",
              "        const docLink = document.createElement('div');\n",
              "        docLink.innerHTML = docLinkHtml;\n",
              "        element.appendChild(docLink);\n",
              "      }\n",
              "    </script>\n",
              "  </div>\n",
              "\n",
              "\n",
              "<div id=\"df-6f3c9f31-6e54-4ad5-afc6-9c9a3c8de7e7\">\n",
              "  <button class=\"colab-df-quickchart\" onclick=\"quickchart('df-6f3c9f31-6e54-4ad5-afc6-9c9a3c8de7e7')\"\n",
              "            title=\"Suggest charts\"\n",
              "            style=\"display:none;\">\n",
              "\n",
              "<svg xmlns=\"http://www.w3.org/2000/svg\" height=\"24px\"viewBox=\"0 0 24 24\"\n",
              "     width=\"24px\">\n",
              "    <g>\n",
              "        <path d=\"M19 3H5c-1.1 0-2 .9-2 2v14c0 1.1.9 2 2 2h14c1.1 0 2-.9 2-2V5c0-1.1-.9-2-2-2zM9 17H7v-7h2v7zm4 0h-2V7h2v10zm4 0h-2v-4h2v4z\"/>\n",
              "    </g>\n",
              "</svg>\n",
              "  </button>\n",
              "\n",
              "<style>\n",
              "  .colab-df-quickchart {\n",
              "      --bg-color: #E8F0FE;\n",
              "      --fill-color: #1967D2;\n",
              "      --hover-bg-color: #E2EBFA;\n",
              "      --hover-fill-color: #174EA6;\n",
              "      --disabled-fill-color: #AAA;\n",
              "      --disabled-bg-color: #DDD;\n",
              "  }\n",
              "\n",
              "  [theme=dark] .colab-df-quickchart {\n",
              "      --bg-color: #3B4455;\n",
              "      --fill-color: #D2E3FC;\n",
              "      --hover-bg-color: #434B5C;\n",
              "      --hover-fill-color: #FFFFFF;\n",
              "      --disabled-bg-color: #3B4455;\n",
              "      --disabled-fill-color: #666;\n",
              "  }\n",
              "\n",
              "  .colab-df-quickchart {\n",
              "    background-color: var(--bg-color);\n",
              "    border: none;\n",
              "    border-radius: 50%;\n",
              "    cursor: pointer;\n",
              "    display: none;\n",
              "    fill: var(--fill-color);\n",
              "    height: 32px;\n",
              "    padding: 0;\n",
              "    width: 32px;\n",
              "  }\n",
              "\n",
              "  .colab-df-quickchart:hover {\n",
              "    background-color: var(--hover-bg-color);\n",
              "    box-shadow: 0 1px 2px rgba(60, 64, 67, 0.3), 0 1px 3px 1px rgba(60, 64, 67, 0.15);\n",
              "    fill: var(--button-hover-fill-color);\n",
              "  }\n",
              "\n",
              "  .colab-df-quickchart-complete:disabled,\n",
              "  .colab-df-quickchart-complete:disabled:hover {\n",
              "    background-color: var(--disabled-bg-color);\n",
              "    fill: var(--disabled-fill-color);\n",
              "    box-shadow: none;\n",
              "  }\n",
              "\n",
              "  .colab-df-spinner {\n",
              "    border: 2px solid var(--fill-color);\n",
              "    border-color: transparent;\n",
              "    border-bottom-color: var(--fill-color);\n",
              "    animation:\n",
              "      spin 1s steps(1) infinite;\n",
              "  }\n",
              "\n",
              "  @keyframes spin {\n",
              "    0% {\n",
              "      border-color: transparent;\n",
              "      border-bottom-color: var(--fill-color);\n",
              "      border-left-color: var(--fill-color);\n",
              "    }\n",
              "    20% {\n",
              "      border-color: transparent;\n",
              "      border-left-color: var(--fill-color);\n",
              "      border-top-color: var(--fill-color);\n",
              "    }\n",
              "    30% {\n",
              "      border-color: transparent;\n",
              "      border-left-color: var(--fill-color);\n",
              "      border-top-color: var(--fill-color);\n",
              "      border-right-color: var(--fill-color);\n",
              "    }\n",
              "    40% {\n",
              "      border-color: transparent;\n",
              "      border-right-color: var(--fill-color);\n",
              "      border-top-color: var(--fill-color);\n",
              "    }\n",
              "    60% {\n",
              "      border-color: transparent;\n",
              "      border-right-color: var(--fill-color);\n",
              "    }\n",
              "    80% {\n",
              "      border-color: transparent;\n",
              "      border-right-color: var(--fill-color);\n",
              "      border-bottom-color: var(--fill-color);\n",
              "    }\n",
              "    90% {\n",
              "      border-color: transparent;\n",
              "      border-bottom-color: var(--fill-color);\n",
              "    }\n",
              "  }\n",
              "</style>\n",
              "\n",
              "  <script>\n",
              "    async function quickchart(key) {\n",
              "      const quickchartButtonEl =\n",
              "        document.querySelector('#' + key + ' button');\n",
              "      quickchartButtonEl.disabled = true;  // To prevent multiple clicks.\n",
              "      quickchartButtonEl.classList.add('colab-df-spinner');\n",
              "      try {\n",
              "        const charts = await google.colab.kernel.invokeFunction(\n",
              "            'suggestCharts', [key], {});\n",
              "      } catch (error) {\n",
              "        console.error('Error during call to suggestCharts:', error);\n",
              "      }\n",
              "      quickchartButtonEl.classList.remove('colab-df-spinner');\n",
              "      quickchartButtonEl.classList.add('colab-df-quickchart-complete');\n",
              "    }\n",
              "    (() => {\n",
              "      let quickchartButtonEl =\n",
              "        document.querySelector('#df-6f3c9f31-6e54-4ad5-afc6-9c9a3c8de7e7 button');\n",
              "      quickchartButtonEl.style.display =\n",
              "        google.colab.kernel.accessAllowed ? 'block' : 'none';\n",
              "    })();\n",
              "  </script>\n",
              "</div>\n",
              "    </div>\n",
              "  </div>\n"
            ],
            "application/vnd.google.colaboratory.intrinsic+json": {
              "type": "dataframe",
              "variable_name": "df_rides",
              "summary": "{\n  \"name\": \"df_rides\",\n  \"rows\": 18068,\n  \"fields\": [\n    {\n      \"column\": \"user_id\",\n      \"properties\": {\n        \"dtype\": \"number\",\n        \"std\": 434,\n        \"min\": 1,\n        \"max\": 1534,\n        \"num_unique_values\": 1534,\n        \"samples\": [\n          1365,\n          77,\n          317\n        ],\n        \"semantic_type\": \"\",\n        \"description\": \"\"\n      }\n    },\n    {\n      \"column\": \"distance\",\n      \"properties\": {\n        \"dtype\": \"number\",\n        \"std\": 1116.8312086098736,\n        \"min\": 0.855682925681208,\n        \"max\": 7211.007744598519,\n        \"num_unique_values\": 18068,\n        \"samples\": [\n          634.9375002523072,\n          3245.352628435748,\n          2838.9435824451866\n        ],\n        \"semantic_type\": \"\",\n        \"description\": \"\"\n      }\n    },\n    {\n      \"column\": \"duration\",\n      \"properties\": {\n        \"dtype\": \"number\",\n        \"std\": 6.091051375341701,\n        \"min\": 0.5,\n        \"max\": 40.82396261922424,\n        \"num_unique_values\": 17974,\n        \"samples\": [\n          21.697919865043986,\n          13.465792601074444,\n          27.458957553479525\n        ],\n        \"semantic_type\": \"\",\n        \"description\": \"\"\n      }\n    },\n    {\n      \"column\": \"date\",\n      \"properties\": {\n        \"dtype\": \"date\",\n        \"min\": \"2021-01-01 00:00:00\",\n        \"max\": \"2021-12-30 00:00:00\",\n        \"num_unique_values\": 364,\n        \"samples\": [\n          \"2021-12-24 00:00:00\",\n          \"2021-09-04 00:00:00\",\n          \"2021-04-08 00:00:00\"\n        ],\n        \"semantic_type\": \"\",\n        \"description\": \"\"\n      }\n    },\n    {\n      \"column\": \"month_number\",\n      \"properties\": {\n        \"dtype\": \"int32\",\n        \"num_unique_values\": 12,\n        \"samples\": [\n          5,\n          2,\n          1\n        ],\n        \"semantic_type\": \"\",\n        \"description\": \"\"\n      }\n    }\n  ]\n}"
            }
          },
          "metadata": {},
          "execution_count": 8
        }
      ],
      "source": [
        "df_rides.head()"
      ]
    },
    {
      "cell_type": "markdown",
      "id": "28ac0e0e",
      "metadata": {
        "id": "28ac0e0e"
      },
      "source": [
        "**Проверка на дубликаты**"
      ]
    },
    {
      "cell_type": "code",
      "execution_count": null,
      "id": "e42f9c53",
      "metadata": {
        "id": "e42f9c53"
      },
      "outputs": [],
      "source": [
        "def duplicates_df(df,name):\n",
        "    duplicates = df[df.duplicated()]\n",
        "    if not duplicates.empty:\n",
        "        print(f'Обнаружены явные дубликаты для {name}:')\n",
        "        print(duplicates)\n",
        "    else:\n",
        "        print(f\"Явных дубликатов для {name} не обнаружено.\")"
      ]
    },
    {
      "cell_type": "code",
      "execution_count": null,
      "id": "dc0bee19",
      "metadata": {
        "id": "dc0bee19",
        "outputId": "2660d4f8-4445-47b3-ad73-3d94fad91391",
        "colab": {
          "base_uri": "https://localhost:8080/"
        }
      },
      "outputs": [
        {
          "output_type": "stream",
          "name": "stdout",
          "text": [
            "Обнаружены явные дубликаты для df_users:\n",
            "      user_id        name  age            city subscription_type\n",
            "1534      293       Агата   26       Краснодар             ultra\n",
            "1535       16      Амалия   27       Краснодар             ultra\n",
            "1536      909  Константин   20    Екатеринбург              free\n",
            "1537      403      Полина   19            Сочи             ultra\n",
            "1538      908      Рустам   30          Тюмень              free\n",
            "1539       43    Стефания   22            Омск             ultra\n",
            "1540      127       Павел   25       Пятигорск             ultra\n",
            "1541      659       Злата   27  Ростов-на-Дону             ultra\n",
            "1542      204      Руслан   30       Пятигорск             ultra\n",
            "1543      153      Герман   23          Москва             ultra\n",
            "1544     1245      Регина   27       Пятигорск              free\n",
            "1545      807   Александр   28    Екатеринбург              free\n",
            "1546      924       Мария   23       Пятигорск              free\n",
            "1547      635      Герман   21          Москва             ultra\n",
            "1548      136     Марсель   25          Тюмень             ultra\n",
            "1549      108       Влада   29          Тюмень             ultra\n",
            "1550      737     Мелания   27  Ростов-на-Дону              free\n",
            "1551      666      Зарина   29          Москва             ultra\n",
            "1552      297        Егор   33       Пятигорск             ultra\n",
            "1553      121       Алина   25       Пятигорск             ultra\n",
            "1554     1198       Демид   29  Ростов-на-Дону              free\n",
            "1555       72      Никита   25          Москва             ultra\n",
            "1556      422      Кирилл   27            Сочи             ultra\n",
            "1557      611    Владимир   28            Омск             ultra\n",
            "1558     1237     Евгения   23          Тюмень              free\n",
            "1559      209      Андрей   23            Омск             ultra\n",
            "1560      829       Федор   29       Пятигорск              free\n",
            "1561      809        Юрий   26            Сочи              free\n",
            "1562      307      Ясмина   19       Краснодар             ultra\n",
            "1563       47        Юрий   28          Тюмень             ultra\n",
            "1564     1045     Артемий   28  Ростов-на-Дону              free\n",
            "None\n",
            "Явных дубликатов для df_rides не обнаружено.\n",
            "None\n"
          ]
        }
      ],
      "source": [
        "print(duplicates_df(df_users,'df_users'))\n",
        "print(duplicates_df(df_rides,'df_rides'))"
      ]
    },
    {
      "cell_type": "markdown",
      "id": "6903d9ad",
      "metadata": {
        "id": "6903d9ad"
      },
      "source": [
        "Удалим дубликаты для df_users"
      ]
    },
    {
      "cell_type": "code",
      "execution_count": null,
      "id": "a3fba39f",
      "metadata": {
        "id": "a3fba39f",
        "outputId": "0d974281-f1f3-4d85-b2f5-bab76712da10",
        "colab": {
          "base_uri": "https://localhost:8080/"
        }
      },
      "outputs": [
        {
          "output_type": "stream",
          "name": "stdout",
          "text": [
            "Обнаружены явные дубликаты для df_users:\n",
            "      user_id        name  age            city subscription_type\n",
            "1534      293       Агата   26       Краснодар             ultra\n",
            "1535       16      Амалия   27       Краснодар             ultra\n",
            "1536      909  Константин   20    Екатеринбург              free\n",
            "1537      403      Полина   19            Сочи             ultra\n",
            "1538      908      Рустам   30          Тюмень              free\n",
            "1539       43    Стефания   22            Омск             ultra\n",
            "1540      127       Павел   25       Пятигорск             ultra\n",
            "1541      659       Злата   27  Ростов-на-Дону             ultra\n",
            "1542      204      Руслан   30       Пятигорск             ultra\n",
            "1543      153      Герман   23          Москва             ultra\n",
            "1544     1245      Регина   27       Пятигорск              free\n",
            "1545      807   Александр   28    Екатеринбург              free\n",
            "1546      924       Мария   23       Пятигорск              free\n",
            "1547      635      Герман   21          Москва             ultra\n",
            "1548      136     Марсель   25          Тюмень             ultra\n",
            "1549      108       Влада   29          Тюмень             ultra\n",
            "1550      737     Мелания   27  Ростов-на-Дону              free\n",
            "1551      666      Зарина   29          Москва             ultra\n",
            "1552      297        Егор   33       Пятигорск             ultra\n",
            "1553      121       Алина   25       Пятигорск             ultra\n",
            "1554     1198       Демид   29  Ростов-на-Дону              free\n",
            "1555       72      Никита   25          Москва             ultra\n",
            "1556      422      Кирилл   27            Сочи             ultra\n",
            "1557      611    Владимир   28            Омск             ultra\n",
            "1558     1237     Евгения   23          Тюмень              free\n",
            "1559      209      Андрей   23            Омск             ultra\n",
            "1560      829       Федор   29       Пятигорск              free\n",
            "1561      809        Юрий   26            Сочи              free\n",
            "1562      307      Ясмина   19       Краснодар             ultra\n",
            "1563       47        Юрий   28          Тюмень             ultra\n",
            "1564     1045     Артемий   28  Ростов-на-Дону              free\n",
            "None\n",
            "<class 'pandas.core.frame.DataFrame'>\n",
            "RangeIndex: 1565 entries, 0 to 1564\n",
            "Data columns (total 5 columns):\n",
            " #   Column             Non-Null Count  Dtype \n",
            "---  ------             --------------  ----- \n",
            " 0   user_id            1565 non-null   int64 \n",
            " 1   name               1565 non-null   object\n",
            " 2   age                1565 non-null   int64 \n",
            " 3   city               1565 non-null   object\n",
            " 4   subscription_type  1565 non-null   object\n",
            "dtypes: int64(2), object(3)\n",
            "memory usage: 61.3+ KB\n"
          ]
        }
      ],
      "source": [
        "df_users.drop_duplicates()\n",
        "print(duplicates_df(df_users,'df_users'))\n",
        "df_users.info()"
      ]
    },
    {
      "cell_type": "markdown",
      "id": "70b3dac2",
      "metadata": {
        "id": "70b3dac2"
      },
      "source": [
        "**Вывод:**\n",
        "1. Был изменен тип данных в столбце date на datetime64\n",
        "2. Были проверены датафреймы на наличие дубликатов, в датафрейме df_users были удалены строки с дубликатами. Явных дубликатов для df_rides обнаружено не было."
      ]
    },
    {
      "cell_type": "code",
      "execution_count": null,
      "id": "7dabca42",
      "metadata": {
        "id": "7dabca42",
        "outputId": "edd3343a-be5c-466b-e23b-1e8bbaae3919",
        "colab": {
          "base_uri": "https://localhost:8080/",
          "height": 458
        }
      },
      "outputs": [
        {
          "output_type": "execute_result",
          "data": {
            "text/plain": [
              "0        4410.0\n",
              "1        2618.0\n",
              "2         754.0\n",
              "3        2695.0\n",
              "4        4029.0\n",
              "          ...  \n",
              "18063    3781.0\n",
              "18064    2840.0\n",
              "18065    3826.0\n",
              "18066    2902.0\n",
              "18067    2372.0\n",
              "Name: distance, Length: 18068, dtype: float64"
            ],
            "text/html": [
              "<div>\n",
              "<style scoped>\n",
              "    .dataframe tbody tr th:only-of-type {\n",
              "        vertical-align: middle;\n",
              "    }\n",
              "\n",
              "    .dataframe tbody tr th {\n",
              "        vertical-align: top;\n",
              "    }\n",
              "\n",
              "    .dataframe thead th {\n",
              "        text-align: right;\n",
              "    }\n",
              "</style>\n",
              "<table border=\"1\" class=\"dataframe\">\n",
              "  <thead>\n",
              "    <tr style=\"text-align: right;\">\n",
              "      <th></th>\n",
              "      <th>distance</th>\n",
              "    </tr>\n",
              "  </thead>\n",
              "  <tbody>\n",
              "    <tr>\n",
              "      <th>0</th>\n",
              "      <td>4410.0</td>\n",
              "    </tr>\n",
              "    <tr>\n",
              "      <th>1</th>\n",
              "      <td>2618.0</td>\n",
              "    </tr>\n",
              "    <tr>\n",
              "      <th>2</th>\n",
              "      <td>754.0</td>\n",
              "    </tr>\n",
              "    <tr>\n",
              "      <th>3</th>\n",
              "      <td>2695.0</td>\n",
              "    </tr>\n",
              "    <tr>\n",
              "      <th>4</th>\n",
              "      <td>4029.0</td>\n",
              "    </tr>\n",
              "    <tr>\n",
              "      <th>...</th>\n",
              "      <td>...</td>\n",
              "    </tr>\n",
              "    <tr>\n",
              "      <th>18063</th>\n",
              "      <td>3781.0</td>\n",
              "    </tr>\n",
              "    <tr>\n",
              "      <th>18064</th>\n",
              "      <td>2840.0</td>\n",
              "    </tr>\n",
              "    <tr>\n",
              "      <th>18065</th>\n",
              "      <td>3826.0</td>\n",
              "    </tr>\n",
              "    <tr>\n",
              "      <th>18066</th>\n",
              "      <td>2902.0</td>\n",
              "    </tr>\n",
              "    <tr>\n",
              "      <th>18067</th>\n",
              "      <td>2372.0</td>\n",
              "    </tr>\n",
              "  </tbody>\n",
              "</table>\n",
              "<p>18068 rows × 1 columns</p>\n",
              "</div><br><label><b>dtype:</b> float64</label>"
            ]
          },
          "metadata": {},
          "execution_count": 12
        }
      ],
      "source": [
        "df_rides['distance'] = df_rides['distance'].round()\n",
        "df_rides['distance']"
      ]
    },
    {
      "cell_type": "code",
      "execution_count": null,
      "id": "5872306b",
      "metadata": {
        "id": "5872306b",
        "outputId": "87a56197-7c4b-45fa-e0cd-3be138d8c4d9",
        "colab": {
          "base_uri": "https://localhost:8080/"
        }
      },
      "outputs": [
        {
          "output_type": "stream",
          "name": "stdout",
          "text": [
            "Первый день: 2021-01-01 00:00:00\n",
            "Последний день: 2021-12-30 00:00:00\n"
          ]
        }
      ],
      "source": [
        "start_df = df_rides['date'].min()\n",
        "end_df = df_rides['date'].max()\n",
        "\n",
        "print(\"Первый день:\", start_df)\n",
        "print(\"Последний день:\", end_df)"
      ]
    },
    {
      "cell_type": "code",
      "execution_count": null,
      "id": "c478f341",
      "metadata": {
        "id": "c478f341",
        "outputId": "2e391a35-ba4b-4a68-9db1-f58961cd2fb4",
        "colab": {
          "base_uri": "https://localhost:8080/",
          "height": 335
        }
      },
      "outputs": [
        {
          "output_type": "execute_result",
          "data": {
            "text/plain": [
              "count    18068.000000\n",
              "mean        17.805011\n",
              "std          6.091051\n",
              "min          0.500000\n",
              "25%         13.597563\n",
              "50%         17.678395\n",
              "75%         21.724800\n",
              "max         40.823963\n",
              "Name: duration, dtype: float64"
            ],
            "text/html": [
              "<div>\n",
              "<style scoped>\n",
              "    .dataframe tbody tr th:only-of-type {\n",
              "        vertical-align: middle;\n",
              "    }\n",
              "\n",
              "    .dataframe tbody tr th {\n",
              "        vertical-align: top;\n",
              "    }\n",
              "\n",
              "    .dataframe thead th {\n",
              "        text-align: right;\n",
              "    }\n",
              "</style>\n",
              "<table border=\"1\" class=\"dataframe\">\n",
              "  <thead>\n",
              "    <tr style=\"text-align: right;\">\n",
              "      <th></th>\n",
              "      <th>duration</th>\n",
              "    </tr>\n",
              "  </thead>\n",
              "  <tbody>\n",
              "    <tr>\n",
              "      <th>count</th>\n",
              "      <td>18068.000000</td>\n",
              "    </tr>\n",
              "    <tr>\n",
              "      <th>mean</th>\n",
              "      <td>17.805011</td>\n",
              "    </tr>\n",
              "    <tr>\n",
              "      <th>std</th>\n",
              "      <td>6.091051</td>\n",
              "    </tr>\n",
              "    <tr>\n",
              "      <th>min</th>\n",
              "      <td>0.500000</td>\n",
              "    </tr>\n",
              "    <tr>\n",
              "      <th>25%</th>\n",
              "      <td>13.597563</td>\n",
              "    </tr>\n",
              "    <tr>\n",
              "      <th>50%</th>\n",
              "      <td>17.678395</td>\n",
              "    </tr>\n",
              "    <tr>\n",
              "      <th>75%</th>\n",
              "      <td>21.724800</td>\n",
              "    </tr>\n",
              "    <tr>\n",
              "      <th>max</th>\n",
              "      <td>40.823963</td>\n",
              "    </tr>\n",
              "  </tbody>\n",
              "</table>\n",
              "</div><br><label><b>dtype:</b> float64</label>"
            ]
          },
          "metadata": {},
          "execution_count": 14
        }
      ],
      "source": [
        "df_rides['duration'].describe()"
      ]
    },
    {
      "cell_type": "code",
      "execution_count": null,
      "id": "2288cf91",
      "metadata": {
        "id": "2288cf91",
        "outputId": "21d32982-77c2-4880-b72e-ccd3113342d6",
        "colab": {
          "base_uri": "https://localhost:8080/",
          "height": 1000
        }
      },
      "outputs": [
        {
          "output_type": "display_data",
          "data": {
            "text/plain": [
              "<Figure size 1000x600 with 1 Axes>"
            ],
            "image/png": "[encoded data removed]"
          },
          "metadata": {}
        },
        {
          "output_type": "display_data",
          "data": {
            "text/plain": [
              "<Figure size 1000x600 with 1 Axes>"
            ],
            "image/png": "[encoded data removed]"
          },
          "metadata": {}
        }
      ],
      "source": [
        "plt.figure(figsize=(10, 6))\n",
        "sns.boxplot(df_rides['duration'], color='#FF6347')\n",
        "plt.title('Ящик с усами продолжительности поездки')\n",
        "plt.xlabel('Продолжительность поездки (минуты)')\n",
        "plt.grid(True)\n",
        "plt.show()\n",
        "\n",
        "plt.figure(figsize=(10, 6))\n",
        "sns.histplot(df_rides['duration'], kde=True, color='#FF6347', edgecolor='black')\n",
        "plt.title('Гистограмма продолжительности поездки с оценкой плотности')\n",
        "plt.xlabel('Продолжительность поездки (минуты)')\n",
        "plt.ylabel('Частота')\n",
        "plt.grid(True)\n",
        "plt.show()"
      ]
    },
    {
      "cell_type": "markdown",
      "id": "58137b1d",
      "metadata": {
        "id": "58137b1d"
      },
      "source": [
        "**Вывод:**\n",
        "В результате оценки аномалий в столбце 'duration' были найдены незначительные выбросы (около 100 значений) в диапазоне от 0.5 до 1.\n",
        "Период данных в датафрейме составил 2021 год с 1 января по 30 декабря"
      ]
    },
    {
      "cell_type": "markdown",
      "id": "212593c7",
      "metadata": {
        "id": "212593c7"
      },
      "source": [
        "#### Шаг 3. Исследовательский анализ данных"
      ]
    },
    {
      "cell_type": "markdown",
      "id": "a64a32b8",
      "metadata": {
        "id": "a64a32b8"
      },
      "source": [
        "**Описание и визуализация общей информации о пользователях и поездках**"
      ]
    },
    {
      "cell_type": "markdown",
      "id": "f25b2104",
      "metadata": {
        "id": "f25b2104"
      },
      "source": [
        "##### Частота встречаемости городов"
      ]
    },
    {
      "cell_type": "code",
      "execution_count": null,
      "id": "1238a5fe",
      "metadata": {
        "id": "1238a5fe",
        "outputId": "1a6494ce-5f0b-4814-8fe3-3240e670050b",
        "colab": {
          "base_uri": "https://localhost:8080/",
          "height": 241
        }
      },
      "outputs": [
        {
          "output_type": "execute_result",
          "data": {
            "text/plain": [
              "0            Тюмень\n",
              "1              Омск\n",
              "2            Москва\n",
              "3    Ростов-на-Дону\n",
              "4              Омск\n",
              "Name: city, dtype: object"
            ],
            "text/html": [
              "<div>\n",
              "<style scoped>\n",
              "    .dataframe tbody tr th:only-of-type {\n",
              "        vertical-align: middle;\n",
              "    }\n",
              "\n",
              "    .dataframe tbody tr th {\n",
              "        vertical-align: top;\n",
              "    }\n",
              "\n",
              "    .dataframe thead th {\n",
              "        text-align: right;\n",
              "    }\n",
              "</style>\n",
              "<table border=\"1\" class=\"dataframe\">\n",
              "  <thead>\n",
              "    <tr style=\"text-align: right;\">\n",
              "      <th></th>\n",
              "      <th>city</th>\n",
              "    </tr>\n",
              "  </thead>\n",
              "  <tbody>\n",
              "    <tr>\n",
              "      <th>0</th>\n",
              "      <td>Тюмень</td>\n",
              "    </tr>\n",
              "    <tr>\n",
              "      <th>1</th>\n",
              "      <td>Омск</td>\n",
              "    </tr>\n",
              "    <tr>\n",
              "      <th>2</th>\n",
              "      <td>Москва</td>\n",
              "    </tr>\n",
              "    <tr>\n",
              "      <th>3</th>\n",
              "      <td>Ростов-на-Дону</td>\n",
              "    </tr>\n",
              "    <tr>\n",
              "      <th>4</th>\n",
              "      <td>Омск</td>\n",
              "    </tr>\n",
              "  </tbody>\n",
              "</table>\n",
              "</div><br><label><b>dtype:</b> object</label>"
            ]
          },
          "metadata": {},
          "execution_count": 16
        }
      ],
      "source": [
        "df_users['city'].head(5)"
      ]
    },
    {
      "cell_type": "code",
      "execution_count": null,
      "id": "4d6fc9d4",
      "metadata": {
        "id": "4d6fc9d4",
        "outputId": "0f9e32bf-bbe9-448c-a27e-185d41f1d4f5",
        "colab": {
          "base_uri": "https://localhost:8080/",
          "height": 472
        }
      },
      "outputs": [
        {
          "output_type": "display_data",
          "data": {
            "text/plain": [
              "<Figure size 640x480 with 1 Axes>"
            ],
            "image/png": "[encoded data removed]"
          },
          "metadata": {}
        }
      ],
      "source": [
        "city_counts = df_users['city'].value_counts()\n",
        "city_counts_sorted = city_counts.sort_values()\n",
        "\n",
        "plt.barh(city_counts_sorted.index, city_counts_sorted.values)\n",
        "plt.xlabel('Количество значений')\n",
        "plt.title('Частота встречаемости городов')\n",
        "plt.show()"
      ]
    },
    {
      "cell_type": "code",
      "execution_count": null,
      "id": "85faa0cc",
      "metadata": {
        "id": "85faa0cc",
        "outputId": "b36e34bc-0dea-4584-9ee0-4731be78d3df",
        "colab": {
          "base_uri": "https://localhost:8080/",
          "height": 366
        }
      },
      "outputs": [
        {
          "output_type": "execute_result",
          "data": {
            "text/plain": [
              "city\n",
              "Пятигорск         226\n",
              "Екатеринбург      206\n",
              "Ростов-на-Дону    202\n",
              "Краснодар         196\n",
              "Сочи              192\n",
              "Омск              186\n",
              "Тюмень            185\n",
              "Москва            172\n",
              "Name: count, dtype: int64"
            ],
            "text/html": [
              "<div>\n",
              "<style scoped>\n",
              "    .dataframe tbody tr th:only-of-type {\n",
              "        vertical-align: middle;\n",
              "    }\n",
              "\n",
              "    .dataframe tbody tr th {\n",
              "        vertical-align: top;\n",
              "    }\n",
              "\n",
              "    .dataframe thead th {\n",
              "        text-align: right;\n",
              "    }\n",
              "</style>\n",
              "<table border=\"1\" class=\"dataframe\">\n",
              "  <thead>\n",
              "    <tr style=\"text-align: right;\">\n",
              "      <th></th>\n",
              "      <th>count</th>\n",
              "    </tr>\n",
              "    <tr>\n",
              "      <th>city</th>\n",
              "      <th></th>\n",
              "    </tr>\n",
              "  </thead>\n",
              "  <tbody>\n",
              "    <tr>\n",
              "      <th>Пятигорск</th>\n",
              "      <td>226</td>\n",
              "    </tr>\n",
              "    <tr>\n",
              "      <th>Екатеринбург</th>\n",
              "      <td>206</td>\n",
              "    </tr>\n",
              "    <tr>\n",
              "      <th>Ростов-на-Дону</th>\n",
              "      <td>202</td>\n",
              "    </tr>\n",
              "    <tr>\n",
              "      <th>Краснодар</th>\n",
              "      <td>196</td>\n",
              "    </tr>\n",
              "    <tr>\n",
              "      <th>Сочи</th>\n",
              "      <td>192</td>\n",
              "    </tr>\n",
              "    <tr>\n",
              "      <th>Омск</th>\n",
              "      <td>186</td>\n",
              "    </tr>\n",
              "    <tr>\n",
              "      <th>Тюмень</th>\n",
              "      <td>185</td>\n",
              "    </tr>\n",
              "    <tr>\n",
              "      <th>Москва</th>\n",
              "      <td>172</td>\n",
              "    </tr>\n",
              "  </tbody>\n",
              "</table>\n",
              "</div><br><label><b>dtype:</b> int64</label>"
            ]
          },
          "metadata": {},
          "execution_count": 18
        }
      ],
      "source": [
        "city_counts"
      ]
    },
    {
      "cell_type": "markdown",
      "id": "8fc97522",
      "metadata": {
        "id": "8fc97522"
      },
      "source": [
        "**Вывод:**\n",
        "\n",
        "Всего в данных представлены 8 городов. Чаще всего упоминается Пятигорск, реже всего - Москва. Необычно, что столица России в выборке представлена наименее часто, возможно, это связано с тем, что сервис лучше покрывает город Пятигорск и Екатеринбург, или наличием большего количества конкурентов в столице, а также может быть связано с развитием инфраструктуры или иметь другие причины, например, особенности выбранных данных."
      ]
    },
    {
      "cell_type": "markdown",
      "id": "51588122",
      "metadata": {
        "id": "51588122"
      },
      "source": [
        "##### Соотношение пользователей с подпиской и без подписки"
      ]
    },
    {
      "cell_type": "code",
      "execution_count": null,
      "id": "246b0d07",
      "metadata": {
        "id": "246b0d07",
        "outputId": "1c77629c-0add-4d9e-afdb-9f1480cca4aa",
        "colab": {
          "base_uri": "https://localhost:8080/",
          "height": 607
        }
      },
      "outputs": [
        {
          "output_type": "display_data",
          "data": {
            "text/plain": [
              "<Figure size 800x600 with 1 Axes>"
            ],
            "image/png": "[encoded data removed]"
          },
          "metadata": {}
        }
      ],
      "source": [
        "subscription_counts = df_users['subscription_type'].value_counts()\n",
        "\n",
        "plt.figure(figsize=(8, 6))\n",
        "subscription_counts.plot(kind='bar', color='#DDA0DD', edgecolor='black')\n",
        "plt.title('Количество пользователей для каждого типа подписки')\n",
        "plt.xlabel('Тип подписки')\n",
        "plt.ylabel('Количество значений')\n",
        "\n",
        "plt.grid(axis='y', linestyle='--', alpha=0.7)\n",
        "plt.tight_layout()\n",
        "plt.show()"
      ]
    },
    {
      "cell_type": "code",
      "execution_count": null,
      "id": "eeae665b",
      "metadata": {
        "id": "eeae665b",
        "outputId": "0c269740-0713-4af8-96ed-d3002eb93f25",
        "colab": {
          "base_uri": "https://localhost:8080/",
          "height": 675
        }
      },
      "outputs": [
        {
          "output_type": "display_data",
          "data": {
            "text/plain": [
              "<Figure size 800x800 with 1 Axes>"
            ],
            "image/png": "[encoded data removed]"
          },
          "metadata": {}
        }
      ],
      "source": [
        "plt.figure(figsize=(8, 8))\n",
        "plt.pie(subscription_counts, labels=subscription_counts.index, autopct='%1.1f%%', startangle=140,colors=['#87CEFA','#FF7F50'])\n",
        "plt.title('Соотношение количества значений для каждого типа подписки')\n",
        "plt.axis('equal')\n",
        "plt.show()"
      ]
    },
    {
      "cell_type": "markdown",
      "id": "fa2a2545",
      "metadata": {
        "id": "fa2a2545"
      },
      "source": [
        "**Вывод:**\n",
        "Количество пользователей без подписки немного больше, чем пользователей с подпиской. Разница составляет примерно 8.8%."
      ]
    },
    {
      "cell_type": "markdown",
      "id": "fe0f4007",
      "metadata": {
        "id": "fe0f4007"
      },
      "source": [
        "##### Возрост пользователей"
      ]
    },
    {
      "cell_type": "code",
      "execution_count": null,
      "id": "a5406dcb",
      "metadata": {
        "id": "a5406dcb",
        "outputId": "b1fba0c9-9506-4cd1-bfbd-be52d9825c72",
        "colab": {
          "base_uri": "https://localhost:8080/",
          "height": 564
        }
      },
      "outputs": [
        {
          "output_type": "display_data",
          "data": {
            "text/plain": [
              "<Figure size 800x600 with 1 Axes>"
            ],
            "image/png": "[encoded data removed]"
          },
          "metadata": {}
        }
      ],
      "source": [
        "plt.figure(figsize=(8, 6))\n",
        "plt.hist(df_users['age'], bins=30, color='#FFA07A', edgecolor='black')\n",
        "plt.title('Распределение возраста пользователей')\n",
        "plt.xlabel('Возраст')\n",
        "plt.ylabel('Частота')\n",
        "plt.grid(axis='y', linestyle='--', alpha=0.7)  # Добавление сетки\n",
        "plt.show()"
      ]
    },
    {
      "cell_type": "code",
      "execution_count": null,
      "id": "cf1bfe7c",
      "metadata": {
        "id": "cf1bfe7c",
        "outputId": "8512898e-a0de-4420-a38f-2a0e9451d296",
        "colab": {
          "base_uri": "https://localhost:8080/",
          "height": 335
        }
      },
      "outputs": [
        {
          "output_type": "execute_result",
          "data": {
            "text/plain": [
              "count    1565.000000\n",
              "mean       24.922045\n",
              "std         4.553496\n",
              "min        12.000000\n",
              "25%        22.000000\n",
              "50%        25.000000\n",
              "75%        28.000000\n",
              "max        43.000000\n",
              "Name: age, dtype: float64"
            ],
            "text/html": [
              "<div>\n",
              "<style scoped>\n",
              "    .dataframe tbody tr th:only-of-type {\n",
              "        vertical-align: middle;\n",
              "    }\n",
              "\n",
              "    .dataframe tbody tr th {\n",
              "        vertical-align: top;\n",
              "    }\n",
              "\n",
              "    .dataframe thead th {\n",
              "        text-align: right;\n",
              "    }\n",
              "</style>\n",
              "<table border=\"1\" class=\"dataframe\">\n",
              "  <thead>\n",
              "    <tr style=\"text-align: right;\">\n",
              "      <th></th>\n",
              "      <th>age</th>\n",
              "    </tr>\n",
              "  </thead>\n",
              "  <tbody>\n",
              "    <tr>\n",
              "      <th>count</th>\n",
              "      <td>1565.000000</td>\n",
              "    </tr>\n",
              "    <tr>\n",
              "      <th>mean</th>\n",
              "      <td>24.922045</td>\n",
              "    </tr>\n",
              "    <tr>\n",
              "      <th>std</th>\n",
              "      <td>4.553496</td>\n",
              "    </tr>\n",
              "    <tr>\n",
              "      <th>min</th>\n",
              "      <td>12.000000</td>\n",
              "    </tr>\n",
              "    <tr>\n",
              "      <th>25%</th>\n",
              "      <td>22.000000</td>\n",
              "    </tr>\n",
              "    <tr>\n",
              "      <th>50%</th>\n",
              "      <td>25.000000</td>\n",
              "    </tr>\n",
              "    <tr>\n",
              "      <th>75%</th>\n",
              "      <td>28.000000</td>\n",
              "    </tr>\n",
              "    <tr>\n",
              "      <th>max</th>\n",
              "      <td>43.000000</td>\n",
              "    </tr>\n",
              "  </tbody>\n",
              "</table>\n",
              "</div><br><label><b>dtype:</b> float64</label>"
            ]
          },
          "metadata": {},
          "execution_count": 22
        }
      ],
      "source": [
        "df_users['age'].describe()"
      ]
    },
    {
      "cell_type": "markdown",
      "id": "dbfdada0",
      "metadata": {
        "id": "dbfdada0"
      },
      "source": [
        "**Вывод:**\n",
        "    \n",
        "Распределение возраста пользователей сервиса представлено на гистограмме. Видно, что распределение имеет вид нормальной кривой со средним возрастом в районе 25 лет, а так же семетрично относительно среднего. Наиболее часто встречающийся возраст - 25 лет, при этом средний возраст составляет 24.9 лет. Большинство пользователей находятся в возрастном диапазоне от 20 до 30 лет, хотя есть и небольшое количество пользователей старше 30 лет. Обнаружены выбросы в возрастной группе от 12 до 18 лет, вероятно, связанные с наличием несовершеннолетних пользователей. Распределение возраста в выборке выглядит стандартным  и подтверждает ожидаемые демографические характеристики аудитории."
      ]
    },
    {
      "cell_type": "markdown",
      "id": "2dfe6c2b",
      "metadata": {
        "id": "2dfe6c2b"
      },
      "source": [
        "##### Расстояние, которое пользователь преодолел за одну поездку"
      ]
    },
    {
      "cell_type": "code",
      "execution_count": null,
      "id": "14c10494",
      "metadata": {
        "id": "14c10494",
        "outputId": "7cb3cccd-4ce4-4b9b-8c27-bf9b55652aad",
        "colab": {
          "base_uri": "https://localhost:8080/",
          "height": 564
        }
      },
      "outputs": [
        {
          "output_type": "display_data",
          "data": {
            "text/plain": [
              "<Figure size 800x600 with 1 Axes>"
            ],
            "image/png": "[encoded data removed]"
          },
          "metadata": {}
        }
      ],
      "source": [
        "plt.figure(figsize=(8, 6))\n",
        "plt.hist(df_rides['distance'], bins=50, color='skyblue', edgecolor='black')\n",
        "plt.title('Расстояние, преодоленное за одну поездку')\n",
        "plt.xlabel('Расстояние (м)')\n",
        "plt.ylabel('Частота')\n",
        "plt.grid(axis='y', linestyle='--', alpha=0.7)  # Добавление сетки\n",
        "plt.show()"
      ]
    },
    {
      "cell_type": "code",
      "execution_count": null,
      "id": "b09879d4",
      "metadata": {
        "id": "b09879d4",
        "outputId": "b0938384-079c-4c1a-f480-7de62297b643",
        "colab": {
          "base_uri": "https://localhost:8080/",
          "height": 335
        }
      },
      "outputs": [
        {
          "output_type": "execute_result",
          "data": {
            "text/plain": [
              "count    18068.000000\n",
              "mean      3070.659010\n",
              "std       1116.832209\n",
              "min          1.000000\n",
              "25%       2543.000000\n",
              "50%       3134.000000\n",
              "75%       3776.000000\n",
              "max       7211.000000\n",
              "Name: distance, dtype: float64"
            ],
            "text/html": [
              "<div>\n",
              "<style scoped>\n",
              "    .dataframe tbody tr th:only-of-type {\n",
              "        vertical-align: middle;\n",
              "    }\n",
              "\n",
              "    .dataframe tbody tr th {\n",
              "        vertical-align: top;\n",
              "    }\n",
              "\n",
              "    .dataframe thead th {\n",
              "        text-align: right;\n",
              "    }\n",
              "</style>\n",
              "<table border=\"1\" class=\"dataframe\">\n",
              "  <thead>\n",
              "    <tr style=\"text-align: right;\">\n",
              "      <th></th>\n",
              "      <th>distance</th>\n",
              "    </tr>\n",
              "  </thead>\n",
              "  <tbody>\n",
              "    <tr>\n",
              "      <th>count</th>\n",
              "      <td>18068.000000</td>\n",
              "    </tr>\n",
              "    <tr>\n",
              "      <th>mean</th>\n",
              "      <td>3070.659010</td>\n",
              "    </tr>\n",
              "    <tr>\n",
              "      <th>std</th>\n",
              "      <td>1116.832209</td>\n",
              "    </tr>\n",
              "    <tr>\n",
              "      <th>min</th>\n",
              "      <td>1.000000</td>\n",
              "    </tr>\n",
              "    <tr>\n",
              "      <th>25%</th>\n",
              "      <td>2543.000000</td>\n",
              "    </tr>\n",
              "    <tr>\n",
              "      <th>50%</th>\n",
              "      <td>3134.000000</td>\n",
              "    </tr>\n",
              "    <tr>\n",
              "      <th>75%</th>\n",
              "      <td>3776.000000</td>\n",
              "    </tr>\n",
              "    <tr>\n",
              "      <th>max</th>\n",
              "      <td>7211.000000</td>\n",
              "    </tr>\n",
              "  </tbody>\n",
              "</table>\n",
              "</div><br><label><b>dtype:</b> float64</label>"
            ]
          },
          "metadata": {},
          "execution_count": 24
        }
      ],
      "source": [
        "df_rides['distance'].describe()"
      ]
    },
    {
      "cell_type": "markdown",
      "id": "dc33d2f5",
      "metadata": {
        "id": "dc33d2f5"
      },
      "source": [
        "**Вывод:**\n",
        "Расстояние, которое пользователи преодолевают за одну поездку, имеет наибольшую плотность вокруг 3000 метров. Однако существует небольшой пик в районе 500 метров, что может указывать на наличие коротких маршрутов в области общественного транспорта, места работы, дома или другим причинам."
      ]
    },
    {
      "cell_type": "markdown",
      "id": "8154191b",
      "metadata": {
        "id": "8154191b"
      },
      "source": [
        "##### Продолжительность поездок"
      ]
    },
    {
      "cell_type": "code",
      "execution_count": null,
      "id": "f42b87e9",
      "metadata": {
        "id": "f42b87e9",
        "outputId": "dbb92967-6b66-42f9-c39d-c025bd4e2874",
        "colab": {
          "base_uri": "https://localhost:8080/",
          "height": 564
        }
      },
      "outputs": [
        {
          "output_type": "display_data",
          "data": {
            "text/plain": [
              "<Figure size 1000x600 with 1 Axes>"
            ],
            "image/png": "[encoded data removed]"
          },
          "metadata": {}
        }
      ],
      "source": [
        "plt.figure(figsize=(10, 6))\n",
        "plt.hist(df_rides['duration'], bins=50, color='skyblue', edgecolor='black')\n",
        "plt.title('Распределение продолжительности поездок')\n",
        "plt.xlabel('Продолжительность поездки (минуты)')\n",
        "plt.ylabel('Частота')\n",
        "plt.grid(axis='y', linestyle='--', alpha=0.7)  # Добавление сетки\n",
        "plt.show()"
      ]
    },
    {
      "cell_type": "code",
      "execution_count": null,
      "id": "9773e276",
      "metadata": {
        "id": "9773e276",
        "outputId": "fbba42b2-1b83-4642-b258-2ce02a7e5ae5",
        "colab": {
          "base_uri": "https://localhost:8080/",
          "height": 335
        }
      },
      "outputs": [
        {
          "output_type": "execute_result",
          "data": {
            "text/plain": [
              "count    18068.000000\n",
              "mean        17.805011\n",
              "std          6.091051\n",
              "min          0.500000\n",
              "25%         13.597563\n",
              "50%         17.678395\n",
              "75%         21.724800\n",
              "max         40.823963\n",
              "Name: duration, dtype: float64"
            ],
            "text/html": [
              "<div>\n",
              "<style scoped>\n",
              "    .dataframe tbody tr th:only-of-type {\n",
              "        vertical-align: middle;\n",
              "    }\n",
              "\n",
              "    .dataframe tbody tr th {\n",
              "        vertical-align: top;\n",
              "    }\n",
              "\n",
              "    .dataframe thead th {\n",
              "        text-align: right;\n",
              "    }\n",
              "</style>\n",
              "<table border=\"1\" class=\"dataframe\">\n",
              "  <thead>\n",
              "    <tr style=\"text-align: right;\">\n",
              "      <th></th>\n",
              "      <th>duration</th>\n",
              "    </tr>\n",
              "  </thead>\n",
              "  <tbody>\n",
              "    <tr>\n",
              "      <th>count</th>\n",
              "      <td>18068.000000</td>\n",
              "    </tr>\n",
              "    <tr>\n",
              "      <th>mean</th>\n",
              "      <td>17.805011</td>\n",
              "    </tr>\n",
              "    <tr>\n",
              "      <th>std</th>\n",
              "      <td>6.091051</td>\n",
              "    </tr>\n",
              "    <tr>\n",
              "      <th>min</th>\n",
              "      <td>0.500000</td>\n",
              "    </tr>\n",
              "    <tr>\n",
              "      <th>25%</th>\n",
              "      <td>13.597563</td>\n",
              "    </tr>\n",
              "    <tr>\n",
              "      <th>50%</th>\n",
              "      <td>17.678395</td>\n",
              "    </tr>\n",
              "    <tr>\n",
              "      <th>75%</th>\n",
              "      <td>21.724800</td>\n",
              "    </tr>\n",
              "    <tr>\n",
              "      <th>max</th>\n",
              "      <td>40.823963</td>\n",
              "    </tr>\n",
              "  </tbody>\n",
              "</table>\n",
              "</div><br><label><b>dtype:</b> float64</label>"
            ]
          },
          "metadata": {},
          "execution_count": 26
        }
      ],
      "source": [
        "df_rides['duration'].describe()"
      ]
    },
    {
      "cell_type": "markdown",
      "id": "996d0bb8",
      "metadata": {
        "id": "996d0bb8"
      },
      "source": [
        "Поездки меньше минуты выгледят как аномалии, следует убрать выбивающиеся значения из выборки"
      ]
    },
    {
      "cell_type": "code",
      "execution_count": null,
      "id": "e574516f",
      "metadata": {
        "id": "e574516f"
      },
      "outputs": [],
      "source": [
        "p1_01 = df_rides['duration'].quantile(0.01)\n",
        "df_rides = df_rides.query('duration >= @p1_01')"
      ]
    },
    {
      "cell_type": "code",
      "execution_count": null,
      "id": "7ba08b4e",
      "metadata": {
        "id": "7ba08b4e",
        "outputId": "7b75a547-29ca-46da-e0d6-aa518fb9258b",
        "colab": {
          "base_uri": "https://localhost:8080/",
          "height": 335
        }
      },
      "outputs": [
        {
          "output_type": "execute_result",
          "data": {
            "text/plain": [
              "count    17887.000000\n",
              "mean        17.967426\n",
              "std          5.901186\n",
              "min          3.991163\n",
              "25%         13.731044\n",
              "50%         17.746024\n",
              "75%         21.765916\n",
              "max         40.823963\n",
              "Name: duration, dtype: float64"
            ],
            "text/html": [
              "<div>\n",
              "<style scoped>\n",
              "    .dataframe tbody tr th:only-of-type {\n",
              "        vertical-align: middle;\n",
              "    }\n",
              "\n",
              "    .dataframe tbody tr th {\n",
              "        vertical-align: top;\n",
              "    }\n",
              "\n",
              "    .dataframe thead th {\n",
              "        text-align: right;\n",
              "    }\n",
              "</style>\n",
              "<table border=\"1\" class=\"dataframe\">\n",
              "  <thead>\n",
              "    <tr style=\"text-align: right;\">\n",
              "      <th></th>\n",
              "      <th>duration</th>\n",
              "    </tr>\n",
              "  </thead>\n",
              "  <tbody>\n",
              "    <tr>\n",
              "      <th>count</th>\n",
              "      <td>17887.000000</td>\n",
              "    </tr>\n",
              "    <tr>\n",
              "      <th>mean</th>\n",
              "      <td>17.967426</td>\n",
              "    </tr>\n",
              "    <tr>\n",
              "      <th>std</th>\n",
              "      <td>5.901186</td>\n",
              "    </tr>\n",
              "    <tr>\n",
              "      <th>min</th>\n",
              "      <td>3.991163</td>\n",
              "    </tr>\n",
              "    <tr>\n",
              "      <th>25%</th>\n",
              "      <td>13.731044</td>\n",
              "    </tr>\n",
              "    <tr>\n",
              "      <th>50%</th>\n",
              "      <td>17.746024</td>\n",
              "    </tr>\n",
              "    <tr>\n",
              "      <th>75%</th>\n",
              "      <td>21.765916</td>\n",
              "    </tr>\n",
              "    <tr>\n",
              "      <th>max</th>\n",
              "      <td>40.823963</td>\n",
              "    </tr>\n",
              "  </tbody>\n",
              "</table>\n",
              "</div><br><label><b>dtype:</b> float64</label>"
            ]
          },
          "metadata": {},
          "execution_count": 28
        }
      ],
      "source": [
        "df_rides['duration'].describe()"
      ]
    },
    {
      "cell_type": "code",
      "execution_count": null,
      "id": "17d66227",
      "metadata": {
        "id": "17d66227",
        "outputId": "05c1f36c-8b99-4ef1-faee-948606403aa1",
        "colab": {
          "base_uri": "https://localhost:8080/",
          "height": 564
        }
      },
      "outputs": [
        {
          "output_type": "display_data",
          "data": {
            "text/plain": [
              "<Figure size 1000x600 with 1 Axes>"
            ],
            "image/png": "[encoded data removed]"
          },
          "metadata": {}
        }
      ],
      "source": [
        "plt.figure(figsize=(10, 6))\n",
        "plt.hist(df_rides['duration'], bins=50, color='skyblue', edgecolor='black')\n",
        "plt.title('Распределение продолжительности поездок')\n",
        "plt.xlabel('Продолжительность поездки (минуты)')\n",
        "plt.ylabel('Частота')\n",
        "plt.grid(axis='y', linestyle='--', alpha=0.7)  # Добавление сетки\n",
        "plt.show()"
      ]
    },
    {
      "cell_type": "markdown",
      "id": "2f775e6d",
      "metadata": {
        "id": "2f775e6d"
      },
      "source": [
        "**Вывод:**\n",
        "\n",
        "\n",
        "Среднее время поездки составляет около 18 минут, причем наиболее часто встречающееся время также находится в диапазоне 17-18 минут. Большинство поездок (около 50%) длится от примерно 13 до 21 минут, с минимальным временем в 3.99 минуты и максимальным - в 40.82 минут. Распределение времени поездки отражает средний характер поездок, хотя имеются как короткие, так и более продолжительные поездки.         "
      ]
    },
    {
      "cell_type": "markdown",
      "id": "0b2ec51d",
      "metadata": {
        "id": "0b2ec51d"
      },
      "source": [
        "##### Вывод"
      ]
    },
    {
      "cell_type": "markdown",
      "id": "cd464e86",
      "metadata": {
        "id": "cd464e86"
      },
      "source": [
        "* Среднее время поездки составляет около 18 минут, с наиболее частым временем в диапазоне 17-18 минут.\n",
        "* Распределение возраста пользователей показывает типичный профиль с пиком в районе 25 лет.\n",
        "* Количество пользователей без подписки немного превышает количество пользователей с подпиской (примерно на 8.8%).\n",
        "* Среди городов, представленных в данных, наиболее часто упоминается Пятигорск, в то время как Москва упоминается реже всего. Необычно, что столица России встречается наименее часто, возможно, из-за особенностей покрытия сервиса или различий в инфраструктуре.\n",
        "* Обнаруженые выбросы в данных о времени поездок, были удалены.\n"
      ]
    },
    {
      "cell_type": "markdown",
      "id": "4ef51331",
      "metadata": {
        "id": "4ef51331"
      },
      "source": [
        "#### Шаг 4. Объединение данных"
      ]
    },
    {
      "cell_type": "markdown",
      "id": "37d28261",
      "metadata": {
        "id": "37d28261"
      },
      "source": [
        "##### Объеденение данных о пользователях, поездках и подписках в один датафрейм."
      ]
    },
    {
      "cell_type": "code",
      "execution_count": null,
      "id": "3c601b34",
      "metadata": {
        "id": "3c601b34",
        "outputId": "8d1f2c20-78df-45d8-8d10-174a7cad5b2e",
        "colab": {
          "base_uri": "https://localhost:8080/"
        }
      },
      "outputs": [
        {
          "output_type": "stream",
          "name": "stdout",
          "text": [
            "Размерность датафрейма df_users (1565, 5)\n",
            "Размерность датафрейма  df_rides (17887, 5)\n"
          ]
        }
      ],
      "source": [
        "print('Размерность датафрейма df_users', df_users.shape)\n",
        "print('Размерность датафрейма  df_rides', df_rides.shape)"
      ]
    },
    {
      "cell_type": "code",
      "execution_count": null,
      "id": "53b11317",
      "metadata": {
        "id": "53b11317",
        "outputId": "9b477984-0509-4c96-97e8-0542abef8048",
        "colab": {
          "base_uri": "https://localhost:8080/"
        }
      },
      "outputs": [
        {
          "output_type": "stream",
          "name": "stdout",
          "text": [
            "1534\n",
            "1534\n"
          ]
        }
      ],
      "source": [
        "print(df_users['user_id'].nunique())\n",
        "print(df_rides['user_id'].nunique())"
      ]
    },
    {
      "cell_type": "code",
      "execution_count": null,
      "id": "9a908942",
      "metadata": {
        "id": "9a908942",
        "outputId": "768f6ab2-cd51-430b-f451-8c0eb0dee985",
        "colab": {
          "base_uri": "https://localhost:8080/",
          "height": 363
        }
      },
      "outputs": [
        {
          "output_type": "execute_result",
          "data": {
            "text/plain": [
              "   user_id  name  age    city subscription_type  distance   duration  \\\n",
              "0        1  Кира   22  Тюмень             ultra    4410.0  25.599769   \n",
              "1        1  Кира   22  Тюмень             ultra    2618.0  15.816871   \n",
              "2        1  Кира   22  Тюмень             ultra     754.0   6.232113   \n",
              "3        1  Кира   22  Тюмень             ultra    2695.0  18.511000   \n",
              "4        1  Кира   22  Тюмень             ultra    4029.0  26.265803   \n",
              "5        1  Кира   22  Тюмень             ultra    2771.0  16.650138   \n",
              "6        1  Кира   22  Тюмень             ultra    3039.0  14.927879   \n",
              "7        1  Кира   22  Тюмень             ultra    2842.0  23.117468   \n",
              "8        1  Кира   22  Тюмень             ultra    3413.0  15.238072   \n",
              "9        1  Кира   22  Тюмень             ultra     749.0  15.041884   \n",
              "\n",
              "        date  month_number  \n",
              "0 2021-01-01             1  \n",
              "1 2021-01-18             1  \n",
              "2 2021-04-20             4  \n",
              "3 2021-08-11             8  \n",
              "4 2021-08-28             8  \n",
              "5 2021-10-09            10  \n",
              "6 2021-10-19            10  \n",
              "7 2021-11-06            11  \n",
              "8 2021-11-14            11  \n",
              "9 2021-11-22            11  "
            ],
            "text/html": [
              "\n",
              "  <div id=\"df-29b411be-a174-4d6c-932b-1afbb3bd84b7\" class=\"colab-df-container\">\n",
              "    <div>\n",
              "<style scoped>\n",
              "    .dataframe tbody tr th:only-of-type {\n",
              "        vertical-align: middle;\n",
              "    }\n",
              "\n",
              "    .dataframe tbody tr th {\n",
              "        vertical-align: top;\n",
              "    }\n",
              "\n",
              "    .dataframe thead th {\n",
              "        text-align: right;\n",
              "    }\n",
              "</style>\n",
              "<table border=\"1\" class=\"dataframe\">\n",
              "  <thead>\n",
              "    <tr style=\"text-align: right;\">\n",
              "      <th></th>\n",
              "      <th>user_id</th>\n",
              "      <th>name</th>\n",
              "      <th>age</th>\n",
              "      <th>city</th>\n",
              "      <th>subscription_type</th>\n",
              "      <th>distance</th>\n",
              "      <th>duration</th>\n",
              "      <th>date</th>\n",
              "      <th>month_number</th>\n",
              "    </tr>\n",
              "  </thead>\n",
              "  <tbody>\n",
              "    <tr>\n",
              "      <th>0</th>\n",
              "      <td>1</td>\n",
              "      <td>Кира</td>\n",
              "      <td>22</td>\n",
              "      <td>Тюмень</td>\n",
              "      <td>ultra</td>\n",
              "      <td>4410.0</td>\n",
              "      <td>25.599769</td>\n",
              "      <td>2021-01-01</td>\n",
              "      <td>1</td>\n",
              "    </tr>\n",
              "    <tr>\n",
              "      <th>1</th>\n",
              "      <td>1</td>\n",
              "      <td>Кира</td>\n",
              "      <td>22</td>\n",
              "      <td>Тюмень</td>\n",
              "      <td>ultra</td>\n",
              "      <td>2618.0</td>\n",
              "      <td>15.816871</td>\n",
              "      <td>2021-01-18</td>\n",
              "      <td>1</td>\n",
              "    </tr>\n",
              "    <tr>\n",
              "      <th>2</th>\n",
              "      <td>1</td>\n",
              "      <td>Кира</td>\n",
              "      <td>22</td>\n",
              "      <td>Тюмень</td>\n",
              "      <td>ultra</td>\n",
              "      <td>754.0</td>\n",
              "      <td>6.232113</td>\n",
              "      <td>2021-04-20</td>\n",
              "      <td>4</td>\n",
              "    </tr>\n",
              "    <tr>\n",
              "      <th>3</th>\n",
              "      <td>1</td>\n",
              "      <td>Кира</td>\n",
              "      <td>22</td>\n",
              "      <td>Тюмень</td>\n",
              "      <td>ultra</td>\n",
              "      <td>2695.0</td>\n",
              "      <td>18.511000</td>\n",
              "      <td>2021-08-11</td>\n",
              "      <td>8</td>\n",
              "    </tr>\n",
              "    <tr>\n",
              "      <th>4</th>\n",
              "      <td>1</td>\n",
              "      <td>Кира</td>\n",
              "      <td>22</td>\n",
              "      <td>Тюмень</td>\n",
              "      <td>ultra</td>\n",
              "      <td>4029.0</td>\n",
              "      <td>26.265803</td>\n",
              "      <td>2021-08-28</td>\n",
              "      <td>8</td>\n",
              "    </tr>\n",
              "    <tr>\n",
              "      <th>5</th>\n",
              "      <td>1</td>\n",
              "      <td>Кира</td>\n",
              "      <td>22</td>\n",
              "      <td>Тюмень</td>\n",
              "      <td>ultra</td>\n",
              "      <td>2771.0</td>\n",
              "      <td>16.650138</td>\n",
              "      <td>2021-10-09</td>\n",
              "      <td>10</td>\n",
              "    </tr>\n",
              "    <tr>\n",
              "      <th>6</th>\n",
              "      <td>1</td>\n",
              "      <td>Кира</td>\n",
              "      <td>22</td>\n",
              "      <td>Тюмень</td>\n",
              "      <td>ultra</td>\n",
              "      <td>3039.0</td>\n",
              "      <td>14.927879</td>\n",
              "      <td>2021-10-19</td>\n",
              "      <td>10</td>\n",
              "    </tr>\n",
              "    <tr>\n",
              "      <th>7</th>\n",
              "      <td>1</td>\n",
              "      <td>Кира</td>\n",
              "      <td>22</td>\n",
              "      <td>Тюмень</td>\n",
              "      <td>ultra</td>\n",
              "      <td>2842.0</td>\n",
              "      <td>23.117468</td>\n",
              "      <td>2021-11-06</td>\n",
              "      <td>11</td>\n",
              "    </tr>\n",
              "    <tr>\n",
              "      <th>8</th>\n",
              "      <td>1</td>\n",
              "      <td>Кира</td>\n",
              "      <td>22</td>\n",
              "      <td>Тюмень</td>\n",
              "      <td>ultra</td>\n",
              "      <td>3413.0</td>\n",
              "      <td>15.238072</td>\n",
              "      <td>2021-11-14</td>\n",
              "      <td>11</td>\n",
              "    </tr>\n",
              "    <tr>\n",
              "      <th>9</th>\n",
              "      <td>1</td>\n",
              "      <td>Кира</td>\n",
              "      <td>22</td>\n",
              "      <td>Тюмень</td>\n",
              "      <td>ultra</td>\n",
              "      <td>749.0</td>\n",
              "      <td>15.041884</td>\n",
              "      <td>2021-11-22</td>\n",
              "      <td>11</td>\n",
              "    </tr>\n",
              "  </tbody>\n",
              "</table>\n",
              "</div>\n",
              "    <div class=\"colab-df-buttons\">\n",
              "\n",
              "  <div class=\"colab-df-container\">\n",
              "    <button class=\"colab-df-convert\" onclick=\"convertToInteractive('df-29b411be-a174-4d6c-932b-1afbb3bd84b7')\"\n",
              "            title=\"Convert this dataframe to an interactive table.\"\n",
              "            style=\"display:none;\">\n",
              "\n",
              "  <svg xmlns=\"http://www.w3.org/2000/svg\" height=\"24px\" viewBox=\"0 -960 960 960\">\n",
              "    <path d=\"M120-120v-720h720v720H120Zm60-500h600v-160H180v160Zm220 220h160v-160H400v160Zm0 220h160v-160H400v160ZM180-400h160v-160H180v160Zm440 0h160v-160H620v160ZM180-180h160v-160H180v160Zm440 0h160v-160H620v160Z\"/>\n",
              "  </svg>\n",
              "    </button>\n",
              "\n",
              "  <style>\n",
              "    .colab-df-container {\n",
              "      display:flex;\n",
              "      gap: 12px;\n",
              "    }\n",
              "\n",
              "    .colab-df-convert {\n",
              "      background-color: #E8F0FE;\n",
              "      border: none;\n",
              "      border-radius: 50%;\n",
              "      cursor: pointer;\n",
              "      display: none;\n",
              "      fill: #1967D2;\n",
              "      height: 32px;\n",
              "      padding: 0 0 0 0;\n",
              "      width: 32px;\n",
              "    }\n",
              "\n",
              "    .colab-df-convert:hover {\n",
              "      background-color: #E2EBFA;\n",
              "      box-shadow: 0px 1px 2px rgba(60, 64, 67, 0.3), 0px 1px 3px 1px rgba(60, 64, 67, 0.15);\n",
              "      fill: #174EA6;\n",
              "    }\n",
              "\n",
              "    .colab-df-buttons div {\n",
              "      margin-bottom: 4px;\n",
              "    }\n",
              "\n",
              "    [theme=dark] .colab-df-convert {\n",
              "      background-color: #3B4455;\n",
              "      fill: #D2E3FC;\n",
              "    }\n",
              "\n",
              "    [theme=dark] .colab-df-convert:hover {\n",
              "      background-color: #434B5C;\n",
              "      box-shadow: 0px 1px 3px 1px rgba(0, 0, 0, 0.15);\n",
              "      filter: drop-shadow(0px 1px 2px rgba(0, 0, 0, 0.3));\n",
              "      fill: #FFFFFF;\n",
              "    }\n",
              "  </style>\n",
              "\n",
              "    <script>\n",
              "      const buttonEl =\n",
              "        document.querySelector('#df-29b411be-a174-4d6c-932b-1afbb3bd84b7 button.colab-df-convert');\n",
              "      buttonEl.style.display =\n",
              "        google.colab.kernel.accessAllowed ? 'block' : 'none';\n",
              "\n",
              "      async function convertToInteractive(key) {\n",
              "        const element = document.querySelector('#df-29b411be-a174-4d6c-932b-1afbb3bd84b7');\n",
              "        const dataTable =\n",
              "          await google.colab.kernel.invokeFunction('convertToInteractive',\n",
              "                                                    [key], {});\n",
              "        if (!dataTable) return;\n",
              "\n",
              "        const docLinkHtml = 'Like what you see? Visit the ' +\n",
              "          '<a target=\"_blank\" href=https://colab.research.google.com/notebooks/data_table.ipynb>data table notebook</a>'\n",
              "          + ' to learn more about interactive tables.';\n",
              "        element.innerHTML = '';\n",
              "        dataTable['output_type'] = 'display_data';\n",
              "        await google.colab.output.renderOutput(dataTable, element);\n",
              "        const docLink = document.createElement('div');\n",
              "        docLink.innerHTML = docLinkHtml;\n",
              "        element.appendChild(docLink);\n",
              "      }\n",
              "    </script>\n",
              "  </div>\n",
              "\n",
              "\n",
              "<div id=\"df-82a77231-6424-434d-b719-c813ce43a657\">\n",
              "  <button class=\"colab-df-quickchart\" onclick=\"quickchart('df-82a77231-6424-434d-b719-c813ce43a657')\"\n",
              "            title=\"Suggest charts\"\n",
              "            style=\"display:none;\">\n",
              "\n",
              "<svg xmlns=\"http://www.w3.org/2000/svg\" height=\"24px\"viewBox=\"0 0 24 24\"\n",
              "     width=\"24px\">\n",
              "    <g>\n",
              "        <path d=\"M19 3H5c-1.1 0-2 .9-2 2v14c0 1.1.9 2 2 2h14c1.1 0 2-.9 2-2V5c0-1.1-.9-2-2-2zM9 17H7v-7h2v7zm4 0h-2V7h2v10zm4 0h-2v-4h2v4z\"/>\n",
              "    </g>\n",
              "</svg>\n",
              "  </button>\n",
              "\n",
              "<style>\n",
              "  .colab-df-quickchart {\n",
              "      --bg-color: #E8F0FE;\n",
              "      --fill-color: #1967D2;\n",
              "      --hover-bg-color: #E2EBFA;\n",
              "      --hover-fill-color: #174EA6;\n",
              "      --disabled-fill-color: #AAA;\n",
              "      --disabled-bg-color: #DDD;\n",
              "  }\n",
              "\n",
              "  [theme=dark] .colab-df-quickchart {\n",
              "      --bg-color: #3B4455;\n",
              "      --fill-color: #D2E3FC;\n",
              "      --hover-bg-color: #434B5C;\n",
              "      --hover-fill-color: #FFFFFF;\n",
              "      --disabled-bg-color: #3B4455;\n",
              "      --disabled-fill-color: #666;\n",
              "  }\n",
              "\n",
              "  .colab-df-quickchart {\n",
              "    background-color: var(--bg-color);\n",
              "    border: none;\n",
              "    border-radius: 50%;\n",
              "    cursor: pointer;\n",
              "    display: none;\n",
              "    fill: var(--fill-color);\n",
              "    height: 32px;\n",
              "    padding: 0;\n",
              "    width: 32px;\n",
              "  }\n",
              "\n",
              "  .colab-df-quickchart:hover {\n",
              "    background-color: var(--hover-bg-color);\n",
              "    box-shadow: 0 1px 2px rgba(60, 64, 67, 0.3), 0 1px 3px 1px rgba(60, 64, 67, 0.15);\n",
              "    fill: var(--button-hover-fill-color);\n",
              "  }\n",
              "\n",
              "  .colab-df-quickchart-complete:disabled,\n",
              "  .colab-df-quickchart-complete:disabled:hover {\n",
              "    background-color: var(--disabled-bg-color);\n",
              "    fill: var(--disabled-fill-color);\n",
              "    box-shadow: none;\n",
              "  }\n",
              "\n",
              "  .colab-df-spinner {\n",
              "    border: 2px solid var(--fill-color);\n",
              "    border-color: transparent;\n",
              "    border-bottom-color: var(--fill-color);\n",
              "    animation:\n",
              "      spin 1s steps(1) infinite;\n",
              "  }\n",
              "\n",
              "  @keyframes spin {\n",
              "    0% {\n",
              "      border-color: transparent;\n",
              "      border-bottom-color: var(--fill-color);\n",
              "      border-left-color: var(--fill-color);\n",
              "    }\n",
              "    20% {\n",
              "      border-color: transparent;\n",
              "      border-left-color: var(--fill-color);\n",
              "      border-top-color: var(--fill-color);\n",
              "    }\n",
              "    30% {\n",
              "      border-color: transparent;\n",
              "      border-left-color: var(--fill-color);\n",
              "      border-top-color: var(--fill-color);\n",
              "      border-right-color: var(--fill-color);\n",
              "    }\n",
              "    40% {\n",
              "      border-color: transparent;\n",
              "      border-right-color: var(--fill-color);\n",
              "      border-top-color: var(--fill-color);\n",
              "    }\n",
              "    60% {\n",
              "      border-color: transparent;\n",
              "      border-right-color: var(--fill-color);\n",
              "    }\n",
              "    80% {\n",
              "      border-color: transparent;\n",
              "      border-right-color: var(--fill-color);\n",
              "      border-bottom-color: var(--fill-color);\n",
              "    }\n",
              "    90% {\n",
              "      border-color: transparent;\n",
              "      border-bottom-color: var(--fill-color);\n",
              "    }\n",
              "  }\n",
              "</style>\n",
              "\n",
              "  <script>\n",
              "    async function quickchart(key) {\n",
              "      const quickchartButtonEl =\n",
              "        document.querySelector('#' + key + ' button');\n",
              "      quickchartButtonEl.disabled = true;  // To prevent multiple clicks.\n",
              "      quickchartButtonEl.classList.add('colab-df-spinner');\n",
              "      try {\n",
              "        const charts = await google.colab.kernel.invokeFunction(\n",
              "            'suggestCharts', [key], {});\n",
              "      } catch (error) {\n",
              "        console.error('Error during call to suggestCharts:', error);\n",
              "      }\n",
              "      quickchartButtonEl.classList.remove('colab-df-spinner');\n",
              "      quickchartButtonEl.classList.add('colab-df-quickchart-complete');\n",
              "    }\n",
              "    (() => {\n",
              "      let quickchartButtonEl =\n",
              "        document.querySelector('#df-82a77231-6424-434d-b719-c813ce43a657 button');\n",
              "      quickchartButtonEl.style.display =\n",
              "        google.colab.kernel.accessAllowed ? 'block' : 'none';\n",
              "    })();\n",
              "  </script>\n",
              "</div>\n",
              "    </div>\n",
              "  </div>\n"
            ],
            "application/vnd.google.colaboratory.intrinsic+json": {
              "type": "dataframe",
              "variable_name": "df_combined",
              "summary": "{\n  \"name\": \"df_combined\",\n  \"rows\": 18204,\n  \"fields\": [\n    {\n      \"column\": \"user_id\",\n      \"properties\": {\n        \"dtype\": \"number\",\n        \"std\": 435,\n        \"min\": 1,\n        \"max\": 1534,\n        \"num_unique_values\": 1534,\n        \"samples\": [\n          1365,\n          77,\n          317\n        ],\n        \"semantic_type\": \"\",\n        \"description\": \"\"\n      }\n    },\n    {\n      \"column\": \"name\",\n      \"properties\": {\n        \"dtype\": \"category\",\n        \"num_unique_values\": 194,\n        \"samples\": [\n          \"\\u042d\\u043c\\u0438\\u043b\\u0438\\u044f\",\n          \"\\u0414\\u0430\\u043d\\u0438\\u0438\\u043b\",\n          \"\\u042e\\u043b\\u0438\\u044f\"\n        ],\n        \"semantic_type\": \"\",\n        \"description\": \"\"\n      }\n    },\n    {\n      \"column\": \"age\",\n      \"properties\": {\n        \"dtype\": \"number\",\n        \"std\": 4,\n        \"min\": 12,\n        \"max\": 43,\n        \"num_unique_values\": 29,\n        \"samples\": [\n          39,\n          17,\n          32\n        ],\n        \"semantic_type\": \"\",\n        \"description\": \"\"\n      }\n    },\n    {\n      \"column\": \"city\",\n      \"properties\": {\n        \"dtype\": \"category\",\n        \"num_unique_values\": 8,\n        \"samples\": [\n          \"\\u041e\\u043c\\u0441\\u043a\",\n          \"\\u041f\\u044f\\u0442\\u0438\\u0433\\u043e\\u0440\\u0441\\u043a\",\n          \"\\u0422\\u044e\\u043c\\u0435\\u043d\\u044c\"\n        ],\n        \"semantic_type\": \"\",\n        \"description\": \"\"\n      }\n    },\n    {\n      \"column\": \"subscription_type\",\n      \"properties\": {\n        \"dtype\": \"category\",\n        \"num_unique_values\": 2,\n        \"samples\": [\n          \"free\",\n          \"ultra\"\n        ],\n        \"semantic_type\": \"\",\n        \"description\": \"\"\n      }\n    },\n    {\n      \"column\": \"distance\",\n      \"properties\": {\n        \"dtype\": \"number\",\n        \"std\": 1093.5362277394743,\n        \"min\": 1.0,\n        \"max\": 7066.0,\n        \"num_unique_values\": 4542,\n        \"samples\": [\n          3679.0,\n          4116.0\n        ],\n        \"semantic_type\": \"\",\n        \"description\": \"\"\n      }\n    },\n    {\n      \"column\": \"duration\",\n      \"properties\": {\n        \"dtype\": \"number\",\n        \"std\": 5.8988810704108685,\n        \"min\": 3.9911626888926,\n        \"max\": 40.82396261922424,\n        \"num_unique_values\": 17887,\n        \"samples\": [\n          13.816229293272418,\n          22.40223629739571\n        ],\n        \"semantic_type\": \"\",\n        \"description\": \"\"\n      }\n    },\n    {\n      \"column\": \"date\",\n      \"properties\": {\n        \"dtype\": \"date\",\n        \"min\": \"2021-01-01 00:00:00\",\n        \"max\": \"2021-12-30 00:00:00\",\n        \"num_unique_values\": 364,\n        \"samples\": [\n          \"2021-12-24 00:00:00\",\n          \"2021-09-04 00:00:00\"\n        ],\n        \"semantic_type\": \"\",\n        \"description\": \"\"\n      }\n    },\n    {\n      \"column\": \"month_number\",\n      \"properties\": {\n        \"dtype\": \"int32\",\n        \"num_unique_values\": 12,\n        \"samples\": [\n          5,\n          2\n        ],\n        \"semantic_type\": \"\",\n        \"description\": \"\"\n      }\n    }\n  ]\n}"
            }
          },
          "metadata": {},
          "execution_count": 32
        }
      ],
      "source": [
        "df_combined = pd.merge(df_users, df_rides, on='user_id')\n",
        "df_combined.head(10)"
      ]
    },
    {
      "cell_type": "code",
      "execution_count": null,
      "id": "324adea7",
      "metadata": {
        "id": "324adea7",
        "outputId": "8d1ac634-2606-4c32-a67e-419a6d9e820c",
        "colab": {
          "base_uri": "https://localhost:8080/"
        }
      },
      "outputs": [
        {
          "output_type": "stream",
          "name": "stdout",
          "text": [
            "Размерность датафрейма df_combined (18204, 9)\n"
          ]
        }
      ],
      "source": [
        "print('Размерность датафрейма df_combined', df_combined.shape)"
      ]
    },
    {
      "cell_type": "code",
      "execution_count": null,
      "id": "27da3bce",
      "metadata": {
        "id": "27da3bce"
      },
      "outputs": [],
      "source": [
        "df_combined = pd.merge(df_combined, df_sub, on='subscription_type')"
      ]
    },
    {
      "cell_type": "code",
      "execution_count": null,
      "id": "ef03cfe2",
      "metadata": {
        "id": "ef03cfe2",
        "outputId": "06d28fa4-bd89-4b61-9891-3c72d5dfb850",
        "colab": {
          "base_uri": "https://localhost:8080/",
          "height": 206
        }
      },
      "outputs": [
        {
          "output_type": "execute_result",
          "data": {
            "text/plain": [
              "   user_id  name  age    city subscription_type  distance   duration  \\\n",
              "0        1  Кира   22  Тюмень             ultra    4410.0  25.599769   \n",
              "1        1  Кира   22  Тюмень             ultra    2618.0  15.816871   \n",
              "2        1  Кира   22  Тюмень             ultra     754.0   6.232113   \n",
              "3        1  Кира   22  Тюмень             ultra    2695.0  18.511000   \n",
              "4        1  Кира   22  Тюмень             ultra    4029.0  26.265803   \n",
              "\n",
              "        date  month_number  minute_price  start_ride_price  subscription_fee  \n",
              "0 2021-01-01             1             6                 0               199  \n",
              "1 2021-01-18             1             6                 0               199  \n",
              "2 2021-04-20             4             6                 0               199  \n",
              "3 2021-08-11             8             6                 0               199  \n",
              "4 2021-08-28             8             6                 0               199  "
            ],
            "text/html": [
              "\n",
              "  <div id=\"df-b497fcce-589a-4e95-a8f7-bf96d5be7c74\" class=\"colab-df-container\">\n",
              "    <div>\n",
              "<style scoped>\n",
              "    .dataframe tbody tr th:only-of-type {\n",
              "        vertical-align: middle;\n",
              "    }\n",
              "\n",
              "    .dataframe tbody tr th {\n",
              "        vertical-align: top;\n",
              "    }\n",
              "\n",
              "    .dataframe thead th {\n",
              "        text-align: right;\n",
              "    }\n",
              "</style>\n",
              "<table border=\"1\" class=\"dataframe\">\n",
              "  <thead>\n",
              "    <tr style=\"text-align: right;\">\n",
              "      <th></th>\n",
              "      <th>user_id</th>\n",
              "      <th>name</th>\n",
              "      <th>age</th>\n",
              "      <th>city</th>\n",
              "      <th>subscription_type</th>\n",
              "      <th>distance</th>\n",
              "      <th>duration</th>\n",
              "      <th>date</th>\n",
              "      <th>month_number</th>\n",
              "      <th>minute_price</th>\n",
              "      <th>start_ride_price</th>\n",
              "      <th>subscription_fee</th>\n",
              "    </tr>\n",
              "  </thead>\n",
              "  <tbody>\n",
              "    <tr>\n",
              "      <th>0</th>\n",
              "      <td>1</td>\n",
              "      <td>Кира</td>\n",
              "      <td>22</td>\n",
              "      <td>Тюмень</td>\n",
              "      <td>ultra</td>\n",
              "      <td>4410.0</td>\n",
              "      <td>25.599769</td>\n",
              "      <td>2021-01-01</td>\n",
              "      <td>1</td>\n",
              "      <td>6</td>\n",
              "      <td>0</td>\n",
              "      <td>199</td>\n",
              "    </tr>\n",
              "    <tr>\n",
              "      <th>1</th>\n",
              "      <td>1</td>\n",
              "      <td>Кира</td>\n",
              "      <td>22</td>\n",
              "      <td>Тюмень</td>\n",
              "      <td>ultra</td>\n",
              "      <td>2618.0</td>\n",
              "      <td>15.816871</td>\n",
              "      <td>2021-01-18</td>\n",
              "      <td>1</td>\n",
              "      <td>6</td>\n",
              "      <td>0</td>\n",
              "      <td>199</td>\n",
              "    </tr>\n",
              "    <tr>\n",
              "      <th>2</th>\n",
              "      <td>1</td>\n",
              "      <td>Кира</td>\n",
              "      <td>22</td>\n",
              "      <td>Тюмень</td>\n",
              "      <td>ultra</td>\n",
              "      <td>754.0</td>\n",
              "      <td>6.232113</td>\n",
              "      <td>2021-04-20</td>\n",
              "      <td>4</td>\n",
              "      <td>6</td>\n",
              "      <td>0</td>\n",
              "      <td>199</td>\n",
              "    </tr>\n",
              "    <tr>\n",
              "      <th>3</th>\n",
              "      <td>1</td>\n",
              "      <td>Кира</td>\n",
              "      <td>22</td>\n",
              "      <td>Тюмень</td>\n",
              "      <td>ultra</td>\n",
              "      <td>2695.0</td>\n",
              "      <td>18.511000</td>\n",
              "      <td>2021-08-11</td>\n",
              "      <td>8</td>\n",
              "      <td>6</td>\n",
              "      <td>0</td>\n",
              "      <td>199</td>\n",
              "    </tr>\n",
              "    <tr>\n",
              "      <th>4</th>\n",
              "      <td>1</td>\n",
              "      <td>Кира</td>\n",
              "      <td>22</td>\n",
              "      <td>Тюмень</td>\n",
              "      <td>ultra</td>\n",
              "      <td>4029.0</td>\n",
              "      <td>26.265803</td>\n",
              "      <td>2021-08-28</td>\n",
              "      <td>8</td>\n",
              "      <td>6</td>\n",
              "      <td>0</td>\n",
              "      <td>199</td>\n",
              "    </tr>\n",
              "  </tbody>\n",
              "</table>\n",
              "</div>\n",
              "    <div class=\"colab-df-buttons\">\n",
              "\n",
              "  <div class=\"colab-df-container\">\n",
              "    <button class=\"colab-df-convert\" onclick=\"convertToInteractive('df-b497fcce-589a-4e95-a8f7-bf96d5be7c74')\"\n",
              "            title=\"Convert this dataframe to an interactive table.\"\n",
              "            style=\"display:none;\">\n",
              "\n",
              "  <svg xmlns=\"http://www.w3.org/2000/svg\" height=\"24px\" viewBox=\"0 -960 960 960\">\n",
              "    <path d=\"M120-120v-720h720v720H120Zm60-500h600v-160H180v160Zm220 220h160v-160H400v160Zm0 220h160v-160H400v160ZM180-400h160v-160H180v160Zm440 0h160v-160H620v160ZM180-180h160v-160H180v160Zm440 0h160v-160H620v160Z\"/>\n",
              "  </svg>\n",
              "    </button>\n",
              "\n",
              "  <style>\n",
              "    .colab-df-container {\n",
              "      display:flex;\n",
              "      gap: 12px;\n",
              "    }\n",
              "\n",
              "    .colab-df-convert {\n",
              "      background-color: #E8F0FE;\n",
              "      border: none;\n",
              "      border-radius: 50%;\n",
              "      cursor: pointer;\n",
              "      display: none;\n",
              "      fill: #1967D2;\n",
              "      height: 32px;\n",
              "      padding: 0 0 0 0;\n",
              "      width: 32px;\n",
              "    }\n",
              "\n",
              "    .colab-df-convert:hover {\n",
              "      background-color: #E2EBFA;\n",
              "      box-shadow: 0px 1px 2px rgba(60, 64, 67, 0.3), 0px 1px 3px 1px rgba(60, 64, 67, 0.15);\n",
              "      fill: #174EA6;\n",
              "    }\n",
              "\n",
              "    .colab-df-buttons div {\n",
              "      margin-bottom: 4px;\n",
              "    }\n",
              "\n",
              "    [theme=dark] .colab-df-convert {\n",
              "      background-color: #3B4455;\n",
              "      fill: #D2E3FC;\n",
              "    }\n",
              "\n",
              "    [theme=dark] .colab-df-convert:hover {\n",
              "      background-color: #434B5C;\n",
              "      box-shadow: 0px 1px 3px 1px rgba(0, 0, 0, 0.15);\n",
              "      filter: drop-shadow(0px 1px 2px rgba(0, 0, 0, 0.3));\n",
              "      fill: #FFFFFF;\n",
              "    }\n",
              "  </style>\n",
              "\n",
              "    <script>\n",
              "      const buttonEl =\n",
              "        document.querySelector('#df-b497fcce-589a-4e95-a8f7-bf96d5be7c74 button.colab-df-convert');\n",
              "      buttonEl.style.display =\n",
              "        google.colab.kernel.accessAllowed ? 'block' : 'none';\n",
              "\n",
              "      async function convertToInteractive(key) {\n",
              "        const element = document.querySelector('#df-b497fcce-589a-4e95-a8f7-bf96d5be7c74');\n",
              "        const dataTable =\n",
              "          await google.colab.kernel.invokeFunction('convertToInteractive',\n",
              "                                                    [key], {});\n",
              "        if (!dataTable) return;\n",
              "\n",
              "        const docLinkHtml = 'Like what you see? Visit the ' +\n",
              "          '<a target=\"_blank\" href=https://colab.research.google.com/notebooks/data_table.ipynb>data table notebook</a>'\n",
              "          + ' to learn more about interactive tables.';\n",
              "        element.innerHTML = '';\n",
              "        dataTable['output_type'] = 'display_data';\n",
              "        await google.colab.output.renderOutput(dataTable, element);\n",
              "        const docLink = document.createElement('div');\n",
              "        docLink.innerHTML = docLinkHtml;\n",
              "        element.appendChild(docLink);\n",
              "      }\n",
              "    </script>\n",
              "  </div>\n",
              "\n",
              "\n",
              "<div id=\"df-85707227-23e8-44b8-b787-97c7538ab7af\">\n",
              "  <button class=\"colab-df-quickchart\" onclick=\"quickchart('df-85707227-23e8-44b8-b787-97c7538ab7af')\"\n",
              "            title=\"Suggest charts\"\n",
              "            style=\"display:none;\">\n",
              "\n",
              "<svg xmlns=\"http://www.w3.org/2000/svg\" height=\"24px\"viewBox=\"0 0 24 24\"\n",
              "     width=\"24px\">\n",
              "    <g>\n",
              "        <path d=\"M19 3H5c-1.1 0-2 .9-2 2v14c0 1.1.9 2 2 2h14c1.1 0 2-.9 2-2V5c0-1.1-.9-2-2-2zM9 17H7v-7h2v7zm4 0h-2V7h2v10zm4 0h-2v-4h2v4z\"/>\n",
              "    </g>\n",
              "</svg>\n",
              "  </button>\n",
              "\n",
              "<style>\n",
              "  .colab-df-quickchart {\n",
              "      --bg-color: #E8F0FE;\n",
              "      --fill-color: #1967D2;\n",
              "      --hover-bg-color: #E2EBFA;\n",
              "      --hover-fill-color: #174EA6;\n",
              "      --disabled-fill-color: #AAA;\n",
              "      --disabled-bg-color: #DDD;\n",
              "  }\n",
              "\n",
              "  [theme=dark] .colab-df-quickchart {\n",
              "      --bg-color: #3B4455;\n",
              "      --fill-color: #D2E3FC;\n",
              "      --hover-bg-color: #434B5C;\n",
              "      --hover-fill-color: #FFFFFF;\n",
              "      --disabled-bg-color: #3B4455;\n",
              "      --disabled-fill-color: #666;\n",
              "  }\n",
              "\n",
              "  .colab-df-quickchart {\n",
              "    background-color: var(--bg-color);\n",
              "    border: none;\n",
              "    border-radius: 50%;\n",
              "    cursor: pointer;\n",
              "    display: none;\n",
              "    fill: var(--fill-color);\n",
              "    height: 32px;\n",
              "    padding: 0;\n",
              "    width: 32px;\n",
              "  }\n",
              "\n",
              "  .colab-df-quickchart:hover {\n",
              "    background-color: var(--hover-bg-color);\n",
              "    box-shadow: 0 1px 2px rgba(60, 64, 67, 0.3), 0 1px 3px 1px rgba(60, 64, 67, 0.15);\n",
              "    fill: var(--button-hover-fill-color);\n",
              "  }\n",
              "\n",
              "  .colab-df-quickchart-complete:disabled,\n",
              "  .colab-df-quickchart-complete:disabled:hover {\n",
              "    background-color: var(--disabled-bg-color);\n",
              "    fill: var(--disabled-fill-color);\n",
              "    box-shadow: none;\n",
              "  }\n",
              "\n",
              "  .colab-df-spinner {\n",
              "    border: 2px solid var(--fill-color);\n",
              "    border-color: transparent;\n",
              "    border-bottom-color: var(--fill-color);\n",
              "    animation:\n",
              "      spin 1s steps(1) infinite;\n",
              "  }\n",
              "\n",
              "  @keyframes spin {\n",
              "    0% {\n",
              "      border-color: transparent;\n",
              "      border-bottom-color: var(--fill-color);\n",
              "      border-left-color: var(--fill-color);\n",
              "    }\n",
              "    20% {\n",
              "      border-color: transparent;\n",
              "      border-left-color: var(--fill-color);\n",
              "      border-top-color: var(--fill-color);\n",
              "    }\n",
              "    30% {\n",
              "      border-color: transparent;\n",
              "      border-left-color: var(--fill-color);\n",
              "      border-top-color: var(--fill-color);\n",
              "      border-right-color: var(--fill-color);\n",
              "    }\n",
              "    40% {\n",
              "      border-color: transparent;\n",
              "      border-right-color: var(--fill-color);\n",
              "      border-top-color: var(--fill-color);\n",
              "    }\n",
              "    60% {\n",
              "      border-color: transparent;\n",
              "      border-right-color: var(--fill-color);\n",
              "    }\n",
              "    80% {\n",
              "      border-color: transparent;\n",
              "      border-right-color: var(--fill-color);\n",
              "      border-bottom-color: var(--fill-color);\n",
              "    }\n",
              "    90% {\n",
              "      border-color: transparent;\n",
              "      border-bottom-color: var(--fill-color);\n",
              "    }\n",
              "  }\n",
              "</style>\n",
              "\n",
              "  <script>\n",
              "    async function quickchart(key) {\n",
              "      const quickchartButtonEl =\n",
              "        document.querySelector('#' + key + ' button');\n",
              "      quickchartButtonEl.disabled = true;  // To prevent multiple clicks.\n",
              "      quickchartButtonEl.classList.add('colab-df-spinner');\n",
              "      try {\n",
              "        const charts = await google.colab.kernel.invokeFunction(\n",
              "            'suggestCharts', [key], {});\n",
              "      } catch (error) {\n",
              "        console.error('Error during call to suggestCharts:', error);\n",
              "      }\n",
              "      quickchartButtonEl.classList.remove('colab-df-spinner');\n",
              "      quickchartButtonEl.classList.add('colab-df-quickchart-complete');\n",
              "    }\n",
              "    (() => {\n",
              "      let quickchartButtonEl =\n",
              "        document.querySelector('#df-85707227-23e8-44b8-b787-97c7538ab7af button');\n",
              "      quickchartButtonEl.style.display =\n",
              "        google.colab.kernel.accessAllowed ? 'block' : 'none';\n",
              "    })();\n",
              "  </script>\n",
              "</div>\n",
              "    </div>\n",
              "  </div>\n"
            ],
            "application/vnd.google.colaboratory.intrinsic+json": {
              "type": "dataframe",
              "variable_name": "df_combined",
              "summary": "{\n  \"name\": \"df_combined\",\n  \"rows\": 18204,\n  \"fields\": [\n    {\n      \"column\": \"user_id\",\n      \"properties\": {\n        \"dtype\": \"number\",\n        \"std\": 435,\n        \"min\": 1,\n        \"max\": 1534,\n        \"num_unique_values\": 1534,\n        \"samples\": [\n          1365,\n          77,\n          317\n        ],\n        \"semantic_type\": \"\",\n        \"description\": \"\"\n      }\n    },\n    {\n      \"column\": \"name\",\n      \"properties\": {\n        \"dtype\": \"category\",\n        \"num_unique_values\": 194,\n        \"samples\": [\n          \"\\u042d\\u043c\\u0438\\u043b\\u0438\\u044f\",\n          \"\\u0414\\u0430\\u043d\\u0438\\u0438\\u043b\",\n          \"\\u042e\\u043b\\u0438\\u044f\"\n        ],\n        \"semantic_type\": \"\",\n        \"description\": \"\"\n      }\n    },\n    {\n      \"column\": \"age\",\n      \"properties\": {\n        \"dtype\": \"number\",\n        \"std\": 4,\n        \"min\": 12,\n        \"max\": 43,\n        \"num_unique_values\": 29,\n        \"samples\": [\n          39,\n          17,\n          32\n        ],\n        \"semantic_type\": \"\",\n        \"description\": \"\"\n      }\n    },\n    {\n      \"column\": \"city\",\n      \"properties\": {\n        \"dtype\": \"category\",\n        \"num_unique_values\": 8,\n        \"samples\": [\n          \"\\u041e\\u043c\\u0441\\u043a\",\n          \"\\u041f\\u044f\\u0442\\u0438\\u0433\\u043e\\u0440\\u0441\\u043a\",\n          \"\\u0422\\u044e\\u043c\\u0435\\u043d\\u044c\"\n        ],\n        \"semantic_type\": \"\",\n        \"description\": \"\"\n      }\n    },\n    {\n      \"column\": \"subscription_type\",\n      \"properties\": {\n        \"dtype\": \"category\",\n        \"num_unique_values\": 2,\n        \"samples\": [\n          \"free\",\n          \"ultra\"\n        ],\n        \"semantic_type\": \"\",\n        \"description\": \"\"\n      }\n    },\n    {\n      \"column\": \"distance\",\n      \"properties\": {\n        \"dtype\": \"number\",\n        \"std\": 1093.5362277394743,\n        \"min\": 1.0,\n        \"max\": 7066.0,\n        \"num_unique_values\": 4542,\n        \"samples\": [\n          3679.0,\n          4116.0\n        ],\n        \"semantic_type\": \"\",\n        \"description\": \"\"\n      }\n    },\n    {\n      \"column\": \"duration\",\n      \"properties\": {\n        \"dtype\": \"number\",\n        \"std\": 5.8988810704108685,\n        \"min\": 3.9911626888926,\n        \"max\": 40.82396261922424,\n        \"num_unique_values\": 17887,\n        \"samples\": [\n          13.816229293272418,\n          22.40223629739571\n        ],\n        \"semantic_type\": \"\",\n        \"description\": \"\"\n      }\n    },\n    {\n      \"column\": \"date\",\n      \"properties\": {\n        \"dtype\": \"date\",\n        \"min\": \"2021-01-01 00:00:00\",\n        \"max\": \"2021-12-30 00:00:00\",\n        \"num_unique_values\": 364,\n        \"samples\": [\n          \"2021-12-24 00:00:00\",\n          \"2021-09-04 00:00:00\"\n        ],\n        \"semantic_type\": \"\",\n        \"description\": \"\"\n      }\n    },\n    {\n      \"column\": \"month_number\",\n      \"properties\": {\n        \"dtype\": \"int32\",\n        \"num_unique_values\": 12,\n        \"samples\": [\n          5,\n          2\n        ],\n        \"semantic_type\": \"\",\n        \"description\": \"\"\n      }\n    },\n    {\n      \"column\": \"minute_price\",\n      \"properties\": {\n        \"dtype\": \"number\",\n        \"std\": 0,\n        \"min\": 6,\n        \"max\": 8,\n        \"num_unique_values\": 2,\n        \"samples\": [\n          8,\n          6\n        ],\n        \"semantic_type\": \"\",\n        \"description\": \"\"\n      }\n    },\n    {\n      \"column\": \"start_ride_price\",\n      \"properties\": {\n        \"dtype\": \"number\",\n        \"std\": 24,\n        \"min\": 0,\n        \"max\": 50,\n        \"num_unique_values\": 2,\n        \"samples\": [\n          50,\n          0\n        ],\n        \"semantic_type\": \"\",\n        \"description\": \"\"\n      }\n    },\n    {\n      \"column\": \"subscription_fee\",\n      \"properties\": {\n        \"dtype\": \"number\",\n        \"std\": 95,\n        \"min\": 0,\n        \"max\": 199,\n        \"num_unique_values\": 2,\n        \"samples\": [\n          0,\n          199\n        ],\n        \"semantic_type\": \"\",\n        \"description\": \"\"\n      }\n    }\n  ]\n}"
            }
          },
          "metadata": {},
          "execution_count": 35
        }
      ],
      "source": [
        "pd.set_option('display.max_columns', None)\n",
        "df_combined.head()"
      ]
    },
    {
      "cell_type": "code",
      "execution_count": null,
      "id": "4e453fe8",
      "metadata": {
        "id": "4e453fe8",
        "outputId": "cdde4a0a-8eb5-4416-a97d-4bbf354bdce5",
        "colab": {
          "base_uri": "https://localhost:8080/",
          "height": 460
        }
      },
      "outputs": [
        {
          "output_type": "execute_result",
          "data": {
            "text/plain": [
              "user_id              0\n",
              "name                 0\n",
              "age                  0\n",
              "city                 0\n",
              "subscription_type    0\n",
              "distance             0\n",
              "duration             0\n",
              "date                 0\n",
              "month_number         0\n",
              "minute_price         0\n",
              "start_ride_price     0\n",
              "subscription_fee     0\n",
              "dtype: int64"
            ],
            "text/html": [
              "<div>\n",
              "<style scoped>\n",
              "    .dataframe tbody tr th:only-of-type {\n",
              "        vertical-align: middle;\n",
              "    }\n",
              "\n",
              "    .dataframe tbody tr th {\n",
              "        vertical-align: top;\n",
              "    }\n",
              "\n",
              "    .dataframe thead th {\n",
              "        text-align: right;\n",
              "    }\n",
              "</style>\n",
              "<table border=\"1\" class=\"dataframe\">\n",
              "  <thead>\n",
              "    <tr style=\"text-align: right;\">\n",
              "      <th></th>\n",
              "      <th>0</th>\n",
              "    </tr>\n",
              "  </thead>\n",
              "  <tbody>\n",
              "    <tr>\n",
              "      <th>user_id</th>\n",
              "      <td>0</td>\n",
              "    </tr>\n",
              "    <tr>\n",
              "      <th>name</th>\n",
              "      <td>0</td>\n",
              "    </tr>\n",
              "    <tr>\n",
              "      <th>age</th>\n",
              "      <td>0</td>\n",
              "    </tr>\n",
              "    <tr>\n",
              "      <th>city</th>\n",
              "      <td>0</td>\n",
              "    </tr>\n",
              "    <tr>\n",
              "      <th>subscription_type</th>\n",
              "      <td>0</td>\n",
              "    </tr>\n",
              "    <tr>\n",
              "      <th>distance</th>\n",
              "      <td>0</td>\n",
              "    </tr>\n",
              "    <tr>\n",
              "      <th>duration</th>\n",
              "      <td>0</td>\n",
              "    </tr>\n",
              "    <tr>\n",
              "      <th>date</th>\n",
              "      <td>0</td>\n",
              "    </tr>\n",
              "    <tr>\n",
              "      <th>month_number</th>\n",
              "      <td>0</td>\n",
              "    </tr>\n",
              "    <tr>\n",
              "      <th>minute_price</th>\n",
              "      <td>0</td>\n",
              "    </tr>\n",
              "    <tr>\n",
              "      <th>start_ride_price</th>\n",
              "      <td>0</td>\n",
              "    </tr>\n",
              "    <tr>\n",
              "      <th>subscription_fee</th>\n",
              "      <td>0</td>\n",
              "    </tr>\n",
              "  </tbody>\n",
              "</table>\n",
              "</div><br><label><b>dtype:</b> int64</label>"
            ]
          },
          "metadata": {},
          "execution_count": 36
        }
      ],
      "source": [
        "df_combined.isna().sum()"
      ]
    },
    {
      "cell_type": "code",
      "execution_count": null,
      "id": "95b85e5e",
      "metadata": {
        "id": "95b85e5e"
      },
      "outputs": [],
      "source": [
        "df_combined = df_combined.drop_duplicates()"
      ]
    },
    {
      "cell_type": "code",
      "execution_count": null,
      "id": "18e408eb",
      "metadata": {
        "id": "18e408eb",
        "outputId": "44a89070-11d7-484e-a43c-ab6761bdf4f2",
        "colab": {
          "base_uri": "https://localhost:8080/",
          "height": 423
        }
      },
      "outputs": [
        {
          "output_type": "execute_result",
          "data": {
            "text/plain": [
              "       user_id     name  age       city subscription_type  distance  \\\n",
              "0            1     Кира   22     Тюмень             ultra    4410.0   \n",
              "1            1     Кира   22     Тюмень             ultra    2618.0   \n",
              "2            1     Кира   22     Тюмень             ultra     754.0   \n",
              "3            1     Кира   22     Тюмень             ultra    2695.0   \n",
              "4            1     Кира   22     Тюмень             ultra    4029.0   \n",
              "...        ...      ...  ...        ...               ...       ...   \n",
              "17882     1534  Альберт   25  Краснодар              free    3781.0   \n",
              "17883     1534  Альберт   25  Краснодар              free    2840.0   \n",
              "17884     1534  Альберт   25  Краснодар              free    3826.0   \n",
              "17885     1534  Альберт   25  Краснодар              free    2902.0   \n",
              "17886     1534  Альберт   25  Краснодар              free    2372.0   \n",
              "\n",
              "        duration       date  month_number  minute_price  start_ride_price  \\\n",
              "0      25.599769 2021-01-01             1             6                 0   \n",
              "1      15.816871 2021-01-18             1             6                 0   \n",
              "2       6.232113 2021-04-20             4             6                 0   \n",
              "3      18.511000 2021-08-11             8             6                 0   \n",
              "4      26.265803 2021-08-28             8             6                 0   \n",
              "...          ...        ...           ...           ...               ...   \n",
              "17882  19.822962 2021-11-04            11             8                50   \n",
              "17883  21.409799 2021-11-16            11             8                50   \n",
              "17884  18.435051 2021-11-18            11             8                50   \n",
              "17885  16.674362 2021-11-27            11             8                50   \n",
              "17886  15.893917 2021-12-29            12             8                50   \n",
              "\n",
              "       subscription_fee  \n",
              "0                   199  \n",
              "1                   199  \n",
              "2                   199  \n",
              "3                   199  \n",
              "4                   199  \n",
              "...                 ...  \n",
              "17882                 0  \n",
              "17883                 0  \n",
              "17884                 0  \n",
              "17885                 0  \n",
              "17886                 0  \n",
              "\n",
              "[17887 rows x 12 columns]"
            ],
            "text/html": [
              "\n",
              "  <div id=\"df-7433639d-11de-4d45-affd-8115dd2603fc\" class=\"colab-df-container\">\n",
              "    <div>\n",
              "<style scoped>\n",
              "    .dataframe tbody tr th:only-of-type {\n",
              "        vertical-align: middle;\n",
              "    }\n",
              "\n",
              "    .dataframe tbody tr th {\n",
              "        vertical-align: top;\n",
              "    }\n",
              "\n",
              "    .dataframe thead th {\n",
              "        text-align: right;\n",
              "    }\n",
              "</style>\n",
              "<table border=\"1\" class=\"dataframe\">\n",
              "  <thead>\n",
              "    <tr style=\"text-align: right;\">\n",
              "      <th></th>\n",
              "      <th>user_id</th>\n",
              "      <th>name</th>\n",
              "      <th>age</th>\n",
              "      <th>city</th>\n",
              "      <th>subscription_type</th>\n",
              "      <th>distance</th>\n",
              "      <th>duration</th>\n",
              "      <th>date</th>\n",
              "      <th>month_number</th>\n",
              "      <th>minute_price</th>\n",
              "      <th>start_ride_price</th>\n",
              "      <th>subscription_fee</th>\n",
              "    </tr>\n",
              "  </thead>\n",
              "  <tbody>\n",
              "    <tr>\n",
              "      <th>0</th>\n",
              "      <td>1</td>\n",
              "      <td>Кира</td>\n",
              "      <td>22</td>\n",
              "      <td>Тюмень</td>\n",
              "      <td>ultra</td>\n",
              "      <td>4410.0</td>\n",
              "      <td>25.599769</td>\n",
              "      <td>2021-01-01</td>\n",
              "      <td>1</td>\n",
              "      <td>6</td>\n",
              "      <td>0</td>\n",
              "      <td>199</td>\n",
              "    </tr>\n",
              "    <tr>\n",
              "      <th>1</th>\n",
              "      <td>1</td>\n",
              "      <td>Кира</td>\n",
              "      <td>22</td>\n",
              "      <td>Тюмень</td>\n",
              "      <td>ultra</td>\n",
              "      <td>2618.0</td>\n",
              "      <td>15.816871</td>\n",
              "      <td>2021-01-18</td>\n",
              "      <td>1</td>\n",
              "      <td>6</td>\n",
              "      <td>0</td>\n",
              "      <td>199</td>\n",
              "    </tr>\n",
              "    <tr>\n",
              "      <th>2</th>\n",
              "      <td>1</td>\n",
              "      <td>Кира</td>\n",
              "      <td>22</td>\n",
              "      <td>Тюмень</td>\n",
              "      <td>ultra</td>\n",
              "      <td>754.0</td>\n",
              "      <td>6.232113</td>\n",
              "      <td>2021-04-20</td>\n",
              "      <td>4</td>\n",
              "      <td>6</td>\n",
              "      <td>0</td>\n",
              "      <td>199</td>\n",
              "    </tr>\n",
              "    <tr>\n",
              "      <th>3</th>\n",
              "      <td>1</td>\n",
              "      <td>Кира</td>\n",
              "      <td>22</td>\n",
              "      <td>Тюмень</td>\n",
              "      <td>ultra</td>\n",
              "      <td>2695.0</td>\n",
              "      <td>18.511000</td>\n",
              "      <td>2021-08-11</td>\n",
              "      <td>8</td>\n",
              "      <td>6</td>\n",
              "      <td>0</td>\n",
              "      <td>199</td>\n",
              "    </tr>\n",
              "    <tr>\n",
              "      <th>4</th>\n",
              "      <td>1</td>\n",
              "      <td>Кира</td>\n",
              "      <td>22</td>\n",
              "      <td>Тюмень</td>\n",
              "      <td>ultra</td>\n",
              "      <td>4029.0</td>\n",
              "      <td>26.265803</td>\n",
              "      <td>2021-08-28</td>\n",
              "      <td>8</td>\n",
              "      <td>6</td>\n",
              "      <td>0</td>\n",
              "      <td>199</td>\n",
              "    </tr>\n",
              "    <tr>\n",
              "      <th>...</th>\n",
              "      <td>...</td>\n",
              "      <td>...</td>\n",
              "      <td>...</td>\n",
              "      <td>...</td>\n",
              "      <td>...</td>\n",
              "      <td>...</td>\n",
              "      <td>...</td>\n",
              "      <td>...</td>\n",
              "      <td>...</td>\n",
              "      <td>...</td>\n",
              "      <td>...</td>\n",
              "      <td>...</td>\n",
              "    </tr>\n",
              "    <tr>\n",
              "      <th>17882</th>\n",
              "      <td>1534</td>\n",
              "      <td>Альберт</td>\n",
              "      <td>25</td>\n",
              "      <td>Краснодар</td>\n",
              "      <td>free</td>\n",
              "      <td>3781.0</td>\n",
              "      <td>19.822962</td>\n",
              "      <td>2021-11-04</td>\n",
              "      <td>11</td>\n",
              "      <td>8</td>\n",
              "      <td>50</td>\n",
              "      <td>0</td>\n",
              "    </tr>\n",
              "    <tr>\n",
              "      <th>17883</th>\n",
              "      <td>1534</td>\n",
              "      <td>Альберт</td>\n",
              "      <td>25</td>\n",
              "      <td>Краснодар</td>\n",
              "      <td>free</td>\n",
              "      <td>2840.0</td>\n",
              "      <td>21.409799</td>\n",
              "      <td>2021-11-16</td>\n",
              "      <td>11</td>\n",
              "      <td>8</td>\n",
              "      <td>50</td>\n",
              "      <td>0</td>\n",
              "    </tr>\n",
              "    <tr>\n",
              "      <th>17884</th>\n",
              "      <td>1534</td>\n",
              "      <td>Альберт</td>\n",
              "      <td>25</td>\n",
              "      <td>Краснодар</td>\n",
              "      <td>free</td>\n",
              "      <td>3826.0</td>\n",
              "      <td>18.435051</td>\n",
              "      <td>2021-11-18</td>\n",
              "      <td>11</td>\n",
              "      <td>8</td>\n",
              "      <td>50</td>\n",
              "      <td>0</td>\n",
              "    </tr>\n",
              "    <tr>\n",
              "      <th>17885</th>\n",
              "      <td>1534</td>\n",
              "      <td>Альберт</td>\n",
              "      <td>25</td>\n",
              "      <td>Краснодар</td>\n",
              "      <td>free</td>\n",
              "      <td>2902.0</td>\n",
              "      <td>16.674362</td>\n",
              "      <td>2021-11-27</td>\n",
              "      <td>11</td>\n",
              "      <td>8</td>\n",
              "      <td>50</td>\n",
              "      <td>0</td>\n",
              "    </tr>\n",
              "    <tr>\n",
              "      <th>17886</th>\n",
              "      <td>1534</td>\n",
              "      <td>Альберт</td>\n",
              "      <td>25</td>\n",
              "      <td>Краснодар</td>\n",
              "      <td>free</td>\n",
              "      <td>2372.0</td>\n",
              "      <td>15.893917</td>\n",
              "      <td>2021-12-29</td>\n",
              "      <td>12</td>\n",
              "      <td>8</td>\n",
              "      <td>50</td>\n",
              "      <td>0</td>\n",
              "    </tr>\n",
              "  </tbody>\n",
              "</table>\n",
              "<p>17887 rows × 12 columns</p>\n",
              "</div>\n",
              "    <div class=\"colab-df-buttons\">\n",
              "\n",
              "  <div class=\"colab-df-container\">\n",
              "    <button class=\"colab-df-convert\" onclick=\"convertToInteractive('df-7433639d-11de-4d45-affd-8115dd2603fc')\"\n",
              "            title=\"Convert this dataframe to an interactive table.\"\n",
              "            style=\"display:none;\">\n",
              "\n",
              "  <svg xmlns=\"http://www.w3.org/2000/svg\" height=\"24px\" viewBox=\"0 -960 960 960\">\n",
              "    <path d=\"M120-120v-720h720v720H120Zm60-500h600v-160H180v160Zm220 220h160v-160H400v160Zm0 220h160v-160H400v160ZM180-400h160v-160H180v160Zm440 0h160v-160H620v160ZM180-180h160v-160H180v160Zm440 0h160v-160H620v160Z\"/>\n",
              "  </svg>\n",
              "    </button>\n",
              "\n",
              "  <style>\n",
              "    .colab-df-container {\n",
              "      display:flex;\n",
              "      gap: 12px;\n",
              "    }\n",
              "\n",
              "    .colab-df-convert {\n",
              "      background-color: #E8F0FE;\n",
              "      border: none;\n",
              "      border-radius: 50%;\n",
              "      cursor: pointer;\n",
              "      display: none;\n",
              "      fill: #1967D2;\n",
              "      height: 32px;\n",
              "      padding: 0 0 0 0;\n",
              "      width: 32px;\n",
              "    }\n",
              "\n",
              "    .colab-df-convert:hover {\n",
              "      background-color: #E2EBFA;\n",
              "      box-shadow: 0px 1px 2px rgba(60, 64, 67, 0.3), 0px 1px 3px 1px rgba(60, 64, 67, 0.15);\n",
              "      fill: #174EA6;\n",
              "    }\n",
              "\n",
              "    .colab-df-buttons div {\n",
              "      margin-bottom: 4px;\n",
              "    }\n",
              "\n",
              "    [theme=dark] .colab-df-convert {\n",
              "      background-color: #3B4455;\n",
              "      fill: #D2E3FC;\n",
              "    }\n",
              "\n",
              "    [theme=dark] .colab-df-convert:hover {\n",
              "      background-color: #434B5C;\n",
              "      box-shadow: 0px 1px 3px 1px rgba(0, 0, 0, 0.15);\n",
              "      filter: drop-shadow(0px 1px 2px rgba(0, 0, 0, 0.3));\n",
              "      fill: #FFFFFF;\n",
              "    }\n",
              "  </style>\n",
              "\n",
              "    <script>\n",
              "      const buttonEl =\n",
              "        document.querySelector('#df-7433639d-11de-4d45-affd-8115dd2603fc button.colab-df-convert');\n",
              "      buttonEl.style.display =\n",
              "        google.colab.kernel.accessAllowed ? 'block' : 'none';\n",
              "\n",
              "      async function convertToInteractive(key) {\n",
              "        const element = document.querySelector('#df-7433639d-11de-4d45-affd-8115dd2603fc');\n",
              "        const dataTable =\n",
              "          await google.colab.kernel.invokeFunction('convertToInteractive',\n",
              "                                                    [key], {});\n",
              "        if (!dataTable) return;\n",
              "\n",
              "        const docLinkHtml = 'Like what you see? Visit the ' +\n",
              "          '<a target=\"_blank\" href=https://colab.research.google.com/notebooks/data_table.ipynb>data table notebook</a>'\n",
              "          + ' to learn more about interactive tables.';\n",
              "        element.innerHTML = '';\n",
              "        dataTable['output_type'] = 'display_data';\n",
              "        await google.colab.output.renderOutput(dataTable, element);\n",
              "        const docLink = document.createElement('div');\n",
              "        docLink.innerHTML = docLinkHtml;\n",
              "        element.appendChild(docLink);\n",
              "      }\n",
              "    </script>\n",
              "  </div>\n",
              "\n",
              "\n",
              "<div id=\"df-fd1a1796-03ca-4f64-a97a-3ada6339cb46\">\n",
              "  <button class=\"colab-df-quickchart\" onclick=\"quickchart('df-fd1a1796-03ca-4f64-a97a-3ada6339cb46')\"\n",
              "            title=\"Suggest charts\"\n",
              "            style=\"display:none;\">\n",
              "\n",
              "<svg xmlns=\"http://www.w3.org/2000/svg\" height=\"24px\"viewBox=\"0 0 24 24\"\n",
              "     width=\"24px\">\n",
              "    <g>\n",
              "        <path d=\"M19 3H5c-1.1 0-2 .9-2 2v14c0 1.1.9 2 2 2h14c1.1 0 2-.9 2-2V5c0-1.1-.9-2-2-2zM9 17H7v-7h2v7zm4 0h-2V7h2v10zm4 0h-2v-4h2v4z\"/>\n",
              "    </g>\n",
              "</svg>\n",
              "  </button>\n",
              "\n",
              "<style>\n",
              "  .colab-df-quickchart {\n",
              "      --bg-color: #E8F0FE;\n",
              "      --fill-color: #1967D2;\n",
              "      --hover-bg-color: #E2EBFA;\n",
              "      --hover-fill-color: #174EA6;\n",
              "      --disabled-fill-color: #AAA;\n",
              "      --disabled-bg-color: #DDD;\n",
              "  }\n",
              "\n",
              "  [theme=dark] .colab-df-quickchart {\n",
              "      --bg-color: #3B4455;\n",
              "      --fill-color: #D2E3FC;\n",
              "      --hover-bg-color: #434B5C;\n",
              "      --hover-fill-color: #FFFFFF;\n",
              "      --disabled-bg-color: #3B4455;\n",
              "      --disabled-fill-color: #666;\n",
              "  }\n",
              "\n",
              "  .colab-df-quickchart {\n",
              "    background-color: var(--bg-color);\n",
              "    border: none;\n",
              "    border-radius: 50%;\n",
              "    cursor: pointer;\n",
              "    display: none;\n",
              "    fill: var(--fill-color);\n",
              "    height: 32px;\n",
              "    padding: 0;\n",
              "    width: 32px;\n",
              "  }\n",
              "\n",
              "  .colab-df-quickchart:hover {\n",
              "    background-color: var(--hover-bg-color);\n",
              "    box-shadow: 0 1px 2px rgba(60, 64, 67, 0.3), 0 1px 3px 1px rgba(60, 64, 67, 0.15);\n",
              "    fill: var(--button-hover-fill-color);\n",
              "  }\n",
              "\n",
              "  .colab-df-quickchart-complete:disabled,\n",
              "  .colab-df-quickchart-complete:disabled:hover {\n",
              "    background-color: var(--disabled-bg-color);\n",
              "    fill: var(--disabled-fill-color);\n",
              "    box-shadow: none;\n",
              "  }\n",
              "\n",
              "  .colab-df-spinner {\n",
              "    border: 2px solid var(--fill-color);\n",
              "    border-color: transparent;\n",
              "    border-bottom-color: var(--fill-color);\n",
              "    animation:\n",
              "      spin 1s steps(1) infinite;\n",
              "  }\n",
              "\n",
              "  @keyframes spin {\n",
              "    0% {\n",
              "      border-color: transparent;\n",
              "      border-bottom-color: var(--fill-color);\n",
              "      border-left-color: var(--fill-color);\n",
              "    }\n",
              "    20% {\n",
              "      border-color: transparent;\n",
              "      border-left-color: var(--fill-color);\n",
              "      border-top-color: var(--fill-color);\n",
              "    }\n",
              "    30% {\n",
              "      border-color: transparent;\n",
              "      border-left-color: var(--fill-color);\n",
              "      border-top-color: var(--fill-color);\n",
              "      border-right-color: var(--fill-color);\n",
              "    }\n",
              "    40% {\n",
              "      border-color: transparent;\n",
              "      border-right-color: var(--fill-color);\n",
              "      border-top-color: var(--fill-color);\n",
              "    }\n",
              "    60% {\n",
              "      border-color: transparent;\n",
              "      border-right-color: var(--fill-color);\n",
              "    }\n",
              "    80% {\n",
              "      border-color: transparent;\n",
              "      border-right-color: var(--fill-color);\n",
              "      border-bottom-color: var(--fill-color);\n",
              "    }\n",
              "    90% {\n",
              "      border-color: transparent;\n",
              "      border-bottom-color: var(--fill-color);\n",
              "    }\n",
              "  }\n",
              "</style>\n",
              "\n",
              "  <script>\n",
              "    async function quickchart(key) {\n",
              "      const quickchartButtonEl =\n",
              "        document.querySelector('#' + key + ' button');\n",
              "      quickchartButtonEl.disabled = true;  // To prevent multiple clicks.\n",
              "      quickchartButtonEl.classList.add('colab-df-spinner');\n",
              "      try {\n",
              "        const charts = await google.colab.kernel.invokeFunction(\n",
              "            'suggestCharts', [key], {});\n",
              "      } catch (error) {\n",
              "        console.error('Error during call to suggestCharts:', error);\n",
              "      }\n",
              "      quickchartButtonEl.classList.remove('colab-df-spinner');\n",
              "      quickchartButtonEl.classList.add('colab-df-quickchart-complete');\n",
              "    }\n",
              "    (() => {\n",
              "      let quickchartButtonEl =\n",
              "        document.querySelector('#df-fd1a1796-03ca-4f64-a97a-3ada6339cb46 button');\n",
              "      quickchartButtonEl.style.display =\n",
              "        google.colab.kernel.accessAllowed ? 'block' : 'none';\n",
              "    })();\n",
              "  </script>\n",
              "</div>\n",
              "    </div>\n",
              "  </div>\n"
            ],
            "application/vnd.google.colaboratory.intrinsic+json": {
              "type": "dataframe",
              "variable_name": "df_combined",
              "summary": "{\n  \"name\": \"df_combined\",\n  \"rows\": 17887,\n  \"fields\": [\n    {\n      \"column\": \"user_id\",\n      \"properties\": {\n        \"dtype\": \"number\",\n        \"std\": 435,\n        \"min\": 1,\n        \"max\": 1534,\n        \"num_unique_values\": 1534,\n        \"samples\": [\n          1365,\n          77,\n          317\n        ],\n        \"semantic_type\": \"\",\n        \"description\": \"\"\n      }\n    },\n    {\n      \"column\": \"name\",\n      \"properties\": {\n        \"dtype\": \"category\",\n        \"num_unique_values\": 194,\n        \"samples\": [\n          \"\\u042d\\u043c\\u0438\\u043b\\u0438\\u044f\",\n          \"\\u0414\\u0430\\u043d\\u0438\\u0438\\u043b\",\n          \"\\u042e\\u043b\\u0438\\u044f\"\n        ],\n        \"semantic_type\": \"\",\n        \"description\": \"\"\n      }\n    },\n    {\n      \"column\": \"age\",\n      \"properties\": {\n        \"dtype\": \"number\",\n        \"std\": 4,\n        \"min\": 12,\n        \"max\": 43,\n        \"num_unique_values\": 29,\n        \"samples\": [\n          39,\n          17,\n          32\n        ],\n        \"semantic_type\": \"\",\n        \"description\": \"\"\n      }\n    },\n    {\n      \"column\": \"city\",\n      \"properties\": {\n        \"dtype\": \"category\",\n        \"num_unique_values\": 8,\n        \"samples\": [\n          \"\\u041e\\u043c\\u0441\\u043a\",\n          \"\\u041f\\u044f\\u0442\\u0438\\u0433\\u043e\\u0440\\u0441\\u043a\",\n          \"\\u0422\\u044e\\u043c\\u0435\\u043d\\u044c\"\n        ],\n        \"semantic_type\": \"\",\n        \"description\": \"\"\n      }\n    },\n    {\n      \"column\": \"subscription_type\",\n      \"properties\": {\n        \"dtype\": \"category\",\n        \"num_unique_values\": 2,\n        \"samples\": [\n          \"free\",\n          \"ultra\"\n        ],\n        \"semantic_type\": \"\",\n        \"description\": \"\"\n      }\n    },\n    {\n      \"column\": \"distance\",\n      \"properties\": {\n        \"dtype\": \"number\",\n        \"std\": 1094.830715614213,\n        \"min\": 1.0,\n        \"max\": 7066.0,\n        \"num_unique_values\": 4542,\n        \"samples\": [\n          3679.0,\n          4116.0\n        ],\n        \"semantic_type\": \"\",\n        \"description\": \"\"\n      }\n    },\n    {\n      \"column\": \"duration\",\n      \"properties\": {\n        \"dtype\": \"number\",\n        \"std\": 5.901186375393132,\n        \"min\": 3.9911626888926,\n        \"max\": 40.82396261922424,\n        \"num_unique_values\": 17887,\n        \"samples\": [\n          13.816229293272418,\n          22.40223629739571\n        ],\n        \"semantic_type\": \"\",\n        \"description\": \"\"\n      }\n    },\n    {\n      \"column\": \"date\",\n      \"properties\": {\n        \"dtype\": \"date\",\n        \"min\": \"2021-01-01 00:00:00\",\n        \"max\": \"2021-12-30 00:00:00\",\n        \"num_unique_values\": 364,\n        \"samples\": [\n          \"2021-12-24 00:00:00\",\n          \"2021-09-04 00:00:00\"\n        ],\n        \"semantic_type\": \"\",\n        \"description\": \"\"\n      }\n    },\n    {\n      \"column\": \"month_number\",\n      \"properties\": {\n        \"dtype\": \"int32\",\n        \"num_unique_values\": 12,\n        \"samples\": [\n          5,\n          2\n        ],\n        \"semantic_type\": \"\",\n        \"description\": \"\"\n      }\n    },\n    {\n      \"column\": \"minute_price\",\n      \"properties\": {\n        \"dtype\": \"number\",\n        \"std\": 0,\n        \"min\": 6,\n        \"max\": 8,\n        \"num_unique_values\": 2,\n        \"samples\": [\n          8,\n          6\n        ],\n        \"semantic_type\": \"\",\n        \"description\": \"\"\n      }\n    },\n    {\n      \"column\": \"start_ride_price\",\n      \"properties\": {\n        \"dtype\": \"number\",\n        \"std\": 24,\n        \"min\": 0,\n        \"max\": 50,\n        \"num_unique_values\": 2,\n        \"samples\": [\n          50,\n          0\n        ],\n        \"semantic_type\": \"\",\n        \"description\": \"\"\n      }\n    },\n    {\n      \"column\": \"subscription_fee\",\n      \"properties\": {\n        \"dtype\": \"number\",\n        \"std\": 95,\n        \"min\": 0,\n        \"max\": 199,\n        \"num_unique_values\": 2,\n        \"samples\": [\n          0,\n          199\n        ],\n        \"semantic_type\": \"\",\n        \"description\": \"\"\n      }\n    }\n  ]\n}"
            }
          },
          "metadata": {},
          "execution_count": 38
        }
      ],
      "source": [
        "df_combined.head()"
      ]
    },
    {
      "cell_type": "code",
      "execution_count": null,
      "id": "d76ecd00",
      "metadata": {
        "id": "d76ecd00",
        "outputId": "d0c7ac61-ffd3-41cb-d48b-8e2212250e8f",
        "colab": {
          "base_uri": "https://localhost:8080/"
        }
      },
      "outputs": [
        {
          "output_type": "stream",
          "name": "stdout",
          "text": [
            "Размерность датафрейма df_combined (17887, 12)\n"
          ]
        }
      ],
      "source": [
        "print('Размерность датафрейма df_combined', df_combined.shape)"
      ]
    },
    {
      "cell_type": "code",
      "execution_count": null,
      "id": "24e770ac",
      "metadata": {
        "id": "24e770ac",
        "outputId": "6572c7b7-33d7-42f2-dfa1-2c9fbd07315b",
        "colab": {
          "base_uri": "https://localhost:8080/",
          "height": 460
        }
      },
      "outputs": [
        {
          "output_type": "execute_result",
          "data": {
            "text/plain": [
              "user_id              0\n",
              "name                 0\n",
              "age                  0\n",
              "city                 0\n",
              "subscription_type    0\n",
              "distance             0\n",
              "duration             0\n",
              "date                 0\n",
              "month_number         0\n",
              "minute_price         0\n",
              "start_ride_price     0\n",
              "subscription_fee     0\n",
              "dtype: int64"
            ],
            "text/html": [
              "<div>\n",
              "<style scoped>\n",
              "    .dataframe tbody tr th:only-of-type {\n",
              "        vertical-align: middle;\n",
              "    }\n",
              "\n",
              "    .dataframe tbody tr th {\n",
              "        vertical-align: top;\n",
              "    }\n",
              "\n",
              "    .dataframe thead th {\n",
              "        text-align: right;\n",
              "    }\n",
              "</style>\n",
              "<table border=\"1\" class=\"dataframe\">\n",
              "  <thead>\n",
              "    <tr style=\"text-align: right;\">\n",
              "      <th></th>\n",
              "      <th>0</th>\n",
              "    </tr>\n",
              "  </thead>\n",
              "  <tbody>\n",
              "    <tr>\n",
              "      <th>user_id</th>\n",
              "      <td>0</td>\n",
              "    </tr>\n",
              "    <tr>\n",
              "      <th>name</th>\n",
              "      <td>0</td>\n",
              "    </tr>\n",
              "    <tr>\n",
              "      <th>age</th>\n",
              "      <td>0</td>\n",
              "    </tr>\n",
              "    <tr>\n",
              "      <th>city</th>\n",
              "      <td>0</td>\n",
              "    </tr>\n",
              "    <tr>\n",
              "      <th>subscription_type</th>\n",
              "      <td>0</td>\n",
              "    </tr>\n",
              "    <tr>\n",
              "      <th>distance</th>\n",
              "      <td>0</td>\n",
              "    </tr>\n",
              "    <tr>\n",
              "      <th>duration</th>\n",
              "      <td>0</td>\n",
              "    </tr>\n",
              "    <tr>\n",
              "      <th>date</th>\n",
              "      <td>0</td>\n",
              "    </tr>\n",
              "    <tr>\n",
              "      <th>month_number</th>\n",
              "      <td>0</td>\n",
              "    </tr>\n",
              "    <tr>\n",
              "      <th>minute_price</th>\n",
              "      <td>0</td>\n",
              "    </tr>\n",
              "    <tr>\n",
              "      <th>start_ride_price</th>\n",
              "      <td>0</td>\n",
              "    </tr>\n",
              "    <tr>\n",
              "      <th>subscription_fee</th>\n",
              "      <td>0</td>\n",
              "    </tr>\n",
              "  </tbody>\n",
              "</table>\n",
              "</div><br><label><b>dtype:</b> int64</label>"
            ]
          },
          "metadata": {},
          "execution_count": 40
        }
      ],
      "source": [
        "df_combined.isna().sum()"
      ]
    },
    {
      "cell_type": "markdown",
      "id": "a3375ad4",
      "metadata": {
        "id": "a3375ad4"
      },
      "source": [
        "##### Создание датафрейма с данными о пользователях с подпиской и без"
      ]
    },
    {
      "cell_type": "code",
      "execution_count": null,
      "id": "a7e190f1",
      "metadata": {
        "id": "a7e190f1",
        "outputId": "1442b890-951d-474a-802f-e9ba55fd24d4",
        "colab": {
          "base_uri": "https://localhost:8080/"
        }
      },
      "outputs": [
        {
          "output_type": "stream",
          "name": "stdout",
          "text": [
            "<class 'pandas.core.frame.DataFrame'>\n",
            "Index: 11388 entries, 6499 to 17886\n",
            "Data columns (total 12 columns):\n",
            " #   Column             Non-Null Count  Dtype         \n",
            "---  ------             --------------  -----         \n",
            " 0   user_id            11388 non-null  int64         \n",
            " 1   name               11388 non-null  object        \n",
            " 2   age                11388 non-null  int64         \n",
            " 3   city               11388 non-null  object        \n",
            " 4   subscription_type  11388 non-null  object        \n",
            " 5   distance           11388 non-null  float64       \n",
            " 6   duration           11388 non-null  float64       \n",
            " 7   date               11388 non-null  datetime64[ns]\n",
            " 8   month_number       11388 non-null  int32         \n",
            " 9   minute_price       11388 non-null  int64         \n",
            " 10  start_ride_price   11388 non-null  int64         \n",
            " 11  subscription_fee   11388 non-null  int64         \n",
            "dtypes: datetime64[ns](1), float64(2), int32(1), int64(5), object(3)\n",
            "memory usage: 1.1+ MB\n"
          ]
        }
      ],
      "source": [
        "df_free_sub = df_combined[df_combined['subscription_type'] == 'free']\n",
        "df_ultra_sub = df_combined[df_combined['subscription_type'] == 'ultra']\n",
        "\n",
        "df_free_sub.info()"
      ]
    },
    {
      "cell_type": "code",
      "execution_count": null,
      "id": "f217f7dd",
      "metadata": {
        "id": "f217f7dd",
        "outputId": "4213becd-2235-4a45-d928-912e93098f65",
        "colab": {
          "base_uri": "https://localhost:8080/"
        }
      },
      "outputs": [
        {
          "output_type": "stream",
          "name": "stdout",
          "text": [
            "<class 'pandas.core.frame.DataFrame'>\n",
            "Index: 6499 entries, 0 to 6498\n",
            "Data columns (total 12 columns):\n",
            " #   Column             Non-Null Count  Dtype         \n",
            "---  ------             --------------  -----         \n",
            " 0   user_id            6499 non-null   int64         \n",
            " 1   name               6499 non-null   object        \n",
            " 2   age                6499 non-null   int64         \n",
            " 3   city               6499 non-null   object        \n",
            " 4   subscription_type  6499 non-null   object        \n",
            " 5   distance           6499 non-null   float64       \n",
            " 6   duration           6499 non-null   float64       \n",
            " 7   date               6499 non-null   datetime64[ns]\n",
            " 8   month_number       6499 non-null   int32         \n",
            " 9   minute_price       6499 non-null   int64         \n",
            " 10  start_ride_price   6499 non-null   int64         \n",
            " 11  subscription_fee   6499 non-null   int64         \n",
            "dtypes: datetime64[ns](1), float64(2), int32(1), int64(5), object(3)\n",
            "memory usage: 634.7+ KB\n"
          ]
        }
      ],
      "source": [
        "df_ultra_sub.info()"
      ]
    },
    {
      "cell_type": "markdown",
      "id": "965a2876",
      "metadata": {
        "id": "965a2876"
      },
      "source": [
        "##### Визуализация информации о расстоянии и времени поездок для пользователей обеих категорий."
      ]
    },
    {
      "cell_type": "code",
      "execution_count": null,
      "id": "5a8903ab",
      "metadata": {
        "id": "5a8903ab",
        "outputId": "a073f099-d64b-4361-afe4-3597a92588e0",
        "colab": {
          "base_uri": "https://localhost:8080/",
          "height": 889
        }
      },
      "outputs": [
        {
          "output_type": "execute_result",
          "data": {
            "text/plain": [
              "Text(0.5, 1.0, 'Временя для каждой поездки пользователей с подпиской и без нее')"
            ]
          },
          "metadata": {},
          "execution_count": 43
        },
        {
          "output_type": "display_data",
          "data": {
            "text/plain": [
              "<Figure size 2500x1000 with 1 Axes>"
            ],
            "image/png": "[encoded data removed]"
          },
          "metadata": {}
        }
      ],
      "source": [
        "\n",
        "plt.figure(figsize=(25, 10))\n",
        "plt.subplot(1, 2, 1)\n",
        "plt.hist(df_free_sub['duration'], bins=50, alpha=0.5, label='без подписки',color='#9ACD32')\n",
        "plt.hist(df_ultra_sub['duration'], bins=50, alpha=0.3 , label='с подпиской',color='#FF69B4')\n",
        "plt.xlabel('Время поездки')\n",
        "plt.ylabel('Частота')\n",
        "plt.legend()\n",
        "plt.grid(True)\n",
        "plt.title('Временя для каждой поездки пользователей с подпиской и без нее')"
      ]
    },
    {
      "cell_type": "code",
      "execution_count": null,
      "id": "2f53e8a9",
      "metadata": {
        "id": "2f53e8a9",
        "outputId": "0e2ab062-17ac-476b-a503-00a76c2b1cbe",
        "colab": {
          "base_uri": "https://localhost:8080/",
          "height": 889
        }
      },
      "outputs": [
        {
          "output_type": "execute_result",
          "data": {
            "text/plain": [
              "Text(0.5, 1.0, 'Расстояние для каждой поездки пользователей с подпиской и без нее ')"
            ]
          },
          "metadata": {},
          "execution_count": 44
        },
        {
          "output_type": "display_data",
          "data": {
            "text/plain": [
              "<Figure size 2500x1000 with 1 Axes>"
            ],
            "image/png": "[encoded data removed]"
          },
          "metadata": {}
        }
      ],
      "source": [
        "plt.figure(figsize=(25, 10))\n",
        "plt.subplot(1, 2, 1)\n",
        "plt.hist(df_free_sub['distance'], bins=50, alpha=0.5, label='без подписки',color='#008B8B')  # Распределение времени для первого датафрейма\n",
        "plt.hist(df_ultra_sub['distance'], bins=50, alpha=0.3 , label='с подпиской',color='#8A2BE2')  # Распределение времени для второго датафрейма\n",
        "plt.xlabel('Расстояние поездки')\n",
        "plt.ylabel('Частота')\n",
        "plt.legend()\n",
        "plt.grid(True)\n",
        "plt.title('Расстояние для каждой поездки пользователей с подпиской и без нее ')"
      ]
    },
    {
      "cell_type": "markdown",
      "id": "0ad062da",
      "metadata": {
        "id": "0ad062da"
      },
      "source": [
        "**Вывод:**\n",
        "\n",
        "1. Распределение времени поездки для пользователей с подпиской и без нее похоже: они имеют примерно одинаковый тренд.\n",
        "2. Распределение расстояния поездки для обеих категорий пользователей отличается незначительно. Однако для пользователей с подпиской наблюдается небольшое смещение вправо, и пиком в 3 км что может указывать на регулярность поездок по примерно одним и тем же маршрутам, около 3 км. Диапазон расстояний для пользователей без подписки шире."
      ]
    },
    {
      "cell_type": "markdown",
      "id": "402d620f",
      "metadata": {
        "id": "402d620f"
      },
      "source": [
        "#### Шаг 5. Подсчёт выручки"
      ]
    },
    {
      "cell_type": "markdown",
      "id": "0bac527e",
      "metadata": {
        "id": "0bac527e"
      },
      "source": [
        "##### Создание датафрема с агрегированными данными о поездках на основе датафрейма с объединёнными данными из шага 4"
      ]
    },
    {
      "cell_type": "code",
      "execution_count": null,
      "id": "6a1f900f",
      "metadata": {
        "id": "6a1f900f",
        "outputId": "585f95b4-5211-4528-91d4-b1a2d00f9670",
        "colab": {
          "base_uri": "https://localhost:8080/"
        }
      },
      "outputs": [
        {
          "output_type": "stream",
          "name": "stdout",
          "text": [
            "<class 'pandas.core.frame.DataFrame'>\n",
            "Index: 17887 entries, 0 to 17886\n",
            "Data columns (total 12 columns):\n",
            " #   Column             Non-Null Count  Dtype         \n",
            "---  ------             --------------  -----         \n",
            " 0   user_id            17887 non-null  int64         \n",
            " 1   name               17887 non-null  object        \n",
            " 2   age                17887 non-null  int64         \n",
            " 3   city               17887 non-null  object        \n",
            " 4   subscription_type  17887 non-null  object        \n",
            " 5   distance           17887 non-null  float64       \n",
            " 6   duration           17887 non-null  float64       \n",
            " 7   date               17887 non-null  datetime64[ns]\n",
            " 8   month_number       17887 non-null  int32         \n",
            " 9   minute_price       17887 non-null  int64         \n",
            " 10  start_ride_price   17887 non-null  int64         \n",
            " 11  subscription_fee   17887 non-null  int64         \n",
            "dtypes: datetime64[ns](1), float64(2), int32(1), int64(5), object(3)\n",
            "memory usage: 1.7+ MB\n"
          ]
        }
      ],
      "source": [
        "df_combined.info()"
      ]
    },
    {
      "cell_type": "code",
      "execution_count": null,
      "id": "63b606fa",
      "metadata": {
        "id": "63b606fa",
        "outputId": "299dafe8-6f1f-4d17-9b2b-91195b43d975",
        "colab": {
          "base_uri": "https://localhost:8080/",
          "height": 206
        }
      },
      "outputs": [
        {
          "output_type": "execute_result",
          "data": {
            "text/plain": [
              "   user_id  month_number  total_distance  total_duration  rides_count  \\\n",
              "0        1             1          7028.0       41.416640            2   \n",
              "1        1             4           754.0        6.232113            1   \n",
              "2        1             8          6724.0       44.776802            2   \n",
              "3        1            10          5810.0       31.578017            2   \n",
              "4        1            11          7004.0       53.397424            3   \n",
              "\n",
              "   minute_price  subscription_fee  start_ride_price  \n",
              "0             6               199                 0  \n",
              "1             6               199                 0  \n",
              "2             6               199                 0  \n",
              "3             6               199                 0  \n",
              "4             6               199                 0  "
            ],
            "text/html": [
              "\n",
              "  <div id=\"df-c1cd33bc-f04f-4891-b64c-f14f31613e19\" class=\"colab-df-container\">\n",
              "    <div>\n",
              "<style scoped>\n",
              "    .dataframe tbody tr th:only-of-type {\n",
              "        vertical-align: middle;\n",
              "    }\n",
              "\n",
              "    .dataframe tbody tr th {\n",
              "        vertical-align: top;\n",
              "    }\n",
              "\n",
              "    .dataframe thead th {\n",
              "        text-align: right;\n",
              "    }\n",
              "</style>\n",
              "<table border=\"1\" class=\"dataframe\">\n",
              "  <thead>\n",
              "    <tr style=\"text-align: right;\">\n",
              "      <th></th>\n",
              "      <th>user_id</th>\n",
              "      <th>month_number</th>\n",
              "      <th>total_distance</th>\n",
              "      <th>total_duration</th>\n",
              "      <th>rides_count</th>\n",
              "      <th>minute_price</th>\n",
              "      <th>subscription_fee</th>\n",
              "      <th>start_ride_price</th>\n",
              "    </tr>\n",
              "  </thead>\n",
              "  <tbody>\n",
              "    <tr>\n",
              "      <th>0</th>\n",
              "      <td>1</td>\n",
              "      <td>1</td>\n",
              "      <td>7028.0</td>\n",
              "      <td>41.416640</td>\n",
              "      <td>2</td>\n",
              "      <td>6</td>\n",
              "      <td>199</td>\n",
              "      <td>0</td>\n",
              "    </tr>\n",
              "    <tr>\n",
              "      <th>1</th>\n",
              "      <td>1</td>\n",
              "      <td>4</td>\n",
              "      <td>754.0</td>\n",
              "      <td>6.232113</td>\n",
              "      <td>1</td>\n",
              "      <td>6</td>\n",
              "      <td>199</td>\n",
              "      <td>0</td>\n",
              "    </tr>\n",
              "    <tr>\n",
              "      <th>2</th>\n",
              "      <td>1</td>\n",
              "      <td>8</td>\n",
              "      <td>6724.0</td>\n",
              "      <td>44.776802</td>\n",
              "      <td>2</td>\n",
              "      <td>6</td>\n",
              "      <td>199</td>\n",
              "      <td>0</td>\n",
              "    </tr>\n",
              "    <tr>\n",
              "      <th>3</th>\n",
              "      <td>1</td>\n",
              "      <td>10</td>\n",
              "      <td>5810.0</td>\n",
              "      <td>31.578017</td>\n",
              "      <td>2</td>\n",
              "      <td>6</td>\n",
              "      <td>199</td>\n",
              "      <td>0</td>\n",
              "    </tr>\n",
              "    <tr>\n",
              "      <th>4</th>\n",
              "      <td>1</td>\n",
              "      <td>11</td>\n",
              "      <td>7004.0</td>\n",
              "      <td>53.397424</td>\n",
              "      <td>3</td>\n",
              "      <td>6</td>\n",
              "      <td>199</td>\n",
              "      <td>0</td>\n",
              "    </tr>\n",
              "  </tbody>\n",
              "</table>\n",
              "</div>\n",
              "    <div class=\"colab-df-buttons\">\n",
              "\n",
              "  <div class=\"colab-df-container\">\n",
              "    <button class=\"colab-df-convert\" onclick=\"convertToInteractive('df-c1cd33bc-f04f-4891-b64c-f14f31613e19')\"\n",
              "            title=\"Convert this dataframe to an interactive table.\"\n",
              "            style=\"display:none;\">\n",
              "\n",
              "  <svg xmlns=\"http://www.w3.org/2000/svg\" height=\"24px\" viewBox=\"0 -960 960 960\">\n",
              "    <path d=\"M120-120v-720h720v720H120Zm60-500h600v-160H180v160Zm220 220h160v-160H400v160Zm0 220h160v-160H400v160ZM180-400h160v-160H180v160Zm440 0h160v-160H620v160ZM180-180h160v-160H180v160Zm440 0h160v-160H620v160Z\"/>\n",
              "  </svg>\n",
              "    </button>\n",
              "\n",
              "  <style>\n",
              "    .colab-df-container {\n",
              "      display:flex;\n",
              "      gap: 12px;\n",
              "    }\n",
              "\n",
              "    .colab-df-convert {\n",
              "      background-color: #E8F0FE;\n",
              "      border: none;\n",
              "      border-radius: 50%;\n",
              "      cursor: pointer;\n",
              "      display: none;\n",
              "      fill: #1967D2;\n",
              "      height: 32px;\n",
              "      padding: 0 0 0 0;\n",
              "      width: 32px;\n",
              "    }\n",
              "\n",
              "    .colab-df-convert:hover {\n",
              "      background-color: #E2EBFA;\n",
              "      box-shadow: 0px 1px 2px rgba(60, 64, 67, 0.3), 0px 1px 3px 1px rgba(60, 64, 67, 0.15);\n",
              "      fill: #174EA6;\n",
              "    }\n",
              "\n",
              "    .colab-df-buttons div {\n",
              "      margin-bottom: 4px;\n",
              "    }\n",
              "\n",
              "    [theme=dark] .colab-df-convert {\n",
              "      background-color: #3B4455;\n",
              "      fill: #D2E3FC;\n",
              "    }\n",
              "\n",
              "    [theme=dark] .colab-df-convert:hover {\n",
              "      background-color: #434B5C;\n",
              "      box-shadow: 0px 1px 3px 1px rgba(0, 0, 0, 0.15);\n",
              "      filter: drop-shadow(0px 1px 2px rgba(0, 0, 0, 0.3));\n",
              "      fill: #FFFFFF;\n",
              "    }\n",
              "  </style>\n",
              "\n",
              "    <script>\n",
              "      const buttonEl =\n",
              "        document.querySelector('#df-c1cd33bc-f04f-4891-b64c-f14f31613e19 button.colab-df-convert');\n",
              "      buttonEl.style.display =\n",
              "        google.colab.kernel.accessAllowed ? 'block' : 'none';\n",
              "\n",
              "      async function convertToInteractive(key) {\n",
              "        const element = document.querySelector('#df-c1cd33bc-f04f-4891-b64c-f14f31613e19');\n",
              "        const dataTable =\n",
              "          await google.colab.kernel.invokeFunction('convertToInteractive',\n",
              "                                                    [key], {});\n",
              "        if (!dataTable) return;\n",
              "\n",
              "        const docLinkHtml = 'Like what you see? Visit the ' +\n",
              "          '<a target=\"_blank\" href=https://colab.research.google.com/notebooks/data_table.ipynb>data table notebook</a>'\n",
              "          + ' to learn more about interactive tables.';\n",
              "        element.innerHTML = '';\n",
              "        dataTable['output_type'] = 'display_data';\n",
              "        await google.colab.output.renderOutput(dataTable, element);\n",
              "        const docLink = document.createElement('div');\n",
              "        docLink.innerHTML = docLinkHtml;\n",
              "        element.appendChild(docLink);\n",
              "      }\n",
              "    </script>\n",
              "  </div>\n",
              "\n",
              "\n",
              "<div id=\"df-d5edef6d-009c-4d61-992c-e660f545cc07\">\n",
              "  <button class=\"colab-df-quickchart\" onclick=\"quickchart('df-d5edef6d-009c-4d61-992c-e660f545cc07')\"\n",
              "            title=\"Suggest charts\"\n",
              "            style=\"display:none;\">\n",
              "\n",
              "<svg xmlns=\"http://www.w3.org/2000/svg\" height=\"24px\"viewBox=\"0 0 24 24\"\n",
              "     width=\"24px\">\n",
              "    <g>\n",
              "        <path d=\"M19 3H5c-1.1 0-2 .9-2 2v14c0 1.1.9 2 2 2h14c1.1 0 2-.9 2-2V5c0-1.1-.9-2-2-2zM9 17H7v-7h2v7zm4 0h-2V7h2v10zm4 0h-2v-4h2v4z\"/>\n",
              "    </g>\n",
              "</svg>\n",
              "  </button>\n",
              "\n",
              "<style>\n",
              "  .colab-df-quickchart {\n",
              "      --bg-color: #E8F0FE;\n",
              "      --fill-color: #1967D2;\n",
              "      --hover-bg-color: #E2EBFA;\n",
              "      --hover-fill-color: #174EA6;\n",
              "      --disabled-fill-color: #AAA;\n",
              "      --disabled-bg-color: #DDD;\n",
              "  }\n",
              "\n",
              "  [theme=dark] .colab-df-quickchart {\n",
              "      --bg-color: #3B4455;\n",
              "      --fill-color: #D2E3FC;\n",
              "      --hover-bg-color: #434B5C;\n",
              "      --hover-fill-color: #FFFFFF;\n",
              "      --disabled-bg-color: #3B4455;\n",
              "      --disabled-fill-color: #666;\n",
              "  }\n",
              "\n",
              "  .colab-df-quickchart {\n",
              "    background-color: var(--bg-color);\n",
              "    border: none;\n",
              "    border-radius: 50%;\n",
              "    cursor: pointer;\n",
              "    display: none;\n",
              "    fill: var(--fill-color);\n",
              "    height: 32px;\n",
              "    padding: 0;\n",
              "    width: 32px;\n",
              "  }\n",
              "\n",
              "  .colab-df-quickchart:hover {\n",
              "    background-color: var(--hover-bg-color);\n",
              "    box-shadow: 0 1px 2px rgba(60, 64, 67, 0.3), 0 1px 3px 1px rgba(60, 64, 67, 0.15);\n",
              "    fill: var(--button-hover-fill-color);\n",
              "  }\n",
              "\n",
              "  .colab-df-quickchart-complete:disabled,\n",
              "  .colab-df-quickchart-complete:disabled:hover {\n",
              "    background-color: var(--disabled-bg-color);\n",
              "    fill: var(--disabled-fill-color);\n",
              "    box-shadow: none;\n",
              "  }\n",
              "\n",
              "  .colab-df-spinner {\n",
              "    border: 2px solid var(--fill-color);\n",
              "    border-color: transparent;\n",
              "    border-bottom-color: var(--fill-color);\n",
              "    animation:\n",
              "      spin 1s steps(1) infinite;\n",
              "  }\n",
              "\n",
              "  @keyframes spin {\n",
              "    0% {\n",
              "      border-color: transparent;\n",
              "      border-bottom-color: var(--fill-color);\n",
              "      border-left-color: var(--fill-color);\n",
              "    }\n",
              "    20% {\n",
              "      border-color: transparent;\n",
              "      border-left-color: var(--fill-color);\n",
              "      border-top-color: var(--fill-color);\n",
              "    }\n",
              "    30% {\n",
              "      border-color: transparent;\n",
              "      border-left-color: var(--fill-color);\n",
              "      border-top-color: var(--fill-color);\n",
              "      border-right-color: var(--fill-color);\n",
              "    }\n",
              "    40% {\n",
              "      border-color: transparent;\n",
              "      border-right-color: var(--fill-color);\n",
              "      border-top-color: var(--fill-color);\n",
              "    }\n",
              "    60% {\n",
              "      border-color: transparent;\n",
              "      border-right-color: var(--fill-color);\n",
              "    }\n",
              "    80% {\n",
              "      border-color: transparent;\n",
              "      border-right-color: var(--fill-color);\n",
              "      border-bottom-color: var(--fill-color);\n",
              "    }\n",
              "    90% {\n",
              "      border-color: transparent;\n",
              "      border-bottom-color: var(--fill-color);\n",
              "    }\n",
              "  }\n",
              "</style>\n",
              "\n",
              "  <script>\n",
              "    async function quickchart(key) {\n",
              "      const quickchartButtonEl =\n",
              "        document.querySelector('#' + key + ' button');\n",
              "      quickchartButtonEl.disabled = true;  // To prevent multiple clicks.\n",
              "      quickchartButtonEl.classList.add('colab-df-spinner');\n",
              "      try {\n",
              "        const charts = await google.colab.kernel.invokeFunction(\n",
              "            'suggestCharts', [key], {});\n",
              "      } catch (error) {\n",
              "        console.error('Error during call to suggestCharts:', error);\n",
              "      }\n",
              "      quickchartButtonEl.classList.remove('colab-df-spinner');\n",
              "      quickchartButtonEl.classList.add('colab-df-quickchart-complete');\n",
              "    }\n",
              "    (() => {\n",
              "      let quickchartButtonEl =\n",
              "        document.querySelector('#df-d5edef6d-009c-4d61-992c-e660f545cc07 button');\n",
              "      quickchartButtonEl.style.display =\n",
              "        google.colab.kernel.accessAllowed ? 'block' : 'none';\n",
              "    })();\n",
              "  </script>\n",
              "</div>\n",
              "    </div>\n",
              "  </div>\n"
            ],
            "application/vnd.google.colaboratory.intrinsic+json": {
              "type": "dataframe",
              "variable_name": "df_aggregated",
              "summary": "{\n  \"name\": \"df_aggregated\",\n  \"rows\": 11270,\n  \"fields\": [\n    {\n      \"column\": \"user_id\",\n      \"properties\": {\n        \"dtype\": \"number\",\n        \"std\": 440,\n        \"min\": 1,\n        \"max\": 1534,\n        \"num_unique_values\": 1534,\n        \"samples\": [\n          1365,\n          77,\n          317\n        ],\n        \"semantic_type\": \"\",\n        \"description\": \"\"\n      }\n    },\n    {\n      \"column\": \"month_number\",\n      \"properties\": {\n        \"dtype\": \"int32\",\n        \"num_unique_values\": 12,\n        \"samples\": [\n          5,\n          2,\n          1\n        ],\n        \"semantic_type\": \"\",\n        \"description\": \"\"\n      }\n    },\n    {\n      \"column\": \"total_distance\",\n      \"properties\": {\n        \"dtype\": \"number\",\n        \"std\": 2877.8197528285864,\n        \"min\": 7.0,\n        \"max\": 23430.0,\n        \"num_unique_values\": 6135,\n        \"samples\": [\n          3268.0,\n          8770.0,\n          3455.0\n        ],\n        \"semantic_type\": \"\",\n        \"description\": \"\"\n      }\n    },\n    {\n      \"column\": \"total_duration\",\n      \"properties\": {\n        \"dtype\": \"number\",\n        \"std\": 16.30680729435658,\n        \"min\": 4.032322976578941,\n        \"max\": 140.26442563368684,\n        \"num_unique_values\": 11270,\n        \"samples\": [\n          50.62676611344689,\n          77.56631360875033,\n          25.67775605308844\n        ],\n        \"semantic_type\": \"\",\n        \"description\": \"\"\n      }\n    },\n    {\n      \"column\": \"rides_count\",\n      \"properties\": {\n        \"dtype\": \"number\",\n        \"std\": 0,\n        \"min\": 1,\n        \"max\": 7,\n        \"num_unique_values\": 7,\n        \"samples\": [\n          2,\n          1,\n          6\n        ],\n        \"semantic_type\": \"\",\n        \"description\": \"\"\n      }\n    },\n    {\n      \"column\": \"minute_price\",\n      \"properties\": {\n        \"dtype\": \"number\",\n        \"std\": 0,\n        \"min\": 6,\n        \"max\": 8,\n        \"num_unique_values\": 2,\n        \"samples\": [\n          8,\n          6\n        ],\n        \"semantic_type\": \"\",\n        \"description\": \"\"\n      }\n    },\n    {\n      \"column\": \"subscription_fee\",\n      \"properties\": {\n        \"dtype\": \"number\",\n        \"std\": 97,\n        \"min\": 0,\n        \"max\": 199,\n        \"num_unique_values\": 2,\n        \"samples\": [\n          0,\n          199\n        ],\n        \"semantic_type\": \"\",\n        \"description\": \"\"\n      }\n    },\n    {\n      \"column\": \"start_ride_price\",\n      \"properties\": {\n        \"dtype\": \"number\",\n        \"std\": 24,\n        \"min\": 0,\n        \"max\": 50,\n        \"num_unique_values\": 2,\n        \"samples\": [\n          50,\n          0\n        ],\n        \"semantic_type\": \"\",\n        \"description\": \"\"\n      }\n    }\n  ]\n}"
            }
          },
          "metadata": {},
          "execution_count": 47
        }
      ],
      "source": [
        "df_combined['rides_count'] = df_combined.groupby(['user_id', 'month_number'])['user_id'].transform('count')\n",
        "df_aggregated = df_combined.groupby(['user_id', 'month_number']).agg({\n",
        "    'distance': 'sum',\n",
        "    'duration': 'sum',\n",
        "    'rides_count': 'first',\n",
        "    'minute_price': 'first',\n",
        "    'subscription_fee': 'first',\n",
        "    'start_ride_price': 'first',\n",
        "}).reset_index()\n",
        "\n",
        "df_aggregated = df_aggregated.rename(columns={'distance': 'total_distance',\n",
        "                                              'duration': 'total_duration',})\n",
        "\n",
        "df_aggregated.head()"
      ]
    },
    {
      "cell_type": "code",
      "execution_count": null,
      "id": "076062ee",
      "metadata": {
        "id": "076062ee",
        "outputId": "abdfa6b8-5004-48cd-f302-f132b73cba9f",
        "colab": {
          "base_uri": "https://localhost:8080/"
        }
      },
      "outputs": [
        {
          "output_type": "stream",
          "name": "stdout",
          "text": [
            "<class 'pandas.core.frame.DataFrame'>\n",
            "Index: 17887 entries, 0 to 17886\n",
            "Data columns (total 13 columns):\n",
            " #   Column             Non-Null Count  Dtype         \n",
            "---  ------             --------------  -----         \n",
            " 0   user_id            17887 non-null  int64         \n",
            " 1   name               17887 non-null  object        \n",
            " 2   age                17887 non-null  int64         \n",
            " 3   city               17887 non-null  object        \n",
            " 4   subscription_type  17887 non-null  object        \n",
            " 5   distance           17887 non-null  float64       \n",
            " 6   duration           17887 non-null  float64       \n",
            " 7   date               17887 non-null  datetime64[ns]\n",
            " 8   month_number       17887 non-null  int32         \n",
            " 9   minute_price       17887 non-null  int64         \n",
            " 10  start_ride_price   17887 non-null  int64         \n",
            " 11  subscription_fee   17887 non-null  int64         \n",
            " 12  rides_count        17887 non-null  int64         \n",
            "dtypes: datetime64[ns](1), float64(2), int32(1), int64(6), object(3)\n",
            "memory usage: 1.8+ MB\n"
          ]
        }
      ],
      "source": [
        "df_combined.info()"
      ]
    },
    {
      "cell_type": "code",
      "execution_count": null,
      "id": "143e82ac",
      "metadata": {
        "id": "143e82ac",
        "outputId": "1cee9179-075a-4bea-c86e-e7ce0f15635b",
        "colab": {
          "base_uri": "https://localhost:8080/"
        }
      },
      "outputs": [
        {
          "output_type": "stream",
          "name": "stdout",
          "text": [
            "<class 'pandas.core.frame.DataFrame'>\n",
            "RangeIndex: 11270 entries, 0 to 11269\n",
            "Data columns (total 8 columns):\n",
            " #   Column            Non-Null Count  Dtype  \n",
            "---  ------            --------------  -----  \n",
            " 0   user_id           11270 non-null  int64  \n",
            " 1   month_number      11270 non-null  int32  \n",
            " 2   total_distance    11270 non-null  float64\n",
            " 3   total_duration    11270 non-null  float64\n",
            " 4   rides_count       11270 non-null  int64  \n",
            " 5   minute_price      11270 non-null  int64  \n",
            " 6   subscription_fee  11270 non-null  int64  \n",
            " 7   start_ride_price  11270 non-null  int64  \n",
            "dtypes: float64(2), int32(1), int64(5)\n",
            "memory usage: 660.5 KB\n"
          ]
        }
      ],
      "source": [
        "df_aggregated.info()"
      ]
    },
    {
      "cell_type": "code",
      "execution_count": null,
      "id": "d15dffd9",
      "metadata": {
        "id": "d15dffd9",
        "outputId": "7bc99969-789a-41a7-ea57-082d254fa196",
        "colab": {
          "base_uri": "https://localhost:8080/"
        }
      },
      "outputs": [
        {
          "output_type": "execute_result",
          "data": {
            "text/plain": [
              "0"
            ]
          },
          "metadata": {},
          "execution_count": 50
        }
      ],
      "source": [
        "df_combined['duration'].isna().sum()"
      ]
    },
    {
      "cell_type": "markdown",
      "id": "09e3196f",
      "metadata": {
        "id": "09e3196f"
      },
      "source": [
        "**Добавление столбца с помесячной выручкой, которую принёс каждый пользователь.**"
      ]
    },
    {
      "cell_type": "code",
      "execution_count": null,
      "id": "7cd450d8",
      "metadata": {
        "id": "7cd450d8"
      },
      "outputs": [],
      "source": [
        "df_combined['duration'] = df_combined['duration'].apply(np.ceil).astype(int)\n",
        "df_aggregated['total_duration'] = df_aggregated['total_duration'].apply(np.ceil).astype(int)\n",
        "\n",
        "df1 = df_aggregated['rides_count'] *  df_aggregated['start_ride_price']\n",
        "df2 = df_aggregated['total_duration'] * df_aggregated['minute_price']"
      ]
    },
    {
      "cell_type": "code",
      "execution_count": null,
      "id": "c6c34fa3",
      "metadata": {
        "id": "c6c34fa3",
        "outputId": "d49dc370-5fbc-4a80-af58-4217094df86c",
        "colab": {
          "base_uri": "https://localhost:8080/"
        }
      },
      "outputs": [
        {
          "output_type": "stream",
          "name": "stdout",
          "text": [
            "Пропуски в df1 0\n",
            "Пропуски в df2 0\n",
            "Пропуски в subscription_fee 0\n"
          ]
        }
      ],
      "source": [
        "print('Пропуски в df1',df1.isna().sum())\n",
        "print('Пропуски в df2',df2.isna().sum())\n",
        "print('Пропуски в subscription_fee',df_aggregated['subscription_fee'].isna().sum())"
      ]
    },
    {
      "cell_type": "code",
      "execution_count": null,
      "id": "896f281a",
      "metadata": {
        "id": "896f281a",
        "outputId": "320e7b9e-de32-4373-9d23-fef711d72635",
        "colab": {
          "base_uri": "https://localhost:8080/",
          "height": 423
        }
      },
      "outputs": [
        {
          "output_type": "execute_result",
          "data": {
            "text/plain": [
              "       user_id  month_number  total_distance  total_duration  rides_count  \\\n",
              "0            1             1          7028.0              42            2   \n",
              "1            1             4           754.0               7            1   \n",
              "2            1             8          6724.0              45            2   \n",
              "3            1            10          5810.0              32            2   \n",
              "4            1            11          7004.0              54            3   \n",
              "...        ...           ...             ...             ...          ...   \n",
              "11265     1534             6          3409.0              25            2   \n",
              "11266     1534             8          7623.0              48            2   \n",
              "11267     1534             9          4928.0              23            1   \n",
              "11268     1534            11         13349.0              77            4   \n",
              "11269     1534            12          2372.0              16            1   \n",
              "\n",
              "       minute_price  subscription_fee  start_ride_price  monthly_revenue  \\\n",
              "0                 6               199                 0              451   \n",
              "1                 6               199                 0              241   \n",
              "2                 6               199                 0              469   \n",
              "3                 6               199                 0              391   \n",
              "4                 6               199                 0              523   \n",
              "...             ...               ...               ...              ...   \n",
              "11265             8                 0                50              300   \n",
              "11266             8                 0                50              484   \n",
              "11267             8                 0                50              234   \n",
              "11268             8                 0                50              816   \n",
              "11269             8                 0                50              178   \n",
              "\n",
              "      subscription_type  \n",
              "0                 ultra  \n",
              "1                 ultra  \n",
              "2                 ultra  \n",
              "3                 ultra  \n",
              "4                 ultra  \n",
              "...                 ...  \n",
              "11265              free  \n",
              "11266              free  \n",
              "11267              free  \n",
              "11268              free  \n",
              "11269              free  \n",
              "\n",
              "[11270 rows x 10 columns]"
            ],
            "text/html": [
              "\n",
              "  <div id=\"df-0ade6498-1f95-430c-9e7b-695c85d1a48e\" class=\"colab-df-container\">\n",
              "    <div>\n",
              "<style scoped>\n",
              "    .dataframe tbody tr th:only-of-type {\n",
              "        vertical-align: middle;\n",
              "    }\n",
              "\n",
              "    .dataframe tbody tr th {\n",
              "        vertical-align: top;\n",
              "    }\n",
              "\n",
              "    .dataframe thead th {\n",
              "        text-align: right;\n",
              "    }\n",
              "</style>\n",
              "<table border=\"1\" class=\"dataframe\">\n",
              "  <thead>\n",
              "    <tr style=\"text-align: right;\">\n",
              "      <th></th>\n",
              "      <th>user_id</th>\n",
              "      <th>month_number</th>\n",
              "      <th>total_distance</th>\n",
              "      <th>total_duration</th>\n",
              "      <th>rides_count</th>\n",
              "      <th>minute_price</th>\n",
              "      <th>subscription_fee</th>\n",
              "      <th>start_ride_price</th>\n",
              "      <th>monthly_revenue</th>\n",
              "      <th>subscription_type</th>\n",
              "    </tr>\n",
              "  </thead>\n",
              "  <tbody>\n",
              "    <tr>\n",
              "      <th>0</th>\n",
              "      <td>1</td>\n",
              "      <td>1</td>\n",
              "      <td>7028.0</td>\n",
              "      <td>42</td>\n",
              "      <td>2</td>\n",
              "      <td>6</td>\n",
              "      <td>199</td>\n",
              "      <td>0</td>\n",
              "      <td>451</td>\n",
              "      <td>ultra</td>\n",
              "    </tr>\n",
              "    <tr>\n",
              "      <th>1</th>\n",
              "      <td>1</td>\n",
              "      <td>4</td>\n",
              "      <td>754.0</td>\n",
              "      <td>7</td>\n",
              "      <td>1</td>\n",
              "      <td>6</td>\n",
              "      <td>199</td>\n",
              "      <td>0</td>\n",
              "      <td>241</td>\n",
              "      <td>ultra</td>\n",
              "    </tr>\n",
              "    <tr>\n",
              "      <th>2</th>\n",
              "      <td>1</td>\n",
              "      <td>8</td>\n",
              "      <td>6724.0</td>\n",
              "      <td>45</td>\n",
              "      <td>2</td>\n",
              "      <td>6</td>\n",
              "      <td>199</td>\n",
              "      <td>0</td>\n",
              "      <td>469</td>\n",
              "      <td>ultra</td>\n",
              "    </tr>\n",
              "    <tr>\n",
              "      <th>3</th>\n",
              "      <td>1</td>\n",
              "      <td>10</td>\n",
              "      <td>5810.0</td>\n",
              "      <td>32</td>\n",
              "      <td>2</td>\n",
              "      <td>6</td>\n",
              "      <td>199</td>\n",
              "      <td>0</td>\n",
              "      <td>391</td>\n",
              "      <td>ultra</td>\n",
              "    </tr>\n",
              "    <tr>\n",
              "      <th>4</th>\n",
              "      <td>1</td>\n",
              "      <td>11</td>\n",
              "      <td>7004.0</td>\n",
              "      <td>54</td>\n",
              "      <td>3</td>\n",
              "      <td>6</td>\n",
              "      <td>199</td>\n",
              "      <td>0</td>\n",
              "      <td>523</td>\n",
              "      <td>ultra</td>\n",
              "    </tr>\n",
              "    <tr>\n",
              "      <th>...</th>\n",
              "      <td>...</td>\n",
              "      <td>...</td>\n",
              "      <td>...</td>\n",
              "      <td>...</td>\n",
              "      <td>...</td>\n",
              "      <td>...</td>\n",
              "      <td>...</td>\n",
              "      <td>...</td>\n",
              "      <td>...</td>\n",
              "      <td>...</td>\n",
              "    </tr>\n",
              "    <tr>\n",
              "      <th>11265</th>\n",
              "      <td>1534</td>\n",
              "      <td>6</td>\n",
              "      <td>3409.0</td>\n",
              "      <td>25</td>\n",
              "      <td>2</td>\n",
              "      <td>8</td>\n",
              "      <td>0</td>\n",
              "      <td>50</td>\n",
              "      <td>300</td>\n",
              "      <td>free</td>\n",
              "    </tr>\n",
              "    <tr>\n",
              "      <th>11266</th>\n",
              "      <td>1534</td>\n",
              "      <td>8</td>\n",
              "      <td>7623.0</td>\n",
              "      <td>48</td>\n",
              "      <td>2</td>\n",
              "      <td>8</td>\n",
              "      <td>0</td>\n",
              "      <td>50</td>\n",
              "      <td>484</td>\n",
              "      <td>free</td>\n",
              "    </tr>\n",
              "    <tr>\n",
              "      <th>11267</th>\n",
              "      <td>1534</td>\n",
              "      <td>9</td>\n",
              "      <td>4928.0</td>\n",
              "      <td>23</td>\n",
              "      <td>1</td>\n",
              "      <td>8</td>\n",
              "      <td>0</td>\n",
              "      <td>50</td>\n",
              "      <td>234</td>\n",
              "      <td>free</td>\n",
              "    </tr>\n",
              "    <tr>\n",
              "      <th>11268</th>\n",
              "      <td>1534</td>\n",
              "      <td>11</td>\n",
              "      <td>13349.0</td>\n",
              "      <td>77</td>\n",
              "      <td>4</td>\n",
              "      <td>8</td>\n",
              "      <td>0</td>\n",
              "      <td>50</td>\n",
              "      <td>816</td>\n",
              "      <td>free</td>\n",
              "    </tr>\n",
              "    <tr>\n",
              "      <th>11269</th>\n",
              "      <td>1534</td>\n",
              "      <td>12</td>\n",
              "      <td>2372.0</td>\n",
              "      <td>16</td>\n",
              "      <td>1</td>\n",
              "      <td>8</td>\n",
              "      <td>0</td>\n",
              "      <td>50</td>\n",
              "      <td>178</td>\n",
              "      <td>free</td>\n",
              "    </tr>\n",
              "  </tbody>\n",
              "</table>\n",
              "<p>11270 rows × 10 columns</p>\n",
              "</div>\n",
              "    <div class=\"colab-df-buttons\">\n",
              "\n",
              "  <div class=\"colab-df-container\">\n",
              "    <button class=\"colab-df-convert\" onclick=\"convertToInteractive('df-0ade6498-1f95-430c-9e7b-695c85d1a48e')\"\n",
              "            title=\"Convert this dataframe to an interactive table.\"\n",
              "            style=\"display:none;\">\n",
              "\n",
              "  <svg xmlns=\"http://www.w3.org/2000/svg\" height=\"24px\" viewBox=\"0 -960 960 960\">\n",
              "    <path d=\"M120-120v-720h720v720H120Zm60-500h600v-160H180v160Zm220 220h160v-160H400v160Zm0 220h160v-160H400v160ZM180-400h160v-160H180v160Zm440 0h160v-160H620v160ZM180-180h160v-160H180v160Zm440 0h160v-160H620v160Z\"/>\n",
              "  </svg>\n",
              "    </button>\n",
              "\n",
              "  <style>\n",
              "    .colab-df-container {\n",
              "      display:flex;\n",
              "      gap: 12px;\n",
              "    }\n",
              "\n",
              "    .colab-df-convert {\n",
              "      background-color: #E8F0FE;\n",
              "      border: none;\n",
              "      border-radius: 50%;\n",
              "      cursor: pointer;\n",
              "      display: none;\n",
              "      fill: #1967D2;\n",
              "      height: 32px;\n",
              "      padding: 0 0 0 0;\n",
              "      width: 32px;\n",
              "    }\n",
              "\n",
              "    .colab-df-convert:hover {\n",
              "      background-color: #E2EBFA;\n",
              "      box-shadow: 0px 1px 2px rgba(60, 64, 67, 0.3), 0px 1px 3px 1px rgba(60, 64, 67, 0.15);\n",
              "      fill: #174EA6;\n",
              "    }\n",
              "\n",
              "    .colab-df-buttons div {\n",
              "      margin-bottom: 4px;\n",
              "    }\n",
              "\n",
              "    [theme=dark] .colab-df-convert {\n",
              "      background-color: #3B4455;\n",
              "      fill: #D2E3FC;\n",
              "    }\n",
              "\n",
              "    [theme=dark] .colab-df-convert:hover {\n",
              "      background-color: #434B5C;\n",
              "      box-shadow: 0px 1px 3px 1px rgba(0, 0, 0, 0.15);\n",
              "      filter: drop-shadow(0px 1px 2px rgba(0, 0, 0, 0.3));\n",
              "      fill: #FFFFFF;\n",
              "    }\n",
              "  </style>\n",
              "\n",
              "    <script>\n",
              "      const buttonEl =\n",
              "        document.querySelector('#df-0ade6498-1f95-430c-9e7b-695c85d1a48e button.colab-df-convert');\n",
              "      buttonEl.style.display =\n",
              "        google.colab.kernel.accessAllowed ? 'block' : 'none';\n",
              "\n",
              "      async function convertToInteractive(key) {\n",
              "        const element = document.querySelector('#df-0ade6498-1f95-430c-9e7b-695c85d1a48e');\n",
              "        const dataTable =\n",
              "          await google.colab.kernel.invokeFunction('convertToInteractive',\n",
              "                                                    [key], {});\n",
              "        if (!dataTable) return;\n",
              "\n",
              "        const docLinkHtml = 'Like what you see? Visit the ' +\n",
              "          '<a target=\"_blank\" href=https://colab.research.google.com/notebooks/data_table.ipynb>data table notebook</a>'\n",
              "          + ' to learn more about interactive tables.';\n",
              "        element.innerHTML = '';\n",
              "        dataTable['output_type'] = 'display_data';\n",
              "        await google.colab.output.renderOutput(dataTable, element);\n",
              "        const docLink = document.createElement('div');\n",
              "        docLink.innerHTML = docLinkHtml;\n",
              "        element.appendChild(docLink);\n",
              "      }\n",
              "    </script>\n",
              "  </div>\n",
              "\n",
              "\n",
              "<div id=\"df-49fc2fba-97ab-41a8-827f-0b82b6f610cd\">\n",
              "  <button class=\"colab-df-quickchart\" onclick=\"quickchart('df-49fc2fba-97ab-41a8-827f-0b82b6f610cd')\"\n",
              "            title=\"Suggest charts\"\n",
              "            style=\"display:none;\">\n",
              "\n",
              "<svg xmlns=\"http://www.w3.org/2000/svg\" height=\"24px\"viewBox=\"0 0 24 24\"\n",
              "     width=\"24px\">\n",
              "    <g>\n",
              "        <path d=\"M19 3H5c-1.1 0-2 .9-2 2v14c0 1.1.9 2 2 2h14c1.1 0 2-.9 2-2V5c0-1.1-.9-2-2-2zM9 17H7v-7h2v7zm4 0h-2V7h2v10zm4 0h-2v-4h2v4z\"/>\n",
              "    </g>\n",
              "</svg>\n",
              "  </button>\n",
              "\n",
              "<style>\n",
              "  .colab-df-quickchart {\n",
              "      --bg-color: #E8F0FE;\n",
              "      --fill-color: #1967D2;\n",
              "      --hover-bg-color: #E2EBFA;\n",
              "      --hover-fill-color: #174EA6;\n",
              "      --disabled-fill-color: #AAA;\n",
              "      --disabled-bg-color: #DDD;\n",
              "  }\n",
              "\n",
              "  [theme=dark] .colab-df-quickchart {\n",
              "      --bg-color: #3B4455;\n",
              "      --fill-color: #D2E3FC;\n",
              "      --hover-bg-color: #434B5C;\n",
              "      --hover-fill-color: #FFFFFF;\n",
              "      --disabled-bg-color: #3B4455;\n",
              "      --disabled-fill-color: #666;\n",
              "  }\n",
              "\n",
              "  .colab-df-quickchart {\n",
              "    background-color: var(--bg-color);\n",
              "    border: none;\n",
              "    border-radius: 50%;\n",
              "    cursor: pointer;\n",
              "    display: none;\n",
              "    fill: var(--fill-color);\n",
              "    height: 32px;\n",
              "    padding: 0;\n",
              "    width: 32px;\n",
              "  }\n",
              "\n",
              "  .colab-df-quickchart:hover {\n",
              "    background-color: var(--hover-bg-color);\n",
              "    box-shadow: 0 1px 2px rgba(60, 64, 67, 0.3), 0 1px 3px 1px rgba(60, 64, 67, 0.15);\n",
              "    fill: var(--button-hover-fill-color);\n",
              "  }\n",
              "\n",
              "  .colab-df-quickchart-complete:disabled,\n",
              "  .colab-df-quickchart-complete:disabled:hover {\n",
              "    background-color: var(--disabled-bg-color);\n",
              "    fill: var(--disabled-fill-color);\n",
              "    box-shadow: none;\n",
              "  }\n",
              "\n",
              "  .colab-df-spinner {\n",
              "    border: 2px solid var(--fill-color);\n",
              "    border-color: transparent;\n",
              "    border-bottom-color: var(--fill-color);\n",
              "    animation:\n",
              "      spin 1s steps(1) infinite;\n",
              "  }\n",
              "\n",
              "  @keyframes spin {\n",
              "    0% {\n",
              "      border-color: transparent;\n",
              "      border-bottom-color: var(--fill-color);\n",
              "      border-left-color: var(--fill-color);\n",
              "    }\n",
              "    20% {\n",
              "      border-color: transparent;\n",
              "      border-left-color: var(--fill-color);\n",
              "      border-top-color: var(--fill-color);\n",
              "    }\n",
              "    30% {\n",
              "      border-color: transparent;\n",
              "      border-left-color: var(--fill-color);\n",
              "      border-top-color: var(--fill-color);\n",
              "      border-right-color: var(--fill-color);\n",
              "    }\n",
              "    40% {\n",
              "      border-color: transparent;\n",
              "      border-right-color: var(--fill-color);\n",
              "      border-top-color: var(--fill-color);\n",
              "    }\n",
              "    60% {\n",
              "      border-color: transparent;\n",
              "      border-right-color: var(--fill-color);\n",
              "    }\n",
              "    80% {\n",
              "      border-color: transparent;\n",
              "      border-right-color: var(--fill-color);\n",
              "      border-bottom-color: var(--fill-color);\n",
              "    }\n",
              "    90% {\n",
              "      border-color: transparent;\n",
              "      border-bottom-color: var(--fill-color);\n",
              "    }\n",
              "  }\n",
              "</style>\n",
              "\n",
              "  <script>\n",
              "    async function quickchart(key) {\n",
              "      const quickchartButtonEl =\n",
              "        document.querySelector('#' + key + ' button');\n",
              "      quickchartButtonEl.disabled = true;  // To prevent multiple clicks.\n",
              "      quickchartButtonEl.classList.add('colab-df-spinner');\n",
              "      try {\n",
              "        const charts = await google.colab.kernel.invokeFunction(\n",
              "            'suggestCharts', [key], {});\n",
              "      } catch (error) {\n",
              "        console.error('Error during call to suggestCharts:', error);\n",
              "      }\n",
              "      quickchartButtonEl.classList.remove('colab-df-spinner');\n",
              "      quickchartButtonEl.classList.add('colab-df-quickchart-complete');\n",
              "    }\n",
              "    (() => {\n",
              "      let quickchartButtonEl =\n",
              "        document.querySelector('#df-49fc2fba-97ab-41a8-827f-0b82b6f610cd button');\n",
              "      quickchartButtonEl.style.display =\n",
              "        google.colab.kernel.accessAllowed ? 'block' : 'none';\n",
              "    })();\n",
              "  </script>\n",
              "</div>\n",
              "    </div>\n",
              "  </div>\n"
            ],
            "application/vnd.google.colaboratory.intrinsic+json": {
              "type": "dataframe",
              "variable_name": "df_aggregated",
              "summary": "{\n  \"name\": \"df_aggregated\",\n  \"rows\": 11270,\n  \"fields\": [\n    {\n      \"column\": \"user_id\",\n      \"properties\": {\n        \"dtype\": \"number\",\n        \"std\": 440,\n        \"min\": 1,\n        \"max\": 1534,\n        \"num_unique_values\": 1534,\n        \"samples\": [\n          1365,\n          77,\n          317\n        ],\n        \"semantic_type\": \"\",\n        \"description\": \"\"\n      }\n    },\n    {\n      \"column\": \"month_number\",\n      \"properties\": {\n        \"dtype\": \"int32\",\n        \"num_unique_values\": 12,\n        \"samples\": [\n          5,\n          2,\n          1\n        ],\n        \"semantic_type\": \"\",\n        \"description\": \"\"\n      }\n    },\n    {\n      \"column\": \"total_distance\",\n      \"properties\": {\n        \"dtype\": \"number\",\n        \"std\": 2877.8197528285864,\n        \"min\": 7.0,\n        \"max\": 23430.0,\n        \"num_unique_values\": 6135,\n        \"samples\": [\n          3268.0,\n          8770.0,\n          3455.0\n        ],\n        \"semantic_type\": \"\",\n        \"description\": \"\"\n      }\n    },\n    {\n      \"column\": \"total_duration\",\n      \"properties\": {\n        \"dtype\": \"number\",\n        \"std\": 16,\n        \"min\": 5,\n        \"max\": 141,\n        \"num_unique_values\": 115,\n        \"samples\": [\n          90,\n          54,\n          58\n        ],\n        \"semantic_type\": \"\",\n        \"description\": \"\"\n      }\n    },\n    {\n      \"column\": \"rides_count\",\n      \"properties\": {\n        \"dtype\": \"number\",\n        \"std\": 0,\n        \"min\": 1,\n        \"max\": 7,\n        \"num_unique_values\": 7,\n        \"samples\": [\n          2,\n          1,\n          6\n        ],\n        \"semantic_type\": \"\",\n        \"description\": \"\"\n      }\n    },\n    {\n      \"column\": \"minute_price\",\n      \"properties\": {\n        \"dtype\": \"number\",\n        \"std\": 0,\n        \"min\": 6,\n        \"max\": 8,\n        \"num_unique_values\": 2,\n        \"samples\": [\n          8,\n          6\n        ],\n        \"semantic_type\": \"\",\n        \"description\": \"\"\n      }\n    },\n    {\n      \"column\": \"subscription_fee\",\n      \"properties\": {\n        \"dtype\": \"number\",\n        \"std\": 97,\n        \"min\": 0,\n        \"max\": 199,\n        \"num_unique_values\": 2,\n        \"samples\": [\n          0,\n          199\n        ],\n        \"semantic_type\": \"\",\n        \"description\": \"\"\n      }\n    },\n    {\n      \"column\": \"start_ride_price\",\n      \"properties\": {\n        \"dtype\": \"number\",\n        \"std\": 24,\n        \"min\": 0,\n        \"max\": 50,\n        \"num_unique_values\": 2,\n        \"samples\": [\n          50,\n          0\n        ],\n        \"semantic_type\": \"\",\n        \"description\": \"\"\n      }\n    },\n    {\n      \"column\": \"monthly_revenue\",\n      \"properties\": {\n        \"dtype\": \"number\",\n        \"std\": 150,\n        \"min\": 90,\n        \"max\": 1428,\n        \"num_unique_values\": 334,\n        \"samples\": [\n          319,\n          782\n        ],\n        \"semantic_type\": \"\",\n        \"description\": \"\"\n      }\n    },\n    {\n      \"column\": \"subscription_type\",\n      \"properties\": {\n        \"dtype\": \"category\",\n        \"num_unique_values\": 2,\n        \"samples\": [\n          \"free\",\n          \"ultra\"\n        ],\n        \"semantic_type\": \"\",\n        \"description\": \"\"\n      }\n    }\n  ]\n}"
            }
          },
          "metadata": {},
          "execution_count": 53
        }
      ],
      "source": [
        "df_aggregated['monthly_revenue'] = (df1 + df2 + df_aggregated['subscription_fee'])\n",
        "user_subscription_map = df_combined.set_index('user_id')['subscription_type'].to_dict()\n",
        "\n",
        "df_aggregated['subscription_type'] = df_aggregated['user_id'].map(user_subscription_map)\n",
        "df_aggregated.head()"
      ]
    },
    {
      "cell_type": "code",
      "execution_count": null,
      "id": "8c599686",
      "metadata": {
        "id": "8c599686",
        "outputId": "931b0748-8650-40b3-8b16-8c9e30100c0d",
        "colab": {
          "base_uri": "https://localhost:8080/",
          "height": 397
        }
      },
      "outputs": [
        {
          "output_type": "execute_result",
          "data": {
            "text/plain": [
              "user_id              0\n",
              "month_number         0\n",
              "total_distance       0\n",
              "total_duration       0\n",
              "rides_count          0\n",
              "minute_price         0\n",
              "subscription_fee     0\n",
              "start_ride_price     0\n",
              "monthly_revenue      0\n",
              "subscription_type    0\n",
              "dtype: int64"
            ],
            "text/html": [
              "<div>\n",
              "<style scoped>\n",
              "    .dataframe tbody tr th:only-of-type {\n",
              "        vertical-align: middle;\n",
              "    }\n",
              "\n",
              "    .dataframe tbody tr th {\n",
              "        vertical-align: top;\n",
              "    }\n",
              "\n",
              "    .dataframe thead th {\n",
              "        text-align: right;\n",
              "    }\n",
              "</style>\n",
              "<table border=\"1\" class=\"dataframe\">\n",
              "  <thead>\n",
              "    <tr style=\"text-align: right;\">\n",
              "      <th></th>\n",
              "      <th>0</th>\n",
              "    </tr>\n",
              "  </thead>\n",
              "  <tbody>\n",
              "    <tr>\n",
              "      <th>user_id</th>\n",
              "      <td>0</td>\n",
              "    </tr>\n",
              "    <tr>\n",
              "      <th>month_number</th>\n",
              "      <td>0</td>\n",
              "    </tr>\n",
              "    <tr>\n",
              "      <th>total_distance</th>\n",
              "      <td>0</td>\n",
              "    </tr>\n",
              "    <tr>\n",
              "      <th>total_duration</th>\n",
              "      <td>0</td>\n",
              "    </tr>\n",
              "    <tr>\n",
              "      <th>rides_count</th>\n",
              "      <td>0</td>\n",
              "    </tr>\n",
              "    <tr>\n",
              "      <th>minute_price</th>\n",
              "      <td>0</td>\n",
              "    </tr>\n",
              "    <tr>\n",
              "      <th>subscription_fee</th>\n",
              "      <td>0</td>\n",
              "    </tr>\n",
              "    <tr>\n",
              "      <th>start_ride_price</th>\n",
              "      <td>0</td>\n",
              "    </tr>\n",
              "    <tr>\n",
              "      <th>monthly_revenue</th>\n",
              "      <td>0</td>\n",
              "    </tr>\n",
              "    <tr>\n",
              "      <th>subscription_type</th>\n",
              "      <td>0</td>\n",
              "    </tr>\n",
              "  </tbody>\n",
              "</table>\n",
              "</div><br><label><b>dtype:</b> int64</label>"
            ]
          },
          "metadata": {},
          "execution_count": 54
        }
      ],
      "source": [
        "df_aggregated.isna().sum()"
      ]
    },
    {
      "cell_type": "markdown",
      "id": "41545ac0",
      "metadata": {
        "id": "41545ac0"
      },
      "source": [
        "#### Шаг 6. Проверка гипотез"
      ]
    },
    {
      "cell_type": "markdown",
      "id": "cb5ff076",
      "metadata": {
        "id": "cb5ff076"
      },
      "source": [
        "##### Гипотеза о времени поездки для пользователей с подпиской и без нее.\n",
        "Важно понять, тратят ли пользователи с подпиской больше времени на поездки? Если да, то пользователи с подпиской могут быть «выгоднее» для компании. Проверим гипотезу.\n",
        "Используйте исходные данные о продолжительности каждой сессии — отдельно для подписчиков и тех, у кого нет подписки."
      ]
    },
    {
      "cell_type": "markdown",
      "id": "07b7306e",
      "metadata": {
        "id": "07b7306e"
      },
      "source": [
        "Формулировка гипотез:\n",
        "   - Нулевая гипотеза (H0): Среднее время поездки для пользователей с подпиской равно среднему времени поездки для пользователей без подписки.\n",
        "   - Альтернативная гипотеза (H1): Среднее время поездки у пользователей с подпиской больше, чем у пользователей без подписки.\n",
        "\n",
        "\n",
        "Для проверки гипотезы о том, тратят ли пользователи с подпиской больше времени на поездки, разделим исходные данные на две группы: пользователи с подпиской \"Ultra\" и пользователи без подписки (\"Free\"). Затем вычислим среднее время для каждой из этих двух групп и проведем статистический тест, в данном случае t-тест Стьюдента. Выбираем имеено этот тест, поскольку, распределение времени поездок близко к нормальному, а также тем, что две выборки из генеральной совокупности независимы."
      ]
    },
    {
      "cell_type": "code",
      "execution_count": null,
      "id": "4e96dce2",
      "metadata": {
        "id": "4e96dce2",
        "outputId": "5e8f8379-da9b-4014-e6a8-d29c317e61fb",
        "colab": {
          "base_uri": "https://localhost:8080/"
        }
      },
      "outputs": [
        {
          "output_type": "stream",
          "name": "stdout",
          "text": [
            "Среднее время поездки для пользователей с подпиской: 18.544259609999017\n",
            "Среднее время поездки для пользователей без подписки: 17.638233070511745\n",
            "Значение t-статистики: 9.902732908767117\n",
            "p-value: 4.643646294412621e-23\n",
            "Отвергаем нулевую гипотезу: средние значения отличаются\n"
          ]
        }
      ],
      "source": [
        "mean_group_ultra = df_ultra_sub['duration'].mean()\n",
        "mean_group_free = df_free_sub['duration'].mean()\n",
        "t_statistic, p_value = stats.ttest_ind(df_ultra_sub['duration'],df_free_sub['duration'])\n",
        "\n",
        "print(\"Среднее время поездки для пользователей с подпиской:\",mean_group_ultra)\n",
        "print(\"Среднее время поездки для пользователей без подписки:\",mean_group_free)\n",
        "print(\"Значение t-статистики:\", t_statistic)\n",
        "print(\"p-value:\", p_value)\n",
        "\n",
        "alpha = 0.05\n",
        "if p_value < alpha:\n",
        "    print(\"Отвергаем нулевую гипотезу: средние значения отличаются\")\n",
        "else:\n",
        "    print(\"Не принимаем нулевую гипотезу: средние значения совпадают\")\n"
      ]
    },
    {
      "cell_type": "markdown",
      "id": "07c4e027",
      "metadata": {
        "id": "07c4e027"
      },
      "source": [
        "**Вывод:**\n",
        "\n",
        "Исходя из результатов теста, отвергаем нулевую гипотезу, что среднее время поездки для пользователей с подпиской равно среднему времени поездки для пользователей без подписки. Это означает, что есть статистически значимое различия между временем поездок для пользователей с подпиской и тех, у кого нет подписки. Таким образом, на основе данной гипотезы можно предположить, что пользователи с подпиской тратят больше времени на поездки."
      ]
    },
    {
      "cell_type": "markdown",
      "id": "200c6ea7",
      "metadata": {
        "id": "200c6ea7"
      },
      "source": [
        "##### Гипотезы о том, что среднее расстояние, которое проезжают пользователи с подпиской за одну поездку, не превышает 3130 метров"
      ]
    },
    {
      "cell_type": "markdown",
      "id": "132ee8be",
      "metadata": {
        "id": "132ee8be"
      },
      "source": [
        "Для проверки гипотезы о том, что среднее расстояние с подпиской за одну поездку, не превышает 3130 метров, мы можем использовать односторонний t-тест Стьюдента.\n",
        "\n",
        "Формулировка гипотез:\n",
        "   - Нулевая гипотеза (H0): Среднее расстояние пользователей с подпиской за одну поездку не превышает 3130 метров.\n",
        "   - Альтернативная гипотеза (H1): Среднее расстояние пользователей с подпиской за одну поездку превышает 3130 метров.\n",
        "   \n",
        "Проверка гипотезы будет проведена на основе данных о расстояниях поездок пользователей с подпиской. Для анализа используем односторонний t-тест Стьюдента, чтобы сравнить среднее расстояние поездок с подпиской с заданным порогом в 3130 метров. Выбираем этот метод проверки из-за необходимости сравнения с определенным оптимальным значением в 3130 метров, а также из-за близкого к нормальному распределения данных, наличия одной непрерывной переменной и независимости выборок."
      ]
    },
    {
      "cell_type": "code",
      "execution_count": null,
      "id": "4a1c3697",
      "metadata": {
        "id": "4a1c3697",
        "outputId": "49a8f6db-c3f6-4195-a033-7ab06fbcda23",
        "colab": {
          "base_uri": "https://localhost:8080/"
        }
      },
      "outputs": [
        {
          "output_type": "stream",
          "name": "stdout",
          "text": [
            "Среднее расстояние для пользователей с подпиской: 3115.881827973534\n",
            "Значение t-статистики: -1.3610793930743996\n",
            "p-value: 0.9132321003925746\n",
            "Не отвергаем нулевую гипотезу: среднее расстояние не превышает 3130 м\n"
          ]
        }
      ],
      "source": [
        "df_group_ultra = df_combined[df_combined['subscription_type'] == 'ultra']\n",
        "mean_distance = df_group_ultra['distance'].mean()\n",
        "\n",
        "alpha = 0.05\n",
        "optimal_distance = 3130\n",
        "\n",
        "t_statistic, p_value = stats.ttest_1samp(df_group_ultra['distance'], optimal_distance, alternative = 'greater')\n",
        "\n",
        "print(\"Среднее расстояние для пользователей с подпиской:\", mean_distance)\n",
        "print(\"Значение t-статистики:\", t_statistic)\n",
        "print(\"p-value:\", p_value)\n",
        "\n",
        "if p_value < alpha:\n",
        "    print(\"Отвергаем нулевую гипотезу: среднее расстояние превышает\", optimal_distance, \"м\")\n",
        "else:\n",
        "    print(\"Не отвергаем нулевую гипотезу: среднее расстояние не превышает\", optimal_distance, \"м\")"
      ]
    },
    {
      "cell_type": "markdown",
      "id": "c96544db",
      "metadata": {
        "id": "c96544db"
      },
      "source": [
        "**Вывод:**\n",
        "\n",
        "Учитывая полученные результаты, мы не можем отвергнуть нулевую гипотезу о том, что среднее расстояние пользователей с подпиской за одну поездку не превышает 3130 метров. Вероятно, среднее расстояние действительно не превышает этого значения.Полученные результаты позволяют предположить, что среднее расстояние пользователей с подпиской за одну поездку близко к оптимальному значению в 3130 метров."
      ]
    },
    {
      "cell_type": "markdown",
      "id": "d70e99ac",
      "metadata": {
        "id": "d70e99ac"
      },
      "source": [
        "##### Гипотеза о том, будет ли помесячная выручка от пользователей с подпиской по месяцам выше, чем выручка от пользователей без подписки."
      ]
    },
    {
      "cell_type": "code",
      "execution_count": null,
      "id": "a4e9a865",
      "metadata": {
        "id": "a4e9a865",
        "outputId": "f3b9513e-be77-4874-a7e4-e91fc469e4df",
        "colab": {
          "base_uri": "https://localhost:8080/",
          "height": 458
        }
      },
      "outputs": [
        {
          "output_type": "execute_result",
          "data": {
            "text/plain": [
              "0        451\n",
              "1        241\n",
              "2        469\n",
              "3        391\n",
              "4        523\n",
              "        ... \n",
              "11265    300\n",
              "11266    484\n",
              "11267    234\n",
              "11268    816\n",
              "11269    178\n",
              "Name: monthly_revenue, Length: 11270, dtype: int64"
            ],
            "text/html": [
              "<div>\n",
              "<style scoped>\n",
              "    .dataframe tbody tr th:only-of-type {\n",
              "        vertical-align: middle;\n",
              "    }\n",
              "\n",
              "    .dataframe tbody tr th {\n",
              "        vertical-align: top;\n",
              "    }\n",
              "\n",
              "    .dataframe thead th {\n",
              "        text-align: right;\n",
              "    }\n",
              "</style>\n",
              "<table border=\"1\" class=\"dataframe\">\n",
              "  <thead>\n",
              "    <tr style=\"text-align: right;\">\n",
              "      <th></th>\n",
              "      <th>monthly_revenue</th>\n",
              "    </tr>\n",
              "  </thead>\n",
              "  <tbody>\n",
              "    <tr>\n",
              "      <th>0</th>\n",
              "      <td>451</td>\n",
              "    </tr>\n",
              "    <tr>\n",
              "      <th>1</th>\n",
              "      <td>241</td>\n",
              "    </tr>\n",
              "    <tr>\n",
              "      <th>2</th>\n",
              "      <td>469</td>\n",
              "    </tr>\n",
              "    <tr>\n",
              "      <th>3</th>\n",
              "      <td>391</td>\n",
              "    </tr>\n",
              "    <tr>\n",
              "      <th>4</th>\n",
              "      <td>523</td>\n",
              "    </tr>\n",
              "    <tr>\n",
              "      <th>...</th>\n",
              "      <td>...</td>\n",
              "    </tr>\n",
              "    <tr>\n",
              "      <th>11265</th>\n",
              "      <td>300</td>\n",
              "    </tr>\n",
              "    <tr>\n",
              "      <th>11266</th>\n",
              "      <td>484</td>\n",
              "    </tr>\n",
              "    <tr>\n",
              "      <th>11267</th>\n",
              "      <td>234</td>\n",
              "    </tr>\n",
              "    <tr>\n",
              "      <th>11268</th>\n",
              "      <td>816</td>\n",
              "    </tr>\n",
              "    <tr>\n",
              "      <th>11269</th>\n",
              "      <td>178</td>\n",
              "    </tr>\n",
              "  </tbody>\n",
              "</table>\n",
              "<p>11270 rows × 1 columns</p>\n",
              "</div><br><label><b>dtype:</b> int64</label>"
            ]
          },
          "metadata": {},
          "execution_count": 57
        }
      ],
      "source": [
        "df_aggregated['monthly_revenue']"
      ]
    },
    {
      "cell_type": "code",
      "execution_count": null,
      "id": "da1d2303",
      "metadata": {
        "id": "da1d2303",
        "outputId": "59537ff3-367a-429c-a6e4-a0876eff8a50",
        "colab": {
          "base_uri": "https://localhost:8080/",
          "height": 472
        }
      },
      "outputs": [
        {
          "output_type": "display_data",
          "data": {
            "text/plain": [
              "<Figure size 640x480 with 1 Axes>"
            ],
            "image/png": "[encoded data removed]"
          },
          "metadata": {}
        }
      ],
      "source": [
        "# Группы данных\n",
        "revenue_ultra = df_aggregated[df_aggregated['subscription_type'] == 'ultra']['monthly_revenue']\n",
        "revenue_free = df_aggregated[df_aggregated['subscription_type'] == 'free']['monthly_revenue']\n",
        "\n",
        "# Построение гистограммы\n",
        "plt.hist([revenue_ultra, revenue_free], bins=10, color=['#87CEEB', '#9ACD32'], label=['ultra', 'free'])\n",
        "\n",
        "plt.xlabel('Выручка')\n",
        "plt.ylabel('Частота')\n",
        "plt.title('Помесячная выручка от пользователей с подпиской и без по месяцам ')\n",
        "plt.legend()\n",
        "plt.show()"
      ]
    },
    {
      "cell_type": "markdown",
      "id": "5ed75b4b",
      "metadata": {
        "id": "5ed75b4b"
      },
      "source": [
        "Формулировка гипотез:\n",
        "\n",
        " - Нулевая гипотеза (H0): Средняя помесячная выручка от пользователей с подпиской не выше, чем у пользователей без подписки.\n",
        "\n",
        " - Альтернативная гипотеза (H1): Средняя помесячная выручка от пользователей с подпиской выше, чем у пользователей без подписки.\n",
        "\n",
        "Для проверки этой гипотезы используется t-тест, так как у нас две независимые группы (пользователи с подпиской и без подписки), сравниваем средние значения между этими группами."
      ]
    },
    {
      "cell_type": "code",
      "execution_count": null,
      "id": "d8b47cfb",
      "metadata": {
        "id": "d8b47cfb",
        "outputId": "6b9eb797-be2d-4f08-82fd-d0261d04c368",
        "colab": {
          "base_uri": "https://localhost:8080/"
        }
      },
      "outputs": [
        {
          "output_type": "stream",
          "name": "stdout",
          "text": [
            "t-статистика: -13.613673167683855\n",
            "p-value: 7.606780792425892e-42\n",
            "Отвергаем нулевую гипотезу\n"
          ]
        }
      ],
      "source": [
        "revenue_ultra = df_aggregated[df_aggregated['subscription_type'] == 'ultra']['monthly_revenue']\n",
        "revenue_free = df_aggregated[df_aggregated['subscription_type'] == 'free']['monthly_revenue']\n",
        "\n",
        "\n",
        "t_statistic, p_value = stats.ttest_ind(revenue_free, revenue_ultra, equal_var=False)\n",
        "print(\"t-статистика:\", t_statistic)\n",
        "print(\"p-value:\", p_value)\n",
        "\n",
        "alpha = 0.05\n",
        "\n",
        "if p_value < alpha:\n",
        "    print(\"Отвергаем нулевую гипотезу\")\n",
        "else:\n",
        "    print(\"Не отвергаем нулевую гипотезу\")"
      ]
    },
    {
      "cell_type": "markdown",
      "id": "a3c19071",
      "metadata": {
        "id": "a3c19071"
      },
      "source": [
        "**Вывод:**\n",
        "\n",
        "\n",
        "Учитывая, что p-value меньше стандартного уровня значимости 0.05, отвергаем нулевую гипотезу о том, что средняя помесячная выручка от пользователей с подпиской не выше, чем у пользователей без подписки. Таким образом, на основе имеющихся данных можно сделать вывод о том, что средняя помесячная выручка от пользователей с подпиской превышает выручку от пользователей без подписки."
      ]
    },
    {
      "cell_type": "markdown",
      "id": "78d24c18",
      "metadata": {
        "id": "78d24c18"
      },
      "source": [
        " **Вопрос**: Представьте такую ситуацию: техническая команда сервиса обновила сервера, с которыми взаимодействует мобильное приложение. Она надеется, что из-за этого количество обращений в техподдержку значимо снизилось. Некоторый файл содержит для каждого пользователя данные о количестве обращений до обновления и после него. Какой тест вам понадобился бы для проверки этой гипотезы?"
      ]
    },
    {
      "cell_type": "markdown",
      "id": "6f345fd0",
      "metadata": {
        "id": "6f345fd0"
      },
      "source": [
        "**Ответ:**  Чтобы проверить гипотезу о равенстве среднего генеральной совокупности для зависимых (парных) выборок в Python, используется t-тест для проверки гипотез с распределением Стьюдента, применяя метод scipy.stats.ttest_rel().\n"
      ]
    },
    {
      "cell_type": "markdown",
      "id": "61213c5e",
      "metadata": {
        "id": "61213c5e"
      },
      "source": [
        "#### Общий вывод"
      ]
    },
    {
      "cell_type": "markdown",
      "id": "ac5523fa",
      "metadata": {
        "id": "ac5523fa"
      },
      "source": [
        "1. Предобработка данных: В процессе предобработки данных были обнаружены и удалены дубликаты в датафрейме df_users. Основной тип данных \"date\" был изменен на формат datetime. Никаких явных дубликатов не было обнаружено в df_rides.\n",
        "\n",
        "2. Описательная статистика и визуализация:\n",
        "\n",
        "   - В результате оценки аномалий в столбце 'duration' были найдены незначительные выбросы (около 100 значений) в диапазоне от 0.5 до 1, а затем удалены.\n",
        "   - Период данных в датафрейме представлен 2021 годом с 1 января по 30 декабря\n",
        "   - Среднее время поездки составляет около 18 минут, с пиком в районе 17-18 минут.\n",
        "   - Распределение возраста пользователей имеет пик в районе 25 лет.\n",
        "   - Количество пользователей без подписки немного превышает количество пользователей с подпиской (примерно на 8.8%).\n",
        "   - Наиболее упоминаемый город в данных - Пятигорск, в то время как Москва упоминается реже всего.\n",
        "\n",
        "\n",
        "3. Анализ данных о поездках:\n",
        "\n",
        "   - Обнаружены выбросы в данных о времени поездок, которые были удалены.\n",
        "   - Распределение времени поездок для пользователей с подпиской и без нее практически одинаково.\n",
        "   - Распределение расстояния поездок для обеих категорий пользователей также схоже, но для пользователей с подпиской наблюдается небольшое смещение вправо и пик в районе 3 км.\n",
        "\n",
        "\n",
        "4. Добавление данных о выручке:\n",
        "\n",
        "   - Создан новый столбец с помесячной выручкой для каждого пользователя.\n",
        "   - Создан датафрейм с агрегированными данными о поездках на основе данных о выручке.\n",
        "\n",
        "\n",
        "5. Проверка гипотез:\n",
        "\n",
        "   - Отвергнута нулевая гипотеза о том, что среднее время поездки для пользователей с подпиской равно среднему времени поездки для пользователей без подписки.\n",
        "   - Не отвергнута нулевая гипотеза о том, что среднее расстояние пользователей с подпиской за одну поездку не превышает 3130 метров.\n",
        "   - Отвергнута нулевая гипотеза о том, что средняя помесячная выручка от пользователей с подпиской не выше, чем у пользователей без подписки.\n",
        "   \n",
        "   \n",
        "6. Заключение:\n",
        "\n",
        "   - В ходе анализа данных были обнаружены статистически значимые различий во времени поездок между пользователями с подпиской и без нее.Так же имеются статистически значимые значения, что средняя помесячная выручка от пользователей с подпиской превышает выручку от пользователей без подписки.\n",
        "   - Не было найдено подтверждение тому, что есть различия в расстоянии поездок между пользователями с подпиской и без нее.\n",
        "   - Эти результаты могут помочь бизнесу принять более обоснованные решения о стратегии ценообразования и маркетинговых акциях для привлечения новых пользователей и удержания текущих.\n",
        "   - Рекламному отделу следует обратить внимание на результаты данного исследования. По результатам анализа было установлено, что пользователи с подпиской типа 'ultra' приносят более высокую помесячную выручку, чем пользователи с бесплатной подпиской. Таким образом, рекламному отделу стоит акцентировать внимание на продвижении подписки 'ultra', чтобы привлечь больше пользователей и увеличить выручку компании."
      ]
    }
  ],
  "metadata": {
    "ExecuteTimeLog": [
      {
        "duration": 2,
        "start_time": "2024-02-29T08:37:03.853Z"
      },
      {
        "duration": 17,
        "start_time": "2024-02-29T08:37:03.856Z"
      },
      {
        "duration": 16,
        "start_time": "2024-02-29T08:37:03.875Z"
      },
      {
        "duration": 9,
        "start_time": "2024-02-29T08:37:03.892Z"
      },
      {
        "duration": 18,
        "start_time": "2024-02-29T08:37:03.902Z"
      },
      {
        "duration": 4,
        "start_time": "2024-02-29T08:37:03.921Z"
      },
      {
        "duration": 39,
        "start_time": "2024-02-29T08:51:48.359Z"
      },
      {
        "duration": 42,
        "start_time": "2024-02-29T08:51:49.513Z"
      },
      {
        "duration": 30,
        "start_time": "2024-02-29T08:51:54.396Z"
      },
      {
        "duration": 4,
        "start_time": "2024-02-29T08:53:14.006Z"
      },
      {
        "duration": 98,
        "start_time": "2024-02-29T08:54:31.763Z"
      },
      {
        "duration": 268,
        "start_time": "2024-02-29T08:55:59.945Z"
      },
      {
        "duration": 30,
        "start_time": "2024-02-29T08:56:31.919Z"
      },
      {
        "duration": 114,
        "start_time": "2024-02-29T08:57:04.178Z"
      },
      {
        "duration": 3,
        "start_time": "2024-02-29T09:00:19.521Z"
      },
      {
        "duration": 24,
        "start_time": "2024-02-29T09:05:01.815Z"
      },
      {
        "duration": 63,
        "start_time": "2024-02-29T09:05:16.218Z"
      },
      {
        "duration": 27,
        "start_time": "2024-02-29T09:07:40.616Z"
      },
      {
        "duration": 25,
        "start_time": "2024-02-29T09:09:16.519Z"
      },
      {
        "duration": 22,
        "start_time": "2024-02-29T09:09:45.698Z"
      },
      {
        "duration": 25,
        "start_time": "2024-02-29T09:10:04.492Z"
      },
      {
        "duration": 24,
        "start_time": "2024-02-29T09:12:03.421Z"
      },
      {
        "duration": 22,
        "start_time": "2024-02-29T09:13:36.256Z"
      },
      {
        "duration": 23,
        "start_time": "2024-02-29T09:14:34.136Z"
      },
      {
        "duration": 101,
        "start_time": "2024-02-29T09:24:17.691Z"
      },
      {
        "duration": 9,
        "start_time": "2024-02-29T09:30:50.497Z"
      },
      {
        "duration": 59,
        "start_time": "2024-02-29T09:31:00.897Z"
      },
      {
        "duration": 18,
        "start_time": "2024-02-29T09:31:09.334Z"
      },
      {
        "duration": 18,
        "start_time": "2024-02-29T09:31:18.511Z"
      },
      {
        "duration": 18,
        "start_time": "2024-02-29T09:31:52.075Z"
      },
      {
        "duration": 22,
        "start_time": "2024-02-29T09:31:56.749Z"
      },
      {
        "duration": 157,
        "start_time": "2024-02-29T09:32:53.479Z"
      },
      {
        "duration": 5,
        "start_time": "2024-02-29T09:35:36.790Z"
      },
      {
        "duration": 11,
        "start_time": "2024-02-29T09:35:56.712Z"
      },
      {
        "duration": 102,
        "start_time": "2024-02-29T09:37:40.994Z"
      },
      {
        "duration": 9,
        "start_time": "2024-02-29T09:38:25.052Z"
      },
      {
        "duration": 116,
        "start_time": "2024-02-29T09:42:24.973Z"
      },
      {
        "duration": 3,
        "start_time": "2024-02-29T09:42:30.323Z"
      },
      {
        "duration": 13,
        "start_time": "2024-02-29T09:43:19.948Z"
      },
      {
        "duration": 3,
        "start_time": "2024-02-29T09:45:41.023Z"
      },
      {
        "duration": 3,
        "start_time": "2024-02-29T09:45:43.357Z"
      },
      {
        "duration": 3,
        "start_time": "2024-02-29T09:45:47.891Z"
      },
      {
        "duration": 20,
        "start_time": "2024-02-29T09:45:50.228Z"
      },
      {
        "duration": 136,
        "start_time": "2024-02-29T09:46:36.490Z"
      },
      {
        "duration": 7,
        "start_time": "2024-02-29T09:49:53.133Z"
      },
      {
        "duration": 3,
        "start_time": "2024-02-29T09:49:56.341Z"
      },
      {
        "duration": 12,
        "start_time": "2024-02-29T09:49:58.542Z"
      },
      {
        "duration": 13,
        "start_time": "2024-02-29T09:51:31.340Z"
      },
      {
        "duration": 12,
        "start_time": "2024-02-29T09:51:37.402Z"
      },
      {
        "duration": 5,
        "start_time": "2024-02-29T09:54:35.504Z"
      },
      {
        "duration": 7,
        "start_time": "2024-02-29T09:55:12.930Z"
      },
      {
        "duration": 14,
        "start_time": "2024-02-29T09:55:39.189Z"
      },
      {
        "duration": 16,
        "start_time": "2024-02-29T09:55:46.315Z"
      },
      {
        "duration": 410,
        "start_time": "2024-02-29T10:00:53.824Z"
      },
      {
        "duration": 5,
        "start_time": "2024-02-29T10:03:47.027Z"
      },
      {
        "duration": 9,
        "start_time": "2024-02-29T10:07:14.760Z"
      },
      {
        "duration": 259,
        "start_time": "2024-02-29T10:07:31.092Z"
      },
      {
        "duration": 171,
        "start_time": "2024-02-29T10:07:41.226Z"
      },
      {
        "duration": 121,
        "start_time": "2024-02-29T10:08:02.681Z"
      },
      {
        "duration": 15,
        "start_time": "2024-02-29T10:13:00.286Z"
      },
      {
        "duration": 5,
        "start_time": "2024-02-29T10:13:09.871Z"
      },
      {
        "duration": 4,
        "start_time": "2024-02-29T10:14:29.637Z"
      },
      {
        "duration": 3,
        "start_time": "2024-02-29T10:23:39.163Z"
      },
      {
        "duration": 13,
        "start_time": "2024-02-29T10:49:13.297Z"
      },
      {
        "duration": 123,
        "start_time": "2024-02-29T10:49:46.703Z"
      },
      {
        "duration": 99,
        "start_time": "2024-02-29T10:52:03.329Z"
      },
      {
        "duration": 145,
        "start_time": "2024-02-29T10:52:12.898Z"
      },
      {
        "duration": 11,
        "start_time": "2024-02-29T10:59:24.110Z"
      },
      {
        "duration": 262,
        "start_time": "2024-02-29T10:59:37.610Z"
      },
      {
        "duration": 251,
        "start_time": "2024-02-29T11:00:07.626Z"
      },
      {
        "duration": 225,
        "start_time": "2024-02-29T11:00:45.293Z"
      },
      {
        "duration": 241,
        "start_time": "2024-02-29T11:03:54.456Z"
      },
      {
        "duration": 278,
        "start_time": "2024-02-29T11:04:19.001Z"
      },
      {
        "duration": 98,
        "start_time": "2024-02-29T11:04:58.860Z"
      },
      {
        "duration": 82,
        "start_time": "2024-02-29T11:05:18.910Z"
      },
      {
        "duration": 163,
        "start_time": "2024-02-29T11:05:26.641Z"
      },
      {
        "duration": 86,
        "start_time": "2024-02-29T11:08:12.888Z"
      },
      {
        "duration": 96,
        "start_time": "2024-02-29T11:08:55.954Z"
      },
      {
        "duration": 87,
        "start_time": "2024-02-29T11:10:46.946Z"
      },
      {
        "duration": 138,
        "start_time": "2024-02-29T11:17:36.827Z"
      },
      {
        "duration": 153,
        "start_time": "2024-02-29T11:18:01.180Z"
      },
      {
        "duration": 8,
        "start_time": "2024-02-29T11:18:45.712Z"
      },
      {
        "duration": 8,
        "start_time": "2024-02-29T11:19:14.952Z"
      },
      {
        "duration": 127,
        "start_time": "2024-02-29T11:27:38.788Z"
      },
      {
        "duration": 143,
        "start_time": "2024-02-29T11:27:47.664Z"
      },
      {
        "duration": 150,
        "start_time": "2024-02-29T11:27:59.272Z"
      },
      {
        "duration": 171,
        "start_time": "2024-02-29T11:28:18.516Z"
      },
      {
        "duration": 174,
        "start_time": "2024-02-29T11:28:35.522Z"
      },
      {
        "duration": 254,
        "start_time": "2024-02-29T11:29:09.915Z"
      },
      {
        "duration": 165,
        "start_time": "2024-02-29T11:29:29.266Z"
      },
      {
        "duration": 159,
        "start_time": "2024-02-29T11:29:39.994Z"
      },
      {
        "duration": 140,
        "start_time": "2024-02-29T11:45:50.293Z"
      },
      {
        "duration": 187,
        "start_time": "2024-02-29T11:46:03.215Z"
      },
      {
        "duration": 182,
        "start_time": "2024-02-29T11:46:13.588Z"
      },
      {
        "duration": 255,
        "start_time": "2024-02-29T12:23:50.515Z"
      },
      {
        "duration": 205,
        "start_time": "2024-02-29T12:24:01.946Z"
      },
      {
        "duration": 9,
        "start_time": "2024-02-29T12:24:52.919Z"
      },
      {
        "duration": 12,
        "start_time": "2024-02-29T12:27:21.072Z"
      },
      {
        "duration": 3,
        "start_time": "2024-02-29T12:27:42.071Z"
      },
      {
        "duration": 11,
        "start_time": "2024-02-29T12:27:49.825Z"
      },
      {
        "duration": 16,
        "start_time": "2024-02-29T12:28:05.311Z"
      },
      {
        "duration": 1591,
        "start_time": "2024-02-29T12:28:14.929Z"
      },
      {
        "duration": 9,
        "start_time": "2024-02-29T12:28:47.581Z"
      },
      {
        "duration": 9,
        "start_time": "2024-02-29T12:29:36.991Z"
      },
      {
        "duration": 11,
        "start_time": "2024-02-29T12:34:13.187Z"
      },
      {
        "duration": 14,
        "start_time": "2024-02-29T12:34:33.919Z"
      },
      {
        "duration": 10,
        "start_time": "2024-02-29T12:40:11.625Z"
      },
      {
        "duration": 12,
        "start_time": "2024-02-29T12:40:31.623Z"
      },
      {
        "duration": 8,
        "start_time": "2024-02-29T12:42:23.693Z"
      },
      {
        "duration": 196,
        "start_time": "2024-02-29T13:37:19.905Z"
      },
      {
        "duration": 12,
        "start_time": "2024-02-29T13:37:30.668Z"
      },
      {
        "duration": 9,
        "start_time": "2024-02-29T13:37:39.185Z"
      },
      {
        "duration": 295,
        "start_time": "2024-02-29T13:37:40.761Z"
      },
      {
        "duration": 10,
        "start_time": "2024-02-29T13:39:41.004Z"
      },
      {
        "duration": 11,
        "start_time": "2024-02-29T13:39:52.443Z"
      },
      {
        "duration": 388,
        "start_time": "2024-02-29T13:39:58.484Z"
      },
      {
        "duration": 235,
        "start_time": "2024-02-29T13:39:58.874Z"
      },
      {
        "duration": 2,
        "start_time": "2024-02-29T13:39:59.111Z"
      },
      {
        "duration": 39,
        "start_time": "2024-02-29T13:39:59.114Z"
      },
      {
        "duration": 32,
        "start_time": "2024-02-29T13:39:59.156Z"
      },
      {
        "duration": 18,
        "start_time": "2024-02-29T13:39:59.190Z"
      },
      {
        "duration": 25,
        "start_time": "2024-02-29T13:39:59.209Z"
      },
      {
        "duration": 13,
        "start_time": "2024-02-29T13:39:59.235Z"
      },
      {
        "duration": 15,
        "start_time": "2024-02-29T13:39:59.249Z"
      },
      {
        "duration": 8,
        "start_time": "2024-02-29T13:39:59.265Z"
      },
      {
        "duration": 6,
        "start_time": "2024-02-29T13:39:59.274Z"
      },
      {
        "duration": 16,
        "start_time": "2024-02-29T13:39:59.282Z"
      },
      {
        "duration": 15,
        "start_time": "2024-02-29T13:39:59.300Z"
      },
      {
        "duration": 8,
        "start_time": "2024-02-29T13:39:59.317Z"
      },
      {
        "duration": 167,
        "start_time": "2024-02-29T13:39:59.326Z"
      },
      {
        "duration": 5,
        "start_time": "2024-02-29T13:39:59.495Z"
      },
      {
        "duration": 281,
        "start_time": "2024-02-29T13:39:59.501Z"
      },
      {
        "duration": 104,
        "start_time": "2024-02-29T13:39:59.784Z"
      },
      {
        "duration": 184,
        "start_time": "2024-02-29T13:39:59.889Z"
      },
      {
        "duration": 8,
        "start_time": "2024-02-29T13:40:00.075Z"
      },
      {
        "duration": 275,
        "start_time": "2024-02-29T13:40:00.084Z"
      },
      {
        "duration": 55,
        "start_time": "2024-02-29T13:40:00.361Z"
      },
      {
        "duration": 379,
        "start_time": "2024-02-29T13:40:00.418Z"
      },
      {
        "duration": 96,
        "start_time": "2024-02-29T13:40:00.798Z"
      },
      {
        "duration": 71,
        "start_time": "2024-02-29T13:40:00.897Z"
      },
      {
        "duration": 258,
        "start_time": "2024-02-29T13:40:00.969Z"
      },
      {
        "duration": 350,
        "start_time": "2024-02-29T13:43:34.709Z"
      },
      {
        "duration": 229,
        "start_time": "2024-02-29T13:43:35.061Z"
      },
      {
        "duration": 3,
        "start_time": "2024-02-29T13:43:35.291Z"
      },
      {
        "duration": 47,
        "start_time": "2024-02-29T13:43:35.295Z"
      },
      {
        "duration": 31,
        "start_time": "2024-02-29T13:43:35.344Z"
      },
      {
        "duration": 19,
        "start_time": "2024-02-29T13:43:35.377Z"
      },
      {
        "duration": 23,
        "start_time": "2024-02-29T13:43:35.397Z"
      },
      {
        "duration": 13,
        "start_time": "2024-02-29T13:43:35.421Z"
      },
      {
        "duration": 36,
        "start_time": "2024-02-29T13:43:35.435Z"
      },
      {
        "duration": 8,
        "start_time": "2024-02-29T13:43:35.473Z"
      },
      {
        "duration": 8,
        "start_time": "2024-02-29T13:43:35.483Z"
      },
      {
        "duration": 23,
        "start_time": "2024-02-29T13:43:35.493Z"
      },
      {
        "duration": 17,
        "start_time": "2024-02-29T13:43:35.517Z"
      },
      {
        "duration": 4,
        "start_time": "2024-02-29T13:43:35.558Z"
      },
      {
        "duration": 142,
        "start_time": "2024-02-29T13:43:35.564Z"
      },
      {
        "duration": 6,
        "start_time": "2024-02-29T13:43:35.707Z"
      },
      {
        "duration": 275,
        "start_time": "2024-02-29T13:43:35.715Z"
      },
      {
        "duration": 99,
        "start_time": "2024-02-29T13:43:35.992Z"
      },
      {
        "duration": 170,
        "start_time": "2024-02-29T13:43:36.093Z"
      },
      {
        "duration": 7,
        "start_time": "2024-02-29T13:43:36.265Z"
      },
      {
        "duration": 257,
        "start_time": "2024-02-29T13:43:36.273Z"
      },
      {
        "duration": 8,
        "start_time": "2024-02-29T13:43:36.531Z"
      },
      {
        "duration": 110,
        "start_time": "2024-02-29T13:57:31.979Z"
      },
      {
        "duration": 6,
        "start_time": "2024-02-29T13:58:16.989Z"
      },
      {
        "duration": 205,
        "start_time": "2024-02-29T13:58:23.383Z"
      },
      {
        "duration": 8,
        "start_time": "2024-02-29T13:58:25.478Z"
      },
      {
        "duration": 427,
        "start_time": "2024-02-29T14:00:24.625Z"
      },
      {
        "duration": 240,
        "start_time": "2024-02-29T14:00:25.054Z"
      },
      {
        "duration": 2,
        "start_time": "2024-02-29T14:00:25.296Z"
      },
      {
        "duration": 56,
        "start_time": "2024-02-29T14:00:25.299Z"
      },
      {
        "duration": 32,
        "start_time": "2024-02-29T14:00:25.357Z"
      },
      {
        "duration": 22,
        "start_time": "2024-02-29T14:00:25.391Z"
      },
      {
        "duration": 23,
        "start_time": "2024-02-29T14:00:25.414Z"
      },
      {
        "duration": 33,
        "start_time": "2024-02-29T14:00:25.439Z"
      },
      {
        "duration": 45,
        "start_time": "2024-02-29T14:00:25.474Z"
      },
      {
        "duration": 22,
        "start_time": "2024-02-29T14:00:25.522Z"
      },
      {
        "duration": 8,
        "start_time": "2024-02-29T14:00:25.546Z"
      },
      {
        "duration": 30,
        "start_time": "2024-02-29T14:00:25.555Z"
      },
      {
        "duration": 23,
        "start_time": "2024-02-29T14:00:25.586Z"
      },
      {
        "duration": 33,
        "start_time": "2024-02-29T14:00:25.610Z"
      },
      {
        "duration": 154,
        "start_time": "2024-02-29T14:00:25.644Z"
      },
      {
        "duration": 4,
        "start_time": "2024-02-29T14:00:25.800Z"
      },
      {
        "duration": 282,
        "start_time": "2024-02-29T14:00:25.805Z"
      },
      {
        "duration": 113,
        "start_time": "2024-02-29T14:00:26.089Z"
      },
      {
        "duration": 174,
        "start_time": "2024-02-29T14:00:26.203Z"
      },
      {
        "duration": 7,
        "start_time": "2024-02-29T14:00:26.379Z"
      },
      {
        "duration": 276,
        "start_time": "2024-02-29T14:00:26.388Z"
      },
      {
        "duration": 8,
        "start_time": "2024-02-29T14:00:26.666Z"
      },
      {
        "duration": 12,
        "start_time": "2024-02-29T14:00:26.675Z"
      },
      {
        "duration": 157,
        "start_time": "2024-02-29T14:00:26.688Z"
      },
      {
        "duration": 12,
        "start_time": "2024-02-29T14:00:26.847Z"
      },
      {
        "duration": 195,
        "start_time": "2024-02-29T14:00:45.246Z"
      },
      {
        "duration": 72,
        "start_time": "2024-02-29T14:06:31.120Z"
      },
      {
        "duration": 180,
        "start_time": "2024-02-29T14:06:43.249Z"
      },
      {
        "duration": 9,
        "start_time": "2024-02-29T14:07:15.817Z"
      },
      {
        "duration": 5,
        "start_time": "2024-02-29T14:08:13.717Z"
      },
      {
        "duration": 183,
        "start_time": "2024-02-29T14:08:15.807Z"
      },
      {
        "duration": 5,
        "start_time": "2024-02-29T14:08:34.938Z"
      },
      {
        "duration": 187,
        "start_time": "2024-02-29T14:08:42.407Z"
      },
      {
        "duration": 367,
        "start_time": "2024-02-29T14:08:51.097Z"
      },
      {
        "duration": 244,
        "start_time": "2024-02-29T14:08:51.466Z"
      },
      {
        "duration": 2,
        "start_time": "2024-02-29T14:08:51.712Z"
      },
      {
        "duration": 40,
        "start_time": "2024-02-29T14:08:51.716Z"
      },
      {
        "duration": 42,
        "start_time": "2024-02-29T14:08:51.758Z"
      },
      {
        "duration": 21,
        "start_time": "2024-02-29T14:08:51.802Z"
      },
      {
        "duration": 27,
        "start_time": "2024-02-29T14:08:51.825Z"
      },
      {
        "duration": 14,
        "start_time": "2024-02-29T14:08:51.853Z"
      },
      {
        "duration": 11,
        "start_time": "2024-02-29T14:08:51.868Z"
      },
      {
        "duration": 11,
        "start_time": "2024-02-29T14:08:51.881Z"
      },
      {
        "duration": 5,
        "start_time": "2024-02-29T14:08:51.894Z"
      },
      {
        "duration": 17,
        "start_time": "2024-02-29T14:08:51.900Z"
      },
      {
        "duration": 48,
        "start_time": "2024-02-29T14:08:51.919Z"
      },
      {
        "duration": 4,
        "start_time": "2024-02-29T14:08:51.969Z"
      },
      {
        "duration": 163,
        "start_time": "2024-02-29T14:08:51.974Z"
      },
      {
        "duration": 4,
        "start_time": "2024-02-29T14:08:52.139Z"
      },
      {
        "duration": 250,
        "start_time": "2024-02-29T14:08:52.145Z"
      },
      {
        "duration": 102,
        "start_time": "2024-02-29T14:08:52.398Z"
      },
      {
        "duration": 174,
        "start_time": "2024-02-29T14:08:52.502Z"
      },
      {
        "duration": 9,
        "start_time": "2024-02-29T14:08:52.678Z"
      },
      {
        "duration": 263,
        "start_time": "2024-02-29T14:08:52.689Z"
      },
      {
        "duration": 12,
        "start_time": "2024-02-29T14:08:52.954Z"
      },
      {
        "duration": 14,
        "start_time": "2024-02-29T14:08:52.968Z"
      },
      {
        "duration": 218,
        "start_time": "2024-02-29T14:08:52.984Z"
      },
      {
        "duration": 8,
        "start_time": "2024-02-29T14:08:53.203Z"
      },
      {
        "duration": 206,
        "start_time": "2024-02-29T14:08:53.213Z"
      },
      {
        "duration": 8,
        "start_time": "2024-02-29T14:08:53.421Z"
      },
      {
        "duration": 5,
        "start_time": "2024-02-29T14:09:36.946Z"
      },
      {
        "duration": 169,
        "start_time": "2024-02-29T14:09:40.251Z"
      },
      {
        "duration": 175,
        "start_time": "2024-02-29T14:09:47.015Z"
      },
      {
        "duration": 8,
        "start_time": "2024-02-29T14:09:52.617Z"
      },
      {
        "duration": 9,
        "start_time": "2024-02-29T14:10:05.858Z"
      },
      {
        "duration": 405,
        "start_time": "2024-02-29T14:10:25.654Z"
      },
      {
        "duration": 286,
        "start_time": "2024-02-29T14:10:26.061Z"
      },
      {
        "duration": 3,
        "start_time": "2024-02-29T14:10:26.348Z"
      },
      {
        "duration": 57,
        "start_time": "2024-02-29T14:10:26.353Z"
      },
      {
        "duration": 33,
        "start_time": "2024-02-29T14:10:26.411Z"
      },
      {
        "duration": 18,
        "start_time": "2024-02-29T14:10:26.446Z"
      },
      {
        "duration": 23,
        "start_time": "2024-02-29T14:10:26.466Z"
      },
      {
        "duration": 20,
        "start_time": "2024-02-29T14:10:26.490Z"
      },
      {
        "duration": 9,
        "start_time": "2024-02-29T14:10:26.512Z"
      },
      {
        "duration": 12,
        "start_time": "2024-02-29T14:10:26.524Z"
      },
      {
        "duration": 21,
        "start_time": "2024-02-29T14:10:26.537Z"
      },
      {
        "duration": 31,
        "start_time": "2024-02-29T14:10:26.560Z"
      },
      {
        "duration": 14,
        "start_time": "2024-02-29T14:10:26.592Z"
      },
      {
        "duration": 4,
        "start_time": "2024-02-29T14:10:26.608Z"
      },
      {
        "duration": 142,
        "start_time": "2024-02-29T14:10:26.613Z"
      },
      {
        "duration": 4,
        "start_time": "2024-02-29T14:10:26.758Z"
      },
      {
        "duration": 248,
        "start_time": "2024-02-29T14:10:26.764Z"
      },
      {
        "duration": 132,
        "start_time": "2024-02-29T14:10:27.014Z"
      },
      {
        "duration": 184,
        "start_time": "2024-02-29T14:10:27.148Z"
      },
      {
        "duration": 9,
        "start_time": "2024-02-29T14:10:27.334Z"
      },
      {
        "duration": 250,
        "start_time": "2024-02-29T14:10:27.359Z"
      },
      {
        "duration": 9,
        "start_time": "2024-02-29T14:10:27.611Z"
      },
      {
        "duration": 8,
        "start_time": "2024-02-29T14:10:27.621Z"
      },
      {
        "duration": 211,
        "start_time": "2024-02-29T14:10:27.631Z"
      },
      {
        "duration": 17,
        "start_time": "2024-02-29T14:10:27.843Z"
      },
      {
        "duration": 200,
        "start_time": "2024-02-29T14:10:27.862Z"
      },
      {
        "duration": 10,
        "start_time": "2024-02-29T14:10:28.064Z"
      },
      {
        "duration": 16,
        "start_time": "2024-02-29T14:12:35.711Z"
      },
      {
        "duration": 10,
        "start_time": "2024-02-29T14:12:39.475Z"
      },
      {
        "duration": 361,
        "start_time": "2024-02-29T14:13:16.592Z"
      },
      {
        "duration": 240,
        "start_time": "2024-02-29T14:13:16.955Z"
      },
      {
        "duration": 3,
        "start_time": "2024-02-29T14:13:17.196Z"
      },
      {
        "duration": 65,
        "start_time": "2024-02-29T14:13:17.201Z"
      },
      {
        "duration": 32,
        "start_time": "2024-02-29T14:13:17.267Z"
      },
      {
        "duration": 18,
        "start_time": "2024-02-29T14:13:17.301Z"
      },
      {
        "duration": 32,
        "start_time": "2024-02-29T14:13:17.320Z"
      },
      {
        "duration": 14,
        "start_time": "2024-02-29T14:13:17.353Z"
      },
      {
        "duration": 23,
        "start_time": "2024-02-29T14:13:17.369Z"
      },
      {
        "duration": 35,
        "start_time": "2024-02-29T14:13:17.394Z"
      },
      {
        "duration": 29,
        "start_time": "2024-02-29T14:13:17.431Z"
      },
      {
        "duration": 52,
        "start_time": "2024-02-29T14:13:17.462Z"
      },
      {
        "duration": 18,
        "start_time": "2024-02-29T14:13:17.515Z"
      },
      {
        "duration": 12,
        "start_time": "2024-02-29T14:13:17.535Z"
      },
      {
        "duration": 163,
        "start_time": "2024-02-29T14:13:17.548Z"
      },
      {
        "duration": 4,
        "start_time": "2024-02-29T14:13:17.713Z"
      },
      {
        "duration": 290,
        "start_time": "2024-02-29T14:13:17.718Z"
      },
      {
        "duration": 105,
        "start_time": "2024-02-29T14:13:18.009Z"
      },
      {
        "duration": 183,
        "start_time": "2024-02-29T14:13:18.115Z"
      },
      {
        "duration": 8,
        "start_time": "2024-02-29T14:13:18.299Z"
      },
      {
        "duration": 277,
        "start_time": "2024-02-29T14:13:18.309Z"
      },
      {
        "duration": 9,
        "start_time": "2024-02-29T14:13:18.587Z"
      },
      {
        "duration": 32,
        "start_time": "2024-02-29T14:13:18.597Z"
      },
      {
        "duration": 192,
        "start_time": "2024-02-29T14:13:18.631Z"
      },
      {
        "duration": 8,
        "start_time": "2024-02-29T14:13:18.825Z"
      },
      {
        "duration": 56,
        "start_time": "2024-02-29T14:13:18.834Z"
      },
      {
        "duration": 34,
        "start_time": "2024-02-29T14:13:18.892Z"
      },
      {
        "duration": 20,
        "start_time": "2024-02-29T14:13:18.929Z"
      },
      {
        "duration": 208,
        "start_time": "2024-02-29T14:13:18.950Z"
      },
      {
        "duration": 9,
        "start_time": "2024-02-29T14:13:19.160Z"
      },
      {
        "duration": 7,
        "start_time": "2024-02-29T16:29:23.748Z"
      },
      {
        "duration": 8,
        "start_time": "2024-02-29T16:29:40.574Z"
      },
      {
        "duration": 5,
        "start_time": "2024-02-29T16:30:50.253Z"
      },
      {
        "duration": 7,
        "start_time": "2024-02-29T16:30:53.959Z"
      },
      {
        "duration": 386,
        "start_time": "2024-02-29T16:31:16.985Z"
      },
      {
        "duration": 263,
        "start_time": "2024-02-29T16:31:17.372Z"
      },
      {
        "duration": 3,
        "start_time": "2024-02-29T16:31:17.636Z"
      },
      {
        "duration": 72,
        "start_time": "2024-02-29T16:31:17.641Z"
      },
      {
        "duration": 34,
        "start_time": "2024-02-29T16:31:17.714Z"
      },
      {
        "duration": 18,
        "start_time": "2024-02-29T16:31:17.749Z"
      },
      {
        "duration": 32,
        "start_time": "2024-02-29T16:31:17.769Z"
      },
      {
        "duration": 43,
        "start_time": "2024-02-29T16:31:17.803Z"
      },
      {
        "duration": 26,
        "start_time": "2024-02-29T16:31:17.847Z"
      },
      {
        "duration": 8,
        "start_time": "2024-02-29T16:31:17.876Z"
      },
      {
        "duration": 19,
        "start_time": "2024-02-29T16:31:17.885Z"
      },
      {
        "duration": 14,
        "start_time": "2024-02-29T16:31:17.905Z"
      },
      {
        "duration": 15,
        "start_time": "2024-02-29T16:31:17.921Z"
      },
      {
        "duration": 4,
        "start_time": "2024-02-29T16:31:17.937Z"
      },
      {
        "duration": 145,
        "start_time": "2024-02-29T16:31:17.959Z"
      },
      {
        "duration": 5,
        "start_time": "2024-02-29T16:31:18.106Z"
      },
      {
        "duration": 302,
        "start_time": "2024-02-29T16:31:18.113Z"
      },
      {
        "duration": 106,
        "start_time": "2024-02-29T16:31:18.418Z"
      },
      {
        "duration": 169,
        "start_time": "2024-02-29T16:31:18.525Z"
      },
      {
        "duration": 7,
        "start_time": "2024-02-29T16:31:18.696Z"
      },
      {
        "duration": 257,
        "start_time": "2024-02-29T16:31:18.704Z"
      },
      {
        "duration": 9,
        "start_time": "2024-02-29T16:31:18.962Z"
      },
      {
        "duration": 9,
        "start_time": "2024-02-29T16:31:18.972Z"
      },
      {
        "duration": 208,
        "start_time": "2024-02-29T16:31:18.983Z"
      },
      {
        "duration": 7,
        "start_time": "2024-02-29T16:31:19.193Z"
      },
      {
        "duration": 192,
        "start_time": "2024-02-29T16:31:19.202Z"
      },
      {
        "duration": 10,
        "start_time": "2024-02-29T16:31:19.396Z"
      },
      {
        "duration": 128,
        "start_time": "2024-02-29T16:31:19.410Z"
      },
      {
        "duration": 0,
        "start_time": "2024-02-29T16:31:19.540Z"
      },
      {
        "duration": 0,
        "start_time": "2024-02-29T16:31:19.541Z"
      },
      {
        "duration": 6,
        "start_time": "2024-02-29T16:31:38.022Z"
      },
      {
        "duration": 8,
        "start_time": "2024-02-29T16:31:47.659Z"
      },
      {
        "duration": 191,
        "start_time": "2024-02-29T16:36:54.429Z"
      },
      {
        "duration": 181,
        "start_time": "2024-02-29T16:37:08.186Z"
      },
      {
        "duration": 9,
        "start_time": "2024-02-29T16:40:03.598Z"
      },
      {
        "duration": 7,
        "start_time": "2024-02-29T16:40:04.688Z"
      },
      {
        "duration": 6,
        "start_time": "2024-02-29T16:40:23.846Z"
      },
      {
        "duration": 406,
        "start_time": "2024-02-29T16:40:30.084Z"
      },
      {
        "duration": 245,
        "start_time": "2024-02-29T16:40:30.492Z"
      },
      {
        "duration": 3,
        "start_time": "2024-02-29T16:40:30.738Z"
      },
      {
        "duration": 126,
        "start_time": "2024-02-29T16:40:30.743Z"
      },
      {
        "duration": 72,
        "start_time": "2024-02-29T16:40:30.871Z"
      },
      {
        "duration": 63,
        "start_time": "2024-02-29T16:40:30.945Z"
      },
      {
        "duration": 60,
        "start_time": "2024-02-29T16:40:31.010Z"
      },
      {
        "duration": 116,
        "start_time": "2024-02-29T16:40:31.071Z"
      },
      {
        "duration": 146,
        "start_time": "2024-02-29T16:40:31.188Z"
      },
      {
        "duration": 162,
        "start_time": "2024-02-29T16:40:31.337Z"
      },
      {
        "duration": 154,
        "start_time": "2024-02-29T16:40:31.501Z"
      },
      {
        "duration": 205,
        "start_time": "2024-02-29T16:40:31.657Z"
      },
      {
        "duration": 113,
        "start_time": "2024-02-29T16:40:31.864Z"
      },
      {
        "duration": 36,
        "start_time": "2024-02-29T16:40:31.978Z"
      },
      {
        "duration": 164,
        "start_time": "2024-02-29T16:40:32.016Z"
      },
      {
        "duration": 5,
        "start_time": "2024-02-29T16:40:32.182Z"
      },
      {
        "duration": 287,
        "start_time": "2024-02-29T16:40:32.188Z"
      },
      {
        "duration": 96,
        "start_time": "2024-02-29T16:40:32.476Z"
      },
      {
        "duration": 174,
        "start_time": "2024-02-29T16:40:32.574Z"
      },
      {
        "duration": 16,
        "start_time": "2024-02-29T16:40:32.749Z"
      },
      {
        "duration": 263,
        "start_time": "2024-02-29T16:40:32.767Z"
      },
      {
        "duration": 9,
        "start_time": "2024-02-29T16:40:33.032Z"
      },
      {
        "duration": 73,
        "start_time": "2024-02-29T16:40:33.043Z"
      },
      {
        "duration": 191,
        "start_time": "2024-02-29T16:40:33.117Z"
      },
      {
        "duration": 8,
        "start_time": "2024-02-29T16:40:33.309Z"
      },
      {
        "duration": 238,
        "start_time": "2024-02-29T16:40:33.319Z"
      },
      {
        "duration": 8,
        "start_time": "2024-02-29T16:40:33.559Z"
      },
      {
        "duration": 9,
        "start_time": "2024-02-29T16:40:33.569Z"
      },
      {
        "duration": 19,
        "start_time": "2024-02-29T16:40:33.579Z"
      },
      {
        "duration": 212,
        "start_time": "2024-02-29T16:40:33.599Z"
      },
      {
        "duration": 7,
        "start_time": "2024-02-29T16:41:14.536Z"
      },
      {
        "duration": 8,
        "start_time": "2024-02-29T16:41:16.133Z"
      },
      {
        "duration": 188,
        "start_time": "2024-02-29T16:41:17.958Z"
      },
      {
        "duration": 401,
        "start_time": "2024-02-29T16:45:27.558Z"
      },
      {
        "duration": 238,
        "start_time": "2024-02-29T16:45:27.961Z"
      },
      {
        "duration": 2,
        "start_time": "2024-02-29T16:45:28.201Z"
      },
      {
        "duration": 40,
        "start_time": "2024-02-29T16:45:28.205Z"
      },
      {
        "duration": 31,
        "start_time": "2024-02-29T16:45:28.247Z"
      },
      {
        "duration": 18,
        "start_time": "2024-02-29T16:45:28.280Z"
      },
      {
        "duration": 24,
        "start_time": "2024-02-29T16:45:28.300Z"
      },
      {
        "duration": 12,
        "start_time": "2024-02-29T16:45:28.325Z"
      },
      {
        "duration": 27,
        "start_time": "2024-02-29T16:45:28.339Z"
      },
      {
        "duration": 8,
        "start_time": "2024-02-29T16:45:28.369Z"
      },
      {
        "duration": 8,
        "start_time": "2024-02-29T16:45:28.379Z"
      },
      {
        "duration": 19,
        "start_time": "2024-02-29T16:45:28.389Z"
      },
      {
        "duration": 15,
        "start_time": "2024-02-29T16:45:28.410Z"
      },
      {
        "duration": 5,
        "start_time": "2024-02-29T16:45:28.458Z"
      },
      {
        "duration": 151,
        "start_time": "2024-02-29T16:45:28.464Z"
      },
      {
        "duration": 5,
        "start_time": "2024-02-29T16:45:28.616Z"
      },
      {
        "duration": 270,
        "start_time": "2024-02-29T16:45:28.622Z"
      },
      {
        "duration": 98,
        "start_time": "2024-02-29T16:45:28.893Z"
      },
      {
        "duration": 173,
        "start_time": "2024-02-29T16:45:28.992Z"
      },
      {
        "duration": 7,
        "start_time": "2024-02-29T16:45:29.167Z"
      },
      {
        "duration": 292,
        "start_time": "2024-02-29T16:45:29.175Z"
      },
      {
        "duration": 8,
        "start_time": "2024-02-29T16:45:29.469Z"
      },
      {
        "duration": 27,
        "start_time": "2024-02-29T16:45:29.479Z"
      },
      {
        "duration": 204,
        "start_time": "2024-02-29T16:45:29.508Z"
      },
      {
        "duration": 7,
        "start_time": "2024-02-29T16:45:29.714Z"
      },
      {
        "duration": 217,
        "start_time": "2024-02-29T16:45:29.723Z"
      },
      {
        "duration": 18,
        "start_time": "2024-02-29T16:45:29.942Z"
      },
      {
        "duration": 12,
        "start_time": "2024-02-29T16:45:29.963Z"
      },
      {
        "duration": 27,
        "start_time": "2024-02-29T16:45:29.977Z"
      },
      {
        "duration": 331,
        "start_time": "2024-02-29T16:45:30.005Z"
      },
      {
        "duration": 8,
        "start_time": "2024-02-29T16:48:20.513Z"
      },
      {
        "duration": 9,
        "start_time": "2024-02-29T16:48:21.920Z"
      },
      {
        "duration": 211,
        "start_time": "2024-02-29T16:48:29.440Z"
      },
      {
        "duration": 202,
        "start_time": "2024-02-29T16:54:04.097Z"
      },
      {
        "duration": 344,
        "start_time": "2024-02-29T16:54:18.514Z"
      },
      {
        "duration": 285,
        "start_time": "2024-02-29T16:54:18.860Z"
      },
      {
        "duration": 3,
        "start_time": "2024-02-29T16:54:19.146Z"
      },
      {
        "duration": 41,
        "start_time": "2024-02-29T16:54:19.150Z"
      },
      {
        "duration": 32,
        "start_time": "2024-02-29T16:54:19.192Z"
      },
      {
        "duration": 18,
        "start_time": "2024-02-29T16:54:19.225Z"
      },
      {
        "duration": 24,
        "start_time": "2024-02-29T16:54:19.244Z"
      },
      {
        "duration": 12,
        "start_time": "2024-02-29T16:54:19.270Z"
      },
      {
        "duration": 19,
        "start_time": "2024-02-29T16:54:19.283Z"
      },
      {
        "duration": 8,
        "start_time": "2024-02-29T16:54:19.304Z"
      },
      {
        "duration": 4,
        "start_time": "2024-02-29T16:54:19.313Z"
      },
      {
        "duration": 17,
        "start_time": "2024-02-29T16:54:19.319Z"
      },
      {
        "duration": 35,
        "start_time": "2024-02-29T16:54:19.337Z"
      },
      {
        "duration": 4,
        "start_time": "2024-02-29T16:54:19.373Z"
      },
      {
        "duration": 143,
        "start_time": "2024-02-29T16:54:19.379Z"
      },
      {
        "duration": 4,
        "start_time": "2024-02-29T16:54:19.524Z"
      },
      {
        "duration": 257,
        "start_time": "2024-02-29T16:54:19.530Z"
      },
      {
        "duration": 107,
        "start_time": "2024-02-29T16:54:19.789Z"
      },
      {
        "duration": 171,
        "start_time": "2024-02-29T16:54:19.897Z"
      },
      {
        "duration": 7,
        "start_time": "2024-02-29T16:54:20.070Z"
      },
      {
        "duration": 279,
        "start_time": "2024-02-29T16:54:20.079Z"
      },
      {
        "duration": 8,
        "start_time": "2024-02-29T16:54:20.360Z"
      },
      {
        "duration": 7,
        "start_time": "2024-02-29T16:54:20.369Z"
      },
      {
        "duration": 210,
        "start_time": "2024-02-29T16:54:20.378Z"
      },
      {
        "duration": 9,
        "start_time": "2024-02-29T16:54:20.590Z"
      },
      {
        "duration": 208,
        "start_time": "2024-02-29T16:54:20.601Z"
      },
      {
        "duration": 8,
        "start_time": "2024-02-29T16:54:20.810Z"
      },
      {
        "duration": 104,
        "start_time": "2024-02-29T16:54:20.821Z"
      },
      {
        "duration": 0,
        "start_time": "2024-02-29T16:54:20.927Z"
      },
      {
        "duration": 0,
        "start_time": "2024-02-29T16:54:20.928Z"
      },
      {
        "duration": 8,
        "start_time": "2024-02-29T16:54:26.640Z"
      },
      {
        "duration": 8,
        "start_time": "2024-02-29T16:54:29.703Z"
      },
      {
        "duration": 236,
        "start_time": "2024-02-29T16:54:31.939Z"
      },
      {
        "duration": 164,
        "start_time": "2024-02-29T17:01:32.384Z"
      },
      {
        "duration": 6,
        "start_time": "2024-02-29T17:03:26.374Z"
      },
      {
        "duration": 7,
        "start_time": "2024-02-29T17:03:40.352Z"
      },
      {
        "duration": 5,
        "start_time": "2024-02-29T17:04:44.801Z"
      },
      {
        "duration": 538,
        "start_time": "2024-02-29T17:06:00.039Z"
      },
      {
        "duration": 7,
        "start_time": "2024-02-29T17:06:13.948Z"
      },
      {
        "duration": 41,
        "start_time": "2024-03-01T07:49:49.506Z"
      },
      {
        "duration": 341,
        "start_time": "2024-03-01T07:49:58.735Z"
      },
      {
        "duration": 364,
        "start_time": "2024-03-01T07:49:59.078Z"
      },
      {
        "duration": 2,
        "start_time": "2024-03-01T07:49:59.444Z"
      },
      {
        "duration": 105,
        "start_time": "2024-03-01T07:49:59.448Z"
      },
      {
        "duration": 70,
        "start_time": "2024-03-01T07:49:59.554Z"
      },
      {
        "duration": 56,
        "start_time": "2024-03-01T07:49:59.626Z"
      },
      {
        "duration": 26,
        "start_time": "2024-03-01T07:49:59.684Z"
      },
      {
        "duration": 49,
        "start_time": "2024-03-01T07:49:59.711Z"
      },
      {
        "duration": 9,
        "start_time": "2024-03-01T07:49:59.761Z"
      },
      {
        "duration": 6,
        "start_time": "2024-03-01T07:49:59.773Z"
      },
      {
        "duration": 11,
        "start_time": "2024-03-01T07:49:59.781Z"
      },
      {
        "duration": 12,
        "start_time": "2024-03-01T07:49:59.793Z"
      },
      {
        "duration": 18,
        "start_time": "2024-03-01T07:49:59.807Z"
      },
      {
        "duration": 5,
        "start_time": "2024-03-01T07:49:59.827Z"
      },
      {
        "duration": 123,
        "start_time": "2024-03-01T07:49:59.833Z"
      },
      {
        "duration": 4,
        "start_time": "2024-03-01T07:49:59.958Z"
      },
      {
        "duration": 302,
        "start_time": "2024-03-01T07:49:59.963Z"
      },
      {
        "duration": 120,
        "start_time": "2024-03-01T07:50:00.267Z"
      },
      {
        "duration": 164,
        "start_time": "2024-03-01T07:50:00.389Z"
      },
      {
        "duration": 6,
        "start_time": "2024-03-01T07:50:00.554Z"
      },
      {
        "duration": 278,
        "start_time": "2024-03-01T07:50:00.561Z"
      },
      {
        "duration": 7,
        "start_time": "2024-03-01T07:50:00.841Z"
      },
      {
        "duration": 97,
        "start_time": "2024-03-01T07:50:00.849Z"
      },
      {
        "duration": 237,
        "start_time": "2024-03-01T07:50:00.947Z"
      },
      {
        "duration": 7,
        "start_time": "2024-03-01T07:50:01.186Z"
      },
      {
        "duration": 275,
        "start_time": "2024-03-01T07:50:01.202Z"
      },
      {
        "duration": 7,
        "start_time": "2024-03-01T07:50:01.478Z"
      },
      {
        "duration": 156,
        "start_time": "2024-03-01T07:50:01.488Z"
      },
      {
        "duration": 86,
        "start_time": "2024-03-01T07:50:01.645Z"
      },
      {
        "duration": 238,
        "start_time": "2024-03-01T07:50:01.732Z"
      },
      {
        "duration": 9,
        "start_time": "2024-03-01T07:50:01.971Z"
      },
      {
        "duration": 16,
        "start_time": "2024-03-01T07:51:00.134Z"
      },
      {
        "duration": 7,
        "start_time": "2024-03-01T07:51:34.823Z"
      },
      {
        "duration": 15,
        "start_time": "2024-03-01T07:51:46.955Z"
      },
      {
        "duration": 9,
        "start_time": "2024-03-01T07:54:31.359Z"
      },
      {
        "duration": 10,
        "start_time": "2024-03-01T07:54:45.743Z"
      },
      {
        "duration": 10,
        "start_time": "2024-03-01T07:55:14.816Z"
      },
      {
        "duration": 69,
        "start_time": "2024-03-01T10:14:15.120Z"
      },
      {
        "duration": 15,
        "start_time": "2024-03-01T10:14:54.731Z"
      },
      {
        "duration": 13,
        "start_time": "2024-03-01T10:15:32.627Z"
      },
      {
        "duration": 13,
        "start_time": "2024-03-01T10:15:45.136Z"
      },
      {
        "duration": 10,
        "start_time": "2024-03-01T10:16:02.308Z"
      },
      {
        "duration": 246,
        "start_time": "2024-03-01T11:03:23.587Z"
      },
      {
        "duration": 160,
        "start_time": "2024-03-01T12:43:04.513Z"
      },
      {
        "duration": 232,
        "start_time": "2024-03-01T12:43:49.212Z"
      },
      {
        "duration": 335,
        "start_time": "2024-03-01T12:44:12.451Z"
      },
      {
        "duration": 323,
        "start_time": "2024-03-01T12:44:19.952Z"
      },
      {
        "duration": 264,
        "start_time": "2024-03-01T12:44:31.698Z"
      },
      {
        "duration": 269,
        "start_time": "2024-03-01T12:45:42.280Z"
      },
      {
        "duration": 73,
        "start_time": "2024-03-01T12:46:43.146Z"
      },
      {
        "duration": 258,
        "start_time": "2024-03-01T12:47:03.818Z"
      },
      {
        "duration": 270,
        "start_time": "2024-03-01T12:47:38.801Z"
      },
      {
        "duration": 335,
        "start_time": "2024-03-01T12:48:35.559Z"
      },
      {
        "duration": 261,
        "start_time": "2024-03-01T12:48:48.227Z"
      },
      {
        "duration": 272,
        "start_time": "2024-03-01T12:50:12.773Z"
      },
      {
        "duration": 298,
        "start_time": "2024-03-01T12:50:25.099Z"
      },
      {
        "duration": 310,
        "start_time": "2024-03-01T12:50:40.144Z"
      },
      {
        "duration": 257,
        "start_time": "2024-03-01T12:50:52.533Z"
      },
      {
        "duration": 364,
        "start_time": "2024-03-01T12:52:54.256Z"
      },
      {
        "duration": 265,
        "start_time": "2024-03-01T12:53:52.272Z"
      },
      {
        "duration": 262,
        "start_time": "2024-03-01T12:53:56.814Z"
      },
      {
        "duration": 304,
        "start_time": "2024-03-01T12:54:00.268Z"
      },
      {
        "duration": 278,
        "start_time": "2024-03-01T12:59:17.991Z"
      },
      {
        "duration": 15,
        "start_time": "2024-03-01T13:59:56.428Z"
      },
      {
        "duration": 7,
        "start_time": "2024-03-01T14:11:50.657Z"
      },
      {
        "duration": 13,
        "start_time": "2024-03-01T14:12:29.645Z"
      },
      {
        "duration": 8,
        "start_time": "2024-03-01T14:13:11.806Z"
      },
      {
        "duration": 8,
        "start_time": "2024-03-01T14:13:21.717Z"
      },
      {
        "duration": 11,
        "start_time": "2024-03-01T14:13:31.085Z"
      },
      {
        "duration": 17,
        "start_time": "2024-03-01T14:13:37.682Z"
      },
      {
        "duration": 13,
        "start_time": "2024-03-01T14:14:02.618Z"
      },
      {
        "duration": 17,
        "start_time": "2024-03-01T14:14:14.723Z"
      },
      {
        "duration": 16,
        "start_time": "2024-03-01T14:14:39.027Z"
      },
      {
        "duration": 14,
        "start_time": "2024-03-01T14:15:15.780Z"
      },
      {
        "duration": 394,
        "start_time": "2024-03-01T14:16:10.274Z"
      },
      {
        "duration": 215,
        "start_time": "2024-03-01T14:16:10.670Z"
      },
      {
        "duration": 3,
        "start_time": "2024-03-01T14:16:10.886Z"
      },
      {
        "duration": 39,
        "start_time": "2024-03-01T14:16:10.890Z"
      },
      {
        "duration": 41,
        "start_time": "2024-03-01T14:16:10.930Z"
      },
      {
        "duration": 36,
        "start_time": "2024-03-01T14:16:10.973Z"
      },
      {
        "duration": 28,
        "start_time": "2024-03-01T14:16:11.010Z"
      },
      {
        "duration": 27,
        "start_time": "2024-03-01T14:16:11.039Z"
      },
      {
        "duration": 17,
        "start_time": "2024-03-01T14:16:11.067Z"
      },
      {
        "duration": 8,
        "start_time": "2024-03-01T14:16:11.086Z"
      },
      {
        "duration": 14,
        "start_time": "2024-03-01T14:16:11.095Z"
      },
      {
        "duration": 13,
        "start_time": "2024-03-01T14:16:11.110Z"
      },
      {
        "duration": 12,
        "start_time": "2024-03-01T14:16:11.124Z"
      },
      {
        "duration": 3,
        "start_time": "2024-03-01T14:16:11.137Z"
      },
      {
        "duration": 120,
        "start_time": "2024-03-01T14:16:11.142Z"
      },
      {
        "duration": 4,
        "start_time": "2024-03-01T14:16:11.264Z"
      },
      {
        "duration": 252,
        "start_time": "2024-03-01T14:16:11.269Z"
      },
      {
        "duration": 92,
        "start_time": "2024-03-01T14:16:11.522Z"
      },
      {
        "duration": 151,
        "start_time": "2024-03-01T14:16:11.615Z"
      },
      {
        "duration": 7,
        "start_time": "2024-03-01T14:16:11.768Z"
      },
      {
        "duration": 211,
        "start_time": "2024-03-01T14:16:11.776Z"
      },
      {
        "duration": 14,
        "start_time": "2024-03-01T14:16:11.988Z"
      },
      {
        "duration": 10,
        "start_time": "2024-03-01T14:16:12.003Z"
      },
      {
        "duration": 171,
        "start_time": "2024-03-01T14:16:12.014Z"
      },
      {
        "duration": 17,
        "start_time": "2024-03-01T14:16:12.186Z"
      },
      {
        "duration": 166,
        "start_time": "2024-03-01T14:16:12.205Z"
      },
      {
        "duration": 6,
        "start_time": "2024-03-01T14:16:12.373Z"
      },
      {
        "duration": 20,
        "start_time": "2024-03-01T14:16:12.382Z"
      },
      {
        "duration": 7,
        "start_time": "2024-03-01T14:16:12.403Z"
      },
      {
        "duration": 157,
        "start_time": "2024-03-01T14:16:12.411Z"
      },
      {
        "duration": 8,
        "start_time": "2024-03-01T14:16:12.569Z"
      },
      {
        "duration": 17,
        "start_time": "2024-03-01T14:16:12.578Z"
      },
      {
        "duration": 19,
        "start_time": "2024-03-01T14:16:12.596Z"
      },
      {
        "duration": 11,
        "start_time": "2024-03-01T14:16:12.616Z"
      },
      {
        "duration": 16,
        "start_time": "2024-03-01T14:16:12.629Z"
      },
      {
        "duration": 9,
        "start_time": "2024-03-01T14:16:12.647Z"
      },
      {
        "duration": 281,
        "start_time": "2024-03-01T14:16:12.657Z"
      },
      {
        "duration": 283,
        "start_time": "2024-03-01T14:16:12.939Z"
      },
      {
        "duration": 15,
        "start_time": "2024-03-01T14:16:13.223Z"
      },
      {
        "duration": 29,
        "start_time": "2024-03-01T14:16:13.239Z"
      },
      {
        "duration": 81,
        "start_time": "2024-03-01T14:16:13.270Z"
      },
      {
        "duration": 397,
        "start_time": "2024-03-01T14:18:47.568Z"
      },
      {
        "duration": 216,
        "start_time": "2024-03-01T14:18:47.967Z"
      },
      {
        "duration": 2,
        "start_time": "2024-03-01T14:18:48.184Z"
      },
      {
        "duration": 56,
        "start_time": "2024-03-01T14:18:48.188Z"
      },
      {
        "duration": 31,
        "start_time": "2024-03-01T14:18:48.246Z"
      },
      {
        "duration": 35,
        "start_time": "2024-03-01T14:18:48.278Z"
      },
      {
        "duration": 19,
        "start_time": "2024-03-01T14:18:48.314Z"
      },
      {
        "duration": 17,
        "start_time": "2024-03-01T14:18:48.334Z"
      },
      {
        "duration": 20,
        "start_time": "2024-03-01T14:18:48.353Z"
      },
      {
        "duration": 19,
        "start_time": "2024-03-01T14:18:48.375Z"
      },
      {
        "duration": 29,
        "start_time": "2024-03-01T14:18:48.396Z"
      },
      {
        "duration": 28,
        "start_time": "2024-03-01T14:18:48.426Z"
      },
      {
        "duration": 16,
        "start_time": "2024-03-01T14:18:48.455Z"
      },
      {
        "duration": 3,
        "start_time": "2024-03-01T14:18:48.473Z"
      },
      {
        "duration": 117,
        "start_time": "2024-03-01T14:18:48.477Z"
      },
      {
        "duration": 7,
        "start_time": "2024-03-01T14:18:48.595Z"
      },
      {
        "duration": 233,
        "start_time": "2024-03-01T14:18:48.603Z"
      },
      {
        "duration": 93,
        "start_time": "2024-03-01T14:18:48.837Z"
      },
      {
        "duration": 155,
        "start_time": "2024-03-01T14:18:48.932Z"
      },
      {
        "duration": 7,
        "start_time": "2024-03-01T14:18:49.088Z"
      },
      {
        "duration": 223,
        "start_time": "2024-03-01T14:18:49.102Z"
      },
      {
        "duration": 6,
        "start_time": "2024-03-01T14:18:49.327Z"
      },
      {
        "duration": 27,
        "start_time": "2024-03-01T14:18:49.334Z"
      },
      {
        "duration": 166,
        "start_time": "2024-03-01T14:18:49.362Z"
      },
      {
        "duration": 7,
        "start_time": "2024-03-01T14:18:49.529Z"
      },
      {
        "duration": 180,
        "start_time": "2024-03-01T14:18:49.537Z"
      },
      {
        "duration": 8,
        "start_time": "2024-03-01T14:18:49.718Z"
      },
      {
        "duration": 26,
        "start_time": "2024-03-01T14:18:49.729Z"
      },
      {
        "duration": 36,
        "start_time": "2024-03-01T14:18:49.756Z"
      },
      {
        "duration": 152,
        "start_time": "2024-03-01T14:18:49.794Z"
      },
      {
        "duration": 8,
        "start_time": "2024-03-01T14:18:49.948Z"
      },
      {
        "duration": 21,
        "start_time": "2024-03-01T14:18:49.958Z"
      },
      {
        "duration": 19,
        "start_time": "2024-03-01T14:18:49.981Z"
      },
      {
        "duration": 24,
        "start_time": "2024-03-01T14:18:50.002Z"
      },
      {
        "duration": 28,
        "start_time": "2024-03-01T14:18:50.028Z"
      },
      {
        "duration": 10,
        "start_time": "2024-03-01T14:18:50.058Z"
      },
      {
        "duration": 321,
        "start_time": "2024-03-01T14:18:50.069Z"
      },
      {
        "duration": 309,
        "start_time": "2024-03-01T14:18:50.392Z"
      },
      {
        "duration": 15,
        "start_time": "2024-03-01T14:18:50.703Z"
      },
      {
        "duration": 13,
        "start_time": "2024-03-01T14:18:50.719Z"
      },
      {
        "duration": 95,
        "start_time": "2024-03-01T14:18:50.733Z"
      },
      {
        "duration": 11,
        "start_time": "2024-03-01T14:20:34.278Z"
      },
      {
        "duration": 388,
        "start_time": "2024-03-01T14:23:57.277Z"
      },
      {
        "duration": 218,
        "start_time": "2024-03-01T14:23:57.666Z"
      },
      {
        "duration": 2,
        "start_time": "2024-03-01T14:23:57.885Z"
      },
      {
        "duration": 43,
        "start_time": "2024-03-01T14:23:57.889Z"
      },
      {
        "duration": 39,
        "start_time": "2024-03-01T14:23:57.935Z"
      },
      {
        "duration": 21,
        "start_time": "2024-03-01T14:23:57.976Z"
      },
      {
        "duration": 33,
        "start_time": "2024-03-01T14:23:57.999Z"
      },
      {
        "duration": 15,
        "start_time": "2024-03-01T14:23:58.033Z"
      },
      {
        "duration": 15,
        "start_time": "2024-03-01T14:23:58.049Z"
      },
      {
        "duration": 8,
        "start_time": "2024-03-01T14:23:58.066Z"
      },
      {
        "duration": 11,
        "start_time": "2024-03-01T14:23:58.075Z"
      },
      {
        "duration": 13,
        "start_time": "2024-03-01T14:23:58.102Z"
      },
      {
        "duration": 14,
        "start_time": "2024-03-01T14:23:58.116Z"
      },
      {
        "duration": 4,
        "start_time": "2024-03-01T14:23:58.133Z"
      },
      {
        "duration": 140,
        "start_time": "2024-03-01T14:23:58.138Z"
      },
      {
        "duration": 4,
        "start_time": "2024-03-01T14:23:58.279Z"
      },
      {
        "duration": 244,
        "start_time": "2024-03-01T14:23:58.284Z"
      },
      {
        "duration": 90,
        "start_time": "2024-03-01T14:23:58.530Z"
      },
      {
        "duration": 149,
        "start_time": "2024-03-01T14:23:58.622Z"
      },
      {
        "duration": 8,
        "start_time": "2024-03-01T14:23:58.773Z"
      },
      {
        "duration": 212,
        "start_time": "2024-03-01T14:23:58.783Z"
      },
      {
        "duration": 13,
        "start_time": "2024-03-01T14:23:58.996Z"
      },
      {
        "duration": 8,
        "start_time": "2024-03-01T14:23:59.011Z"
      },
      {
        "duration": 181,
        "start_time": "2024-03-01T14:23:59.020Z"
      },
      {
        "duration": 9,
        "start_time": "2024-03-01T14:23:59.203Z"
      },
      {
        "duration": 190,
        "start_time": "2024-03-01T14:23:59.214Z"
      },
      {
        "duration": 8,
        "start_time": "2024-03-01T14:23:59.405Z"
      },
      {
        "duration": 23,
        "start_time": "2024-03-01T14:23:59.414Z"
      },
      {
        "duration": 21,
        "start_time": "2024-03-01T14:23:59.438Z"
      },
      {
        "duration": 148,
        "start_time": "2024-03-01T14:23:59.460Z"
      },
      {
        "duration": 10,
        "start_time": "2024-03-01T14:23:59.609Z"
      },
      {
        "duration": 9,
        "start_time": "2024-03-01T14:23:59.620Z"
      },
      {
        "duration": 28,
        "start_time": "2024-03-01T14:23:59.631Z"
      },
      {
        "duration": 21,
        "start_time": "2024-03-01T14:23:59.661Z"
      },
      {
        "duration": 26,
        "start_time": "2024-03-01T14:23:59.683Z"
      },
      {
        "duration": 16,
        "start_time": "2024-03-01T14:23:59.710Z"
      },
      {
        "duration": 277,
        "start_time": "2024-03-01T14:23:59.727Z"
      },
      {
        "duration": 323,
        "start_time": "2024-03-01T14:24:00.006Z"
      },
      {
        "duration": 24,
        "start_time": "2024-03-01T14:24:00.331Z"
      },
      {
        "duration": 57,
        "start_time": "2024-03-01T14:24:00.357Z"
      },
      {
        "duration": 93,
        "start_time": "2024-03-01T14:24:00.418Z"
      },
      {
        "duration": 55,
        "start_time": "2024-03-01T14:24:00.513Z"
      },
      {
        "duration": 114,
        "start_time": "2024-03-01T14:24:00.570Z"
      },
      {
        "duration": 0,
        "start_time": "2024-03-01T14:24:00.685Z"
      },
      {
        "duration": 15,
        "start_time": "2024-03-01T14:26:45.369Z"
      },
      {
        "duration": 18,
        "start_time": "2024-03-01T14:27:37.041Z"
      },
      {
        "duration": 12,
        "start_time": "2024-03-01T14:34:39.149Z"
      },
      {
        "duration": 352,
        "start_time": "2024-03-01T14:35:08.259Z"
      },
      {
        "duration": 195,
        "start_time": "2024-03-01T14:35:08.613Z"
      },
      {
        "duration": 2,
        "start_time": "2024-03-01T14:35:08.809Z"
      },
      {
        "duration": 36,
        "start_time": "2024-03-01T14:35:08.813Z"
      },
      {
        "duration": 30,
        "start_time": "2024-03-01T14:35:08.850Z"
      },
      {
        "duration": 18,
        "start_time": "2024-03-01T14:35:08.881Z"
      },
      {
        "duration": 20,
        "start_time": "2024-03-01T14:35:08.900Z"
      },
      {
        "duration": 11,
        "start_time": "2024-03-01T14:35:08.921Z"
      },
      {
        "duration": 16,
        "start_time": "2024-03-01T14:35:08.933Z"
      },
      {
        "duration": 7,
        "start_time": "2024-03-01T14:35:08.951Z"
      },
      {
        "duration": 5,
        "start_time": "2024-03-01T14:35:08.959Z"
      },
      {
        "duration": 14,
        "start_time": "2024-03-01T14:35:08.965Z"
      },
      {
        "duration": 34,
        "start_time": "2024-03-01T14:35:08.980Z"
      },
      {
        "duration": 4,
        "start_time": "2024-03-01T14:35:09.015Z"
      },
      {
        "duration": 122,
        "start_time": "2024-03-01T14:35:09.020Z"
      },
      {
        "duration": 4,
        "start_time": "2024-03-01T14:35:09.144Z"
      },
      {
        "duration": 269,
        "start_time": "2024-03-01T14:35:09.149Z"
      },
      {
        "duration": 91,
        "start_time": "2024-03-01T14:35:09.419Z"
      },
      {
        "duration": 148,
        "start_time": "2024-03-01T14:35:09.512Z"
      },
      {
        "duration": 7,
        "start_time": "2024-03-01T14:35:09.662Z"
      },
      {
        "duration": 217,
        "start_time": "2024-03-01T14:35:09.670Z"
      },
      {
        "duration": 7,
        "start_time": "2024-03-01T14:35:09.888Z"
      },
      {
        "duration": 23,
        "start_time": "2024-03-01T14:35:09.901Z"
      },
      {
        "duration": 182,
        "start_time": "2024-03-01T14:35:09.925Z"
      },
      {
        "duration": 7,
        "start_time": "2024-03-01T14:35:10.108Z"
      },
      {
        "duration": 176,
        "start_time": "2024-03-01T14:35:10.117Z"
      },
      {
        "duration": 12,
        "start_time": "2024-03-01T14:35:10.295Z"
      },
      {
        "duration": 7,
        "start_time": "2024-03-01T14:35:10.311Z"
      },
      {
        "duration": 33,
        "start_time": "2024-03-01T14:35:10.319Z"
      },
      {
        "duration": 165,
        "start_time": "2024-03-01T14:35:10.354Z"
      },
      {
        "duration": 8,
        "start_time": "2024-03-01T14:35:10.520Z"
      },
      {
        "duration": 19,
        "start_time": "2024-03-01T14:35:10.529Z"
      },
      {
        "duration": 10,
        "start_time": "2024-03-01T14:35:10.549Z"
      },
      {
        "duration": 10,
        "start_time": "2024-03-01T14:35:10.560Z"
      },
      {
        "duration": 24,
        "start_time": "2024-03-01T14:35:10.571Z"
      },
      {
        "duration": 9,
        "start_time": "2024-03-01T14:35:10.601Z"
      },
      {
        "duration": 286,
        "start_time": "2024-03-01T14:35:10.612Z"
      },
      {
        "duration": 305,
        "start_time": "2024-03-01T14:35:10.901Z"
      },
      {
        "duration": 11,
        "start_time": "2024-03-01T14:35:11.208Z"
      },
      {
        "duration": 27,
        "start_time": "2024-03-01T14:35:11.221Z"
      },
      {
        "duration": 10,
        "start_time": "2024-03-01T14:35:11.250Z"
      },
      {
        "duration": 25,
        "start_time": "2024-03-01T14:35:11.261Z"
      },
      {
        "duration": 63,
        "start_time": "2024-03-01T14:35:11.302Z"
      },
      {
        "duration": 0,
        "start_time": "2024-03-01T14:35:11.366Z"
      },
      {
        "duration": 19,
        "start_time": "2024-03-01T14:36:30.825Z"
      },
      {
        "duration": 17,
        "start_time": "2024-03-01T14:37:58.674Z"
      },
      {
        "duration": 329,
        "start_time": "2024-03-01T14:44:25.441Z"
      },
      {
        "duration": 203,
        "start_time": "2024-03-01T14:44:25.772Z"
      },
      {
        "duration": 2,
        "start_time": "2024-03-01T14:44:25.978Z"
      },
      {
        "duration": 55,
        "start_time": "2024-03-01T14:44:25.981Z"
      },
      {
        "duration": 29,
        "start_time": "2024-03-01T14:44:26.038Z"
      },
      {
        "duration": 17,
        "start_time": "2024-03-01T14:44:26.068Z"
      },
      {
        "duration": 19,
        "start_time": "2024-03-01T14:44:26.087Z"
      },
      {
        "duration": 16,
        "start_time": "2024-03-01T14:44:26.107Z"
      },
      {
        "duration": 33,
        "start_time": "2024-03-01T14:44:26.125Z"
      },
      {
        "duration": 12,
        "start_time": "2024-03-01T14:44:26.159Z"
      },
      {
        "duration": 5,
        "start_time": "2024-03-01T14:44:26.172Z"
      },
      {
        "duration": 32,
        "start_time": "2024-03-01T14:44:26.178Z"
      },
      {
        "duration": 32,
        "start_time": "2024-03-01T14:44:26.211Z"
      },
      {
        "duration": 11,
        "start_time": "2024-03-01T14:44:26.244Z"
      },
      {
        "duration": 128,
        "start_time": "2024-03-01T14:44:26.256Z"
      },
      {
        "duration": 3,
        "start_time": "2024-03-01T14:44:26.386Z"
      },
      {
        "duration": 243,
        "start_time": "2024-03-01T14:44:26.390Z"
      },
      {
        "duration": 86,
        "start_time": "2024-03-01T14:44:26.635Z"
      },
      {
        "duration": 144,
        "start_time": "2024-03-01T14:44:26.722Z"
      },
      {
        "duration": 6,
        "start_time": "2024-03-01T14:44:26.867Z"
      },
      {
        "duration": 227,
        "start_time": "2024-03-01T14:44:26.875Z"
      },
      {
        "duration": 6,
        "start_time": "2024-03-01T14:44:27.103Z"
      },
      {
        "duration": 6,
        "start_time": "2024-03-01T14:44:27.111Z"
      },
      {
        "duration": 173,
        "start_time": "2024-03-01T14:44:27.118Z"
      },
      {
        "duration": 14,
        "start_time": "2024-03-01T14:44:27.292Z"
      },
      {
        "duration": 179,
        "start_time": "2024-03-01T14:44:27.307Z"
      },
      {
        "duration": 7,
        "start_time": "2024-03-01T14:44:27.488Z"
      },
      {
        "duration": 21,
        "start_time": "2024-03-01T14:44:27.496Z"
      },
      {
        "duration": 21,
        "start_time": "2024-03-01T14:44:27.518Z"
      },
      {
        "duration": 176,
        "start_time": "2024-03-01T14:44:27.540Z"
      },
      {
        "duration": 8,
        "start_time": "2024-03-01T14:44:27.718Z"
      },
      {
        "duration": 94,
        "start_time": "2024-03-01T14:44:27.728Z"
      },
      {
        "duration": 18,
        "start_time": "2024-03-01T14:44:27.824Z"
      },
      {
        "duration": 27,
        "start_time": "2024-03-01T14:44:27.844Z"
      },
      {
        "duration": 26,
        "start_time": "2024-03-01T14:44:27.872Z"
      },
      {
        "duration": 10,
        "start_time": "2024-03-01T14:44:27.899Z"
      },
      {
        "duration": 280,
        "start_time": "2024-03-01T14:44:27.910Z"
      },
      {
        "duration": 284,
        "start_time": "2024-03-01T14:44:28.191Z"
      },
      {
        "duration": 8,
        "start_time": "2024-03-01T14:44:28.477Z"
      },
      {
        "duration": 19,
        "start_time": "2024-03-01T14:44:28.487Z"
      },
      {
        "duration": 35,
        "start_time": "2024-03-01T14:44:28.507Z"
      },
      {
        "duration": 19,
        "start_time": "2024-03-01T14:44:28.543Z"
      },
      {
        "duration": 63,
        "start_time": "2024-03-01T14:44:28.563Z"
      },
      {
        "duration": 0,
        "start_time": "2024-03-01T14:44:28.627Z"
      },
      {
        "duration": 0,
        "start_time": "2024-03-01T14:44:28.629Z"
      },
      {
        "duration": 325,
        "start_time": "2024-03-01T14:51:56.042Z"
      },
      {
        "duration": 287,
        "start_time": "2024-03-01T14:52:37.193Z"
      },
      {
        "duration": 283,
        "start_time": "2024-03-01T14:53:34.666Z"
      },
      {
        "duration": 13,
        "start_time": "2024-03-01T15:03:46.743Z"
      },
      {
        "duration": 13,
        "start_time": "2024-03-01T15:05:18.980Z"
      },
      {
        "duration": 9,
        "start_time": "2024-03-01T15:06:06.281Z"
      },
      {
        "duration": 1132,
        "start_time": "2024-03-01T15:06:21.808Z"
      },
      {
        "duration": 230,
        "start_time": "2024-03-01T15:11:16.011Z"
      },
      {
        "duration": 1126,
        "start_time": "2024-03-01T15:14:19.234Z"
      },
      {
        "duration": 1064,
        "start_time": "2024-03-01T15:15:37.980Z"
      },
      {
        "duration": 1236,
        "start_time": "2024-03-01T15:16:33.943Z"
      },
      {
        "duration": 10,
        "start_time": "2024-03-01T15:19:31.741Z"
      },
      {
        "duration": 18,
        "start_time": "2024-03-01T15:20:30.277Z"
      },
      {
        "duration": 9,
        "start_time": "2024-03-01T15:23:38.382Z"
      },
      {
        "duration": 13,
        "start_time": "2024-03-01T15:23:48.849Z"
      },
      {
        "duration": 391,
        "start_time": "2024-03-01T15:24:22.969Z"
      },
      {
        "duration": 207,
        "start_time": "2024-03-01T15:24:23.362Z"
      },
      {
        "duration": 3,
        "start_time": "2024-03-01T15:24:23.570Z"
      },
      {
        "duration": 39,
        "start_time": "2024-03-01T15:24:23.574Z"
      },
      {
        "duration": 29,
        "start_time": "2024-03-01T15:24:23.614Z"
      },
      {
        "duration": 17,
        "start_time": "2024-03-01T15:24:23.645Z"
      },
      {
        "duration": 19,
        "start_time": "2024-03-01T15:24:23.663Z"
      },
      {
        "duration": 29,
        "start_time": "2024-03-01T15:24:23.684Z"
      },
      {
        "duration": 9,
        "start_time": "2024-03-01T15:24:23.714Z"
      },
      {
        "duration": 9,
        "start_time": "2024-03-01T15:24:23.725Z"
      },
      {
        "duration": 6,
        "start_time": "2024-03-01T15:24:23.735Z"
      },
      {
        "duration": 21,
        "start_time": "2024-03-01T15:24:23.742Z"
      },
      {
        "duration": 14,
        "start_time": "2024-03-01T15:24:23.764Z"
      },
      {
        "duration": 5,
        "start_time": "2024-03-01T15:24:23.779Z"
      },
      {
        "duration": 131,
        "start_time": "2024-03-01T15:24:23.785Z"
      },
      {
        "duration": 4,
        "start_time": "2024-03-01T15:24:23.917Z"
      },
      {
        "duration": 227,
        "start_time": "2024-03-01T15:24:23.922Z"
      },
      {
        "duration": 119,
        "start_time": "2024-03-01T15:24:24.150Z"
      },
      {
        "duration": 152,
        "start_time": "2024-03-01T15:24:24.270Z"
      },
      {
        "duration": 6,
        "start_time": "2024-03-01T15:24:24.423Z"
      },
      {
        "duration": 211,
        "start_time": "2024-03-01T15:24:24.430Z"
      },
      {
        "duration": 7,
        "start_time": "2024-03-01T15:24:24.642Z"
      },
      {
        "duration": 11,
        "start_time": "2024-03-01T15:24:24.650Z"
      },
      {
        "duration": 176,
        "start_time": "2024-03-01T15:24:24.662Z"
      },
      {
        "duration": 6,
        "start_time": "2024-03-01T15:24:24.840Z"
      },
      {
        "duration": 203,
        "start_time": "2024-03-01T15:24:24.847Z"
      },
      {
        "duration": 7,
        "start_time": "2024-03-01T15:24:25.051Z"
      },
      {
        "duration": 6,
        "start_time": "2024-03-01T15:24:25.061Z"
      },
      {
        "duration": 8,
        "start_time": "2024-03-01T15:24:25.068Z"
      },
      {
        "duration": 208,
        "start_time": "2024-03-01T15:24:25.077Z"
      },
      {
        "duration": 16,
        "start_time": "2024-03-01T15:24:25.286Z"
      },
      {
        "duration": 15,
        "start_time": "2024-03-01T15:24:25.303Z"
      },
      {
        "duration": 12,
        "start_time": "2024-03-01T15:24:25.319Z"
      },
      {
        "duration": 15,
        "start_time": "2024-03-01T15:24:25.332Z"
      },
      {
        "duration": 28,
        "start_time": "2024-03-01T15:24:25.348Z"
      },
      {
        "duration": 10,
        "start_time": "2024-03-01T15:24:25.377Z"
      },
      {
        "duration": 280,
        "start_time": "2024-03-01T15:24:25.388Z"
      },
      {
        "duration": 290,
        "start_time": "2024-03-01T15:24:25.669Z"
      },
      {
        "duration": 9,
        "start_time": "2024-03-01T15:24:25.961Z"
      },
      {
        "duration": 19,
        "start_time": "2024-03-01T15:24:25.971Z"
      },
      {
        "duration": 23,
        "start_time": "2024-03-01T15:24:25.991Z"
      },
      {
        "duration": 9,
        "start_time": "2024-03-01T15:24:26.015Z"
      },
      {
        "duration": 16,
        "start_time": "2024-03-01T15:24:26.025Z"
      },
      {
        "duration": 19,
        "start_time": "2024-03-01T15:24:26.042Z"
      },
      {
        "duration": 79,
        "start_time": "2024-03-01T15:24:26.063Z"
      },
      {
        "duration": 0,
        "start_time": "2024-03-01T15:24:26.143Z"
      },
      {
        "duration": 16,
        "start_time": "2024-03-01T15:25:32.588Z"
      },
      {
        "duration": 24,
        "start_time": "2024-03-01T15:26:26.802Z"
      },
      {
        "duration": 371,
        "start_time": "2024-03-01T15:26:47.623Z"
      },
      {
        "duration": 199,
        "start_time": "2024-03-01T15:26:47.996Z"
      },
      {
        "duration": 5,
        "start_time": "2024-03-01T15:26:48.197Z"
      },
      {
        "duration": 52,
        "start_time": "2024-03-01T15:26:48.204Z"
      },
      {
        "duration": 31,
        "start_time": "2024-03-01T15:26:48.258Z"
      },
      {
        "duration": 28,
        "start_time": "2024-03-01T15:26:48.290Z"
      },
      {
        "duration": 27,
        "start_time": "2024-03-01T15:26:48.319Z"
      },
      {
        "duration": 11,
        "start_time": "2024-03-01T15:26:48.347Z"
      },
      {
        "duration": 18,
        "start_time": "2024-03-01T15:26:48.359Z"
      },
      {
        "duration": 20,
        "start_time": "2024-03-01T15:26:48.379Z"
      },
      {
        "duration": 20,
        "start_time": "2024-03-01T15:26:48.400Z"
      },
      {
        "duration": 14,
        "start_time": "2024-03-01T15:26:48.421Z"
      },
      {
        "duration": 12,
        "start_time": "2024-03-01T15:26:48.436Z"
      },
      {
        "duration": 20,
        "start_time": "2024-03-01T15:26:48.449Z"
      },
      {
        "duration": 132,
        "start_time": "2024-03-01T15:26:48.471Z"
      },
      {
        "duration": 4,
        "start_time": "2024-03-01T15:26:48.604Z"
      },
      {
        "duration": 232,
        "start_time": "2024-03-01T15:26:48.610Z"
      },
      {
        "duration": 101,
        "start_time": "2024-03-01T15:26:48.843Z"
      },
      {
        "duration": 159,
        "start_time": "2024-03-01T15:26:48.946Z"
      },
      {
        "duration": 7,
        "start_time": "2024-03-01T15:26:49.107Z"
      },
      {
        "duration": 219,
        "start_time": "2024-03-01T15:26:49.115Z"
      },
      {
        "duration": 7,
        "start_time": "2024-03-01T15:26:49.335Z"
      },
      {
        "duration": 16,
        "start_time": "2024-03-01T15:26:49.343Z"
      },
      {
        "duration": 164,
        "start_time": "2024-03-01T15:26:49.360Z"
      },
      {
        "duration": 7,
        "start_time": "2024-03-01T15:26:49.525Z"
      },
      {
        "duration": 177,
        "start_time": "2024-03-01T15:26:49.533Z"
      },
      {
        "duration": 8,
        "start_time": "2024-03-01T15:26:49.712Z"
      },
      {
        "duration": 7,
        "start_time": "2024-03-01T15:26:49.724Z"
      },
      {
        "duration": 8,
        "start_time": "2024-03-01T15:26:49.733Z"
      },
      {
        "duration": 173,
        "start_time": "2024-03-01T15:26:49.743Z"
      },
      {
        "duration": 9,
        "start_time": "2024-03-01T15:26:49.917Z"
      },
      {
        "duration": 28,
        "start_time": "2024-03-01T15:26:49.927Z"
      },
      {
        "duration": 12,
        "start_time": "2024-03-01T15:26:49.957Z"
      },
      {
        "duration": 11,
        "start_time": "2024-03-01T15:26:49.970Z"
      },
      {
        "duration": 20,
        "start_time": "2024-03-01T15:26:49.982Z"
      },
      {
        "duration": 29,
        "start_time": "2024-03-01T15:26:50.004Z"
      },
      {
        "duration": 277,
        "start_time": "2024-03-01T15:26:50.035Z"
      },
      {
        "duration": 312,
        "start_time": "2024-03-01T15:26:50.314Z"
      },
      {
        "duration": 9,
        "start_time": "2024-03-01T15:26:50.628Z"
      },
      {
        "duration": 29,
        "start_time": "2024-03-01T15:26:50.638Z"
      },
      {
        "duration": 20,
        "start_time": "2024-03-01T15:26:50.668Z"
      },
      {
        "duration": 16,
        "start_time": "2024-03-01T15:26:50.689Z"
      },
      {
        "duration": 16,
        "start_time": "2024-03-01T15:26:50.706Z"
      },
      {
        "duration": 16,
        "start_time": "2024-03-01T15:26:50.723Z"
      },
      {
        "duration": 93,
        "start_time": "2024-03-01T15:26:50.740Z"
      },
      {
        "duration": 0,
        "start_time": "2024-03-01T15:26:50.834Z"
      },
      {
        "duration": 74,
        "start_time": "2024-03-04T08:21:10.920Z"
      },
      {
        "duration": 46,
        "start_time": "2024-03-04T08:21:17.639Z"
      },
      {
        "duration": 372,
        "start_time": "2024-03-04T08:21:23.447Z"
      },
      {
        "duration": 394,
        "start_time": "2024-03-04T08:21:23.820Z"
      },
      {
        "duration": 3,
        "start_time": "2024-03-04T08:21:24.216Z"
      },
      {
        "duration": 87,
        "start_time": "2024-03-04T08:21:24.221Z"
      },
      {
        "duration": 70,
        "start_time": "2024-03-04T08:21:24.310Z"
      },
      {
        "duration": 56,
        "start_time": "2024-03-04T08:21:24.382Z"
      },
      {
        "duration": 26,
        "start_time": "2024-03-04T08:21:24.439Z"
      },
      {
        "duration": 19,
        "start_time": "2024-03-04T08:21:24.467Z"
      },
      {
        "duration": 12,
        "start_time": "2024-03-04T08:21:24.488Z"
      },
      {
        "duration": 16,
        "start_time": "2024-03-04T08:21:24.503Z"
      },
      {
        "duration": 5,
        "start_time": "2024-03-04T08:21:24.521Z"
      },
      {
        "duration": 14,
        "start_time": "2024-03-04T08:21:24.527Z"
      },
      {
        "duration": 15,
        "start_time": "2024-03-04T08:21:24.542Z"
      },
      {
        "duration": 4,
        "start_time": "2024-03-04T08:21:24.559Z"
      },
      {
        "duration": 160,
        "start_time": "2024-03-04T08:21:24.565Z"
      },
      {
        "duration": 5,
        "start_time": "2024-03-04T08:21:24.726Z"
      },
      {
        "duration": 366,
        "start_time": "2024-03-04T08:21:24.732Z"
      },
      {
        "duration": 99,
        "start_time": "2024-03-04T08:21:25.100Z"
      },
      {
        "duration": 174,
        "start_time": "2024-03-04T08:21:25.201Z"
      },
      {
        "duration": 8,
        "start_time": "2024-03-04T08:21:25.376Z"
      },
      {
        "duration": 258,
        "start_time": "2024-03-04T08:21:25.386Z"
      },
      {
        "duration": 10,
        "start_time": "2024-03-04T08:21:25.646Z"
      },
      {
        "duration": 9,
        "start_time": "2024-03-04T08:21:25.657Z"
      },
      {
        "duration": 216,
        "start_time": "2024-03-04T08:21:25.668Z"
      },
      {
        "duration": 10,
        "start_time": "2024-03-04T08:21:25.886Z"
      },
      {
        "duration": 210,
        "start_time": "2024-03-04T08:21:25.897Z"
      },
      {
        "duration": 15,
        "start_time": "2024-03-04T08:21:26.109Z"
      },
      {
        "duration": 7,
        "start_time": "2024-03-04T08:21:26.127Z"
      },
      {
        "duration": 8,
        "start_time": "2024-03-04T08:21:26.135Z"
      },
      {
        "duration": 192,
        "start_time": "2024-03-04T08:21:26.144Z"
      },
      {
        "duration": 8,
        "start_time": "2024-03-04T08:21:26.337Z"
      },
      {
        "duration": 10,
        "start_time": "2024-03-04T08:21:26.346Z"
      },
      {
        "duration": 27,
        "start_time": "2024-03-04T08:21:26.358Z"
      },
      {
        "duration": 13,
        "start_time": "2024-03-04T08:21:26.386Z"
      },
      {
        "duration": 20,
        "start_time": "2024-03-04T08:21:26.401Z"
      },
      {
        "duration": 10,
        "start_time": "2024-03-04T08:21:26.423Z"
      },
      {
        "duration": 351,
        "start_time": "2024-03-04T08:21:26.435Z"
      },
      {
        "duration": 343,
        "start_time": "2024-03-04T08:21:26.788Z"
      },
      {
        "duration": 10,
        "start_time": "2024-03-04T08:21:27.133Z"
      },
      {
        "duration": 41,
        "start_time": "2024-03-04T08:21:27.145Z"
      },
      {
        "duration": 21,
        "start_time": "2024-03-04T08:21:27.188Z"
      },
      {
        "duration": 11,
        "start_time": "2024-03-04T08:21:27.211Z"
      },
      {
        "duration": 17,
        "start_time": "2024-03-04T08:21:27.223Z"
      },
      {
        "duration": 90,
        "start_time": "2024-03-04T08:21:27.241Z"
      },
      {
        "duration": 18,
        "start_time": "2024-03-04T08:21:47.884Z"
      },
      {
        "duration": 12,
        "start_time": "2024-03-04T08:23:28.007Z"
      },
      {
        "duration": 16,
        "start_time": "2024-03-04T08:23:38.352Z"
      },
      {
        "duration": 11,
        "start_time": "2024-03-04T08:24:06.229Z"
      },
      {
        "duration": 12,
        "start_time": "2024-03-04T08:24:24.151Z"
      },
      {
        "duration": 16,
        "start_time": "2024-03-04T08:24:36.704Z"
      },
      {
        "duration": 19,
        "start_time": "2024-03-04T08:24:52.075Z"
      },
      {
        "duration": 19,
        "start_time": "2024-03-04T08:25:06.188Z"
      },
      {
        "duration": 15,
        "start_time": "2024-03-04T08:34:32.400Z"
      },
      {
        "duration": 23,
        "start_time": "2024-03-04T08:34:33.512Z"
      },
      {
        "duration": 14,
        "start_time": "2024-03-04T08:34:37.125Z"
      },
      {
        "duration": 18,
        "start_time": "2024-03-04T08:34:40.732Z"
      },
      {
        "duration": 92,
        "start_time": "2024-03-04T08:35:32.729Z"
      },
      {
        "duration": 496,
        "start_time": "2024-03-04T08:45:47.219Z"
      },
      {
        "duration": 35,
        "start_time": "2024-03-04T08:46:10.014Z"
      },
      {
        "duration": 13,
        "start_time": "2024-03-04T08:47:18.401Z"
      },
      {
        "duration": 9,
        "start_time": "2024-03-04T08:48:14.467Z"
      },
      {
        "duration": 9,
        "start_time": "2024-03-04T08:48:37.099Z"
      },
      {
        "duration": 12,
        "start_time": "2024-03-04T08:50:15.319Z"
      },
      {
        "duration": 12,
        "start_time": "2024-03-04T08:54:00.410Z"
      },
      {
        "duration": 12,
        "start_time": "2024-03-04T08:54:35.855Z"
      },
      {
        "duration": 12,
        "start_time": "2024-03-04T08:54:49.602Z"
      },
      {
        "duration": 11,
        "start_time": "2024-03-04T08:54:57.037Z"
      },
      {
        "duration": 76,
        "start_time": "2024-03-04T09:02:12.123Z"
      },
      {
        "duration": 392,
        "start_time": "2024-03-04T09:18:25.737Z"
      },
      {
        "duration": 315,
        "start_time": "2024-03-04T09:18:26.131Z"
      },
      {
        "duration": 2,
        "start_time": "2024-03-04T09:18:26.448Z"
      },
      {
        "duration": 407,
        "start_time": "2024-03-04T09:18:26.451Z"
      },
      {
        "duration": 36,
        "start_time": "2024-03-04T09:18:26.860Z"
      },
      {
        "duration": 31,
        "start_time": "2024-03-04T09:18:26.898Z"
      },
      {
        "duration": 18,
        "start_time": "2024-03-04T09:18:26.931Z"
      },
      {
        "duration": 23,
        "start_time": "2024-03-04T09:18:26.950Z"
      },
      {
        "duration": 13,
        "start_time": "2024-03-04T09:18:26.974Z"
      },
      {
        "duration": 10,
        "start_time": "2024-03-04T09:18:26.989Z"
      },
      {
        "duration": 24,
        "start_time": "2024-03-04T09:18:27.001Z"
      },
      {
        "duration": 8,
        "start_time": "2024-03-04T09:18:27.027Z"
      },
      {
        "duration": 22,
        "start_time": "2024-03-04T09:18:27.036Z"
      },
      {
        "duration": 13,
        "start_time": "2024-03-04T09:18:27.061Z"
      },
      {
        "duration": 6,
        "start_time": "2024-03-04T09:18:27.076Z"
      },
      {
        "duration": 139,
        "start_time": "2024-03-04T09:18:27.083Z"
      },
      {
        "duration": 5,
        "start_time": "2024-03-04T09:18:27.223Z"
      },
      {
        "duration": 245,
        "start_time": "2024-03-04T09:18:27.229Z"
      },
      {
        "duration": 99,
        "start_time": "2024-03-04T09:18:27.476Z"
      },
      {
        "duration": 177,
        "start_time": "2024-03-04T09:18:27.577Z"
      },
      {
        "duration": 8,
        "start_time": "2024-03-04T09:18:27.755Z"
      },
      {
        "duration": 208,
        "start_time": "2024-03-04T09:18:27.764Z"
      },
      {
        "duration": 8,
        "start_time": "2024-03-04T09:18:27.973Z"
      },
      {
        "duration": 8,
        "start_time": "2024-03-04T09:18:27.983Z"
      },
      {
        "duration": 206,
        "start_time": "2024-03-04T09:18:27.993Z"
      },
      {
        "duration": 8,
        "start_time": "2024-03-04T09:18:28.200Z"
      },
      {
        "duration": 202,
        "start_time": "2024-03-04T09:18:28.218Z"
      },
      {
        "duration": 8,
        "start_time": "2024-03-04T09:18:28.421Z"
      },
      {
        "duration": 6,
        "start_time": "2024-03-04T09:18:28.431Z"
      },
      {
        "duration": 19,
        "start_time": "2024-03-04T09:18:28.439Z"
      },
      {
        "duration": 270,
        "start_time": "2024-03-04T09:18:28.460Z"
      },
      {
        "duration": 10,
        "start_time": "2024-03-04T09:18:28.732Z"
      },
      {
        "duration": 13,
        "start_time": "2024-03-04T09:18:28.744Z"
      },
      {
        "duration": 8,
        "start_time": "2024-03-04T09:18:28.759Z"
      },
      {
        "duration": 12,
        "start_time": "2024-03-04T09:18:28.768Z"
      },
      {
        "duration": 41,
        "start_time": "2024-03-04T09:18:28.781Z"
      },
      {
        "duration": 16,
        "start_time": "2024-03-04T09:18:28.823Z"
      },
      {
        "duration": 10,
        "start_time": "2024-03-04T09:18:28.841Z"
      },
      {
        "duration": 321,
        "start_time": "2024-03-04T09:18:28.852Z"
      },
      {
        "duration": 324,
        "start_time": "2024-03-04T09:18:29.174Z"
      },
      {
        "duration": 17,
        "start_time": "2024-03-04T09:18:29.501Z"
      },
      {
        "duration": 12,
        "start_time": "2024-03-04T09:18:29.519Z"
      },
      {
        "duration": 24,
        "start_time": "2024-03-04T09:18:29.532Z"
      },
      {
        "duration": 12,
        "start_time": "2024-03-04T09:18:29.557Z"
      },
      {
        "duration": 17,
        "start_time": "2024-03-04T09:18:29.570Z"
      },
      {
        "duration": 46,
        "start_time": "2024-03-04T09:18:29.588Z"
      },
      {
        "duration": 12,
        "start_time": "2024-03-04T09:18:29.635Z"
      },
      {
        "duration": 9,
        "start_time": "2024-03-04T09:18:29.649Z"
      },
      {
        "duration": 16,
        "start_time": "2024-03-04T09:57:31.528Z"
      },
      {
        "duration": 20,
        "start_time": "2024-03-04T09:58:28.859Z"
      },
      {
        "duration": 12,
        "start_time": "2024-03-04T09:59:13.983Z"
      },
      {
        "duration": 47,
        "start_time": "2024-03-04T12:13:30.921Z"
      },
      {
        "duration": 373,
        "start_time": "2024-03-04T12:14:02.436Z"
      },
      {
        "duration": 223,
        "start_time": "2024-03-04T12:14:02.811Z"
      },
      {
        "duration": 2,
        "start_time": "2024-03-04T12:14:03.035Z"
      },
      {
        "duration": 458,
        "start_time": "2024-03-04T12:14:03.039Z"
      },
      {
        "duration": 37,
        "start_time": "2024-03-04T12:14:03.499Z"
      },
      {
        "duration": 34,
        "start_time": "2024-03-04T12:14:03.537Z"
      },
      {
        "duration": 19,
        "start_time": "2024-03-04T12:14:03.572Z"
      },
      {
        "duration": 27,
        "start_time": "2024-03-04T12:14:03.593Z"
      },
      {
        "duration": 15,
        "start_time": "2024-03-04T12:14:03.621Z"
      },
      {
        "duration": 11,
        "start_time": "2024-03-04T12:14:03.638Z"
      },
      {
        "duration": 8,
        "start_time": "2024-03-04T12:14:03.651Z"
      },
      {
        "duration": 4,
        "start_time": "2024-03-04T12:14:03.660Z"
      },
      {
        "duration": 17,
        "start_time": "2024-03-04T12:14:03.665Z"
      },
      {
        "duration": 48,
        "start_time": "2024-03-04T12:14:03.684Z"
      },
      {
        "duration": 5,
        "start_time": "2024-03-04T12:14:03.733Z"
      },
      {
        "duration": 147,
        "start_time": "2024-03-04T12:14:03.739Z"
      },
      {
        "duration": 4,
        "start_time": "2024-03-04T12:14:03.888Z"
      },
      {
        "duration": 275,
        "start_time": "2024-03-04T12:14:03.893Z"
      },
      {
        "duration": 100,
        "start_time": "2024-03-04T12:14:04.169Z"
      },
      {
        "duration": 173,
        "start_time": "2024-03-04T12:14:04.271Z"
      },
      {
        "duration": 8,
        "start_time": "2024-03-04T12:14:04.446Z"
      },
      {
        "duration": 213,
        "start_time": "2024-03-04T12:14:04.456Z"
      },
      {
        "duration": 8,
        "start_time": "2024-03-04T12:14:04.670Z"
      },
      {
        "duration": 9,
        "start_time": "2024-03-04T12:14:04.680Z"
      },
      {
        "duration": 217,
        "start_time": "2024-03-04T12:14:04.690Z"
      },
      {
        "duration": 14,
        "start_time": "2024-03-04T12:14:04.909Z"
      },
      {
        "duration": 208,
        "start_time": "2024-03-04T12:14:04.924Z"
      },
      {
        "duration": 10,
        "start_time": "2024-03-04T12:14:05.133Z"
      },
      {
        "duration": 9,
        "start_time": "2024-03-04T12:14:05.144Z"
      },
      {
        "duration": 8,
        "start_time": "2024-03-04T12:14:05.154Z"
      },
      {
        "duration": 254,
        "start_time": "2024-03-04T12:14:05.163Z"
      },
      {
        "duration": 8,
        "start_time": "2024-03-04T12:14:05.419Z"
      },
      {
        "duration": 11,
        "start_time": "2024-03-04T12:14:05.428Z"
      },
      {
        "duration": 8,
        "start_time": "2024-03-04T12:14:05.440Z"
      },
      {
        "duration": 13,
        "start_time": "2024-03-04T12:14:05.450Z"
      },
      {
        "duration": 8,
        "start_time": "2024-03-04T12:14:05.464Z"
      },
      {
        "duration": 15,
        "start_time": "2024-03-04T12:14:05.474Z"
      },
      {
        "duration": 11,
        "start_time": "2024-03-04T12:14:05.518Z"
      },
      {
        "duration": 337,
        "start_time": "2024-03-04T12:14:05.530Z"
      },
      {
        "duration": 367,
        "start_time": "2024-03-04T12:14:05.868Z"
      },
      {
        "duration": 11,
        "start_time": "2024-03-04T12:14:06.238Z"
      },
      {
        "duration": 15,
        "start_time": "2024-03-04T12:14:06.250Z"
      },
      {
        "duration": 23,
        "start_time": "2024-03-04T12:14:06.266Z"
      },
      {
        "duration": 35,
        "start_time": "2024-03-04T12:14:06.290Z"
      },
      {
        "duration": 19,
        "start_time": "2024-03-04T12:14:06.327Z"
      },
      {
        "duration": 43,
        "start_time": "2024-03-04T12:14:06.348Z"
      },
      {
        "duration": 32,
        "start_time": "2024-03-04T12:14:06.393Z"
      },
      {
        "duration": 8,
        "start_time": "2024-03-04T12:14:06.427Z"
      },
      {
        "duration": 8,
        "start_time": "2024-03-04T12:14:06.437Z"
      },
      {
        "duration": 410,
        "start_time": "2024-03-04T12:14:44.202Z"
      },
      {
        "duration": 404,
        "start_time": "2024-03-04T12:15:36.408Z"
      },
      {
        "duration": 240,
        "start_time": "2024-03-04T12:15:36.814Z"
      },
      {
        "duration": 2,
        "start_time": "2024-03-04T12:15:37.056Z"
      },
      {
        "duration": 478,
        "start_time": "2024-03-04T12:15:37.061Z"
      },
      {
        "duration": 37,
        "start_time": "2024-03-04T12:15:37.541Z"
      },
      {
        "duration": 42,
        "start_time": "2024-03-04T12:15:37.580Z"
      },
      {
        "duration": 19,
        "start_time": "2024-03-04T12:15:37.624Z"
      },
      {
        "duration": 36,
        "start_time": "2024-03-04T12:15:37.644Z"
      },
      {
        "duration": 13,
        "start_time": "2024-03-04T12:15:37.682Z"
      },
      {
        "duration": 20,
        "start_time": "2024-03-04T12:15:37.698Z"
      },
      {
        "duration": 8,
        "start_time": "2024-03-04T12:15:37.719Z"
      },
      {
        "duration": 4,
        "start_time": "2024-03-04T12:15:37.729Z"
      },
      {
        "duration": 13,
        "start_time": "2024-03-04T12:15:37.734Z"
      },
      {
        "duration": 15,
        "start_time": "2024-03-04T12:15:37.748Z"
      },
      {
        "duration": 4,
        "start_time": "2024-03-04T12:15:37.764Z"
      },
      {
        "duration": 180,
        "start_time": "2024-03-04T12:15:37.770Z"
      },
      {
        "duration": 4,
        "start_time": "2024-03-04T12:15:37.952Z"
      },
      {
        "duration": 301,
        "start_time": "2024-03-04T12:15:37.958Z"
      },
      {
        "duration": 96,
        "start_time": "2024-03-04T12:15:38.261Z"
      },
      {
        "duration": 176,
        "start_time": "2024-03-04T12:15:38.358Z"
      },
      {
        "duration": 8,
        "start_time": "2024-03-04T12:15:38.535Z"
      },
      {
        "duration": 210,
        "start_time": "2024-03-04T12:15:38.545Z"
      },
      {
        "duration": 9,
        "start_time": "2024-03-04T12:15:38.756Z"
      },
      {
        "duration": 8,
        "start_time": "2024-03-04T12:15:38.766Z"
      },
      {
        "duration": 213,
        "start_time": "2024-03-04T12:15:38.775Z"
      },
      {
        "duration": 9,
        "start_time": "2024-03-04T12:15:38.990Z"
      },
      {
        "duration": 227,
        "start_time": "2024-03-04T12:15:39.000Z"
      },
      {
        "duration": 8,
        "start_time": "2024-03-04T12:15:39.230Z"
      },
      {
        "duration": 20,
        "start_time": "2024-03-04T12:15:39.239Z"
      },
      {
        "duration": 8,
        "start_time": "2024-03-04T12:15:39.260Z"
      },
      {
        "duration": 248,
        "start_time": "2024-03-04T12:15:39.270Z"
      },
      {
        "duration": 9,
        "start_time": "2024-03-04T12:15:39.519Z"
      },
      {
        "duration": 10,
        "start_time": "2024-03-04T12:15:39.529Z"
      },
      {
        "duration": 8,
        "start_time": "2024-03-04T12:15:39.540Z"
      },
      {
        "duration": 11,
        "start_time": "2024-03-04T12:15:39.549Z"
      },
      {
        "duration": 13,
        "start_time": "2024-03-04T12:15:39.561Z"
      },
      {
        "duration": 42,
        "start_time": "2024-03-04T12:15:39.576Z"
      },
      {
        "duration": 12,
        "start_time": "2024-03-04T12:15:39.619Z"
      },
      {
        "duration": 345,
        "start_time": "2024-03-04T12:15:39.633Z"
      },
      {
        "duration": 329,
        "start_time": "2024-03-04T12:15:39.980Z"
      },
      {
        "duration": 11,
        "start_time": "2024-03-04T12:15:40.310Z"
      },
      {
        "duration": 19,
        "start_time": "2024-03-04T12:15:40.322Z"
      },
      {
        "duration": 24,
        "start_time": "2024-03-04T12:15:40.343Z"
      },
      {
        "duration": 12,
        "start_time": "2024-03-04T12:15:40.368Z"
      },
      {
        "duration": 52,
        "start_time": "2024-03-04T12:15:40.381Z"
      },
      {
        "duration": 29,
        "start_time": "2024-03-04T12:15:40.435Z"
      },
      {
        "duration": 13,
        "start_time": "2024-03-04T12:15:40.466Z"
      },
      {
        "duration": 8,
        "start_time": "2024-03-04T12:15:40.480Z"
      },
      {
        "duration": 10,
        "start_time": "2024-03-04T12:15:40.517Z"
      },
      {
        "duration": 38,
        "start_time": "2024-03-04T12:19:50.693Z"
      },
      {
        "duration": 396,
        "start_time": "2024-03-04T12:23:33.086Z"
      },
      {
        "duration": 256,
        "start_time": "2024-03-04T12:23:33.483Z"
      },
      {
        "duration": 3,
        "start_time": "2024-03-04T12:23:33.740Z"
      },
      {
        "duration": 408,
        "start_time": "2024-03-04T12:23:33.745Z"
      },
      {
        "duration": 36,
        "start_time": "2024-03-04T12:23:34.155Z"
      },
      {
        "duration": 33,
        "start_time": "2024-03-04T12:23:34.193Z"
      },
      {
        "duration": 18,
        "start_time": "2024-03-04T12:23:34.228Z"
      },
      {
        "duration": 23,
        "start_time": "2024-03-04T12:23:34.248Z"
      },
      {
        "duration": 13,
        "start_time": "2024-03-04T12:23:34.273Z"
      },
      {
        "duration": 25,
        "start_time": "2024-03-04T12:23:34.289Z"
      },
      {
        "duration": 17,
        "start_time": "2024-03-04T12:23:34.318Z"
      },
      {
        "duration": 6,
        "start_time": "2024-03-04T12:23:34.337Z"
      },
      {
        "duration": 29,
        "start_time": "2024-03-04T12:23:34.344Z"
      },
      {
        "duration": 14,
        "start_time": "2024-03-04T12:23:34.375Z"
      },
      {
        "duration": 4,
        "start_time": "2024-03-04T12:23:34.391Z"
      },
      {
        "duration": 143,
        "start_time": "2024-03-04T12:23:34.397Z"
      },
      {
        "duration": 5,
        "start_time": "2024-03-04T12:23:34.541Z"
      },
      {
        "duration": 313,
        "start_time": "2024-03-04T12:23:34.547Z"
      },
      {
        "duration": 99,
        "start_time": "2024-03-04T12:23:34.862Z"
      },
      {
        "duration": 177,
        "start_time": "2024-03-04T12:23:34.963Z"
      },
      {
        "duration": 8,
        "start_time": "2024-03-04T12:23:35.141Z"
      },
      {
        "duration": 199,
        "start_time": "2024-03-04T12:23:35.151Z"
      },
      {
        "duration": 376,
        "start_time": "2024-03-04T12:30:56.746Z"
      },
      {
        "duration": 224,
        "start_time": "2024-03-04T12:30:57.124Z"
      },
      {
        "duration": 3,
        "start_time": "2024-03-04T12:30:57.349Z"
      },
      {
        "duration": 463,
        "start_time": "2024-03-04T12:30:57.355Z"
      },
      {
        "duration": 37,
        "start_time": "2024-03-04T12:30:57.819Z"
      },
      {
        "duration": 33,
        "start_time": "2024-03-04T12:30:57.858Z"
      },
      {
        "duration": 19,
        "start_time": "2024-03-04T12:30:57.893Z"
      },
      {
        "duration": 24,
        "start_time": "2024-03-04T12:30:57.913Z"
      },
      {
        "duration": 12,
        "start_time": "2024-03-04T12:30:57.938Z"
      },
      {
        "duration": 11,
        "start_time": "2024-03-04T12:30:57.953Z"
      },
      {
        "duration": 7,
        "start_time": "2024-03-04T12:30:57.966Z"
      },
      {
        "duration": 6,
        "start_time": "2024-03-04T12:30:57.974Z"
      },
      {
        "duration": 40,
        "start_time": "2024-03-04T12:30:57.981Z"
      },
      {
        "duration": 15,
        "start_time": "2024-03-04T12:30:58.023Z"
      },
      {
        "duration": 4,
        "start_time": "2024-03-04T12:30:58.040Z"
      },
      {
        "duration": 147,
        "start_time": "2024-03-04T12:30:58.046Z"
      },
      {
        "duration": 4,
        "start_time": "2024-03-04T12:30:58.194Z"
      },
      {
        "duration": 254,
        "start_time": "2024-03-04T12:30:58.200Z"
      },
      {
        "duration": 117,
        "start_time": "2024-03-04T12:30:58.456Z"
      },
      {
        "duration": 173,
        "start_time": "2024-03-04T12:30:58.575Z"
      },
      {
        "duration": 9,
        "start_time": "2024-03-04T12:30:58.750Z"
      },
      {
        "duration": 215,
        "start_time": "2024-03-04T12:30:58.761Z"
      },
      {
        "duration": 8,
        "start_time": "2024-03-04T12:30:58.977Z"
      },
      {
        "duration": 7,
        "start_time": "2024-03-04T12:30:58.987Z"
      },
      {
        "duration": 209,
        "start_time": "2024-03-04T12:30:58.995Z"
      },
      {
        "duration": 16,
        "start_time": "2024-03-04T12:30:59.205Z"
      },
      {
        "duration": 202,
        "start_time": "2024-03-04T12:30:59.223Z"
      },
      {
        "duration": 8,
        "start_time": "2024-03-04T12:30:59.430Z"
      },
      {
        "duration": 8,
        "start_time": "2024-03-04T12:30:59.440Z"
      },
      {
        "duration": 9,
        "start_time": "2024-03-04T12:30:59.449Z"
      },
      {
        "duration": 282,
        "start_time": "2024-03-04T12:30:59.459Z"
      },
      {
        "duration": 10,
        "start_time": "2024-03-04T12:30:59.742Z"
      },
      {
        "duration": 10,
        "start_time": "2024-03-04T12:30:59.754Z"
      },
      {
        "duration": 9,
        "start_time": "2024-03-04T12:30:59.765Z"
      },
      {
        "duration": 12,
        "start_time": "2024-03-04T12:30:59.775Z"
      },
      {
        "duration": 37,
        "start_time": "2024-03-04T12:30:59.788Z"
      },
      {
        "duration": 16,
        "start_time": "2024-03-04T12:30:59.827Z"
      },
      {
        "duration": 11,
        "start_time": "2024-03-04T12:30:59.844Z"
      },
      {
        "duration": 341,
        "start_time": "2024-03-04T12:30:59.856Z"
      },
      {
        "duration": 355,
        "start_time": "2024-03-04T12:31:00.198Z"
      },
      {
        "duration": 11,
        "start_time": "2024-03-04T12:31:00.555Z"
      },
      {
        "duration": 49,
        "start_time": "2024-03-04T12:31:00.567Z"
      },
      {
        "duration": 58,
        "start_time": "2024-03-04T12:31:00.617Z"
      },
      {
        "duration": 53,
        "start_time": "2024-03-04T12:31:00.677Z"
      },
      {
        "duration": 45,
        "start_time": "2024-03-04T12:31:00.732Z"
      },
      {
        "duration": 95,
        "start_time": "2024-03-04T12:31:00.779Z"
      },
      {
        "duration": 31,
        "start_time": "2024-03-04T12:31:00.875Z"
      },
      {
        "duration": 85,
        "start_time": "2024-03-04T12:31:00.907Z"
      },
      {
        "duration": 57,
        "start_time": "2024-03-04T12:31:00.993Z"
      },
      {
        "duration": 105,
        "start_time": "2024-03-04T12:31:01.051Z"
      },
      {
        "duration": 162,
        "start_time": "2024-03-04T12:32:53.579Z"
      },
      {
        "duration": 158,
        "start_time": "2024-03-04T12:34:07.445Z"
      },
      {
        "duration": 176,
        "start_time": "2024-03-04T12:36:23.729Z"
      },
      {
        "duration": 399,
        "start_time": "2024-03-04T12:37:20.917Z"
      },
      {
        "duration": 230,
        "start_time": "2024-03-04T12:37:21.318Z"
      },
      {
        "duration": 3,
        "start_time": "2024-03-04T12:37:21.549Z"
      },
      {
        "duration": 469,
        "start_time": "2024-03-04T12:37:21.555Z"
      },
      {
        "duration": 37,
        "start_time": "2024-03-04T12:37:22.027Z"
      },
      {
        "duration": 32,
        "start_time": "2024-03-04T12:37:22.066Z"
      },
      {
        "duration": 18,
        "start_time": "2024-03-04T12:37:22.099Z"
      },
      {
        "duration": 27,
        "start_time": "2024-03-04T12:37:22.118Z"
      },
      {
        "duration": 12,
        "start_time": "2024-03-04T12:37:22.147Z"
      },
      {
        "duration": 21,
        "start_time": "2024-03-04T12:37:22.162Z"
      },
      {
        "duration": 8,
        "start_time": "2024-03-04T12:37:22.184Z"
      },
      {
        "duration": 21,
        "start_time": "2024-03-04T12:37:22.194Z"
      },
      {
        "duration": 26,
        "start_time": "2024-03-04T12:37:22.216Z"
      },
      {
        "duration": 28,
        "start_time": "2024-03-04T12:37:22.244Z"
      },
      {
        "duration": 3,
        "start_time": "2024-03-04T12:37:22.274Z"
      },
      {
        "duration": 138,
        "start_time": "2024-03-04T12:37:22.279Z"
      },
      {
        "duration": 4,
        "start_time": "2024-03-04T12:37:22.419Z"
      },
      {
        "duration": 238,
        "start_time": "2024-03-04T12:37:22.424Z"
      },
      {
        "duration": 110,
        "start_time": "2024-03-04T12:37:22.664Z"
      },
      {
        "duration": 181,
        "start_time": "2024-03-04T12:37:22.775Z"
      },
      {
        "duration": 8,
        "start_time": "2024-03-04T12:37:22.958Z"
      },
      {
        "duration": 211,
        "start_time": "2024-03-04T12:37:22.968Z"
      },
      {
        "duration": 8,
        "start_time": "2024-03-04T12:37:23.180Z"
      },
      {
        "duration": 8,
        "start_time": "2024-03-04T12:37:23.190Z"
      },
      {
        "duration": 212,
        "start_time": "2024-03-04T12:37:23.199Z"
      },
      {
        "duration": 7,
        "start_time": "2024-03-04T12:37:23.417Z"
      },
      {
        "duration": 204,
        "start_time": "2024-03-04T12:37:23.426Z"
      },
      {
        "duration": 8,
        "start_time": "2024-03-04T12:37:23.633Z"
      },
      {
        "duration": 6,
        "start_time": "2024-03-04T12:37:23.643Z"
      },
      {
        "duration": 7,
        "start_time": "2024-03-04T12:37:23.650Z"
      },
      {
        "duration": 257,
        "start_time": "2024-03-04T12:37:23.659Z"
      },
      {
        "duration": 8,
        "start_time": "2024-03-04T12:37:23.917Z"
      },
      {
        "duration": 15,
        "start_time": "2024-03-04T12:37:23.926Z"
      },
      {
        "duration": 9,
        "start_time": "2024-03-04T12:37:23.942Z"
      },
      {
        "duration": 10,
        "start_time": "2024-03-04T12:37:23.952Z"
      },
      {
        "duration": 14,
        "start_time": "2024-03-04T12:37:23.964Z"
      },
      {
        "duration": 19,
        "start_time": "2024-03-04T12:37:23.979Z"
      },
      {
        "duration": 27,
        "start_time": "2024-03-04T12:37:23.999Z"
      },
      {
        "duration": 340,
        "start_time": "2024-03-04T12:37:24.027Z"
      },
      {
        "duration": 354,
        "start_time": "2024-03-04T12:37:24.369Z"
      },
      {
        "duration": 10,
        "start_time": "2024-03-04T12:37:24.724Z"
      },
      {
        "duration": 36,
        "start_time": "2024-03-04T12:37:24.735Z"
      },
      {
        "duration": 22,
        "start_time": "2024-03-04T12:37:24.772Z"
      },
      {
        "duration": 16,
        "start_time": "2024-03-04T12:37:24.795Z"
      },
      {
        "duration": 31,
        "start_time": "2024-03-04T12:37:24.812Z"
      },
      {
        "duration": 44,
        "start_time": "2024-03-04T12:37:24.845Z"
      },
      {
        "duration": 28,
        "start_time": "2024-03-04T12:37:24.890Z"
      },
      {
        "duration": 21,
        "start_time": "2024-03-04T12:37:24.919Z"
      },
      {
        "duration": 40,
        "start_time": "2024-03-04T12:37:24.942Z"
      },
      {
        "duration": 192,
        "start_time": "2024-03-04T12:37:24.983Z"
      },
      {
        "duration": 181,
        "start_time": "2024-03-04T12:40:01.015Z"
      },
      {
        "duration": 172,
        "start_time": "2024-03-04T12:41:31.985Z"
      },
      {
        "duration": 1189,
        "start_time": "2024-03-04T13:02:22.379Z"
      },
      {
        "duration": 1117,
        "start_time": "2024-03-04T13:02:49.463Z"
      },
      {
        "duration": 16,
        "start_time": "2024-03-04T13:03:43.071Z"
      },
      {
        "duration": 20,
        "start_time": "2024-03-04T13:06:27.933Z"
      },
      {
        "duration": 13,
        "start_time": "2024-03-04T13:06:42.980Z"
      },
      {
        "duration": 14,
        "start_time": "2024-03-04T13:12:13.071Z"
      },
      {
        "duration": 356,
        "start_time": "2024-03-04T13:12:30.571Z"
      },
      {
        "duration": 242,
        "start_time": "2024-03-04T13:12:30.929Z"
      },
      {
        "duration": 2,
        "start_time": "2024-03-04T13:12:31.173Z"
      },
      {
        "duration": 562,
        "start_time": "2024-03-04T13:12:31.177Z"
      },
      {
        "duration": 36,
        "start_time": "2024-03-04T13:12:31.741Z"
      },
      {
        "duration": 33,
        "start_time": "2024-03-04T13:12:31.779Z"
      },
      {
        "duration": 23,
        "start_time": "2024-03-04T13:12:31.814Z"
      },
      {
        "duration": 37,
        "start_time": "2024-03-04T13:12:31.838Z"
      },
      {
        "duration": 46,
        "start_time": "2024-03-04T13:12:31.876Z"
      },
      {
        "duration": 45,
        "start_time": "2024-03-04T13:12:31.925Z"
      },
      {
        "duration": 35,
        "start_time": "2024-03-04T13:12:31.971Z"
      },
      {
        "duration": 22,
        "start_time": "2024-03-04T13:12:32.008Z"
      },
      {
        "duration": 48,
        "start_time": "2024-03-04T13:12:32.031Z"
      },
      {
        "duration": 18,
        "start_time": "2024-03-04T13:12:32.080Z"
      },
      {
        "duration": 8,
        "start_time": "2024-03-04T13:12:32.099Z"
      },
      {
        "duration": 136,
        "start_time": "2024-03-04T13:12:32.108Z"
      },
      {
        "duration": 5,
        "start_time": "2024-03-04T13:12:32.246Z"
      },
      {
        "duration": 301,
        "start_time": "2024-03-04T13:12:32.253Z"
      },
      {
        "duration": 106,
        "start_time": "2024-03-04T13:12:32.556Z"
      },
      {
        "duration": 166,
        "start_time": "2024-03-04T13:12:32.663Z"
      },
      {
        "duration": 7,
        "start_time": "2024-03-04T13:12:32.831Z"
      },
      {
        "duration": 201,
        "start_time": "2024-03-04T13:12:32.839Z"
      },
      {
        "duration": 8,
        "start_time": "2024-03-04T13:12:33.041Z"
      },
      {
        "duration": 8,
        "start_time": "2024-03-04T13:12:33.050Z"
      },
      {
        "duration": 206,
        "start_time": "2024-03-04T13:12:33.059Z"
      },
      {
        "duration": 8,
        "start_time": "2024-03-04T13:12:33.266Z"
      },
      {
        "duration": 199,
        "start_time": "2024-03-04T13:12:33.275Z"
      },
      {
        "duration": 8,
        "start_time": "2024-03-04T13:12:33.477Z"
      },
      {
        "duration": 7,
        "start_time": "2024-03-04T13:12:33.486Z"
      },
      {
        "duration": 27,
        "start_time": "2024-03-04T13:12:33.494Z"
      },
      {
        "duration": 247,
        "start_time": "2024-03-04T13:12:33.522Z"
      },
      {
        "duration": 9,
        "start_time": "2024-03-04T13:12:33.771Z"
      },
      {
        "duration": 11,
        "start_time": "2024-03-04T13:12:33.782Z"
      },
      {
        "duration": 29,
        "start_time": "2024-03-04T13:12:33.795Z"
      },
      {
        "duration": 13,
        "start_time": "2024-03-04T13:12:33.825Z"
      },
      {
        "duration": 10,
        "start_time": "2024-03-04T13:12:33.839Z"
      },
      {
        "duration": 17,
        "start_time": "2024-03-04T13:12:33.850Z"
      },
      {
        "duration": 11,
        "start_time": "2024-03-04T13:12:33.869Z"
      },
      {
        "duration": 351,
        "start_time": "2024-03-04T13:12:33.881Z"
      },
      {
        "duration": 330,
        "start_time": "2024-03-04T13:12:34.233Z"
      },
      {
        "duration": 10,
        "start_time": "2024-03-04T13:12:34.565Z"
      },
      {
        "duration": 13,
        "start_time": "2024-03-04T13:12:34.577Z"
      },
      {
        "duration": 37,
        "start_time": "2024-03-04T13:12:34.592Z"
      },
      {
        "duration": 11,
        "start_time": "2024-03-04T13:12:34.631Z"
      },
      {
        "duration": 18,
        "start_time": "2024-03-04T13:12:34.643Z"
      },
      {
        "duration": 26,
        "start_time": "2024-03-04T13:12:34.663Z"
      },
      {
        "duration": 33,
        "start_time": "2024-03-04T13:12:34.691Z"
      },
      {
        "duration": 8,
        "start_time": "2024-03-04T13:12:34.726Z"
      },
      {
        "duration": 5,
        "start_time": "2024-03-04T13:12:34.735Z"
      },
      {
        "duration": 182,
        "start_time": "2024-03-04T13:12:34.741Z"
      },
      {
        "duration": 99,
        "start_time": "2024-03-04T13:12:34.924Z"
      },
      {
        "duration": 10,
        "start_time": "2024-03-04T13:12:55.930Z"
      },
      {
        "duration": 6,
        "start_time": "2024-03-04T13:18:59.219Z"
      },
      {
        "duration": 9,
        "start_time": "2024-03-04T13:21:57.307Z"
      },
      {
        "duration": 12,
        "start_time": "2024-03-04T14:06:15.305Z"
      },
      {
        "duration": 10,
        "start_time": "2024-03-04T14:06:19.936Z"
      },
      {
        "duration": 359,
        "start_time": "2024-03-04T14:46:57.030Z"
      },
      {
        "duration": 207,
        "start_time": "2024-03-04T14:46:57.390Z"
      },
      {
        "duration": 4,
        "start_time": "2024-03-04T14:46:57.598Z"
      },
      {
        "duration": 406,
        "start_time": "2024-03-04T14:46:57.603Z"
      },
      {
        "duration": 81,
        "start_time": "2024-03-04T14:46:58.011Z"
      },
      {
        "duration": 72,
        "start_time": "2024-03-04T14:46:58.093Z"
      },
      {
        "duration": 56,
        "start_time": "2024-03-04T14:46:58.166Z"
      },
      {
        "duration": 20,
        "start_time": "2024-03-04T14:46:58.223Z"
      },
      {
        "duration": 12,
        "start_time": "2024-03-04T14:46:58.244Z"
      },
      {
        "duration": 26,
        "start_time": "2024-03-04T14:46:58.257Z"
      },
      {
        "duration": 19,
        "start_time": "2024-03-04T14:46:58.285Z"
      },
      {
        "duration": 11,
        "start_time": "2024-03-04T14:46:58.305Z"
      },
      {
        "duration": 20,
        "start_time": "2024-03-04T14:46:58.317Z"
      },
      {
        "duration": 13,
        "start_time": "2024-03-04T14:46:58.339Z"
      },
      {
        "duration": 5,
        "start_time": "2024-03-04T14:46:58.354Z"
      },
      {
        "duration": 157,
        "start_time": "2024-03-04T14:46:58.360Z"
      },
      {
        "duration": 4,
        "start_time": "2024-03-04T14:46:58.518Z"
      },
      {
        "duration": 217,
        "start_time": "2024-03-04T14:46:58.524Z"
      },
      {
        "duration": 142,
        "start_time": "2024-03-04T14:46:58.742Z"
      },
      {
        "duration": 165,
        "start_time": "2024-03-04T14:46:58.886Z"
      },
      {
        "duration": 6,
        "start_time": "2024-03-04T14:46:59.053Z"
      },
      {
        "duration": 183,
        "start_time": "2024-03-04T14:46:59.061Z"
      },
      {
        "duration": 6,
        "start_time": "2024-03-04T14:46:59.245Z"
      },
      {
        "duration": 7,
        "start_time": "2024-03-04T14:46:59.252Z"
      },
      {
        "duration": 173,
        "start_time": "2024-03-04T14:46:59.260Z"
      },
      {
        "duration": 6,
        "start_time": "2024-03-04T14:46:59.434Z"
      },
      {
        "duration": 198,
        "start_time": "2024-03-04T14:46:59.441Z"
      },
      {
        "duration": 7,
        "start_time": "2024-03-04T14:46:59.640Z"
      },
      {
        "duration": 13,
        "start_time": "2024-03-04T14:46:59.648Z"
      },
      {
        "duration": 11,
        "start_time": "2024-03-04T14:46:59.663Z"
      },
      {
        "duration": 230,
        "start_time": "2024-03-04T14:46:59.675Z"
      },
      {
        "duration": 7,
        "start_time": "2024-03-04T14:46:59.906Z"
      },
      {
        "duration": 20,
        "start_time": "2024-03-04T14:46:59.915Z"
      },
      {
        "duration": 15,
        "start_time": "2024-03-04T14:46:59.936Z"
      },
      {
        "duration": 10,
        "start_time": "2024-03-04T14:46:59.953Z"
      },
      {
        "duration": 15,
        "start_time": "2024-03-04T14:46:59.965Z"
      },
      {
        "duration": 42,
        "start_time": "2024-03-04T14:46:59.981Z"
      },
      {
        "duration": 66,
        "start_time": "2024-03-04T14:47:00.025Z"
      },
      {
        "duration": 368,
        "start_time": "2024-03-04T14:47:00.092Z"
      },
      {
        "duration": 284,
        "start_time": "2024-03-04T14:47:00.461Z"
      },
      {
        "duration": 9,
        "start_time": "2024-03-04T14:47:00.749Z"
      },
      {
        "duration": 60,
        "start_time": "2024-03-04T14:47:00.759Z"
      },
      {
        "duration": 44,
        "start_time": "2024-03-04T14:47:00.821Z"
      },
      {
        "duration": 51,
        "start_time": "2024-03-04T14:47:00.866Z"
      },
      {
        "duration": 51,
        "start_time": "2024-03-04T14:47:00.918Z"
      },
      {
        "duration": 159,
        "start_time": "2024-03-04T14:47:00.970Z"
      },
      {
        "duration": 122,
        "start_time": "2024-03-04T14:47:01.130Z"
      },
      {
        "duration": 193,
        "start_time": "2024-03-04T14:47:01.253Z"
      },
      {
        "duration": 123,
        "start_time": "2024-03-04T14:47:01.447Z"
      },
      {
        "duration": 321,
        "start_time": "2024-03-04T14:47:01.571Z"
      },
      {
        "duration": 219,
        "start_time": "2024-03-04T14:47:01.893Z"
      },
      {
        "duration": 10,
        "start_time": "2024-03-04T14:52:43.676Z"
      },
      {
        "duration": 11,
        "start_time": "2024-03-04T17:17:59.677Z"
      },
      {
        "duration": 87,
        "start_time": "2024-03-05T06:21:38.579Z"
      },
      {
        "duration": 41,
        "start_time": "2024-03-05T06:26:04.479Z"
      },
      {
        "duration": 388,
        "start_time": "2024-03-05T06:26:31.758Z"
      },
      {
        "duration": 446,
        "start_time": "2024-03-05T06:26:32.148Z"
      },
      {
        "duration": 3,
        "start_time": "2024-03-05T06:26:32.595Z"
      },
      {
        "duration": 693,
        "start_time": "2024-03-05T06:26:32.600Z"
      },
      {
        "duration": 264,
        "start_time": "2024-03-05T06:26:33.295Z"
      },
      {
        "duration": 144,
        "start_time": "2024-03-05T06:26:33.560Z"
      },
      {
        "duration": 80,
        "start_time": "2024-03-05T06:26:33.706Z"
      },
      {
        "duration": 21,
        "start_time": "2024-03-05T06:26:33.788Z"
      },
      {
        "duration": 29,
        "start_time": "2024-03-05T06:26:33.811Z"
      },
      {
        "duration": 138,
        "start_time": "2024-03-05T06:26:33.842Z"
      },
      {
        "duration": 314,
        "start_time": "2024-03-05T06:26:33.982Z"
      },
      {
        "duration": 76,
        "start_time": "2024-03-05T06:26:34.298Z"
      },
      {
        "duration": 38,
        "start_time": "2024-03-05T06:26:34.375Z"
      },
      {
        "duration": 72,
        "start_time": "2024-03-05T06:26:34.414Z"
      },
      {
        "duration": 38,
        "start_time": "2024-03-05T06:26:34.487Z"
      },
      {
        "duration": 105,
        "start_time": "2024-03-05T06:26:34.527Z"
      },
      {
        "duration": 0,
        "start_time": "2024-03-05T06:26:34.635Z"
      },
      {
        "duration": 0,
        "start_time": "2024-03-05T06:26:34.636Z"
      },
      {
        "duration": 0,
        "start_time": "2024-03-05T06:26:34.637Z"
      },
      {
        "duration": 0,
        "start_time": "2024-03-05T06:26:34.638Z"
      },
      {
        "duration": 0,
        "start_time": "2024-03-05T06:26:34.639Z"
      },
      {
        "duration": 0,
        "start_time": "2024-03-05T06:26:34.640Z"
      },
      {
        "duration": 0,
        "start_time": "2024-03-05T06:26:34.644Z"
      },
      {
        "duration": 0,
        "start_time": "2024-03-05T06:26:34.645Z"
      },
      {
        "duration": 0,
        "start_time": "2024-03-05T06:26:34.646Z"
      },
      {
        "duration": 0,
        "start_time": "2024-03-05T06:26:34.647Z"
      },
      {
        "duration": 0,
        "start_time": "2024-03-05T06:26:34.648Z"
      },
      {
        "duration": 0,
        "start_time": "2024-03-05T06:26:34.649Z"
      },
      {
        "duration": 0,
        "start_time": "2024-03-05T06:26:34.650Z"
      },
      {
        "duration": 0,
        "start_time": "2024-03-05T06:26:34.651Z"
      },
      {
        "duration": 0,
        "start_time": "2024-03-05T06:26:34.652Z"
      },
      {
        "duration": 0,
        "start_time": "2024-03-05T06:26:34.653Z"
      },
      {
        "duration": 0,
        "start_time": "2024-03-05T06:26:34.654Z"
      },
      {
        "duration": 0,
        "start_time": "2024-03-05T06:26:34.655Z"
      },
      {
        "duration": 0,
        "start_time": "2024-03-05T06:26:34.656Z"
      },
      {
        "duration": 0,
        "start_time": "2024-03-05T06:26:34.657Z"
      },
      {
        "duration": 0,
        "start_time": "2024-03-05T06:26:34.658Z"
      },
      {
        "duration": 0,
        "start_time": "2024-03-05T06:26:34.659Z"
      },
      {
        "duration": 0,
        "start_time": "2024-03-05T06:26:34.660Z"
      },
      {
        "duration": 0,
        "start_time": "2024-03-05T06:26:34.661Z"
      },
      {
        "duration": 0,
        "start_time": "2024-03-05T06:26:34.662Z"
      },
      {
        "duration": 0,
        "start_time": "2024-03-05T06:26:34.663Z"
      },
      {
        "duration": 0,
        "start_time": "2024-03-05T06:26:34.664Z"
      },
      {
        "duration": 0,
        "start_time": "2024-03-05T06:26:34.665Z"
      },
      {
        "duration": 0,
        "start_time": "2024-03-05T06:26:34.666Z"
      },
      {
        "duration": 0,
        "start_time": "2024-03-05T06:26:34.667Z"
      },
      {
        "duration": 0,
        "start_time": "2024-03-05T06:26:34.668Z"
      },
      {
        "duration": 0,
        "start_time": "2024-03-05T06:26:34.669Z"
      },
      {
        "duration": 0,
        "start_time": "2024-03-05T06:26:34.670Z"
      },
      {
        "duration": 0,
        "start_time": "2024-03-05T06:26:34.671Z"
      },
      {
        "duration": 0,
        "start_time": "2024-03-05T06:26:34.672Z"
      },
      {
        "duration": 0,
        "start_time": "2024-03-05T06:26:34.673Z"
      },
      {
        "duration": 0,
        "start_time": "2024-03-05T06:26:34.674Z"
      },
      {
        "duration": 8,
        "start_time": "2024-03-05T06:33:10.277Z"
      },
      {
        "duration": 5,
        "start_time": "2024-03-05T06:33:48.516Z"
      },
      {
        "duration": 3,
        "start_time": "2024-03-05T06:34:50.969Z"
      },
      {
        "duration": 6,
        "start_time": "2024-03-05T06:35:00.718Z"
      },
      {
        "duration": 5,
        "start_time": "2024-03-05T06:37:04.891Z"
      },
      {
        "duration": 8,
        "start_time": "2024-03-05T06:40:38.020Z"
      },
      {
        "duration": 202,
        "start_time": "2024-03-05T06:43:47.080Z"
      },
      {
        "duration": 50,
        "start_time": "2024-03-05T06:44:38.957Z"
      },
      {
        "duration": 846,
        "start_time": "2024-03-05T06:44:46.760Z"
      },
      {
        "duration": 591,
        "start_time": "2024-03-05T06:45:38.289Z"
      },
      {
        "duration": 534,
        "start_time": "2024-03-05T06:46:04.642Z"
      },
      {
        "duration": 557,
        "start_time": "2024-03-05T06:46:13.819Z"
      },
      {
        "duration": 637,
        "start_time": "2024-03-05T06:52:56.677Z"
      },
      {
        "duration": 430,
        "start_time": "2024-03-05T07:05:30.118Z"
      },
      {
        "duration": 233,
        "start_time": "2024-03-05T07:05:30.549Z"
      },
      {
        "duration": 3,
        "start_time": "2024-03-05T07:05:30.783Z"
      },
      {
        "duration": 496,
        "start_time": "2024-03-05T07:05:30.787Z"
      },
      {
        "duration": 51,
        "start_time": "2024-03-05T07:05:31.285Z"
      },
      {
        "duration": 36,
        "start_time": "2024-03-05T07:05:31.338Z"
      },
      {
        "duration": 38,
        "start_time": "2024-03-05T07:05:31.375Z"
      },
      {
        "duration": 19,
        "start_time": "2024-03-05T07:05:31.414Z"
      },
      {
        "duration": 50,
        "start_time": "2024-03-05T07:05:31.434Z"
      },
      {
        "duration": 48,
        "start_time": "2024-03-05T07:05:31.487Z"
      },
      {
        "duration": 53,
        "start_time": "2024-03-05T07:05:31.537Z"
      },
      {
        "duration": 16,
        "start_time": "2024-03-05T07:05:31.592Z"
      },
      {
        "duration": 32,
        "start_time": "2024-03-05T07:05:31.609Z"
      },
      {
        "duration": 37,
        "start_time": "2024-03-05T07:05:31.643Z"
      },
      {
        "duration": 35,
        "start_time": "2024-03-05T07:05:31.682Z"
      },
      {
        "duration": 37,
        "start_time": "2024-03-05T07:05:31.719Z"
      },
      {
        "duration": 114,
        "start_time": "2024-03-05T07:05:31.757Z"
      },
      {
        "duration": 45,
        "start_time": "2024-03-05T07:05:31.872Z"
      },
      {
        "duration": 562,
        "start_time": "2024-03-05T07:05:31.918Z"
      },
      {
        "duration": 5,
        "start_time": "2024-03-05T07:05:32.482Z"
      },
      {
        "duration": 257,
        "start_time": "2024-03-05T07:05:32.488Z"
      },
      {
        "duration": 5,
        "start_time": "2024-03-05T07:05:32.746Z"
      },
      {
        "duration": 231,
        "start_time": "2024-03-05T07:05:32.752Z"
      },
      {
        "duration": 117,
        "start_time": "2024-03-05T07:05:32.984Z"
      },
      {
        "duration": 174,
        "start_time": "2024-03-05T07:05:33.102Z"
      },
      {
        "duration": 7,
        "start_time": "2024-03-05T07:05:33.277Z"
      },
      {
        "duration": 195,
        "start_time": "2024-03-05T07:05:33.286Z"
      },
      {
        "duration": 8,
        "start_time": "2024-03-05T07:05:33.484Z"
      },
      {
        "duration": 266,
        "start_time": "2024-03-05T07:05:33.493Z"
      },
      {
        "duration": 8,
        "start_time": "2024-03-05T07:05:33.760Z"
      },
      {
        "duration": 16,
        "start_time": "2024-03-05T07:05:33.769Z"
      },
      {
        "duration": 19,
        "start_time": "2024-03-05T07:05:33.786Z"
      },
      {
        "duration": 168,
        "start_time": "2024-03-05T07:05:33.807Z"
      },
      {
        "duration": 94,
        "start_time": "2024-03-05T07:05:33.976Z"
      },
      {
        "duration": 0,
        "start_time": "2024-03-05T07:05:34.071Z"
      },
      {
        "duration": 0,
        "start_time": "2024-03-05T07:05:34.073Z"
      },
      {
        "duration": 0,
        "start_time": "2024-03-05T07:05:34.074Z"
      },
      {
        "duration": 0,
        "start_time": "2024-03-05T07:05:34.075Z"
      },
      {
        "duration": 0,
        "start_time": "2024-03-05T07:05:34.076Z"
      },
      {
        "duration": 0,
        "start_time": "2024-03-05T07:05:34.077Z"
      },
      {
        "duration": 0,
        "start_time": "2024-03-05T07:05:34.078Z"
      },
      {
        "duration": 0,
        "start_time": "2024-03-05T07:05:34.079Z"
      },
      {
        "duration": 0,
        "start_time": "2024-03-05T07:05:34.079Z"
      },
      {
        "duration": 0,
        "start_time": "2024-03-05T07:05:34.080Z"
      },
      {
        "duration": 0,
        "start_time": "2024-03-05T07:05:34.081Z"
      },
      {
        "duration": 0,
        "start_time": "2024-03-05T07:05:34.082Z"
      },
      {
        "duration": 0,
        "start_time": "2024-03-05T07:05:34.083Z"
      },
      {
        "duration": 0,
        "start_time": "2024-03-05T07:05:34.084Z"
      },
      {
        "duration": 0,
        "start_time": "2024-03-05T07:05:34.085Z"
      },
      {
        "duration": 0,
        "start_time": "2024-03-05T07:05:34.086Z"
      },
      {
        "duration": 0,
        "start_time": "2024-03-05T07:05:34.087Z"
      },
      {
        "duration": 0,
        "start_time": "2024-03-05T07:05:34.088Z"
      },
      {
        "duration": 0,
        "start_time": "2024-03-05T07:05:34.089Z"
      },
      {
        "duration": 0,
        "start_time": "2024-03-05T07:05:34.090Z"
      },
      {
        "duration": 8,
        "start_time": "2024-03-05T07:06:18.416Z"
      },
      {
        "duration": 8,
        "start_time": "2024-03-05T07:06:19.759Z"
      },
      {
        "duration": 159,
        "start_time": "2024-03-05T07:06:36.555Z"
      },
      {
        "duration": 346,
        "start_time": "2024-03-05T07:07:04.391Z"
      },
      {
        "duration": 217,
        "start_time": "2024-03-05T07:07:04.739Z"
      },
      {
        "duration": 2,
        "start_time": "2024-03-05T07:07:04.958Z"
      },
      {
        "duration": 543,
        "start_time": "2024-03-05T07:07:04.962Z"
      },
      {
        "duration": 57,
        "start_time": "2024-03-05T07:07:05.507Z"
      },
      {
        "duration": 323,
        "start_time": "2024-03-05T07:07:05.565Z"
      },
      {
        "duration": 31,
        "start_time": "2024-03-05T07:07:05.890Z"
      },
      {
        "duration": 19,
        "start_time": "2024-03-05T07:07:05.922Z"
      },
      {
        "duration": 31,
        "start_time": "2024-03-05T07:07:05.943Z"
      },
      {
        "duration": 11,
        "start_time": "2024-03-05T07:07:05.976Z"
      },
      {
        "duration": 15,
        "start_time": "2024-03-05T07:07:05.988Z"
      },
      {
        "duration": 8,
        "start_time": "2024-03-05T07:07:06.004Z"
      },
      {
        "duration": 18,
        "start_time": "2024-03-05T07:07:06.013Z"
      },
      {
        "duration": 25,
        "start_time": "2024-03-05T07:07:06.032Z"
      },
      {
        "duration": 18,
        "start_time": "2024-03-05T07:07:06.058Z"
      },
      {
        "duration": 6,
        "start_time": "2024-03-05T07:07:06.077Z"
      },
      {
        "duration": 11,
        "start_time": "2024-03-05T07:07:06.084Z"
      },
      {
        "duration": 11,
        "start_time": "2024-03-05T07:07:06.097Z"
      },
      {
        "duration": 589,
        "start_time": "2024-03-05T07:07:06.110Z"
      },
      {
        "duration": 5,
        "start_time": "2024-03-05T07:07:06.701Z"
      },
      {
        "duration": 130,
        "start_time": "2024-03-05T07:07:06.707Z"
      },
      {
        "duration": 8,
        "start_time": "2024-03-05T07:07:06.839Z"
      },
      {
        "duration": 238,
        "start_time": "2024-03-05T07:07:06.849Z"
      },
      {
        "duration": 98,
        "start_time": "2024-03-05T07:07:07.088Z"
      },
      {
        "duration": 178,
        "start_time": "2024-03-05T07:07:07.188Z"
      },
      {
        "duration": 7,
        "start_time": "2024-03-05T07:07:07.368Z"
      },
      {
        "duration": 202,
        "start_time": "2024-03-05T07:07:07.377Z"
      },
      {
        "duration": 8,
        "start_time": "2024-03-05T07:07:07.583Z"
      },
      {
        "duration": 285,
        "start_time": "2024-03-05T07:07:07.593Z"
      },
      {
        "duration": 8,
        "start_time": "2024-03-05T07:07:07.879Z"
      },
      {
        "duration": 7,
        "start_time": "2024-03-05T07:07:07.888Z"
      },
      {
        "duration": 8,
        "start_time": "2024-03-05T07:07:07.896Z"
      },
      {
        "duration": 193,
        "start_time": "2024-03-05T07:07:07.905Z"
      },
      {
        "duration": 97,
        "start_time": "2024-03-05T07:07:08.100Z"
      },
      {
        "duration": 0,
        "start_time": "2024-03-05T07:07:08.199Z"
      },
      {
        "duration": 0,
        "start_time": "2024-03-05T07:07:08.200Z"
      },
      {
        "duration": 0,
        "start_time": "2024-03-05T07:07:08.201Z"
      },
      {
        "duration": 1,
        "start_time": "2024-03-05T07:07:08.201Z"
      },
      {
        "duration": 0,
        "start_time": "2024-03-05T07:07:08.202Z"
      },
      {
        "duration": 0,
        "start_time": "2024-03-05T07:07:08.203Z"
      },
      {
        "duration": 0,
        "start_time": "2024-03-05T07:07:08.204Z"
      },
      {
        "duration": 0,
        "start_time": "2024-03-05T07:07:08.205Z"
      },
      {
        "duration": 0,
        "start_time": "2024-03-05T07:07:08.205Z"
      },
      {
        "duration": 0,
        "start_time": "2024-03-05T07:07:08.206Z"
      },
      {
        "duration": 0,
        "start_time": "2024-03-05T07:07:08.207Z"
      },
      {
        "duration": 0,
        "start_time": "2024-03-05T07:07:08.208Z"
      },
      {
        "duration": 0,
        "start_time": "2024-03-05T07:07:08.209Z"
      },
      {
        "duration": 0,
        "start_time": "2024-03-05T07:07:08.211Z"
      },
      {
        "duration": 0,
        "start_time": "2024-03-05T07:07:08.212Z"
      },
      {
        "duration": 0,
        "start_time": "2024-03-05T07:07:08.213Z"
      },
      {
        "duration": 0,
        "start_time": "2024-03-05T07:07:08.214Z"
      },
      {
        "duration": 0,
        "start_time": "2024-03-05T07:07:08.216Z"
      },
      {
        "duration": 0,
        "start_time": "2024-03-05T07:07:08.217Z"
      },
      {
        "duration": 0,
        "start_time": "2024-03-05T07:07:08.218Z"
      },
      {
        "duration": 6,
        "start_time": "2024-03-05T07:10:12.048Z"
      },
      {
        "duration": 9,
        "start_time": "2024-03-05T07:10:13.617Z"
      },
      {
        "duration": 170,
        "start_time": "2024-03-05T07:10:19.404Z"
      },
      {
        "duration": 7,
        "start_time": "2024-03-05T07:10:44.221Z"
      },
      {
        "duration": 398,
        "start_time": "2024-03-05T07:10:51.508Z"
      },
      {
        "duration": 221,
        "start_time": "2024-03-05T07:10:51.907Z"
      },
      {
        "duration": 3,
        "start_time": "2024-03-05T07:10:52.129Z"
      },
      {
        "duration": 445,
        "start_time": "2024-03-05T07:10:52.133Z"
      },
      {
        "duration": 48,
        "start_time": "2024-03-05T07:10:52.580Z"
      },
      {
        "duration": 37,
        "start_time": "2024-03-05T07:10:52.629Z"
      },
      {
        "duration": 33,
        "start_time": "2024-03-05T07:10:52.667Z"
      },
      {
        "duration": 20,
        "start_time": "2024-03-05T07:10:52.701Z"
      },
      {
        "duration": 22,
        "start_time": "2024-03-05T07:10:52.722Z"
      },
      {
        "duration": 12,
        "start_time": "2024-03-05T07:10:52.746Z"
      },
      {
        "duration": 32,
        "start_time": "2024-03-05T07:10:52.759Z"
      },
      {
        "duration": 9,
        "start_time": "2024-03-05T07:10:52.792Z"
      },
      {
        "duration": 6,
        "start_time": "2024-03-05T07:10:52.802Z"
      },
      {
        "duration": 11,
        "start_time": "2024-03-05T07:10:52.810Z"
      },
      {
        "duration": 13,
        "start_time": "2024-03-05T07:10:52.823Z"
      },
      {
        "duration": 10,
        "start_time": "2024-03-05T07:10:52.837Z"
      },
      {
        "duration": 5,
        "start_time": "2024-03-05T07:10:52.848Z"
      },
      {
        "duration": 10,
        "start_time": "2024-03-05T07:10:52.854Z"
      },
      {
        "duration": 628,
        "start_time": "2024-03-05T07:10:52.865Z"
      },
      {
        "duration": 4,
        "start_time": "2024-03-05T07:10:53.495Z"
      },
      {
        "duration": 129,
        "start_time": "2024-03-05T07:10:53.500Z"
      },
      {
        "duration": 4,
        "start_time": "2024-03-05T07:10:53.631Z"
      },
      {
        "duration": 262,
        "start_time": "2024-03-05T07:10:53.636Z"
      },
      {
        "duration": 94,
        "start_time": "2024-03-05T07:10:53.900Z"
      },
      {
        "duration": 159,
        "start_time": "2024-03-05T07:10:53.995Z"
      },
      {
        "duration": 6,
        "start_time": "2024-03-05T07:10:54.155Z"
      },
      {
        "duration": 215,
        "start_time": "2024-03-05T07:10:54.163Z"
      },
      {
        "duration": 8,
        "start_time": "2024-03-05T07:10:54.379Z"
      },
      {
        "duration": 273,
        "start_time": "2024-03-05T07:10:54.388Z"
      },
      {
        "duration": 7,
        "start_time": "2024-03-05T07:10:54.662Z"
      },
      {
        "duration": 39,
        "start_time": "2024-03-05T07:10:54.670Z"
      },
      {
        "duration": 24,
        "start_time": "2024-03-05T07:10:54.710Z"
      },
      {
        "duration": 164,
        "start_time": "2024-03-05T07:10:54.735Z"
      },
      {
        "duration": 8,
        "start_time": "2024-03-05T07:10:54.900Z"
      },
      {
        "duration": 19,
        "start_time": "2024-03-05T07:10:54.909Z"
      },
      {
        "duration": 32,
        "start_time": "2024-03-05T07:10:54.929Z"
      },
      {
        "duration": 20,
        "start_time": "2024-03-05T07:10:54.962Z"
      },
      {
        "duration": 13,
        "start_time": "2024-03-05T07:10:54.983Z"
      },
      {
        "duration": 30,
        "start_time": "2024-03-05T07:10:54.998Z"
      },
      {
        "duration": 10,
        "start_time": "2024-03-05T07:10:55.030Z"
      },
      {
        "duration": 303,
        "start_time": "2024-03-05T07:10:55.044Z"
      },
      {
        "duration": 328,
        "start_time": "2024-03-05T07:10:55.349Z"
      },
      {
        "duration": 12,
        "start_time": "2024-03-05T07:10:55.679Z"
      },
      {
        "duration": 81,
        "start_time": "2024-03-05T07:10:55.692Z"
      },
      {
        "duration": 49,
        "start_time": "2024-03-05T07:10:55.774Z"
      },
      {
        "duration": 21,
        "start_time": "2024-03-05T07:10:55.824Z"
      },
      {
        "duration": 35,
        "start_time": "2024-03-05T07:10:55.846Z"
      },
      {
        "duration": 60,
        "start_time": "2024-03-05T07:10:55.882Z"
      },
      {
        "duration": 19,
        "start_time": "2024-03-05T07:10:55.944Z"
      },
      {
        "duration": 17,
        "start_time": "2024-03-05T07:10:55.964Z"
      },
      {
        "duration": 19,
        "start_time": "2024-03-05T07:10:55.982Z"
      },
      {
        "duration": 201,
        "start_time": "2024-03-05T07:10:56.003Z"
      },
      {
        "duration": 9,
        "start_time": "2024-03-05T07:10:56.205Z"
      },
      {
        "duration": 229,
        "start_time": "2024-03-05T07:12:07.574Z"
      },
      {
        "duration": 4,
        "start_time": "2024-03-05T07:17:35.015Z"
      },
      {
        "duration": 4,
        "start_time": "2024-03-05T07:20:33.359Z"
      },
      {
        "duration": 3,
        "start_time": "2024-03-05T07:23:20.534Z"
      },
      {
        "duration": 403,
        "start_time": "2024-03-05T07:23:35.453Z"
      },
      {
        "duration": 217,
        "start_time": "2024-03-05T07:23:35.857Z"
      },
      {
        "duration": 3,
        "start_time": "2024-03-05T07:23:36.075Z"
      },
      {
        "duration": 416,
        "start_time": "2024-03-05T07:23:36.079Z"
      },
      {
        "duration": 51,
        "start_time": "2024-03-05T07:23:36.496Z"
      },
      {
        "duration": 36,
        "start_time": "2024-03-05T07:23:36.548Z"
      },
      {
        "duration": 32,
        "start_time": "2024-03-05T07:23:36.585Z"
      },
      {
        "duration": 18,
        "start_time": "2024-03-05T07:23:36.618Z"
      },
      {
        "duration": 22,
        "start_time": "2024-03-05T07:23:36.637Z"
      },
      {
        "duration": 12,
        "start_time": "2024-03-05T07:23:36.661Z"
      },
      {
        "duration": 18,
        "start_time": "2024-03-05T07:23:36.675Z"
      },
      {
        "duration": 15,
        "start_time": "2024-03-05T07:23:36.694Z"
      },
      {
        "duration": 10,
        "start_time": "2024-03-05T07:23:36.711Z"
      },
      {
        "duration": 13,
        "start_time": "2024-03-05T07:23:36.722Z"
      },
      {
        "duration": 20,
        "start_time": "2024-03-05T07:23:36.736Z"
      },
      {
        "duration": 6,
        "start_time": "2024-03-05T07:23:36.757Z"
      },
      {
        "duration": 10,
        "start_time": "2024-03-05T07:23:36.765Z"
      },
      {
        "duration": 8,
        "start_time": "2024-03-05T07:23:36.778Z"
      },
      {
        "duration": 607,
        "start_time": "2024-03-05T07:23:36.788Z"
      },
      {
        "duration": 5,
        "start_time": "2024-03-05T07:23:37.397Z"
      },
      {
        "duration": 124,
        "start_time": "2024-03-05T07:23:37.404Z"
      },
      {
        "duration": 4,
        "start_time": "2024-03-05T07:23:37.529Z"
      },
      {
        "duration": 267,
        "start_time": "2024-03-05T07:23:37.534Z"
      },
      {
        "duration": 94,
        "start_time": "2024-03-05T07:23:37.803Z"
      },
      {
        "duration": 173,
        "start_time": "2024-03-05T07:23:37.898Z"
      },
      {
        "duration": 8,
        "start_time": "2024-03-05T07:23:38.072Z"
      },
      {
        "duration": 203,
        "start_time": "2024-03-05T07:23:38.081Z"
      },
      {
        "duration": 7,
        "start_time": "2024-03-05T07:23:38.287Z"
      },
      {
        "duration": 253,
        "start_time": "2024-03-05T07:23:38.295Z"
      },
      {
        "duration": 8,
        "start_time": "2024-03-05T07:23:38.549Z"
      },
      {
        "duration": 5,
        "start_time": "2024-03-05T07:23:38.558Z"
      },
      {
        "duration": 7,
        "start_time": "2024-03-05T07:23:38.564Z"
      },
      {
        "duration": 190,
        "start_time": "2024-03-05T07:23:38.572Z"
      },
      {
        "duration": 92,
        "start_time": "2024-03-05T07:23:38.763Z"
      },
      {
        "duration": 0,
        "start_time": "2024-03-05T07:23:38.856Z"
      },
      {
        "duration": 0,
        "start_time": "2024-03-05T07:23:38.857Z"
      },
      {
        "duration": 0,
        "start_time": "2024-03-05T07:23:38.858Z"
      },
      {
        "duration": 0,
        "start_time": "2024-03-05T07:23:38.859Z"
      },
      {
        "duration": 0,
        "start_time": "2024-03-05T07:23:38.860Z"
      },
      {
        "duration": 0,
        "start_time": "2024-03-05T07:23:38.861Z"
      },
      {
        "duration": 0,
        "start_time": "2024-03-05T07:23:38.862Z"
      },
      {
        "duration": 0,
        "start_time": "2024-03-05T07:23:38.863Z"
      },
      {
        "duration": 0,
        "start_time": "2024-03-05T07:23:38.864Z"
      },
      {
        "duration": 0,
        "start_time": "2024-03-05T07:23:38.864Z"
      },
      {
        "duration": 0,
        "start_time": "2024-03-05T07:23:38.866Z"
      },
      {
        "duration": 0,
        "start_time": "2024-03-05T07:23:38.866Z"
      },
      {
        "duration": 0,
        "start_time": "2024-03-05T07:23:38.868Z"
      },
      {
        "duration": 0,
        "start_time": "2024-03-05T07:23:38.868Z"
      },
      {
        "duration": 0,
        "start_time": "2024-03-05T07:23:38.869Z"
      },
      {
        "duration": 0,
        "start_time": "2024-03-05T07:23:38.870Z"
      },
      {
        "duration": 0,
        "start_time": "2024-03-05T07:23:38.871Z"
      },
      {
        "duration": 0,
        "start_time": "2024-03-05T07:23:38.872Z"
      },
      {
        "duration": 0,
        "start_time": "2024-03-05T07:23:38.873Z"
      },
      {
        "duration": 0,
        "start_time": "2024-03-05T07:23:38.874Z"
      },
      {
        "duration": 1,
        "start_time": "2024-03-05T07:23:38.874Z"
      },
      {
        "duration": 0,
        "start_time": "2024-03-05T07:23:38.875Z"
      },
      {
        "duration": 0,
        "start_time": "2024-03-05T07:23:38.876Z"
      },
      {
        "duration": 3,
        "start_time": "2024-03-05T07:23:53.189Z"
      },
      {
        "duration": 9,
        "start_time": "2024-03-05T07:23:54.799Z"
      },
      {
        "duration": 11,
        "start_time": "2024-03-05T07:23:57.446Z"
      },
      {
        "duration": 3,
        "start_time": "2024-03-05T07:24:22.916Z"
      },
      {
        "duration": 22,
        "start_time": "2024-03-05T07:24:27.169Z"
      },
      {
        "duration": 5,
        "start_time": "2024-03-05T07:28:17.079Z"
      },
      {
        "duration": 22,
        "start_time": "2024-03-05T07:33:33.712Z"
      },
      {
        "duration": 23,
        "start_time": "2024-03-05T07:33:48.129Z"
      },
      {
        "duration": 2,
        "start_time": "2024-03-05T07:33:57.456Z"
      },
      {
        "duration": 8,
        "start_time": "2024-03-05T07:34:04.267Z"
      },
      {
        "duration": 11,
        "start_time": "2024-03-05T07:34:07.411Z"
      },
      {
        "duration": 8,
        "start_time": "2024-03-05T07:34:10.312Z"
      },
      {
        "duration": 4,
        "start_time": "2024-03-05T07:34:13.469Z"
      },
      {
        "duration": 24,
        "start_time": "2024-03-05T07:36:49.081Z"
      },
      {
        "duration": 7,
        "start_time": "2024-03-05T07:36:53.512Z"
      },
      {
        "duration": 8,
        "start_time": "2024-03-05T07:37:01.088Z"
      },
      {
        "duration": 6,
        "start_time": "2024-03-05T07:37:03.693Z"
      },
      {
        "duration": 2,
        "start_time": "2024-03-05T07:37:20.774Z"
      },
      {
        "duration": 3,
        "start_time": "2024-03-05T07:37:33.087Z"
      },
      {
        "duration": 405,
        "start_time": "2024-03-05T07:37:44.231Z"
      },
      {
        "duration": 210,
        "start_time": "2024-03-05T07:37:44.637Z"
      },
      {
        "duration": 3,
        "start_time": "2024-03-05T07:37:44.849Z"
      },
      {
        "duration": 430,
        "start_time": "2024-03-05T07:37:44.854Z"
      },
      {
        "duration": 51,
        "start_time": "2024-03-05T07:37:45.286Z"
      },
      {
        "duration": 36,
        "start_time": "2024-03-05T07:37:45.338Z"
      },
      {
        "duration": 32,
        "start_time": "2024-03-05T07:37:45.376Z"
      },
      {
        "duration": 21,
        "start_time": "2024-03-05T07:37:45.410Z"
      },
      {
        "duration": 39,
        "start_time": "2024-03-05T07:37:45.433Z"
      },
      {
        "duration": 37,
        "start_time": "2024-03-05T07:37:45.474Z"
      },
      {
        "duration": 35,
        "start_time": "2024-03-05T07:37:45.512Z"
      },
      {
        "duration": 34,
        "start_time": "2024-03-05T07:37:45.549Z"
      },
      {
        "duration": 41,
        "start_time": "2024-03-05T07:37:45.584Z"
      },
      {
        "duration": 57,
        "start_time": "2024-03-05T07:37:45.626Z"
      },
      {
        "duration": 37,
        "start_time": "2024-03-05T07:37:45.684Z"
      },
      {
        "duration": 94,
        "start_time": "2024-03-05T07:37:45.722Z"
      },
      {
        "duration": 57,
        "start_time": "2024-03-05T07:37:45.817Z"
      },
      {
        "duration": 30,
        "start_time": "2024-03-05T07:37:45.875Z"
      },
      {
        "duration": 567,
        "start_time": "2024-03-05T07:37:45.906Z"
      },
      {
        "duration": 5,
        "start_time": "2024-03-05T07:37:46.474Z"
      },
      {
        "duration": 129,
        "start_time": "2024-03-05T07:37:46.480Z"
      },
      {
        "duration": 4,
        "start_time": "2024-03-05T07:37:46.610Z"
      },
      {
        "duration": 262,
        "start_time": "2024-03-05T07:37:46.616Z"
      },
      {
        "duration": 93,
        "start_time": "2024-03-05T07:37:46.880Z"
      },
      {
        "duration": 159,
        "start_time": "2024-03-05T07:37:46.975Z"
      },
      {
        "duration": 14,
        "start_time": "2024-03-05T07:37:47.135Z"
      },
      {
        "duration": 200,
        "start_time": "2024-03-05T07:37:47.150Z"
      },
      {
        "duration": 7,
        "start_time": "2024-03-05T07:37:47.354Z"
      },
      {
        "duration": 255,
        "start_time": "2024-03-05T07:37:47.362Z"
      },
      {
        "duration": 8,
        "start_time": "2024-03-05T07:37:47.618Z"
      },
      {
        "duration": 18,
        "start_time": "2024-03-05T07:37:47.627Z"
      },
      {
        "duration": 16,
        "start_time": "2024-03-05T07:37:47.647Z"
      },
      {
        "duration": 182,
        "start_time": "2024-03-05T07:37:47.664Z"
      },
      {
        "duration": 100,
        "start_time": "2024-03-05T07:37:47.847Z"
      },
      {
        "duration": 0,
        "start_time": "2024-03-05T07:37:47.948Z"
      },
      {
        "duration": 0,
        "start_time": "2024-03-05T07:37:47.949Z"
      },
      {
        "duration": 0,
        "start_time": "2024-03-05T07:37:47.950Z"
      },
      {
        "duration": 0,
        "start_time": "2024-03-05T07:37:47.951Z"
      },
      {
        "duration": 0,
        "start_time": "2024-03-05T07:37:47.952Z"
      },
      {
        "duration": 0,
        "start_time": "2024-03-05T07:37:47.953Z"
      },
      {
        "duration": 0,
        "start_time": "2024-03-05T07:37:47.953Z"
      },
      {
        "duration": 0,
        "start_time": "2024-03-05T07:37:47.954Z"
      },
      {
        "duration": 0,
        "start_time": "2024-03-05T07:37:47.955Z"
      },
      {
        "duration": 0,
        "start_time": "2024-03-05T07:37:47.956Z"
      },
      {
        "duration": 0,
        "start_time": "2024-03-05T07:37:47.957Z"
      },
      {
        "duration": 0,
        "start_time": "2024-03-05T07:37:47.958Z"
      },
      {
        "duration": 0,
        "start_time": "2024-03-05T07:37:47.958Z"
      },
      {
        "duration": 0,
        "start_time": "2024-03-05T07:37:47.959Z"
      },
      {
        "duration": 1,
        "start_time": "2024-03-05T07:37:47.960Z"
      },
      {
        "duration": 0,
        "start_time": "2024-03-05T07:37:47.962Z"
      },
      {
        "duration": 0,
        "start_time": "2024-03-05T07:37:47.963Z"
      },
      {
        "duration": 0,
        "start_time": "2024-03-05T07:37:47.964Z"
      },
      {
        "duration": 0,
        "start_time": "2024-03-05T07:37:47.965Z"
      },
      {
        "duration": 0,
        "start_time": "2024-03-05T07:37:47.966Z"
      },
      {
        "duration": 0,
        "start_time": "2024-03-05T07:37:47.967Z"
      },
      {
        "duration": 0,
        "start_time": "2024-03-05T07:37:47.968Z"
      },
      {
        "duration": 0,
        "start_time": "2024-03-05T07:37:47.969Z"
      },
      {
        "duration": 0,
        "start_time": "2024-03-05T07:37:47.970Z"
      },
      {
        "duration": 0,
        "start_time": "2024-03-05T07:37:47.971Z"
      },
      {
        "duration": 0,
        "start_time": "2024-03-05T07:37:47.972Z"
      },
      {
        "duration": 3,
        "start_time": "2024-03-05T07:38:07.201Z"
      },
      {
        "duration": 5,
        "start_time": "2024-03-05T07:38:09.556Z"
      },
      {
        "duration": 22,
        "start_time": "2024-03-05T07:38:12.205Z"
      },
      {
        "duration": 3,
        "start_time": "2024-03-05T07:38:15.639Z"
      },
      {
        "duration": 3,
        "start_time": "2024-03-05T07:38:21.266Z"
      },
      {
        "duration": 11,
        "start_time": "2024-03-05T07:38:23.617Z"
      },
      {
        "duration": 11,
        "start_time": "2024-03-05T07:38:39.810Z"
      },
      {
        "duration": 8,
        "start_time": "2024-03-05T07:38:42.540Z"
      },
      {
        "duration": 16,
        "start_time": "2024-03-05T07:38:44.925Z"
      },
      {
        "duration": 2,
        "start_time": "2024-03-05T07:38:48.081Z"
      },
      {
        "duration": 8,
        "start_time": "2024-03-05T07:38:51.565Z"
      },
      {
        "duration": 3,
        "start_time": "2024-03-05T07:39:01.229Z"
      },
      {
        "duration": 387,
        "start_time": "2024-03-05T07:40:11.540Z"
      },
      {
        "duration": 216,
        "start_time": "2024-03-05T07:40:11.929Z"
      },
      {
        "duration": 2,
        "start_time": "2024-03-05T07:40:12.146Z"
      },
      {
        "duration": 422,
        "start_time": "2024-03-05T07:40:12.149Z"
      },
      {
        "duration": 52,
        "start_time": "2024-03-05T07:40:12.572Z"
      },
      {
        "duration": 35,
        "start_time": "2024-03-05T07:40:12.626Z"
      },
      {
        "duration": 31,
        "start_time": "2024-03-05T07:40:12.662Z"
      },
      {
        "duration": 19,
        "start_time": "2024-03-05T07:40:12.694Z"
      },
      {
        "duration": 22,
        "start_time": "2024-03-05T07:40:12.714Z"
      },
      {
        "duration": 11,
        "start_time": "2024-03-05T07:40:12.737Z"
      },
      {
        "duration": 18,
        "start_time": "2024-03-05T07:40:12.749Z"
      },
      {
        "duration": 7,
        "start_time": "2024-03-05T07:40:12.768Z"
      },
      {
        "duration": 8,
        "start_time": "2024-03-05T07:40:12.776Z"
      },
      {
        "duration": 11,
        "start_time": "2024-03-05T07:40:12.787Z"
      },
      {
        "duration": 12,
        "start_time": "2024-03-05T07:40:12.799Z"
      },
      {
        "duration": 19,
        "start_time": "2024-03-05T07:40:12.813Z"
      },
      {
        "duration": 3,
        "start_time": "2024-03-05T07:40:12.834Z"
      },
      {
        "duration": 8,
        "start_time": "2024-03-05T07:40:12.845Z"
      },
      {
        "duration": 636,
        "start_time": "2024-03-05T07:40:12.854Z"
      },
      {
        "duration": 4,
        "start_time": "2024-03-05T07:40:13.492Z"
      },
      {
        "duration": 122,
        "start_time": "2024-03-05T07:40:13.498Z"
      },
      {
        "duration": 4,
        "start_time": "2024-03-05T07:40:13.622Z"
      },
      {
        "duration": 242,
        "start_time": "2024-03-05T07:40:13.627Z"
      },
      {
        "duration": 89,
        "start_time": "2024-03-05T07:40:13.871Z"
      },
      {
        "duration": 155,
        "start_time": "2024-03-05T07:40:13.961Z"
      },
      {
        "duration": 6,
        "start_time": "2024-03-05T07:40:14.118Z"
      },
      {
        "duration": 190,
        "start_time": "2024-03-05T07:40:14.125Z"
      },
      {
        "duration": 8,
        "start_time": "2024-03-05T07:40:14.316Z"
      },
      {
        "duration": 260,
        "start_time": "2024-03-05T07:40:14.325Z"
      },
      {
        "duration": 7,
        "start_time": "2024-03-05T07:40:14.586Z"
      },
      {
        "duration": 6,
        "start_time": "2024-03-05T07:40:14.594Z"
      },
      {
        "duration": 7,
        "start_time": "2024-03-05T07:40:14.601Z"
      },
      {
        "duration": 191,
        "start_time": "2024-03-05T07:40:14.609Z"
      },
      {
        "duration": 3,
        "start_time": "2024-03-05T07:40:14.802Z"
      },
      {
        "duration": 11,
        "start_time": "2024-03-05T07:40:14.806Z"
      },
      {
        "duration": 73,
        "start_time": "2024-03-05T07:40:14.818Z"
      },
      {
        "duration": 0,
        "start_time": "2024-03-05T07:40:14.893Z"
      },
      {
        "duration": 0,
        "start_time": "2024-03-05T07:40:14.894Z"
      },
      {
        "duration": 0,
        "start_time": "2024-03-05T07:40:14.894Z"
      },
      {
        "duration": 0,
        "start_time": "2024-03-05T07:40:14.895Z"
      },
      {
        "duration": 0,
        "start_time": "2024-03-05T07:40:14.896Z"
      },
      {
        "duration": 0,
        "start_time": "2024-03-05T07:40:14.897Z"
      },
      {
        "duration": 0,
        "start_time": "2024-03-05T07:40:14.898Z"
      },
      {
        "duration": 0,
        "start_time": "2024-03-05T07:40:14.899Z"
      },
      {
        "duration": 0,
        "start_time": "2024-03-05T07:40:14.899Z"
      },
      {
        "duration": 0,
        "start_time": "2024-03-05T07:40:14.900Z"
      },
      {
        "duration": 0,
        "start_time": "2024-03-05T07:40:14.901Z"
      },
      {
        "duration": 0,
        "start_time": "2024-03-05T07:40:14.902Z"
      },
      {
        "duration": 0,
        "start_time": "2024-03-05T07:40:14.903Z"
      },
      {
        "duration": 0,
        "start_time": "2024-03-05T07:40:14.904Z"
      },
      {
        "duration": 0,
        "start_time": "2024-03-05T07:40:14.905Z"
      },
      {
        "duration": 0,
        "start_time": "2024-03-05T07:40:14.905Z"
      },
      {
        "duration": 0,
        "start_time": "2024-03-05T07:40:14.906Z"
      },
      {
        "duration": 0,
        "start_time": "2024-03-05T07:40:14.907Z"
      },
      {
        "duration": 0,
        "start_time": "2024-03-05T07:40:14.908Z"
      },
      {
        "duration": 0,
        "start_time": "2024-03-05T07:40:14.909Z"
      },
      {
        "duration": 0,
        "start_time": "2024-03-05T07:40:14.910Z"
      },
      {
        "duration": 0,
        "start_time": "2024-03-05T07:40:14.910Z"
      },
      {
        "duration": 0,
        "start_time": "2024-03-05T07:40:14.911Z"
      },
      {
        "duration": 0,
        "start_time": "2024-03-05T07:40:14.912Z"
      },
      {
        "duration": 16,
        "start_time": "2024-03-05T07:40:27.266Z"
      },
      {
        "duration": 3,
        "start_time": "2024-03-05T07:40:54.982Z"
      },
      {
        "duration": 2,
        "start_time": "2024-03-05T07:40:58.459Z"
      },
      {
        "duration": 8,
        "start_time": "2024-03-05T07:41:00.683Z"
      },
      {
        "duration": 11,
        "start_time": "2024-03-05T07:41:02.617Z"
      },
      {
        "duration": 9,
        "start_time": "2024-03-05T07:41:07.165Z"
      },
      {
        "duration": 16,
        "start_time": "2024-03-05T07:41:10.129Z"
      },
      {
        "duration": 16,
        "start_time": "2024-03-05T07:41:12.013Z"
      },
      {
        "duration": 4,
        "start_time": "2024-03-05T07:41:23.567Z"
      },
      {
        "duration": 90,
        "start_time": "2024-03-05T07:43:02.411Z"
      },
      {
        "duration": 16,
        "start_time": "2024-03-05T07:44:46.286Z"
      },
      {
        "duration": 11,
        "start_time": "2024-03-05T07:44:48.559Z"
      },
      {
        "duration": 315,
        "start_time": "2024-03-05T07:44:52.499Z"
      },
      {
        "duration": 303,
        "start_time": "2024-03-05T07:44:55.784Z"
      },
      {
        "duration": 10,
        "start_time": "2024-03-05T07:45:03.024Z"
      },
      {
        "duration": 12,
        "start_time": "2024-03-05T07:45:34.431Z"
      },
      {
        "duration": 22,
        "start_time": "2024-03-05T07:45:41.582Z"
      },
      {
        "duration": 12,
        "start_time": "2024-03-05T07:45:46.460Z"
      },
      {
        "duration": 18,
        "start_time": "2024-03-05T07:45:51.508Z"
      },
      {
        "duration": 102,
        "start_time": "2024-03-05T07:45:55.320Z"
      },
      {
        "duration": 355,
        "start_time": "2024-03-05T07:46:09.898Z"
      },
      {
        "duration": 218,
        "start_time": "2024-03-05T07:46:10.255Z"
      },
      {
        "duration": 3,
        "start_time": "2024-03-05T07:46:10.474Z"
      },
      {
        "duration": 474,
        "start_time": "2024-03-05T07:46:10.478Z"
      },
      {
        "duration": 47,
        "start_time": "2024-03-05T07:46:10.954Z"
      },
      {
        "duration": 35,
        "start_time": "2024-03-05T07:46:11.002Z"
      },
      {
        "duration": 31,
        "start_time": "2024-03-05T07:46:11.039Z"
      },
      {
        "duration": 18,
        "start_time": "2024-03-05T07:46:11.071Z"
      },
      {
        "duration": 20,
        "start_time": "2024-03-05T07:46:11.090Z"
      },
      {
        "duration": 14,
        "start_time": "2024-03-05T07:46:11.112Z"
      },
      {
        "duration": 24,
        "start_time": "2024-03-05T07:46:11.127Z"
      },
      {
        "duration": 7,
        "start_time": "2024-03-05T07:46:11.153Z"
      },
      {
        "duration": 6,
        "start_time": "2024-03-05T07:46:11.162Z"
      },
      {
        "duration": 12,
        "start_time": "2024-03-05T07:46:11.171Z"
      },
      {
        "duration": 24,
        "start_time": "2024-03-05T07:46:11.185Z"
      },
      {
        "duration": 6,
        "start_time": "2024-03-05T07:46:11.210Z"
      },
      {
        "duration": 15,
        "start_time": "2024-03-05T07:46:11.217Z"
      },
      {
        "duration": 6,
        "start_time": "2024-03-05T07:46:11.245Z"
      },
      {
        "duration": 533,
        "start_time": "2024-03-05T07:46:11.252Z"
      },
      {
        "duration": 4,
        "start_time": "2024-03-05T07:46:11.787Z"
      },
      {
        "duration": 124,
        "start_time": "2024-03-05T07:46:11.793Z"
      },
      {
        "duration": 4,
        "start_time": "2024-03-05T07:46:11.918Z"
      },
      {
        "duration": 249,
        "start_time": "2024-03-05T07:46:11.923Z"
      },
      {
        "duration": 95,
        "start_time": "2024-03-05T07:46:12.173Z"
      },
      {
        "duration": 156,
        "start_time": "2024-03-05T07:46:12.269Z"
      },
      {
        "duration": 6,
        "start_time": "2024-03-05T07:46:12.427Z"
      },
      {
        "duration": 173,
        "start_time": "2024-03-05T07:46:12.446Z"
      },
      {
        "duration": 7,
        "start_time": "2024-03-05T07:46:12.620Z"
      },
      {
        "duration": 246,
        "start_time": "2024-03-05T07:46:12.628Z"
      },
      {
        "duration": 7,
        "start_time": "2024-03-05T07:46:12.876Z"
      },
      {
        "duration": 36,
        "start_time": "2024-03-05T07:46:12.885Z"
      },
      {
        "duration": 12,
        "start_time": "2024-03-05T07:46:12.922Z"
      },
      {
        "duration": 180,
        "start_time": "2024-03-05T07:46:12.936Z"
      },
      {
        "duration": 3,
        "start_time": "2024-03-05T07:46:13.117Z"
      },
      {
        "duration": 13,
        "start_time": "2024-03-05T07:46:13.122Z"
      },
      {
        "duration": 30,
        "start_time": "2024-03-05T07:46:13.136Z"
      },
      {
        "duration": 3,
        "start_time": "2024-03-05T07:46:13.167Z"
      },
      {
        "duration": 10,
        "start_time": "2024-03-05T07:46:13.172Z"
      },
      {
        "duration": 11,
        "start_time": "2024-03-05T07:46:13.183Z"
      },
      {
        "duration": 10,
        "start_time": "2024-03-05T07:46:13.195Z"
      },
      {
        "duration": 14,
        "start_time": "2024-03-05T07:46:13.209Z"
      },
      {
        "duration": 33,
        "start_time": "2024-03-05T07:46:13.224Z"
      },
      {
        "duration": 9,
        "start_time": "2024-03-05T07:46:13.259Z"
      },
      {
        "duration": 16,
        "start_time": "2024-03-05T07:46:13.269Z"
      },
      {
        "duration": 12,
        "start_time": "2024-03-05T07:46:13.287Z"
      },
      {
        "duration": 313,
        "start_time": "2024-03-05T07:46:13.300Z"
      },
      {
        "duration": 306,
        "start_time": "2024-03-05T07:46:13.614Z"
      },
      {
        "duration": 10,
        "start_time": "2024-03-05T07:46:13.922Z"
      },
      {
        "duration": 26,
        "start_time": "2024-03-05T07:46:13.933Z"
      },
      {
        "duration": 21,
        "start_time": "2024-03-05T07:46:13.960Z"
      },
      {
        "duration": 11,
        "start_time": "2024-03-05T07:46:13.982Z"
      },
      {
        "duration": 20,
        "start_time": "2024-03-05T07:46:13.994Z"
      },
      {
        "duration": 117,
        "start_time": "2024-03-05T07:46:14.015Z"
      },
      {
        "duration": 0,
        "start_time": "2024-03-05T07:46:14.133Z"
      },
      {
        "duration": 0,
        "start_time": "2024-03-05T07:46:14.135Z"
      },
      {
        "duration": 0,
        "start_time": "2024-03-05T07:46:14.136Z"
      },
      {
        "duration": 0,
        "start_time": "2024-03-05T07:46:14.137Z"
      },
      {
        "duration": 0,
        "start_time": "2024-03-05T07:46:14.144Z"
      },
      {
        "duration": 8,
        "start_time": "2024-03-05T07:47:45.906Z"
      },
      {
        "duration": 7,
        "start_time": "2024-03-05T07:48:21.934Z"
      },
      {
        "duration": 21,
        "start_time": "2024-03-05T07:51:21.583Z"
      },
      {
        "duration": 22,
        "start_time": "2024-03-05T07:51:46.306Z"
      },
      {
        "duration": 24,
        "start_time": "2024-03-05T07:51:53.886Z"
      },
      {
        "duration": 20,
        "start_time": "2024-03-05T07:52:03.152Z"
      },
      {
        "duration": 22,
        "start_time": "2024-03-05T07:52:18.550Z"
      },
      {
        "duration": 19,
        "start_time": "2024-03-05T07:55:14.292Z"
      },
      {
        "duration": 10,
        "start_time": "2024-03-05T07:55:30.312Z"
      },
      {
        "duration": 96,
        "start_time": "2024-03-05T07:55:59.269Z"
      },
      {
        "duration": 8,
        "start_time": "2024-03-05T07:56:01.922Z"
      },
      {
        "duration": 9,
        "start_time": "2024-03-05T07:56:04.339Z"
      },
      {
        "duration": 5,
        "start_time": "2024-03-05T07:56:06.725Z"
      },
      {
        "duration": 20,
        "start_time": "2024-03-05T07:56:10.979Z"
      },
      {
        "duration": 19,
        "start_time": "2024-03-05T07:56:28.010Z"
      },
      {
        "duration": 19,
        "start_time": "2024-03-05T07:56:37.744Z"
      },
      {
        "duration": 358,
        "start_time": "2024-03-05T07:56:43.200Z"
      },
      {
        "duration": 203,
        "start_time": "2024-03-05T07:56:43.559Z"
      },
      {
        "duration": 2,
        "start_time": "2024-03-05T07:56:43.763Z"
      },
      {
        "duration": 410,
        "start_time": "2024-03-05T07:56:43.767Z"
      },
      {
        "duration": 51,
        "start_time": "2024-03-05T07:56:44.179Z"
      },
      {
        "duration": 35,
        "start_time": "2024-03-05T07:56:44.232Z"
      },
      {
        "duration": 31,
        "start_time": "2024-03-05T07:56:44.269Z"
      },
      {
        "duration": 18,
        "start_time": "2024-03-05T07:56:44.301Z"
      },
      {
        "duration": 31,
        "start_time": "2024-03-05T07:56:44.320Z"
      },
      {
        "duration": 12,
        "start_time": "2024-03-05T07:56:44.353Z"
      },
      {
        "duration": 10,
        "start_time": "2024-03-05T07:56:44.366Z"
      },
      {
        "duration": 7,
        "start_time": "2024-03-05T07:56:44.377Z"
      },
      {
        "duration": 14,
        "start_time": "2024-03-05T07:56:44.385Z"
      },
      {
        "duration": 19,
        "start_time": "2024-03-05T07:56:44.400Z"
      },
      {
        "duration": 13,
        "start_time": "2024-03-05T07:56:44.420Z"
      },
      {
        "duration": 14,
        "start_time": "2024-03-05T07:56:44.434Z"
      },
      {
        "duration": 5,
        "start_time": "2024-03-05T07:56:44.449Z"
      },
      {
        "duration": 7,
        "start_time": "2024-03-05T07:56:44.455Z"
      },
      {
        "duration": 607,
        "start_time": "2024-03-05T07:56:44.464Z"
      },
      {
        "duration": 5,
        "start_time": "2024-03-05T07:56:45.073Z"
      },
      {
        "duration": 132,
        "start_time": "2024-03-05T07:56:45.079Z"
      },
      {
        "duration": 4,
        "start_time": "2024-03-05T07:56:45.213Z"
      },
      {
        "duration": 264,
        "start_time": "2024-03-05T07:56:45.218Z"
      },
      {
        "duration": 108,
        "start_time": "2024-03-05T07:56:45.484Z"
      },
      {
        "duration": 168,
        "start_time": "2024-03-05T07:56:45.594Z"
      },
      {
        "duration": 6,
        "start_time": "2024-03-05T07:56:45.764Z"
      },
      {
        "duration": 188,
        "start_time": "2024-03-05T07:56:45.772Z"
      },
      {
        "duration": 7,
        "start_time": "2024-03-05T07:56:45.963Z"
      },
      {
        "duration": 278,
        "start_time": "2024-03-05T07:56:45.971Z"
      },
      {
        "duration": 9,
        "start_time": "2024-03-05T07:56:46.250Z"
      },
      {
        "duration": 9,
        "start_time": "2024-03-05T07:56:46.261Z"
      },
      {
        "duration": 15,
        "start_time": "2024-03-05T07:56:46.271Z"
      },
      {
        "duration": 193,
        "start_time": "2024-03-05T07:56:46.287Z"
      },
      {
        "duration": 3,
        "start_time": "2024-03-05T07:56:46.482Z"
      },
      {
        "duration": 30,
        "start_time": "2024-03-05T07:56:46.487Z"
      },
      {
        "duration": 43,
        "start_time": "2024-03-05T07:56:46.519Z"
      },
      {
        "duration": 4,
        "start_time": "2024-03-05T07:56:46.563Z"
      },
      {
        "duration": 11,
        "start_time": "2024-03-05T07:56:46.568Z"
      },
      {
        "duration": 20,
        "start_time": "2024-03-05T07:56:46.580Z"
      },
      {
        "duration": 23,
        "start_time": "2024-03-05T07:56:46.601Z"
      },
      {
        "duration": 20,
        "start_time": "2024-03-05T07:56:46.626Z"
      },
      {
        "duration": 30,
        "start_time": "2024-03-05T07:56:46.648Z"
      },
      {
        "duration": 27,
        "start_time": "2024-03-05T07:56:46.680Z"
      },
      {
        "duration": 10,
        "start_time": "2024-03-05T07:56:46.708Z"
      },
      {
        "duration": 20,
        "start_time": "2024-03-05T07:56:46.720Z"
      },
      {
        "duration": 17,
        "start_time": "2024-03-05T07:56:46.741Z"
      },
      {
        "duration": 303,
        "start_time": "2024-03-05T07:56:46.760Z"
      },
      {
        "duration": 343,
        "start_time": "2024-03-05T07:56:47.064Z"
      },
      {
        "duration": 9,
        "start_time": "2024-03-05T07:56:47.409Z"
      },
      {
        "duration": 26,
        "start_time": "2024-03-05T07:56:47.419Z"
      },
      {
        "duration": 20,
        "start_time": "2024-03-05T07:56:47.447Z"
      },
      {
        "duration": 11,
        "start_time": "2024-03-05T07:56:47.468Z"
      },
      {
        "duration": 10,
        "start_time": "2024-03-05T07:56:47.481Z"
      },
      {
        "duration": 9,
        "start_time": "2024-03-05T07:56:47.492Z"
      },
      {
        "duration": 5,
        "start_time": "2024-03-05T07:56:47.503Z"
      },
      {
        "duration": 142,
        "start_time": "2024-03-05T07:56:47.510Z"
      },
      {
        "duration": 0,
        "start_time": "2024-03-05T07:56:47.653Z"
      },
      {
        "duration": 0,
        "start_time": "2024-03-05T07:56:47.654Z"
      },
      {
        "duration": 0,
        "start_time": "2024-03-05T07:56:47.656Z"
      },
      {
        "duration": 0,
        "start_time": "2024-03-05T07:56:47.657Z"
      },
      {
        "duration": 0,
        "start_time": "2024-03-05T07:56:47.659Z"
      },
      {
        "duration": 5,
        "start_time": "2024-03-05T08:00:47.998Z"
      },
      {
        "duration": 27,
        "start_time": "2024-03-05T08:01:47.822Z"
      },
      {
        "duration": 6,
        "start_time": "2024-03-05T08:01:59.737Z"
      },
      {
        "duration": 6,
        "start_time": "2024-03-05T08:02:10.785Z"
      },
      {
        "duration": 400,
        "start_time": "2024-03-05T08:02:28.119Z"
      },
      {
        "duration": 210,
        "start_time": "2024-03-05T08:02:28.521Z"
      },
      {
        "duration": 2,
        "start_time": "2024-03-05T08:02:28.732Z"
      },
      {
        "duration": 432,
        "start_time": "2024-03-05T08:02:28.735Z"
      },
      {
        "duration": 48,
        "start_time": "2024-03-05T08:02:29.169Z"
      },
      {
        "duration": 35,
        "start_time": "2024-03-05T08:02:29.218Z"
      },
      {
        "duration": 32,
        "start_time": "2024-03-05T08:02:29.254Z"
      },
      {
        "duration": 19,
        "start_time": "2024-03-05T08:02:29.287Z"
      },
      {
        "duration": 21,
        "start_time": "2024-03-05T08:02:29.307Z"
      },
      {
        "duration": 11,
        "start_time": "2024-03-05T08:02:29.329Z"
      },
      {
        "duration": 9,
        "start_time": "2024-03-05T08:02:29.345Z"
      },
      {
        "duration": 14,
        "start_time": "2024-03-05T08:02:29.355Z"
      },
      {
        "duration": 3,
        "start_time": "2024-03-05T08:02:29.370Z"
      },
      {
        "duration": 19,
        "start_time": "2024-03-05T08:02:29.376Z"
      },
      {
        "duration": 13,
        "start_time": "2024-03-05T08:02:29.396Z"
      },
      {
        "duration": 11,
        "start_time": "2024-03-05T08:02:29.410Z"
      },
      {
        "duration": 3,
        "start_time": "2024-03-05T08:02:29.423Z"
      },
      {
        "duration": 22,
        "start_time": "2024-03-05T08:02:29.428Z"
      },
      {
        "duration": 635,
        "start_time": "2024-03-05T08:02:29.451Z"
      },
      {
        "duration": 4,
        "start_time": "2024-03-05T08:02:30.088Z"
      },
      {
        "duration": 151,
        "start_time": "2024-03-05T08:02:30.094Z"
      },
      {
        "duration": 5,
        "start_time": "2024-03-05T08:02:30.246Z"
      },
      {
        "duration": 326,
        "start_time": "2024-03-05T08:02:30.253Z"
      },
      {
        "duration": 89,
        "start_time": "2024-03-05T08:02:30.580Z"
      },
      {
        "duration": 165,
        "start_time": "2024-03-05T08:02:30.670Z"
      },
      {
        "duration": 10,
        "start_time": "2024-03-05T08:02:30.836Z"
      },
      {
        "duration": 210,
        "start_time": "2024-03-05T08:02:30.848Z"
      },
      {
        "duration": 7,
        "start_time": "2024-03-05T08:02:31.060Z"
      },
      {
        "duration": 293,
        "start_time": "2024-03-05T08:02:31.068Z"
      },
      {
        "duration": 7,
        "start_time": "2024-03-05T08:02:31.362Z"
      },
      {
        "duration": 15,
        "start_time": "2024-03-05T08:02:31.371Z"
      },
      {
        "duration": 19,
        "start_time": "2024-03-05T08:02:31.387Z"
      },
      {
        "duration": 183,
        "start_time": "2024-03-05T08:02:31.408Z"
      },
      {
        "duration": 3,
        "start_time": "2024-03-05T08:02:31.593Z"
      },
      {
        "duration": 25,
        "start_time": "2024-03-05T08:02:31.597Z"
      },
      {
        "duration": 37,
        "start_time": "2024-03-05T08:02:31.624Z"
      },
      {
        "duration": 19,
        "start_time": "2024-03-05T08:02:31.662Z"
      },
      {
        "duration": 47,
        "start_time": "2024-03-05T08:02:31.683Z"
      },
      {
        "duration": 40,
        "start_time": "2024-03-05T08:02:31.732Z"
      },
      {
        "duration": 25,
        "start_time": "2024-03-05T08:02:31.773Z"
      },
      {
        "duration": 36,
        "start_time": "2024-03-05T08:02:31.801Z"
      },
      {
        "duration": 34,
        "start_time": "2024-03-05T08:02:31.839Z"
      },
      {
        "duration": 22,
        "start_time": "2024-03-05T08:02:31.875Z"
      },
      {
        "duration": 28,
        "start_time": "2024-03-05T08:02:31.898Z"
      },
      {
        "duration": 27,
        "start_time": "2024-03-05T08:02:31.927Z"
      },
      {
        "duration": 21,
        "start_time": "2024-03-05T08:02:31.955Z"
      },
      {
        "duration": 308,
        "start_time": "2024-03-05T08:02:31.977Z"
      },
      {
        "duration": 323,
        "start_time": "2024-03-05T08:02:32.287Z"
      },
      {
        "duration": 9,
        "start_time": "2024-03-05T08:02:32.612Z"
      },
      {
        "duration": 39,
        "start_time": "2024-03-05T08:02:32.623Z"
      },
      {
        "duration": 30,
        "start_time": "2024-03-05T08:02:32.663Z"
      },
      {
        "duration": 22,
        "start_time": "2024-03-05T08:02:32.694Z"
      },
      {
        "duration": 27,
        "start_time": "2024-03-05T08:02:32.718Z"
      },
      {
        "duration": 10,
        "start_time": "2024-03-05T08:02:32.747Z"
      },
      {
        "duration": 15,
        "start_time": "2024-03-05T08:02:32.759Z"
      },
      {
        "duration": 35,
        "start_time": "2024-03-05T08:02:32.775Z"
      },
      {
        "duration": 17,
        "start_time": "2024-03-05T08:02:32.811Z"
      },
      {
        "duration": 120,
        "start_time": "2024-03-05T08:02:32.830Z"
      },
      {
        "duration": 0,
        "start_time": "2024-03-05T08:02:32.951Z"
      },
      {
        "duration": 0,
        "start_time": "2024-03-05T08:02:32.952Z"
      },
      {
        "duration": 0,
        "start_time": "2024-03-05T08:02:32.953Z"
      },
      {
        "duration": 0,
        "start_time": "2024-03-05T08:02:32.954Z"
      },
      {
        "duration": 0,
        "start_time": "2024-03-05T08:02:32.954Z"
      },
      {
        "duration": 0,
        "start_time": "2024-03-05T08:02:32.955Z"
      },
      {
        "duration": 381,
        "start_time": "2024-03-05T08:05:00.273Z"
      },
      {
        "duration": 213,
        "start_time": "2024-03-05T08:05:00.656Z"
      },
      {
        "duration": 3,
        "start_time": "2024-03-05T08:05:00.870Z"
      },
      {
        "duration": 471,
        "start_time": "2024-03-05T08:05:00.874Z"
      },
      {
        "duration": 52,
        "start_time": "2024-03-05T08:05:01.346Z"
      },
      {
        "duration": 37,
        "start_time": "2024-03-05T08:05:01.399Z"
      },
      {
        "duration": 50,
        "start_time": "2024-03-05T08:05:01.437Z"
      },
      {
        "duration": 21,
        "start_time": "2024-03-05T08:05:01.488Z"
      },
      {
        "duration": 38,
        "start_time": "2024-03-05T08:05:01.510Z"
      },
      {
        "duration": 49,
        "start_time": "2024-03-05T08:05:01.550Z"
      },
      {
        "duration": 133,
        "start_time": "2024-03-05T08:05:01.601Z"
      },
      {
        "duration": 113,
        "start_time": "2024-03-05T08:05:01.735Z"
      },
      {
        "duration": 71,
        "start_time": "2024-03-05T08:05:01.849Z"
      },
      {
        "duration": 87,
        "start_time": "2024-03-05T08:05:01.921Z"
      },
      {
        "duration": 64,
        "start_time": "2024-03-05T08:05:02.009Z"
      },
      {
        "duration": 58,
        "start_time": "2024-03-05T08:05:02.074Z"
      },
      {
        "duration": 69,
        "start_time": "2024-03-05T08:05:02.133Z"
      },
      {
        "duration": 57,
        "start_time": "2024-03-05T08:05:02.203Z"
      },
      {
        "duration": 619,
        "start_time": "2024-03-05T08:05:02.262Z"
      },
      {
        "duration": 4,
        "start_time": "2024-03-05T08:05:02.883Z"
      },
      {
        "duration": 170,
        "start_time": "2024-03-05T08:05:02.888Z"
      },
      {
        "duration": 42,
        "start_time": "2024-03-05T08:05:03.059Z"
      },
      {
        "duration": 280,
        "start_time": "2024-03-05T08:05:03.102Z"
      },
      {
        "duration": 90,
        "start_time": "2024-03-05T08:05:03.384Z"
      },
      {
        "duration": 170,
        "start_time": "2024-03-05T08:05:03.475Z"
      },
      {
        "duration": 7,
        "start_time": "2024-03-05T08:05:03.647Z"
      },
      {
        "duration": 192,
        "start_time": "2024-03-05T08:05:03.656Z"
      },
      {
        "duration": 8,
        "start_time": "2024-03-05T08:05:03.852Z"
      },
      {
        "duration": 252,
        "start_time": "2024-03-05T08:05:03.862Z"
      },
      {
        "duration": 9,
        "start_time": "2024-03-05T08:05:04.116Z"
      },
      {
        "duration": 25,
        "start_time": "2024-03-05T08:05:04.127Z"
      },
      {
        "duration": 18,
        "start_time": "2024-03-05T08:05:04.153Z"
      },
      {
        "duration": 191,
        "start_time": "2024-03-05T08:05:04.173Z"
      },
      {
        "duration": 4,
        "start_time": "2024-03-05T08:05:04.366Z"
      },
      {
        "duration": 18,
        "start_time": "2024-03-05T08:05:04.372Z"
      },
      {
        "duration": 26,
        "start_time": "2024-03-05T08:05:04.391Z"
      },
      {
        "duration": 3,
        "start_time": "2024-03-05T08:05:04.418Z"
      },
      {
        "duration": 8,
        "start_time": "2024-03-05T08:05:04.423Z"
      },
      {
        "duration": 22,
        "start_time": "2024-03-05T08:05:04.432Z"
      },
      {
        "duration": 18,
        "start_time": "2024-03-05T08:05:04.455Z"
      },
      {
        "duration": 27,
        "start_time": "2024-03-05T08:05:04.474Z"
      },
      {
        "duration": 18,
        "start_time": "2024-03-05T08:05:04.502Z"
      },
      {
        "duration": 4,
        "start_time": "2024-03-05T08:05:04.521Z"
      },
      {
        "duration": 8,
        "start_time": "2024-03-05T08:05:04.526Z"
      },
      {
        "duration": 16,
        "start_time": "2024-03-05T08:05:04.545Z"
      },
      {
        "duration": 11,
        "start_time": "2024-03-05T08:05:04.562Z"
      },
      {
        "duration": 319,
        "start_time": "2024-03-05T08:05:04.574Z"
      },
      {
        "duration": 301,
        "start_time": "2024-03-05T08:05:04.894Z"
      },
      {
        "duration": 10,
        "start_time": "2024-03-05T08:05:05.196Z"
      },
      {
        "duration": 12,
        "start_time": "2024-03-05T08:05:05.207Z"
      },
      {
        "duration": 33,
        "start_time": "2024-03-05T08:05:05.220Z"
      },
      {
        "duration": 11,
        "start_time": "2024-03-05T08:05:05.254Z"
      },
      {
        "duration": 7,
        "start_time": "2024-03-05T08:05:05.266Z"
      },
      {
        "duration": 21,
        "start_time": "2024-03-05T08:05:05.275Z"
      },
      {
        "duration": 5,
        "start_time": "2024-03-05T08:05:05.297Z"
      },
      {
        "duration": 47,
        "start_time": "2024-03-05T08:05:05.303Z"
      },
      {
        "duration": 7,
        "start_time": "2024-03-05T08:05:05.351Z"
      },
      {
        "duration": 97,
        "start_time": "2024-03-05T08:05:05.359Z"
      },
      {
        "duration": 0,
        "start_time": "2024-03-05T08:05:05.457Z"
      },
      {
        "duration": 0,
        "start_time": "2024-03-05T08:05:05.458Z"
      },
      {
        "duration": 0,
        "start_time": "2024-03-05T08:05:05.460Z"
      },
      {
        "duration": 0,
        "start_time": "2024-03-05T08:05:05.461Z"
      },
      {
        "duration": 0,
        "start_time": "2024-03-05T08:05:05.462Z"
      },
      {
        "duration": 0,
        "start_time": "2024-03-05T08:05:05.463Z"
      },
      {
        "duration": 0,
        "start_time": "2024-03-05T08:05:05.464Z"
      },
      {
        "duration": 7,
        "start_time": "2024-03-05T08:06:54.027Z"
      },
      {
        "duration": 4,
        "start_time": "2024-03-05T08:17:49.246Z"
      },
      {
        "duration": 15,
        "start_time": "2024-03-05T08:17:53.272Z"
      },
      {
        "duration": 27,
        "start_time": "2024-03-05T08:18:22.111Z"
      },
      {
        "duration": 9,
        "start_time": "2024-03-05T08:18:29.186Z"
      },
      {
        "duration": 7,
        "start_time": "2024-03-05T08:19:06.376Z"
      },
      {
        "duration": 5,
        "start_time": "2024-03-05T08:19:13.889Z"
      },
      {
        "duration": 14,
        "start_time": "2024-03-05T08:20:08.581Z"
      },
      {
        "duration": 16,
        "start_time": "2024-03-05T08:20:33.718Z"
      },
      {
        "duration": 4,
        "start_time": "2024-03-05T08:21:20.539Z"
      },
      {
        "duration": 5,
        "start_time": "2024-03-05T08:21:36.916Z"
      },
      {
        "duration": 4,
        "start_time": "2024-03-05T08:22:18.999Z"
      },
      {
        "duration": 351,
        "start_time": "2024-03-05T08:22:40.001Z"
      },
      {
        "duration": 210,
        "start_time": "2024-03-05T08:22:40.353Z"
      },
      {
        "duration": 3,
        "start_time": "2024-03-05T08:22:40.564Z"
      },
      {
        "duration": 403,
        "start_time": "2024-03-05T08:22:40.568Z"
      },
      {
        "duration": 49,
        "start_time": "2024-03-05T08:22:40.973Z"
      },
      {
        "duration": 36,
        "start_time": "2024-03-05T08:22:41.023Z"
      },
      {
        "duration": 32,
        "start_time": "2024-03-05T08:22:41.060Z"
      },
      {
        "duration": 18,
        "start_time": "2024-03-05T08:22:41.093Z"
      },
      {
        "duration": 22,
        "start_time": "2024-03-05T08:22:41.112Z"
      },
      {
        "duration": 24,
        "start_time": "2024-03-05T08:22:41.136Z"
      },
      {
        "duration": 9,
        "start_time": "2024-03-05T08:22:41.161Z"
      },
      {
        "duration": 10,
        "start_time": "2024-03-05T08:22:41.172Z"
      },
      {
        "duration": 4,
        "start_time": "2024-03-05T08:22:41.183Z"
      },
      {
        "duration": 23,
        "start_time": "2024-03-05T08:22:41.188Z"
      },
      {
        "duration": 13,
        "start_time": "2024-03-05T08:22:41.213Z"
      },
      {
        "duration": 5,
        "start_time": "2024-03-05T08:22:41.228Z"
      },
      {
        "duration": 12,
        "start_time": "2024-03-05T08:22:41.234Z"
      },
      {
        "duration": 7,
        "start_time": "2024-03-05T08:22:41.247Z"
      },
      {
        "duration": 630,
        "start_time": "2024-03-05T08:22:41.255Z"
      },
      {
        "duration": 4,
        "start_time": "2024-03-05T08:22:41.886Z"
      },
      {
        "duration": 118,
        "start_time": "2024-03-05T08:22:41.892Z"
      },
      {
        "duration": 4,
        "start_time": "2024-03-05T08:22:42.011Z"
      },
      {
        "duration": 268,
        "start_time": "2024-03-05T08:22:42.016Z"
      },
      {
        "duration": 87,
        "start_time": "2024-03-05T08:22:42.286Z"
      },
      {
        "duration": 164,
        "start_time": "2024-03-05T08:22:42.374Z"
      },
      {
        "duration": 11,
        "start_time": "2024-03-05T08:22:42.539Z"
      },
      {
        "duration": 192,
        "start_time": "2024-03-05T08:22:42.551Z"
      },
      {
        "duration": 8,
        "start_time": "2024-03-05T08:22:42.748Z"
      },
      {
        "duration": 256,
        "start_time": "2024-03-05T08:22:42.757Z"
      },
      {
        "duration": 7,
        "start_time": "2024-03-05T08:22:43.015Z"
      },
      {
        "duration": 5,
        "start_time": "2024-03-05T08:22:43.023Z"
      },
      {
        "duration": 20,
        "start_time": "2024-03-05T08:22:43.029Z"
      },
      {
        "duration": 179,
        "start_time": "2024-03-05T08:22:43.050Z"
      },
      {
        "duration": 3,
        "start_time": "2024-03-05T08:22:43.230Z"
      },
      {
        "duration": 4,
        "start_time": "2024-03-05T08:22:43.245Z"
      },
      {
        "duration": 24,
        "start_time": "2024-03-05T08:22:43.251Z"
      },
      {
        "duration": 3,
        "start_time": "2024-03-05T08:22:43.276Z"
      },
      {
        "duration": 12,
        "start_time": "2024-03-05T08:22:43.280Z"
      },
      {
        "duration": 11,
        "start_time": "2024-03-05T08:22:43.293Z"
      },
      {
        "duration": 8,
        "start_time": "2024-03-05T08:22:43.305Z"
      },
      {
        "duration": 34,
        "start_time": "2024-03-05T08:22:43.315Z"
      },
      {
        "duration": 15,
        "start_time": "2024-03-05T08:22:43.350Z"
      },
      {
        "duration": 4,
        "start_time": "2024-03-05T08:22:43.367Z"
      },
      {
        "duration": 8,
        "start_time": "2024-03-05T08:22:43.372Z"
      },
      {
        "duration": 14,
        "start_time": "2024-03-05T08:22:43.381Z"
      },
      {
        "duration": 10,
        "start_time": "2024-03-05T08:22:43.396Z"
      },
      {
        "duration": 338,
        "start_time": "2024-03-05T08:22:43.407Z"
      },
      {
        "duration": 326,
        "start_time": "2024-03-05T08:22:43.746Z"
      },
      {
        "duration": 10,
        "start_time": "2024-03-05T08:22:44.074Z"
      },
      {
        "duration": 16,
        "start_time": "2024-03-05T08:22:44.085Z"
      },
      {
        "duration": 17,
        "start_time": "2024-03-05T08:22:44.102Z"
      },
      {
        "duration": 26,
        "start_time": "2024-03-05T08:22:44.121Z"
      },
      {
        "duration": 7,
        "start_time": "2024-03-05T08:22:44.149Z"
      },
      {
        "duration": 15,
        "start_time": "2024-03-05T08:22:44.157Z"
      },
      {
        "duration": 7,
        "start_time": "2024-03-05T08:22:44.173Z"
      },
      {
        "duration": 3,
        "start_time": "2024-03-05T08:22:44.181Z"
      },
      {
        "duration": 13,
        "start_time": "2024-03-05T08:22:44.186Z"
      },
      {
        "duration": 6,
        "start_time": "2024-03-05T08:22:44.200Z"
      },
      {
        "duration": 105,
        "start_time": "2024-03-05T08:22:44.207Z"
      },
      {
        "duration": 0,
        "start_time": "2024-03-05T08:22:44.313Z"
      },
      {
        "duration": 1,
        "start_time": "2024-03-05T08:22:44.314Z"
      },
      {
        "duration": 1,
        "start_time": "2024-03-05T08:22:44.315Z"
      },
      {
        "duration": 0,
        "start_time": "2024-03-05T08:22:44.316Z"
      },
      {
        "duration": 0,
        "start_time": "2024-03-05T08:22:44.318Z"
      },
      {
        "duration": 1,
        "start_time": "2024-03-05T08:22:44.318Z"
      },
      {
        "duration": 0,
        "start_time": "2024-03-05T08:22:44.320Z"
      },
      {
        "duration": 0,
        "start_time": "2024-03-05T08:22:44.321Z"
      },
      {
        "duration": 0,
        "start_time": "2024-03-05T08:22:44.322Z"
      },
      {
        "duration": 0,
        "start_time": "2024-03-05T08:22:44.323Z"
      },
      {
        "duration": 0,
        "start_time": "2024-03-05T08:22:44.324Z"
      },
      {
        "duration": 6,
        "start_time": "2024-03-05T08:23:22.614Z"
      },
      {
        "duration": 4,
        "start_time": "2024-03-05T08:23:57.261Z"
      },
      {
        "duration": 6,
        "start_time": "2024-03-05T08:24:06.328Z"
      },
      {
        "duration": 5,
        "start_time": "2024-03-05T08:24:15.599Z"
      },
      {
        "duration": 18,
        "start_time": "2024-03-05T08:31:02.075Z"
      },
      {
        "duration": 370,
        "start_time": "2024-03-05T08:31:22.609Z"
      },
      {
        "duration": 207,
        "start_time": "2024-03-05T08:31:22.980Z"
      },
      {
        "duration": 2,
        "start_time": "2024-03-05T08:31:23.188Z"
      },
      {
        "duration": 422,
        "start_time": "2024-03-05T08:31:23.191Z"
      },
      {
        "duration": 52,
        "start_time": "2024-03-05T08:31:23.615Z"
      },
      {
        "duration": 35,
        "start_time": "2024-03-05T08:31:23.668Z"
      },
      {
        "duration": 31,
        "start_time": "2024-03-05T08:31:23.705Z"
      },
      {
        "duration": 18,
        "start_time": "2024-03-05T08:31:23.737Z"
      },
      {
        "duration": 22,
        "start_time": "2024-03-05T08:31:23.756Z"
      },
      {
        "duration": 12,
        "start_time": "2024-03-05T08:31:23.779Z"
      },
      {
        "duration": 10,
        "start_time": "2024-03-05T08:31:23.792Z"
      },
      {
        "duration": 8,
        "start_time": "2024-03-05T08:31:23.803Z"
      },
      {
        "duration": 4,
        "start_time": "2024-03-05T08:31:23.812Z"
      },
      {
        "duration": 37,
        "start_time": "2024-03-05T08:31:23.818Z"
      },
      {
        "duration": 14,
        "start_time": "2024-03-05T08:31:23.857Z"
      },
      {
        "duration": 6,
        "start_time": "2024-03-05T08:31:23.872Z"
      },
      {
        "duration": 4,
        "start_time": "2024-03-05T08:31:23.879Z"
      },
      {
        "duration": 6,
        "start_time": "2024-03-05T08:31:23.884Z"
      },
      {
        "duration": 594,
        "start_time": "2024-03-05T08:31:23.892Z"
      },
      {
        "duration": 4,
        "start_time": "2024-03-05T08:31:24.487Z"
      },
      {
        "duration": 121,
        "start_time": "2024-03-05T08:31:24.492Z"
      },
      {
        "duration": 4,
        "start_time": "2024-03-05T08:31:24.615Z"
      },
      {
        "duration": 264,
        "start_time": "2024-03-05T08:31:24.620Z"
      },
      {
        "duration": 92,
        "start_time": "2024-03-05T08:31:24.886Z"
      },
      {
        "duration": 159,
        "start_time": "2024-03-05T08:31:24.979Z"
      },
      {
        "duration": 11,
        "start_time": "2024-03-05T08:31:25.139Z"
      },
      {
        "duration": 186,
        "start_time": "2024-03-05T08:31:25.151Z"
      },
      {
        "duration": 11,
        "start_time": "2024-03-05T08:31:25.338Z"
      },
      {
        "duration": 246,
        "start_time": "2024-03-05T08:31:25.351Z"
      },
      {
        "duration": 7,
        "start_time": "2024-03-05T08:31:25.598Z"
      },
      {
        "duration": 17,
        "start_time": "2024-03-05T08:31:25.606Z"
      },
      {
        "duration": 7,
        "start_time": "2024-03-05T08:31:25.625Z"
      },
      {
        "duration": 189,
        "start_time": "2024-03-05T08:31:25.633Z"
      },
      {
        "duration": 3,
        "start_time": "2024-03-05T08:31:25.823Z"
      },
      {
        "duration": 18,
        "start_time": "2024-03-05T08:31:25.827Z"
      },
      {
        "duration": 30,
        "start_time": "2024-03-05T08:31:25.846Z"
      },
      {
        "duration": 4,
        "start_time": "2024-03-05T08:31:25.877Z"
      },
      {
        "duration": 14,
        "start_time": "2024-03-05T08:31:25.882Z"
      },
      {
        "duration": 30,
        "start_time": "2024-03-05T08:31:25.897Z"
      },
      {
        "duration": 21,
        "start_time": "2024-03-05T08:31:25.928Z"
      },
      {
        "duration": 44,
        "start_time": "2024-03-05T08:31:25.953Z"
      },
      {
        "duration": 29,
        "start_time": "2024-03-05T08:31:25.998Z"
      },
      {
        "duration": 6,
        "start_time": "2024-03-05T08:31:26.029Z"
      },
      {
        "duration": 8,
        "start_time": "2024-03-05T08:31:26.037Z"
      },
      {
        "duration": 24,
        "start_time": "2024-03-05T08:31:26.046Z"
      },
      {
        "duration": 10,
        "start_time": "2024-03-05T08:31:26.071Z"
      },
      {
        "duration": 317,
        "start_time": "2024-03-05T08:31:26.082Z"
      },
      {
        "duration": 314,
        "start_time": "2024-03-05T08:31:26.400Z"
      },
      {
        "duration": 10,
        "start_time": "2024-03-05T08:31:26.715Z"
      },
      {
        "duration": 21,
        "start_time": "2024-03-05T08:31:26.727Z"
      },
      {
        "duration": 2,
        "start_time": "2024-03-05T08:31:26.749Z"
      },
      {
        "duration": 100,
        "start_time": "2024-03-05T08:31:26.752Z"
      },
      {
        "duration": 0,
        "start_time": "2024-03-05T08:31:26.853Z"
      },
      {
        "duration": 0,
        "start_time": "2024-03-05T08:31:26.854Z"
      },
      {
        "duration": 0,
        "start_time": "2024-03-05T08:31:26.855Z"
      },
      {
        "duration": 0,
        "start_time": "2024-03-05T08:31:26.856Z"
      },
      {
        "duration": 0,
        "start_time": "2024-03-05T08:31:26.857Z"
      },
      {
        "duration": 0,
        "start_time": "2024-03-05T08:31:26.858Z"
      },
      {
        "duration": 0,
        "start_time": "2024-03-05T08:31:26.859Z"
      },
      {
        "duration": 0,
        "start_time": "2024-03-05T08:31:26.860Z"
      },
      {
        "duration": 0,
        "start_time": "2024-03-05T08:31:26.861Z"
      },
      {
        "duration": 0,
        "start_time": "2024-03-05T08:31:26.862Z"
      },
      {
        "duration": 0,
        "start_time": "2024-03-05T08:31:26.862Z"
      },
      {
        "duration": 0,
        "start_time": "2024-03-05T08:31:26.863Z"
      },
      {
        "duration": 0,
        "start_time": "2024-03-05T08:31:26.864Z"
      },
      {
        "duration": 0,
        "start_time": "2024-03-05T08:31:26.865Z"
      },
      {
        "duration": 0,
        "start_time": "2024-03-05T08:31:26.866Z"
      },
      {
        "duration": 0,
        "start_time": "2024-03-05T08:31:26.867Z"
      },
      {
        "duration": 0,
        "start_time": "2024-03-05T08:31:26.868Z"
      },
      {
        "duration": 0,
        "start_time": "2024-03-05T08:31:26.869Z"
      },
      {
        "duration": 15,
        "start_time": "2024-03-05T08:33:11.626Z"
      },
      {
        "duration": 9,
        "start_time": "2024-03-05T08:33:31.864Z"
      },
      {
        "duration": 1194,
        "start_time": "2024-03-05T08:33:47.321Z"
      },
      {
        "duration": 20,
        "start_time": "2024-03-05T08:34:45.540Z"
      },
      {
        "duration": 12,
        "start_time": "2024-03-05T08:34:47.866Z"
      },
      {
        "duration": 8,
        "start_time": "2024-03-05T08:34:53.060Z"
      },
      {
        "duration": 8,
        "start_time": "2024-03-05T08:34:56.445Z"
      },
      {
        "duration": 5,
        "start_time": "2024-03-05T08:34:58.815Z"
      },
      {
        "duration": 5,
        "start_time": "2024-03-05T08:35:00.926Z"
      },
      {
        "duration": 6,
        "start_time": "2024-03-05T08:35:15.482Z"
      },
      {
        "duration": 4,
        "start_time": "2024-03-05T08:35:16.690Z"
      },
      {
        "duration": 5,
        "start_time": "2024-03-05T08:35:17.418Z"
      },
      {
        "duration": 5,
        "start_time": "2024-03-05T08:35:23.804Z"
      },
      {
        "duration": 27,
        "start_time": "2024-03-05T08:35:27.573Z"
      },
      {
        "duration": 6,
        "start_time": "2024-03-05T08:35:30.343Z"
      },
      {
        "duration": 99,
        "start_time": "2024-03-05T08:37:04.602Z"
      },
      {
        "duration": 4,
        "start_time": "2024-03-05T08:37:15.199Z"
      },
      {
        "duration": 6,
        "start_time": "2024-03-05T08:37:20.076Z"
      },
      {
        "duration": 5,
        "start_time": "2024-03-05T08:37:22.569Z"
      },
      {
        "duration": 23,
        "start_time": "2024-03-05T08:37:25.544Z"
      },
      {
        "duration": 7,
        "start_time": "2024-03-05T08:37:27.795Z"
      },
      {
        "duration": 381,
        "start_time": "2024-03-05T08:37:40.373Z"
      },
      {
        "duration": 211,
        "start_time": "2024-03-05T08:37:40.756Z"
      },
      {
        "duration": 2,
        "start_time": "2024-03-05T08:37:40.969Z"
      },
      {
        "duration": 401,
        "start_time": "2024-03-05T08:37:40.973Z"
      },
      {
        "duration": 50,
        "start_time": "2024-03-05T08:37:41.375Z"
      },
      {
        "duration": 36,
        "start_time": "2024-03-05T08:37:41.426Z"
      },
      {
        "duration": 33,
        "start_time": "2024-03-05T08:37:41.464Z"
      },
      {
        "duration": 19,
        "start_time": "2024-03-05T08:37:41.499Z"
      },
      {
        "duration": 21,
        "start_time": "2024-03-05T08:37:41.519Z"
      },
      {
        "duration": 11,
        "start_time": "2024-03-05T08:37:41.542Z"
      },
      {
        "duration": 11,
        "start_time": "2024-03-05T08:37:41.555Z"
      },
      {
        "duration": 7,
        "start_time": "2024-03-05T08:37:41.567Z"
      },
      {
        "duration": 11,
        "start_time": "2024-03-05T08:37:41.576Z"
      },
      {
        "duration": 26,
        "start_time": "2024-03-05T08:37:41.588Z"
      },
      {
        "duration": 19,
        "start_time": "2024-03-05T08:37:41.615Z"
      },
      {
        "duration": 6,
        "start_time": "2024-03-05T08:37:41.635Z"
      },
      {
        "duration": 14,
        "start_time": "2024-03-05T08:37:41.645Z"
      },
      {
        "duration": 8,
        "start_time": "2024-03-05T08:37:41.660Z"
      },
      {
        "duration": 612,
        "start_time": "2024-03-05T08:37:41.669Z"
      },
      {
        "duration": 4,
        "start_time": "2024-03-05T08:37:42.283Z"
      },
      {
        "duration": 127,
        "start_time": "2024-03-05T08:37:42.288Z"
      },
      {
        "duration": 4,
        "start_time": "2024-03-05T08:37:42.416Z"
      },
      {
        "duration": 249,
        "start_time": "2024-03-05T08:37:42.421Z"
      },
      {
        "duration": 94,
        "start_time": "2024-03-05T08:37:42.671Z"
      },
      {
        "duration": 160,
        "start_time": "2024-03-05T08:37:42.767Z"
      },
      {
        "duration": 7,
        "start_time": "2024-03-05T08:37:42.928Z"
      },
      {
        "duration": 183,
        "start_time": "2024-03-05T08:37:42.936Z"
      },
      {
        "duration": 8,
        "start_time": "2024-03-05T08:37:43.122Z"
      },
      {
        "duration": 268,
        "start_time": "2024-03-05T08:37:43.131Z"
      },
      {
        "duration": 8,
        "start_time": "2024-03-05T08:37:43.401Z"
      },
      {
        "duration": 6,
        "start_time": "2024-03-05T08:37:43.411Z"
      },
      {
        "duration": 28,
        "start_time": "2024-03-05T08:37:43.418Z"
      },
      {
        "duration": 180,
        "start_time": "2024-03-05T08:37:43.447Z"
      },
      {
        "duration": 3,
        "start_time": "2024-03-05T08:37:43.629Z"
      },
      {
        "duration": 5,
        "start_time": "2024-03-05T08:37:43.645Z"
      },
      {
        "duration": 24,
        "start_time": "2024-03-05T08:37:43.651Z"
      },
      {
        "duration": 3,
        "start_time": "2024-03-05T08:37:43.677Z"
      },
      {
        "duration": 8,
        "start_time": "2024-03-05T08:37:43.682Z"
      },
      {
        "duration": 21,
        "start_time": "2024-03-05T08:37:43.692Z"
      },
      {
        "duration": 9,
        "start_time": "2024-03-05T08:37:43.715Z"
      },
      {
        "duration": 28,
        "start_time": "2024-03-05T08:37:43.725Z"
      },
      {
        "duration": 16,
        "start_time": "2024-03-05T08:37:43.755Z"
      },
      {
        "duration": 3,
        "start_time": "2024-03-05T08:37:43.772Z"
      },
      {
        "duration": 12,
        "start_time": "2024-03-05T08:37:43.777Z"
      },
      {
        "duration": 14,
        "start_time": "2024-03-05T08:37:43.791Z"
      },
      {
        "duration": 9,
        "start_time": "2024-03-05T08:37:43.807Z"
      },
      {
        "duration": 322,
        "start_time": "2024-03-05T08:37:43.817Z"
      },
      {
        "duration": 312,
        "start_time": "2024-03-05T08:37:44.144Z"
      },
      {
        "duration": 12,
        "start_time": "2024-03-05T08:37:44.458Z"
      },
      {
        "duration": 17,
        "start_time": "2024-03-05T08:37:44.472Z"
      },
      {
        "duration": 10,
        "start_time": "2024-03-05T08:37:44.490Z"
      },
      {
        "duration": 22,
        "start_time": "2024-03-05T08:37:44.501Z"
      },
      {
        "duration": 23,
        "start_time": "2024-03-05T08:37:44.524Z"
      },
      {
        "duration": 8,
        "start_time": "2024-03-05T08:37:44.548Z"
      },
      {
        "duration": 99,
        "start_time": "2024-03-05T08:37:44.557Z"
      },
      {
        "duration": 0,
        "start_time": "2024-03-05T08:37:44.657Z"
      },
      {
        "duration": 0,
        "start_time": "2024-03-05T08:37:44.658Z"
      },
      {
        "duration": 0,
        "start_time": "2024-03-05T08:37:44.659Z"
      },
      {
        "duration": 0,
        "start_time": "2024-03-05T08:37:44.660Z"
      },
      {
        "duration": 0,
        "start_time": "2024-03-05T08:37:44.661Z"
      },
      {
        "duration": 0,
        "start_time": "2024-03-05T08:37:44.662Z"
      },
      {
        "duration": 0,
        "start_time": "2024-03-05T08:37:44.663Z"
      },
      {
        "duration": 0,
        "start_time": "2024-03-05T08:37:44.664Z"
      },
      {
        "duration": 0,
        "start_time": "2024-03-05T08:37:44.665Z"
      },
      {
        "duration": 0,
        "start_time": "2024-03-05T08:37:44.666Z"
      },
      {
        "duration": 0,
        "start_time": "2024-03-05T08:37:44.667Z"
      },
      {
        "duration": 0,
        "start_time": "2024-03-05T08:37:44.668Z"
      },
      {
        "duration": 0,
        "start_time": "2024-03-05T08:37:44.669Z"
      },
      {
        "duration": 0,
        "start_time": "2024-03-05T08:37:44.670Z"
      },
      {
        "duration": 0,
        "start_time": "2024-03-05T08:37:44.671Z"
      },
      {
        "duration": 0,
        "start_time": "2024-03-05T08:37:44.672Z"
      },
      {
        "duration": 0,
        "start_time": "2024-03-05T08:37:44.673Z"
      },
      {
        "duration": 4,
        "start_time": "2024-03-05T08:38:08.872Z"
      },
      {
        "duration": 7,
        "start_time": "2024-03-05T08:38:16.546Z"
      },
      {
        "duration": 4,
        "start_time": "2024-03-05T08:38:18.292Z"
      },
      {
        "duration": 23,
        "start_time": "2024-03-05T08:38:19.814Z"
      },
      {
        "duration": 7,
        "start_time": "2024-03-05T08:38:21.742Z"
      },
      {
        "duration": 6,
        "start_time": "2024-03-05T08:39:26.247Z"
      },
      {
        "duration": 5,
        "start_time": "2024-03-05T08:39:27.954Z"
      },
      {
        "duration": 21,
        "start_time": "2024-03-05T08:40:26.057Z"
      },
      {
        "duration": 6,
        "start_time": "2024-03-05T08:40:31.217Z"
      },
      {
        "duration": 5,
        "start_time": "2024-03-05T08:40:32.787Z"
      },
      {
        "duration": 23,
        "start_time": "2024-03-05T08:40:34.359Z"
      },
      {
        "duration": 7,
        "start_time": "2024-03-05T08:40:36.820Z"
      },
      {
        "duration": 357,
        "start_time": "2024-03-05T08:40:42.584Z"
      },
      {
        "duration": 212,
        "start_time": "2024-03-05T08:40:42.944Z"
      },
      {
        "duration": 2,
        "start_time": "2024-03-05T08:40:43.158Z"
      },
      {
        "duration": 418,
        "start_time": "2024-03-05T08:40:43.162Z"
      },
      {
        "duration": 56,
        "start_time": "2024-03-05T08:40:43.581Z"
      },
      {
        "duration": 37,
        "start_time": "2024-03-05T08:40:43.644Z"
      },
      {
        "duration": 30,
        "start_time": "2024-03-05T08:40:43.683Z"
      },
      {
        "duration": 18,
        "start_time": "2024-03-05T08:40:43.715Z"
      },
      {
        "duration": 21,
        "start_time": "2024-03-05T08:40:43.734Z"
      },
      {
        "duration": 11,
        "start_time": "2024-03-05T08:40:43.757Z"
      },
      {
        "duration": 12,
        "start_time": "2024-03-05T08:40:43.770Z"
      },
      {
        "duration": 15,
        "start_time": "2024-03-05T08:40:43.784Z"
      },
      {
        "duration": 11,
        "start_time": "2024-03-05T08:40:43.800Z"
      },
      {
        "duration": 33,
        "start_time": "2024-03-05T08:40:43.812Z"
      },
      {
        "duration": 14,
        "start_time": "2024-03-05T08:40:43.846Z"
      },
      {
        "duration": 5,
        "start_time": "2024-03-05T08:40:43.861Z"
      },
      {
        "duration": 9,
        "start_time": "2024-03-05T08:40:43.867Z"
      },
      {
        "duration": 7,
        "start_time": "2024-03-05T08:40:43.877Z"
      },
      {
        "duration": 588,
        "start_time": "2024-03-05T08:40:43.885Z"
      },
      {
        "duration": 4,
        "start_time": "2024-03-05T08:40:44.474Z"
      },
      {
        "duration": 118,
        "start_time": "2024-03-05T08:40:44.479Z"
      },
      {
        "duration": 4,
        "start_time": "2024-03-05T08:40:44.598Z"
      },
      {
        "duration": 264,
        "start_time": "2024-03-05T08:40:44.604Z"
      },
      {
        "duration": 94,
        "start_time": "2024-03-05T08:40:44.869Z"
      },
      {
        "duration": 153,
        "start_time": "2024-03-05T08:40:44.965Z"
      },
      {
        "duration": 6,
        "start_time": "2024-03-05T08:40:45.120Z"
      },
      {
        "duration": 189,
        "start_time": "2024-03-05T08:40:45.127Z"
      },
      {
        "duration": 7,
        "start_time": "2024-03-05T08:40:45.319Z"
      },
      {
        "duration": 256,
        "start_time": "2024-03-05T08:40:45.327Z"
      },
      {
        "duration": 7,
        "start_time": "2024-03-05T08:40:45.584Z"
      },
      {
        "duration": 30,
        "start_time": "2024-03-05T08:40:45.592Z"
      },
      {
        "duration": 19,
        "start_time": "2024-03-05T08:40:45.624Z"
      },
      {
        "duration": 223,
        "start_time": "2024-03-05T08:40:45.645Z"
      },
      {
        "duration": 3,
        "start_time": "2024-03-05T08:40:45.869Z"
      },
      {
        "duration": 40,
        "start_time": "2024-03-05T08:40:45.873Z"
      },
      {
        "duration": 38,
        "start_time": "2024-03-05T08:40:45.914Z"
      },
      {
        "duration": 6,
        "start_time": "2024-03-05T08:40:45.954Z"
      },
      {
        "duration": 21,
        "start_time": "2024-03-05T08:40:45.962Z"
      },
      {
        "duration": 46,
        "start_time": "2024-03-05T08:40:45.985Z"
      },
      {
        "duration": 23,
        "start_time": "2024-03-05T08:40:46.032Z"
      },
      {
        "duration": 38,
        "start_time": "2024-03-05T08:40:46.056Z"
      },
      {
        "duration": 16,
        "start_time": "2024-03-05T08:40:46.096Z"
      },
      {
        "duration": 28,
        "start_time": "2024-03-05T08:40:46.114Z"
      },
      {
        "duration": 30,
        "start_time": "2024-03-05T08:40:46.143Z"
      },
      {
        "duration": 28,
        "start_time": "2024-03-05T08:40:46.174Z"
      },
      {
        "duration": 33,
        "start_time": "2024-03-05T08:40:46.203Z"
      },
      {
        "duration": 290,
        "start_time": "2024-03-05T08:40:46.237Z"
      },
      {
        "duration": 304,
        "start_time": "2024-03-05T08:40:46.529Z"
      },
      {
        "duration": 18,
        "start_time": "2024-03-05T08:40:46.834Z"
      },
      {
        "duration": 29,
        "start_time": "2024-03-05T08:40:46.854Z"
      },
      {
        "duration": 26,
        "start_time": "2024-03-05T08:40:46.885Z"
      },
      {
        "duration": 56,
        "start_time": "2024-03-05T08:40:46.912Z"
      },
      {
        "duration": 15,
        "start_time": "2024-03-05T08:40:46.970Z"
      },
      {
        "duration": 22,
        "start_time": "2024-03-05T08:40:46.986Z"
      },
      {
        "duration": 15,
        "start_time": "2024-03-05T08:40:47.009Z"
      },
      {
        "duration": 30,
        "start_time": "2024-03-05T08:40:47.025Z"
      },
      {
        "duration": 31,
        "start_time": "2024-03-05T08:40:47.057Z"
      },
      {
        "duration": 90,
        "start_time": "2024-03-05T08:40:47.089Z"
      },
      {
        "duration": 49,
        "start_time": "2024-03-05T08:40:47.181Z"
      },
      {
        "duration": 135,
        "start_time": "2024-03-05T08:40:47.232Z"
      },
      {
        "duration": 0,
        "start_time": "2024-03-05T08:40:47.368Z"
      },
      {
        "duration": 0,
        "start_time": "2024-03-05T08:40:47.370Z"
      },
      {
        "duration": 0,
        "start_time": "2024-03-05T08:40:47.370Z"
      },
      {
        "duration": 0,
        "start_time": "2024-03-05T08:40:47.371Z"
      },
      {
        "duration": 0,
        "start_time": "2024-03-05T08:40:47.373Z"
      },
      {
        "duration": 0,
        "start_time": "2024-03-05T08:40:47.373Z"
      },
      {
        "duration": 0,
        "start_time": "2024-03-05T08:40:47.375Z"
      },
      {
        "duration": 0,
        "start_time": "2024-03-05T08:40:47.375Z"
      },
      {
        "duration": 0,
        "start_time": "2024-03-05T08:40:47.376Z"
      },
      {
        "duration": 4,
        "start_time": "2024-03-05T08:41:39.905Z"
      },
      {
        "duration": 5,
        "start_time": "2024-03-05T08:41:48.200Z"
      },
      {
        "duration": 5,
        "start_time": "2024-03-05T08:43:14.743Z"
      },
      {
        "duration": 7,
        "start_time": "2024-03-05T08:43:50.964Z"
      },
      {
        "duration": 23,
        "start_time": "2024-03-05T08:52:44.480Z"
      },
      {
        "duration": 12,
        "start_time": "2024-03-05T08:52:49.796Z"
      },
      {
        "duration": 9,
        "start_time": "2024-03-05T08:52:52.873Z"
      },
      {
        "duration": 5,
        "start_time": "2024-03-05T08:52:57.465Z"
      },
      {
        "duration": 7,
        "start_time": "2024-03-05T08:52:59.464Z"
      },
      {
        "duration": 6,
        "start_time": "2024-03-05T08:53:07.765Z"
      },
      {
        "duration": 5,
        "start_time": "2024-03-05T08:53:09.409Z"
      },
      {
        "duration": 22,
        "start_time": "2024-03-05T08:53:10.773Z"
      },
      {
        "duration": 7,
        "start_time": "2024-03-05T08:53:13.471Z"
      },
      {
        "duration": 7,
        "start_time": "2024-03-05T08:53:22.407Z"
      },
      {
        "duration": 11,
        "start_time": "2024-03-05T08:57:27.421Z"
      },
      {
        "duration": 7,
        "start_time": "2024-03-05T08:57:52.004Z"
      },
      {
        "duration": 4,
        "start_time": "2024-03-05T08:58:47.664Z"
      },
      {
        "duration": 5,
        "start_time": "2024-03-05T08:59:06.146Z"
      },
      {
        "duration": 102,
        "start_time": "2024-03-05T09:07:45.090Z"
      },
      {
        "duration": 10,
        "start_time": "2024-03-05T09:09:11.394Z"
      },
      {
        "duration": 70,
        "start_time": "2024-03-05T09:10:27.848Z"
      },
      {
        "duration": 10,
        "start_time": "2024-03-05T09:10:45.552Z"
      },
      {
        "duration": 71,
        "start_time": "2024-03-05T09:12:05.270Z"
      },
      {
        "duration": 163,
        "start_time": "2024-03-05T09:23:07.756Z"
      },
      {
        "duration": 352,
        "start_time": "2024-03-05T09:24:13.383Z"
      },
      {
        "duration": 220,
        "start_time": "2024-03-05T09:24:13.744Z"
      },
      {
        "duration": 3,
        "start_time": "2024-03-05T09:24:13.965Z"
      },
      {
        "duration": 429,
        "start_time": "2024-03-05T09:24:13.969Z"
      },
      {
        "duration": 54,
        "start_time": "2024-03-05T09:24:14.400Z"
      },
      {
        "duration": 36,
        "start_time": "2024-03-05T09:24:14.455Z"
      },
      {
        "duration": 31,
        "start_time": "2024-03-05T09:24:14.493Z"
      },
      {
        "duration": 18,
        "start_time": "2024-03-05T09:24:14.525Z"
      },
      {
        "duration": 34,
        "start_time": "2024-03-05T09:24:14.545Z"
      },
      {
        "duration": 12,
        "start_time": "2024-03-05T09:24:14.581Z"
      },
      {
        "duration": 9,
        "start_time": "2024-03-05T09:24:14.595Z"
      },
      {
        "duration": 7,
        "start_time": "2024-03-05T09:24:14.606Z"
      },
      {
        "duration": 11,
        "start_time": "2024-03-05T09:24:14.615Z"
      },
      {
        "duration": 27,
        "start_time": "2024-03-05T09:24:14.627Z"
      },
      {
        "duration": 15,
        "start_time": "2024-03-05T09:24:14.656Z"
      },
      {
        "duration": 19,
        "start_time": "2024-03-05T09:24:14.672Z"
      },
      {
        "duration": 9,
        "start_time": "2024-03-05T09:24:14.692Z"
      },
      {
        "duration": 7,
        "start_time": "2024-03-05T09:24:14.703Z"
      },
      {
        "duration": 579,
        "start_time": "2024-03-05T09:24:14.711Z"
      },
      {
        "duration": 4,
        "start_time": "2024-03-05T09:24:15.292Z"
      },
      {
        "duration": 174,
        "start_time": "2024-03-05T09:24:15.297Z"
      },
      {
        "duration": 5,
        "start_time": "2024-03-05T09:24:15.473Z"
      },
      {
        "duration": 290,
        "start_time": "2024-03-05T09:24:15.479Z"
      },
      {
        "duration": 95,
        "start_time": "2024-03-05T09:24:15.771Z"
      },
      {
        "duration": 177,
        "start_time": "2024-03-05T09:24:15.868Z"
      },
      {
        "duration": 8,
        "start_time": "2024-03-05T09:24:16.046Z"
      },
      {
        "duration": 203,
        "start_time": "2024-03-05T09:24:16.055Z"
      },
      {
        "duration": 7,
        "start_time": "2024-03-05T09:24:16.261Z"
      },
      {
        "duration": 268,
        "start_time": "2024-03-05T09:24:16.270Z"
      },
      {
        "duration": 7,
        "start_time": "2024-03-05T09:24:16.544Z"
      },
      {
        "duration": 20,
        "start_time": "2024-03-05T09:24:16.552Z"
      },
      {
        "duration": 23,
        "start_time": "2024-03-05T09:24:16.573Z"
      },
      {
        "duration": 186,
        "start_time": "2024-03-05T09:24:16.597Z"
      },
      {
        "duration": 4,
        "start_time": "2024-03-05T09:24:16.784Z"
      },
      {
        "duration": 13,
        "start_time": "2024-03-05T09:24:16.789Z"
      },
      {
        "duration": 34,
        "start_time": "2024-03-05T09:24:16.803Z"
      },
      {
        "duration": 6,
        "start_time": "2024-03-05T09:24:16.838Z"
      },
      {
        "duration": 22,
        "start_time": "2024-03-05T09:24:16.845Z"
      },
      {
        "duration": 11,
        "start_time": "2024-03-05T09:24:16.868Z"
      },
      {
        "duration": 17,
        "start_time": "2024-03-05T09:24:16.881Z"
      },
      {
        "duration": 16,
        "start_time": "2024-03-05T09:24:16.900Z"
      },
      {
        "duration": 16,
        "start_time": "2024-03-05T09:24:16.917Z"
      },
      {
        "duration": 14,
        "start_time": "2024-03-05T09:24:16.934Z"
      },
      {
        "duration": 12,
        "start_time": "2024-03-05T09:24:16.950Z"
      },
      {
        "duration": 14,
        "start_time": "2024-03-05T09:24:16.963Z"
      },
      {
        "duration": 21,
        "start_time": "2024-03-05T09:24:16.979Z"
      },
      {
        "duration": 340,
        "start_time": "2024-03-05T09:24:17.002Z"
      },
      {
        "duration": 337,
        "start_time": "2024-03-05T09:24:17.345Z"
      },
      {
        "duration": 11,
        "start_time": "2024-03-05T09:24:17.683Z"
      },
      {
        "duration": 14,
        "start_time": "2024-03-05T09:24:17.695Z"
      },
      {
        "duration": 3,
        "start_time": "2024-03-05T09:24:17.710Z"
      },
      {
        "duration": 46,
        "start_time": "2024-03-05T09:24:17.714Z"
      },
      {
        "duration": 11,
        "start_time": "2024-03-05T09:24:17.761Z"
      },
      {
        "duration": 12,
        "start_time": "2024-03-05T09:24:17.774Z"
      },
      {
        "duration": 5,
        "start_time": "2024-03-05T09:24:17.787Z"
      },
      {
        "duration": 7,
        "start_time": "2024-03-05T09:24:17.794Z"
      },
      {
        "duration": 5,
        "start_time": "2024-03-05T09:24:17.802Z"
      },
      {
        "duration": 47,
        "start_time": "2024-03-05T09:24:17.808Z"
      },
      {
        "duration": 6,
        "start_time": "2024-03-05T09:24:17.857Z"
      },
      {
        "duration": 7,
        "start_time": "2024-03-05T09:24:17.865Z"
      },
      {
        "duration": 10,
        "start_time": "2024-03-05T09:24:17.873Z"
      },
      {
        "duration": 7,
        "start_time": "2024-03-05T09:24:17.884Z"
      },
      {
        "duration": 190,
        "start_time": "2024-03-05T09:24:17.892Z"
      },
      {
        "duration": 8,
        "start_time": "2024-03-05T09:24:18.083Z"
      },
      {
        "duration": 418,
        "start_time": "2024-03-05T09:36:43.850Z"
      },
      {
        "duration": 229,
        "start_time": "2024-03-05T09:36:44.270Z"
      },
      {
        "duration": 2,
        "start_time": "2024-03-05T09:36:44.500Z"
      },
      {
        "duration": 467,
        "start_time": "2024-03-05T09:36:44.504Z"
      },
      {
        "duration": 51,
        "start_time": "2024-03-05T09:36:44.973Z"
      },
      {
        "duration": 36,
        "start_time": "2024-03-05T09:36:45.025Z"
      },
      {
        "duration": 62,
        "start_time": "2024-03-05T09:36:45.062Z"
      },
      {
        "duration": 57,
        "start_time": "2024-03-05T09:36:45.125Z"
      },
      {
        "duration": 63,
        "start_time": "2024-03-05T09:36:45.183Z"
      },
      {
        "duration": 66,
        "start_time": "2024-03-05T09:36:45.249Z"
      },
      {
        "duration": 46,
        "start_time": "2024-03-05T09:36:45.316Z"
      },
      {
        "duration": 62,
        "start_time": "2024-03-05T09:36:45.363Z"
      },
      {
        "duration": 29,
        "start_time": "2024-03-05T09:36:45.426Z"
      },
      {
        "duration": 74,
        "start_time": "2024-03-05T09:36:45.457Z"
      },
      {
        "duration": 30,
        "start_time": "2024-03-05T09:36:45.532Z"
      },
      {
        "duration": 11,
        "start_time": "2024-03-05T09:36:45.564Z"
      },
      {
        "duration": 27,
        "start_time": "2024-03-05T09:36:45.576Z"
      },
      {
        "duration": 18,
        "start_time": "2024-03-05T09:36:45.605Z"
      },
      {
        "duration": 571,
        "start_time": "2024-03-05T09:36:45.624Z"
      },
      {
        "duration": 5,
        "start_time": "2024-03-05T09:36:46.197Z"
      },
      {
        "duration": 130,
        "start_time": "2024-03-05T09:36:46.204Z"
      },
      {
        "duration": 12,
        "start_time": "2024-03-05T09:36:46.336Z"
      },
      {
        "duration": 241,
        "start_time": "2024-03-05T09:36:46.349Z"
      },
      {
        "duration": 99,
        "start_time": "2024-03-05T09:36:46.592Z"
      },
      {
        "duration": 174,
        "start_time": "2024-03-05T09:36:46.693Z"
      },
      {
        "duration": 7,
        "start_time": "2024-03-05T09:36:46.868Z"
      },
      {
        "duration": 195,
        "start_time": "2024-03-05T09:36:46.876Z"
      },
      {
        "duration": 8,
        "start_time": "2024-03-05T09:36:47.076Z"
      },
      {
        "duration": 286,
        "start_time": "2024-03-05T09:36:47.085Z"
      },
      {
        "duration": 8,
        "start_time": "2024-03-05T09:36:47.373Z"
      },
      {
        "duration": 12,
        "start_time": "2024-03-05T09:36:47.382Z"
      },
      {
        "duration": 8,
        "start_time": "2024-03-05T09:36:47.395Z"
      },
      {
        "duration": 210,
        "start_time": "2024-03-05T09:36:47.404Z"
      },
      {
        "duration": 3,
        "start_time": "2024-03-05T09:36:47.616Z"
      },
      {
        "duration": 6,
        "start_time": "2024-03-05T09:36:47.620Z"
      },
      {
        "duration": 33,
        "start_time": "2024-03-05T09:36:47.628Z"
      },
      {
        "duration": 3,
        "start_time": "2024-03-05T09:36:47.662Z"
      },
      {
        "duration": 12,
        "start_time": "2024-03-05T09:36:47.667Z"
      },
      {
        "duration": 12,
        "start_time": "2024-03-05T09:36:47.680Z"
      },
      {
        "duration": 11,
        "start_time": "2024-03-05T09:36:47.693Z"
      },
      {
        "duration": 40,
        "start_time": "2024-03-05T09:36:47.705Z"
      },
      {
        "duration": 16,
        "start_time": "2024-03-05T09:36:47.747Z"
      },
      {
        "duration": 4,
        "start_time": "2024-03-05T09:36:47.764Z"
      },
      {
        "duration": 9,
        "start_time": "2024-03-05T09:36:47.769Z"
      },
      {
        "duration": 14,
        "start_time": "2024-03-05T09:36:47.779Z"
      },
      {
        "duration": 10,
        "start_time": "2024-03-05T09:36:47.794Z"
      },
      {
        "duration": 356,
        "start_time": "2024-03-05T09:36:47.805Z"
      },
      {
        "duration": 334,
        "start_time": "2024-03-05T09:36:48.163Z"
      },
      {
        "duration": 10,
        "start_time": "2024-03-05T09:36:48.499Z"
      },
      {
        "duration": 36,
        "start_time": "2024-03-05T09:36:48.510Z"
      },
      {
        "duration": 3,
        "start_time": "2024-03-05T09:36:48.547Z"
      },
      {
        "duration": 23,
        "start_time": "2024-03-05T09:36:48.551Z"
      },
      {
        "duration": 11,
        "start_time": "2024-03-05T09:36:48.576Z"
      },
      {
        "duration": 12,
        "start_time": "2024-03-05T09:36:48.588Z"
      },
      {
        "duration": 4,
        "start_time": "2024-03-05T09:36:48.601Z"
      },
      {
        "duration": 13,
        "start_time": "2024-03-05T09:36:48.606Z"
      },
      {
        "duration": 13,
        "start_time": "2024-03-05T09:36:48.620Z"
      },
      {
        "duration": 20,
        "start_time": "2024-03-05T09:36:48.645Z"
      },
      {
        "duration": 7,
        "start_time": "2024-03-05T09:36:48.666Z"
      },
      {
        "duration": 7,
        "start_time": "2024-03-05T09:36:48.674Z"
      },
      {
        "duration": 9,
        "start_time": "2024-03-05T09:36:48.682Z"
      },
      {
        "duration": 4,
        "start_time": "2024-03-05T09:36:48.692Z"
      },
      {
        "duration": 188,
        "start_time": "2024-03-05T09:36:48.697Z"
      },
      {
        "duration": 9,
        "start_time": "2024-03-05T09:36:48.887Z"
      },
      {
        "duration": 411,
        "start_time": "2024-03-05T14:14:59.678Z"
      },
      {
        "duration": 255,
        "start_time": "2024-03-05T14:15:00.091Z"
      },
      {
        "duration": 3,
        "start_time": "2024-03-05T14:15:00.347Z"
      },
      {
        "duration": 695,
        "start_time": "2024-03-05T14:15:00.351Z"
      },
      {
        "duration": 58,
        "start_time": "2024-03-05T14:15:01.048Z"
      },
      {
        "duration": 36,
        "start_time": "2024-03-05T14:15:01.108Z"
      },
      {
        "duration": 273,
        "start_time": "2024-03-05T14:15:01.145Z"
      },
      {
        "duration": 403,
        "start_time": "2024-03-05T14:15:01.419Z"
      },
      {
        "duration": 232,
        "start_time": "2024-03-05T14:15:01.823Z"
      },
      {
        "duration": 149,
        "start_time": "2024-03-05T14:15:02.056Z"
      },
      {
        "duration": 113,
        "start_time": "2024-03-05T14:15:02.206Z"
      },
      {
        "duration": 30,
        "start_time": "2024-03-05T14:15:02.321Z"
      },
      {
        "duration": 59,
        "start_time": "2024-03-05T14:15:02.352Z"
      },
      {
        "duration": 37,
        "start_time": "2024-03-05T14:15:02.414Z"
      },
      {
        "duration": 45,
        "start_time": "2024-03-05T14:15:02.453Z"
      },
      {
        "duration": 179,
        "start_time": "2024-03-05T14:15:02.499Z"
      },
      {
        "duration": 72,
        "start_time": "2024-03-05T14:15:02.680Z"
      },
      {
        "duration": 81,
        "start_time": "2024-03-05T14:15:02.754Z"
      },
      {
        "duration": 622,
        "start_time": "2024-03-05T14:15:02.837Z"
      },
      {
        "duration": 6,
        "start_time": "2024-03-05T14:15:03.460Z"
      },
      {
        "duration": 243,
        "start_time": "2024-03-05T14:15:03.467Z"
      },
      {
        "duration": 44,
        "start_time": "2024-03-05T14:15:03.712Z"
      },
      {
        "duration": 275,
        "start_time": "2024-03-05T14:15:03.757Z"
      },
      {
        "duration": 98,
        "start_time": "2024-03-05T14:15:04.034Z"
      },
      {
        "duration": 178,
        "start_time": "2024-03-05T14:15:04.133Z"
      },
      {
        "duration": 7,
        "start_time": "2024-03-05T14:15:04.312Z"
      },
      {
        "duration": 217,
        "start_time": "2024-03-05T14:15:04.320Z"
      },
      {
        "duration": 9,
        "start_time": "2024-03-05T14:15:04.539Z"
      },
      {
        "duration": 355,
        "start_time": "2024-03-05T14:15:04.549Z"
      },
      {
        "duration": 9,
        "start_time": "2024-03-05T14:15:04.906Z"
      },
      {
        "duration": 15,
        "start_time": "2024-03-05T14:15:04.917Z"
      },
      {
        "duration": 24,
        "start_time": "2024-03-05T14:15:04.933Z"
      },
      {
        "duration": 216,
        "start_time": "2024-03-05T14:15:04.959Z"
      },
      {
        "duration": 3,
        "start_time": "2024-03-05T14:15:05.177Z"
      },
      {
        "duration": 15,
        "start_time": "2024-03-05T14:15:05.181Z"
      },
      {
        "duration": 32,
        "start_time": "2024-03-05T14:15:05.198Z"
      },
      {
        "duration": 3,
        "start_time": "2024-03-05T14:15:05.231Z"
      },
      {
        "duration": 19,
        "start_time": "2024-03-05T14:15:05.236Z"
      },
      {
        "duration": 29,
        "start_time": "2024-03-05T14:15:05.256Z"
      },
      {
        "duration": 45,
        "start_time": "2024-03-05T14:15:05.287Z"
      },
      {
        "duration": 23,
        "start_time": "2024-03-05T14:15:05.337Z"
      },
      {
        "duration": 17,
        "start_time": "2024-03-05T14:15:05.361Z"
      },
      {
        "duration": 35,
        "start_time": "2024-03-05T14:15:05.380Z"
      },
      {
        "duration": 22,
        "start_time": "2024-03-05T14:15:05.416Z"
      },
      {
        "duration": 20,
        "start_time": "2024-03-05T14:15:05.439Z"
      },
      {
        "duration": 13,
        "start_time": "2024-03-05T14:15:05.461Z"
      },
      {
        "duration": 343,
        "start_time": "2024-03-05T14:15:05.475Z"
      },
      {
        "duration": 322,
        "start_time": "2024-03-05T14:15:05.820Z"
      },
      {
        "duration": 9,
        "start_time": "2024-03-05T14:15:06.143Z"
      },
      {
        "duration": 27,
        "start_time": "2024-03-05T14:15:06.154Z"
      },
      {
        "duration": 23,
        "start_time": "2024-03-05T14:15:06.183Z"
      },
      {
        "duration": 12,
        "start_time": "2024-03-05T14:15:06.208Z"
      },
      {
        "duration": 32,
        "start_time": "2024-03-05T14:15:06.221Z"
      },
      {
        "duration": 15,
        "start_time": "2024-03-05T14:15:06.254Z"
      },
      {
        "duration": 20,
        "start_time": "2024-03-05T14:15:06.271Z"
      },
      {
        "duration": 24,
        "start_time": "2024-03-05T14:15:06.293Z"
      },
      {
        "duration": 29,
        "start_time": "2024-03-05T14:15:06.319Z"
      },
      {
        "duration": 8,
        "start_time": "2024-03-05T14:15:06.349Z"
      },
      {
        "duration": 39,
        "start_time": "2024-03-05T14:15:06.358Z"
      },
      {
        "duration": 20,
        "start_time": "2024-03-05T14:15:06.399Z"
      },
      {
        "duration": 25,
        "start_time": "2024-03-05T14:15:06.420Z"
      },
      {
        "duration": 198,
        "start_time": "2024-03-05T14:15:06.447Z"
      },
      {
        "duration": 9,
        "start_time": "2024-03-05T14:15:06.646Z"
      },
      {
        "duration": 367,
        "start_time": "2024-03-05T14:18:00.019Z"
      },
      {
        "duration": 251,
        "start_time": "2024-03-05T14:18:00.388Z"
      },
      {
        "duration": 2,
        "start_time": "2024-03-05T14:18:00.641Z"
      },
      {
        "duration": 603,
        "start_time": "2024-03-05T14:18:00.644Z"
      },
      {
        "duration": 55,
        "start_time": "2024-03-05T14:18:01.250Z"
      },
      {
        "duration": 152,
        "start_time": "2024-03-05T14:18:01.307Z"
      },
      {
        "duration": 155,
        "start_time": "2024-03-05T14:18:01.461Z"
      },
      {
        "duration": 33,
        "start_time": "2024-03-05T14:18:01.617Z"
      },
      {
        "duration": 71,
        "start_time": "2024-03-05T14:18:01.651Z"
      },
      {
        "duration": 64,
        "start_time": "2024-03-05T14:18:01.724Z"
      },
      {
        "duration": 69,
        "start_time": "2024-03-05T14:18:01.789Z"
      },
      {
        "duration": 196,
        "start_time": "2024-03-05T14:18:01.860Z"
      },
      {
        "duration": 51,
        "start_time": "2024-03-05T14:18:02.058Z"
      },
      {
        "duration": 54,
        "start_time": "2024-03-05T14:18:02.112Z"
      },
      {
        "duration": 16,
        "start_time": "2024-03-05T14:18:02.167Z"
      },
      {
        "duration": 20,
        "start_time": "2024-03-05T14:18:02.184Z"
      },
      {
        "duration": 35,
        "start_time": "2024-03-05T14:18:02.206Z"
      },
      {
        "duration": 38,
        "start_time": "2024-03-05T14:18:02.242Z"
      },
      {
        "duration": 586,
        "start_time": "2024-03-05T14:18:02.282Z"
      },
      {
        "duration": 6,
        "start_time": "2024-03-05T14:18:02.869Z"
      },
      {
        "duration": 169,
        "start_time": "2024-03-05T14:18:02.876Z"
      },
      {
        "duration": 4,
        "start_time": "2024-03-05T14:18:03.047Z"
      },
      {
        "duration": 291,
        "start_time": "2024-03-05T14:18:03.052Z"
      },
      {
        "duration": 92,
        "start_time": "2024-03-05T14:18:03.345Z"
      },
      {
        "duration": 172,
        "start_time": "2024-03-05T14:18:03.439Z"
      },
      {
        "duration": 7,
        "start_time": "2024-03-05T14:18:03.612Z"
      },
      {
        "duration": 235,
        "start_time": "2024-03-05T14:18:03.620Z"
      },
      {
        "duration": 7,
        "start_time": "2024-03-05T14:18:03.857Z"
      },
      {
        "duration": 284,
        "start_time": "2024-03-05T14:18:03.866Z"
      },
      {
        "duration": 8,
        "start_time": "2024-03-05T14:18:04.152Z"
      },
      {
        "duration": 46,
        "start_time": "2024-03-05T14:18:04.161Z"
      },
      {
        "duration": 17,
        "start_time": "2024-03-05T14:18:04.208Z"
      },
      {
        "duration": 109,
        "start_time": "2024-03-05T14:18:04.227Z"
      },
      {
        "duration": 206,
        "start_time": "2024-03-05T14:18:04.338Z"
      },
      {
        "duration": 401,
        "start_time": "2024-03-05T14:18:04.546Z"
      },
      {
        "duration": 4,
        "start_time": "2024-03-05T14:18:04.949Z"
      },
      {
        "duration": 34,
        "start_time": "2024-03-05T14:18:04.954Z"
      },
      {
        "duration": 44,
        "start_time": "2024-03-05T14:18:04.990Z"
      },
      {
        "duration": 23,
        "start_time": "2024-03-05T14:18:05.035Z"
      },
      {
        "duration": 38,
        "start_time": "2024-03-05T14:18:05.060Z"
      },
      {
        "duration": 43,
        "start_time": "2024-03-05T14:18:05.102Z"
      },
      {
        "duration": 37,
        "start_time": "2024-03-05T14:18:05.146Z"
      },
      {
        "duration": 45,
        "start_time": "2024-03-05T14:18:05.185Z"
      },
      {
        "duration": 39,
        "start_time": "2024-03-05T14:18:05.232Z"
      },
      {
        "duration": 27,
        "start_time": "2024-03-05T14:18:05.272Z"
      },
      {
        "duration": 45,
        "start_time": "2024-03-05T14:18:05.301Z"
      },
      {
        "duration": 40,
        "start_time": "2024-03-05T14:18:05.348Z"
      },
      {
        "duration": 26,
        "start_time": "2024-03-05T14:18:05.390Z"
      },
      {
        "duration": 370,
        "start_time": "2024-03-05T14:18:05.418Z"
      },
      {
        "duration": 337,
        "start_time": "2024-03-05T14:18:05.790Z"
      },
      {
        "duration": 10,
        "start_time": "2024-03-05T14:18:06.128Z"
      },
      {
        "duration": 41,
        "start_time": "2024-03-05T14:18:06.139Z"
      },
      {
        "duration": 46,
        "start_time": "2024-03-05T14:18:06.181Z"
      },
      {
        "duration": 38,
        "start_time": "2024-03-05T14:18:06.228Z"
      },
      {
        "duration": 55,
        "start_time": "2024-03-05T14:18:06.267Z"
      },
      {
        "duration": 43,
        "start_time": "2024-03-05T14:18:06.323Z"
      },
      {
        "duration": 26,
        "start_time": "2024-03-05T14:18:06.367Z"
      },
      {
        "duration": 32,
        "start_time": "2024-03-05T14:18:06.395Z"
      },
      {
        "duration": 56,
        "start_time": "2024-03-05T14:18:06.428Z"
      },
      {
        "duration": 34,
        "start_time": "2024-03-05T14:18:06.485Z"
      },
      {
        "duration": 30,
        "start_time": "2024-03-05T14:18:06.520Z"
      },
      {
        "duration": 45,
        "start_time": "2024-03-05T14:18:06.551Z"
      },
      {
        "duration": 32,
        "start_time": "2024-03-05T14:18:06.597Z"
      },
      {
        "duration": 188,
        "start_time": "2024-03-05T14:18:06.630Z"
      },
      {
        "duration": 10,
        "start_time": "2024-03-05T14:18:06.820Z"
      },
      {
        "duration": 357,
        "start_time": "2024-03-05T14:18:17.730Z"
      },
      {
        "duration": 232,
        "start_time": "2024-03-05T14:18:18.089Z"
      },
      {
        "duration": 3,
        "start_time": "2024-03-05T14:18:18.322Z"
      },
      {
        "duration": 485,
        "start_time": "2024-03-05T14:18:18.326Z"
      },
      {
        "duration": 51,
        "start_time": "2024-03-05T14:18:18.813Z"
      },
      {
        "duration": 34,
        "start_time": "2024-03-05T14:18:18.865Z"
      },
      {
        "duration": 33,
        "start_time": "2024-03-05T14:18:18.900Z"
      },
      {
        "duration": 23,
        "start_time": "2024-03-05T14:18:18.935Z"
      },
      {
        "duration": 35,
        "start_time": "2024-03-05T14:18:18.960Z"
      },
      {
        "duration": 19,
        "start_time": "2024-03-05T14:18:18.998Z"
      },
      {
        "duration": 11,
        "start_time": "2024-03-05T14:18:19.021Z"
      },
      {
        "duration": 10,
        "start_time": "2024-03-05T14:18:19.034Z"
      },
      {
        "duration": 5,
        "start_time": "2024-03-05T14:18:19.046Z"
      },
      {
        "duration": 38,
        "start_time": "2024-03-05T14:18:19.052Z"
      },
      {
        "duration": 25,
        "start_time": "2024-03-05T14:18:19.091Z"
      },
      {
        "duration": 5,
        "start_time": "2024-03-05T14:18:19.118Z"
      },
      {
        "duration": 15,
        "start_time": "2024-03-05T14:18:19.125Z"
      },
      {
        "duration": 18,
        "start_time": "2024-03-05T14:18:19.141Z"
      },
      {
        "duration": 587,
        "start_time": "2024-03-05T14:18:19.160Z"
      },
      {
        "duration": 5,
        "start_time": "2024-03-05T14:18:19.748Z"
      },
      {
        "duration": 132,
        "start_time": "2024-03-05T14:18:19.754Z"
      },
      {
        "duration": 4,
        "start_time": "2024-03-05T14:18:19.888Z"
      },
      {
        "duration": 238,
        "start_time": "2024-03-05T14:18:19.893Z"
      },
      {
        "duration": 118,
        "start_time": "2024-03-05T14:18:20.132Z"
      },
      {
        "duration": 167,
        "start_time": "2024-03-05T14:18:20.251Z"
      },
      {
        "duration": 7,
        "start_time": "2024-03-05T14:18:20.419Z"
      },
      {
        "duration": 195,
        "start_time": "2024-03-05T14:18:20.427Z"
      },
      {
        "duration": 7,
        "start_time": "2024-03-05T14:18:20.625Z"
      },
      {
        "duration": 264,
        "start_time": "2024-03-05T14:18:20.633Z"
      },
      {
        "duration": 7,
        "start_time": "2024-03-05T14:18:20.899Z"
      },
      {
        "duration": 66,
        "start_time": "2024-03-05T14:18:20.907Z"
      },
      {
        "duration": 72,
        "start_time": "2024-03-05T14:18:20.974Z"
      },
      {
        "duration": 185,
        "start_time": "2024-03-05T14:18:21.047Z"
      },
      {
        "duration": 3,
        "start_time": "2024-03-05T14:18:21.234Z"
      },
      {
        "duration": 19,
        "start_time": "2024-03-05T14:18:21.238Z"
      },
      {
        "duration": 59,
        "start_time": "2024-03-05T14:18:21.259Z"
      },
      {
        "duration": 9,
        "start_time": "2024-03-05T14:18:21.319Z"
      },
      {
        "duration": 21,
        "start_time": "2024-03-05T14:18:21.330Z"
      },
      {
        "duration": 29,
        "start_time": "2024-03-05T14:18:21.353Z"
      },
      {
        "duration": 38,
        "start_time": "2024-03-05T14:18:21.384Z"
      },
      {
        "duration": 24,
        "start_time": "2024-03-05T14:18:21.424Z"
      },
      {
        "duration": 20,
        "start_time": "2024-03-05T14:18:21.449Z"
      },
      {
        "duration": 13,
        "start_time": "2024-03-05T14:18:21.470Z"
      },
      {
        "duration": 17,
        "start_time": "2024-03-05T14:18:21.485Z"
      },
      {
        "duration": 37,
        "start_time": "2024-03-05T14:18:21.504Z"
      },
      {
        "duration": 12,
        "start_time": "2024-03-05T14:18:21.543Z"
      },
      {
        "duration": 318,
        "start_time": "2024-03-05T14:18:21.556Z"
      },
      {
        "duration": 321,
        "start_time": "2024-03-05T14:18:21.875Z"
      },
      {
        "duration": 10,
        "start_time": "2024-03-05T14:18:22.197Z"
      },
      {
        "duration": 14,
        "start_time": "2024-03-05T14:18:22.208Z"
      },
      {
        "duration": 21,
        "start_time": "2024-03-05T14:18:22.224Z"
      },
      {
        "duration": 10,
        "start_time": "2024-03-05T14:18:22.246Z"
      },
      {
        "duration": 25,
        "start_time": "2024-03-05T14:18:22.258Z"
      },
      {
        "duration": 4,
        "start_time": "2024-03-05T14:18:22.293Z"
      },
      {
        "duration": 6,
        "start_time": "2024-03-05T14:18:22.299Z"
      },
      {
        "duration": 10,
        "start_time": "2024-03-05T14:18:22.306Z"
      },
      {
        "duration": 67,
        "start_time": "2024-03-05T14:18:22.317Z"
      },
      {
        "duration": 47,
        "start_time": "2024-03-05T14:18:22.385Z"
      },
      {
        "duration": 25,
        "start_time": "2024-03-05T14:18:22.433Z"
      },
      {
        "duration": 8,
        "start_time": "2024-03-05T14:18:22.459Z"
      },
      {
        "duration": 16,
        "start_time": "2024-03-05T14:18:22.469Z"
      },
      {
        "duration": 156,
        "start_time": "2024-03-05T14:18:22.486Z"
      },
      {
        "duration": 9,
        "start_time": "2024-03-05T14:18:22.643Z"
      }
    ],
    "kernelspec": {
      "display_name": "Python 3 (ipykernel)",
      "language": "python",
      "name": "python3"
    },
    "language_info": {
      "codemirror_mode": {
        "name": "ipython",
        "version": 3
      },
      "file_extension": ".py",
      "mimetype": "text/x-python",
      "name": "python",
      "nbconvert_exporter": "python",
      "pygments_lexer": "ipython3",
      "version": "3.9.5"
    },
    "toc": {
      "base_numbering": 1,
      "nav_menu": {
        "height": "171px",
        "width": "160px"
      },
      "number_sections": true,
      "sideBar": true,
      "skip_h1_title": true,
      "title_cell": "Table of Contents",
      "title_sidebar": "Contents",
      "toc_cell": false,
      "toc_position": {},
      "toc_section_display": true,
      "toc_window_display": false
    },
    "colab": {
      "provenance": [],
      "toc_visible": true
    }
  },
  "nbformat": 4,
  "nbformat_minor": 5
}